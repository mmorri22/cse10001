{
 "cells": [
  {
   "cell_type": "markdown",
   "metadata": {},
   "source": [
    "## This is the Notebook for Lecture 17\n",
    "\n",
    "In this lecture, we will learn techniques for accessing the internet. This will include:\n",
    "\n",
    "<ol>\n",
    "    <li>Opening a browser using Python <code>webbrowser</code></li>\n",
    "    <li>Combine concepts by modifying strings to generate a Google Maps search</li>\n",
    "    <li>Creating a socket</li>\n",
    "    <li>Measure latency</li>\n",
    "</ol>"
   ]
  },
  {
   "cell_type": "markdown",
   "metadata": {},
   "source": [
    "### Now we will work with a web browser through Jupyter Notebooks"
   ]
  },
  {
   "cell_type": "code",
   "execution_count": 12,
   "metadata": {},
   "outputs": [],
   "source": [
    "# First, you will learn how to open a URL in a webbrowser\n",
    "import webbrowser"
   ]
  },
  {
   "cell_type": "code",
   "execution_count": 13,
   "metadata": {
    "scrolled": true
   },
   "outputs": [],
   "source": [
    "# See what happens when you open the Mendoza School of Business Website\n",
    "nd_url_string = 'https://nd.edu'\n",
    "course_url_string = 'https://canvas.nd.edu/courses/53612/pages/lecture-notes-and-schedule'"
   ]
  },
  {
   "cell_type": "code",
   "execution_count": 14,
   "metadata": {},
   "outputs": [],
   "source": [
    "# Now, we will write a simple function to open a URL\n",
    "def open_url( url_string ):\n",
    "    webbrowser.open( url_string )"
   ]
  },
  {
   "cell_type": "markdown",
   "metadata": {},
   "source": [
    "### Now we can open several Uniform Resource Locators (URLs) using our function"
   ]
  },
  {
   "cell_type": "code",
   "execution_count": null,
   "metadata": {},
   "outputs": [],
   "source": [
    "open_url( nd_url_string )"
   ]
  },
  {
   "cell_type": "code",
   "execution_count": null,
   "metadata": {},
   "outputs": [],
   "source": [
    "open_url( course_url_string )"
   ]
  },
  {
   "cell_type": "code",
   "execution_count": null,
   "metadata": {},
   "outputs": [],
   "source": [
    "# This command will also work in you input an IP Address as a string\n",
    "open_url( '142.250.190.78' )"
   ]
  },
  {
   "cell_type": "markdown",
   "metadata": {},
   "source": [
    "### In-Class Coding Opportunity\n",
    "<p> </p>\n",
    "You will write three functions:\n",
    "<ol>\n",
    "    <li>A function <code>update_input</code> that returns a string where every space is replaced with a <code>+</code>. This will ensure our input addresses match the format tha Google Maps uses</li>\n",
    "    <li>A function <code>open_google_maps_url</code> that starts with the provided <code>base_search_str</code>, and appends the origin and destination address, putting a <code>/</code> between each of them. Call <code>update_input</code>  on both the origin and desination address\n",
    "    <li>A function <code>get_directions</code> that prompts the user for an origin and destination address</li>\n",
    "</ol>"
   ]
  },
  {
   "cell_type": "code",
   "execution_count": null,
   "metadata": {},
   "outputs": [],
   "source": [
    "def update_input( addr_string ):\n",
    "    \n",
    "    # update_input code goes here\n",
    "    final_string = \"\"\n",
    "    \n",
    "    for index in range(0, len(addr_string) ):\n",
    "        \n",
    "        if addr_string[index] == ' ':\n",
    "            final_string += '+'\n",
    "            \n",
    "        else:\n",
    "            final_string += addr_string[index]\n",
    "            \n",
    "    return final_string\n",
    "\n",
    "\n",
    "def open_google_maps_url( origin_address, destinataion_address ):\n",
    "    \n",
    "    # open_google_maps_url code goes here\n",
    "    base_search_str = \"https://www.google.com/maps/dir\"\n",
    "    \n",
    "    final_search_str = base_search_str + \"/\" + update_input(origin_address) + \"/\" + update_input(destinataion_address)\n",
    "    \n",
    "    open_url( final_search_str )\n",
    "    \n",
    "\n",
    "def get_directions():\n",
    "    \n",
    "    # get_directions code goes here\n",
    "    your_origin_address = input( \"Type in the origin address: \" )\n",
    "    your_destinataion_address = input( \"Type in the destination address: \" )\n",
    "    \n",
    "    open_google_maps_url( your_origin_address, your_destinataion_address )"
   ]
  },
  {
   "cell_type": "markdown",
   "metadata": {},
   "source": [
    "#### To simplify the testing of <code>get_directions</code>, you can copy and paste use these two addresses (although you can use different addresses if you wise):\n",
    "<ol>\n",
    "    <li>Origin address: <code>416 McKenna Hall, Notre Dame, IN 46556</code></li>\n",
    "    <li>Destination address: <code>1600 Pennsylvania Avenue NW, Washington, DC 20500</code></li>\n",
    "</ol>"
   ]
  },
  {
   "cell_type": "code",
   "execution_count": null,
   "metadata": {
    "scrolled": true
   },
   "outputs": [],
   "source": [
    "get_directions()"
   ]
  },
  {
   "cell_type": "markdown",
   "metadata": {},
   "source": [
    "## How do I retrieve something from the web?"
   ]
  },
  {
   "cell_type": "code",
   "execution_count": 15,
   "metadata": {},
   "outputs": [],
   "source": [
    "import requests\n",
    "\n",
    "main_building_tour_url = 'https://tour.nd.edu/locations/main-building/'\n",
    "\n",
    "# Make the request\n",
    "url_response = requests.get( main_building_tour_url )"
   ]
  },
  {
   "cell_type": "code",
   "execution_count": 16,
   "metadata": {},
   "outputs": [
    {
     "data": {
      "text/plain": [
       "<Response [200]>"
      ]
     },
     "execution_count": 16,
     "metadata": {},
     "output_type": "execute_result"
    }
   ],
   "source": [
    "url_response"
   ]
  },
  {
   "cell_type": "markdown",
   "metadata": {},
   "source": [
    "It is highly likely you got <code>Response [200]</code> when running the last command. Check out what that code means at https://developer.mozilla.org/en-US/docs/Web/HTTP/Status/200"
   ]
  },
  {
   "cell_type": "code",
   "execution_count": 17,
   "metadata": {},
   "outputs": [
    {
     "data": {
      "text/plain": [
       "requests.models.Response"
      ]
     },
     "execution_count": 17,
     "metadata": {},
     "output_type": "execute_result"
    }
   ],
   "source": [
    "# Combining conceps: What is the type?\n",
    "type(url_response)"
   ]
  },
  {
   "cell_type": "code",
   "execution_count": 18,
   "metadata": {},
   "outputs": [
    {
     "data": {
      "text/plain": [
       "27892"
      ]
     },
     "execution_count": 18,
     "metadata": {},
     "output_type": "execute_result"
    }
   ],
   "source": [
    "# How big is the HTML file?\n",
    "len(url_response.text)"
   ]
  },
  {
   "cell_type": "code",
   "execution_count": null,
   "metadata": {},
   "outputs": [],
   "source": [
    "# View the HTML by printing the url_response text\n",
    "print (url_response.text)"
   ]
  },
  {
   "cell_type": "markdown",
   "metadata": {},
   "source": [
    "### You can view the HTML code on your own by opening the page and then right-clicking the page and selecting View Source"
   ]
  },
  {
   "cell_type": "code",
   "execution_count": null,
   "metadata": {},
   "outputs": [],
   "source": [
    "open_url( main_building_tour_url )"
   ]
  },
  {
   "cell_type": "markdown",
   "metadata": {},
   "source": [
    "### Now let's see what happens if there is a bad URL!"
   ]
  },
  {
   "cell_type": "code",
   "execution_count": null,
   "metadata": {
    "scrolled": true
   },
   "outputs": [],
   "source": [
    "bad_request_result = requests.get( 'https://www.nd.edu/Pupfessor' )\n",
    "\n",
    "bad_request_result.raise_for_status()"
   ]
  },
  {
   "cell_type": "markdown",
   "metadata": {},
   "source": [
    "### Now that we know a potential issue, let's use a try/catch to prevent 404 errors!"
   ]
  },
  {
   "cell_type": "code",
   "execution_count": null,
   "metadata": {},
   "outputs": [],
   "source": [
    "# Importing again so you can start here\n",
    "import requests\n",
    "import webbrowser\n",
    "\n",
    "def open_url_fixed( url_string ):\n",
    "\n",
    "    try:\n",
    "        \n",
    "        request_result = requests.get( url_string )\n",
    "        \n",
    "        request_result.raise_for_status()\n",
    "        \n",
    "        webbrowser.open( url_string )\n",
    "        \n",
    "        print( f'Successful opening of {url_string}')\n",
    "        \n",
    "    except:\n",
    "        \n",
    "        print( f'{url_string} is not a valid URL')"
   ]
  },
  {
   "cell_type": "code",
   "execution_count": null,
   "metadata": {},
   "outputs": [],
   "source": [
    "# Working URL\n",
    "open_url_fixed( nd_url_string )"
   ]
  },
  {
   "cell_type": "code",
   "execution_count": null,
   "metadata": {},
   "outputs": [],
   "source": [
    "# Bad URL\n",
    "open_url_fixed( 'https://pupfessor.nd.edu' )"
   ]
  },
  {
   "cell_type": "markdown",
   "metadata": {},
   "source": [
    "## Saving Downloaded Files to the Hard Drive"
   ]
  },
  {
   "cell_type": "code",
   "execution_count": 20,
   "metadata": {},
   "outputs": [
    {
     "name": "stdout",
     "output_type": "stream",
     "text": [
      "5458199\n"
     ]
    }
   ],
   "source": [
    "# Importing again so you can start here\n",
    "import requests\n",
    "\n",
    "large_file_example_url = 'https://ocw.mit.edu/ans7870/6/6.006/s08/lecturenotes/files/t8.shakespeare.txt'\n",
    "\n",
    "large_file_res = requests.get(large_file_example_url)\n",
    "\n",
    "# Check that it works\n",
    "large_file_res.raise_for_status()\n",
    "\n",
    "# In-Class Coding - \n",
    "playFile = open('Shakespeare.txt', 'wb')\n",
    "\n",
    "# Instead of using the default 100000 the text presents, let's get the actual size!\n",
    "play_file_len = len(large_file_res.text)\n",
    "\n",
    "# Why? Because the works of Shakespeare exceeds 100000 bytes!\n",
    "print(play_file_len)\n",
    "\n",
    "# We will iterate using the iter_content function\n",
    "for chunk in large_file_res.iter_content(play_file_len):\n",
    "        playFile.write(chunk)\n",
    "\n",
    "\n",
    "# If we open a file, what must we do?\n",
    "playFile.close()"
   ]
  },
  {
   "cell_type": "markdown",
   "metadata": {},
   "source": [
    "## What is Notre Dame's IP Address using Sockets?"
   ]
  },
  {
   "cell_type": "code",
   "execution_count": 4,
   "metadata": {},
   "outputs": [],
   "source": [
    "import socket"
   ]
  },
  {
   "cell_type": "code",
   "execution_count": null,
   "metadata": {},
   "outputs": [],
   "source": [
    "socket.gethostbyname('nd.edu')"
   ]
  },
  {
   "cell_type": "code",
   "execution_count": null,
   "metadata": {},
   "outputs": [],
   "source": [
    "socket.gethostbyname('google.com')"
   ]
  },
  {
   "cell_type": "markdown",
   "metadata": {},
   "source": [
    "## What is my IP address by Socket?"
   ]
  },
  {
   "cell_type": "code",
   "execution_count": null,
   "metadata": {},
   "outputs": [],
   "source": [
    "# Here you will see how to print your hostname and your IP Address\n",
    "hostname = socket.gethostname()\n",
    "hostname"
   ]
  },
  {
   "cell_type": "markdown",
   "metadata": {},
   "source": [
    "### Look familiar? You found this name on the first lab! Now let's get your IP Address"
   ]
  },
  {
   "cell_type": "code",
   "execution_count": null,
   "metadata": {},
   "outputs": [],
   "source": [
    "socket.gethostbyname(hostname)"
   ]
  },
  {
   "cell_type": "markdown",
   "metadata": {},
   "source": [
    "### localhost is the default name for the home IP address "
   ]
  },
  {
   "cell_type": "code",
   "execution_count": null,
   "metadata": {},
   "outputs": [],
   "source": [
    "socket.gethostbyname('localhost')"
   ]
  },
  {
   "cell_type": "markdown",
   "metadata": {},
   "source": [
    "## What services are running on my machine?"
   ]
  },
  {
   "cell_type": "markdown",
   "metadata": {},
   "source": [
    "### We will go through every possible port, and create a list of the available ports on the machine"
   ]
  },
  {
   "cell_type": "code",
   "execution_count": null,
   "metadata": {},
   "outputs": [],
   "source": [
    "#Python code for simple port scanning\n",
    "\n",
    "# Get and print local ip\n",
    "local_ip = socket.gethostbyname(hostname)  #getting ip-address of host\n",
    "\n",
    "print( local_ip )\n",
    "\n",
    "# Create an empty list of ports\n",
    "port_list = []\n",
    "  \n",
    "for port in range(65535):      #check for all available ports\n",
    "  \n",
    "    try:\n",
    "   \n",
    "        # create a new socket\n",
    "        serv = socket.socket( socket.AF_INET, socket.SOCK_STREAM )\n",
    "  \n",
    "        # bind socket with address\n",
    "        serv.bind( (local_ip,port) )\n",
    "        \n",
    "        serv.close()\n",
    "             \n",
    "    except:\n",
    "  \n",
    "        # If the socket is not open, then it is being used by the computer\n",
    "        print('[OPEN] Port open :',port) #print open port number\n",
    "    \n",
    "        # Append the port name to the list\n",
    "        port_list.append(port)\n",
    "  "
   ]
  },
  {
   "cell_type": "code",
   "execution_count": null,
   "metadata": {},
   "outputs": [],
   "source": [
    "for current_port in port_list:\n",
    "    s = socket.socket(socket.AF_INET, socket.SOCK_STREAM)\n",
    "    \n",
    "    try:\n",
    "        s.connect(('localhost', current_port))\n",
    "        \n",
    "        print(f'Successfully connected to {local_ip}:{current_port}...')\n",
    "        \n",
    "    except socket.error:\n",
    "        print(f'Unable to connect to {local_ip}:{current_port}, {socket.error}')\n",
    "        pass"
   ]
  },
  {
   "cell_type": "markdown",
   "metadata": {},
   "source": [
    "### Compare and Contrast\n",
    "Look at the result of the <code>!netstat</code> command from the previous lecture. Review the result with the initial \"Listening\" results. What have we determined?"
   ]
  },
  {
   "cell_type": "markdown",
   "metadata": {},
   "source": [
    "### Get a large file from the internet"
   ]
  },
  {
   "cell_type": "code",
   "execution_count": 24,
   "metadata": {},
   "outputs": [],
   "source": [
    "import requests \n",
    "\n",
    "# For this to work, you must use http:// in the link_string\n",
    "response = requests.get( main_building_tour_url )"
   ]
  },
  {
   "cell_type": "code",
   "execution_count": 25,
   "metadata": {},
   "outputs": [
    {
     "name": "stdout",
     "output_type": "stream",
     "text": [
      "\r\n",
      "<!doctype html>\r\n",
      "<html lang=\"en\" class=\"no-js\">\r\n",
      "<head>\r\n",
      "<meta charset=\"utf-8\">\n",
      "<script type=\"text/javascript\">window.NREUM||(NREUM={});NREUM.info={\"beacon\":\"bam.nr-data.net\",\"errorBeacon\":\"bam.nr-data.net\",\"licenseKey\":\"db51011748\",\"applicationID\":\"9339\",\"transactionName\":\"Jw4IFxdXCQgHExslVwoFEwARVxcnDQ9AFFcIDQMRSlwMFxIAQAVQOwUHFwRaBBcHPkYDWwsTAg==\",\"queueTime\":0,\"applicationTime\":275,\"agent\":\"\",\"atts\":\"H0MTQV9DRwwNEkBEAkYVCRYXFgsATARQExoZHA==\"}</script>\n",
      "<script type=\"text/javascript\">(window.NREUM||(NREUM={})).init={ajax:{deny_list:[\"bam.nr-data.net\"]}};(window.NREUM||(NREUM={})).loader_config={licenseKey:\"db51011748\",applicationID:\"9339\"};window.NREUM||(NREUM={}),__nr_require=function(t,e,n){function r(n){if(!e[n]){var i=e[n]={exports:{}};t[n][0].call(i.exports,function(e){var i=t[n][1][e];return r(i||e)},i,i.exports)}return e[n].exports}if(\"function\"==typeof __nr_require)return __nr_require;for(var i=0;i<n.length;i++)r(n[i]);return r}({1:[function(t,e,n){function r(){}function i(t,e,n,r){return function(){return s.recordSupportability(\"API/\"+e+\"/called\"),o(t+e,[u.now()].concat(c(arguments)),n?null:this,r),n?void 0:this}}var o=t(\"handle\"),a=t(9),c=t(10),f=t(\"ee\").get(\"tracer\"),u=t(\"loader\"),s=t(4),d=NREUM;\"undefined\"==typeof window.newrelic&&(newrelic=d);var p=[\"setPageViewName\",\"setCustomAttribute\",\"setErrorHandler\",\"finished\",\"addToTrace\",\"inlineHit\",\"addRelease\"],l=\"api-\",v=l+\"ixn-\";a(p,function(t,e){d[e]=i(l,e,!0,\"api\")}),d.addPageAction=i(l,\"addPageAction\",!0),d.setCurrentRouteName=i(l,\"routeName\",!0),e.exports=newrelic,d.interaction=function(){return(new r).get()};var m=r.prototype={createTracer:function(t,e){var n={},r=this,i=\"function\"==typeof e;return o(v+\"tracer\",[u.now(),t,n],r),function(){if(f.emit((i?\"\":\"no-\")+\"fn-start\",[u.now(),r,i],n),i)try{return e.apply(this,arguments)}catch(t){throw f.emit(\"fn-err\",[arguments,this,t],n),t}finally{f.emit(\"fn-end\",[u.now()],n)}}}};a(\"actionText,setName,setAttribute,save,ignore,onEnd,getContext,end,get\".split(\",\"),function(t,e){m[e]=i(v,e)}),newrelic.noticeError=function(t,e){\"string\"==typeof t&&(t=new Error(t)),s.recordSupportability(\"API/noticeError/called\"),o(\"err\",[t,u.now(),!1,e])}},{}],2:[function(t,e,n){function r(t){if(NREUM.init){for(var e=NREUM.init,n=t.split(\".\"),r=0;r<n.length-1;r++)if(e=e[n[r]],\"object\"!=typeof e)return;return e=e[n[n.length-1]]}}e.exports={getConfiguration:r}},{}],3:[function(t,e,n){var r=!1;try{var i=Object.defineProperty({},\"passive\",{get:function(){r=!0}});window.addEventListener(\"testPassive\",null,i),window.removeEventListener(\"testPassive\",null,i)}catch(o){}e.exports=function(t){return r?{passive:!0,capture:!!t}:!!t}},{}],4:[function(t,e,n){function r(t,e){var n=[a,t,{name:t},e];return o(\"storeMetric\",n,null,\"api\"),n}function i(t,e){var n=[c,t,{name:t},e];return o(\"storeEventMetrics\",n,null,\"api\"),n}var o=t(\"handle\"),a=\"sm\",c=\"cm\";e.exports={constants:{SUPPORTABILITY_METRIC:a,CUSTOM_METRIC:c},recordSupportability:r,recordCustom:i}},{}],5:[function(t,e,n){function r(){return c.exists&&performance.now?Math.round(performance.now()):(o=Math.max((new Date).getTime(),o))-a}function i(){return o}var o=(new Date).getTime(),a=o,c=t(11);e.exports=r,e.exports.offset=a,e.exports.getLastTimestamp=i},{}],6:[function(t,e,n){function r(t,e){var n=t.getEntries();n.forEach(function(t){\"first-paint\"===t.name?l(\"timing\",[\"fp\",Math.floor(t.startTime)]):\"first-contentful-paint\"===t.name&&l(\"timing\",[\"fcp\",Math.floor(t.startTime)])})}function i(t,e){var n=t.getEntries();if(n.length>0){var r=n[n.length-1];if(u&&u<r.startTime)return;var i=[r],o=a({});o&&i.push(o),l(\"lcp\",i)}}function o(t){t.getEntries().forEach(function(t){t.hadRecentInput||l(\"cls\",[t])})}function a(t){var e=navigator.connection||navigator.mozConnection||navigator.webkitConnection;if(e)return e.type&&(t[\"net-type\"]=e.type),e.effectiveType&&(t[\"net-etype\"]=e.effectiveType),e.rtt&&(t[\"net-rtt\"]=e.rtt),e.downlink&&(t[\"net-dlink\"]=e.downlink),t}function c(t){if(t instanceof y&&!w){var e=Math.round(t.timeStamp),n={type:t.type};a(n),e<=v.now()?n.fid=v.now()-e:e>v.offset&&e<=Date.now()?(e-=v.offset,n.fid=v.now()-e):e=v.now(),w=!0,l(\"timing\",[\"fi\",e,n])}}function f(t){\"hidden\"===t&&(u=v.now(),l(\"pageHide\",[u]))}if(!(\"init\"in NREUM&&\"page_view_timing\"in NREUM.init&&\"enabled\"in NREUM.init.page_view_timing&&NREUM.init.page_view_timing.enabled===!1)){var u,s,d,p,l=t(\"handle\"),v=t(\"loader\"),m=t(8),g=t(3),y=NREUM.o.EV;if(\"PerformanceObserver\"in window&&\"function\"==typeof window.PerformanceObserver){s=new PerformanceObserver(r);try{s.observe({entryTypes:[\"paint\"]})}catch(h){}d=new PerformanceObserver(i);try{d.observe({entryTypes:[\"largest-contentful-paint\"]})}catch(h){}p=new PerformanceObserver(o);try{p.observe({type:\"layout-shift\",buffered:!0})}catch(h){}}if(\"addEventListener\"in document){var w=!1,b=[\"click\",\"keydown\",\"mousedown\",\"pointerdown\",\"touchstart\"];b.forEach(function(t){document.addEventListener(t,c,g(!1))})}m(f)}},{}],7:[function(t,e,n){function r(t,e){if(!i)return!1;if(t!==i)return!1;if(!e)return!0;if(!o)return!1;for(var n=o.split(\".\"),r=e.split(\".\"),a=0;a<r.length;a++)if(r[a]!==n[a])return!1;return!0}var i=null,o=null,a=/Version\\/(\\S+)\\s+Safari/;if(navigator.userAgent){var c=navigator.userAgent,f=c.match(a);f&&c.indexOf(\"Chrome\")===-1&&c.indexOf(\"Chromium\")===-1&&(i=\"Safari\",o=f[1])}e.exports={agent:i,version:o,match:r}},{}],8:[function(t,e,n){function r(t){function e(){t(c&&document[c]?document[c]:document[o]?\"hidden\":\"visible\")}\"addEventListener\"in document&&a&&document.addEventListener(a,e,i(!1))}var i=t(3);e.exports=r;var o,a,c;\"undefined\"!=typeof document.hidden?(o=\"hidden\",a=\"visibilitychange\",c=\"visibilityState\"):\"undefined\"!=typeof document.msHidden?(o=\"msHidden\",a=\"msvisibilitychange\"):\"undefined\"!=typeof document.webkitHidden&&(o=\"webkitHidden\",a=\"webkitvisibilitychange\",c=\"webkitVisibilityState\")},{}],9:[function(t,e,n){function r(t,e){var n=[],r=\"\",o=0;for(r in t)i.call(t,r)&&(n[o]=e(r,t[r]),o+=1);return n}var i=Object.prototype.hasOwnProperty;e.exports=r},{}],10:[function(t,e,n){function r(t,e,n){e||(e=0),\"undefined\"==typeof n&&(n=t?t.length:0);for(var r=-1,i=n-e||0,o=Array(i<0?0:i);++r<i;)o[r]=t[e+r];return o}e.exports=r},{}],11:[function(t,e,n){e.exports={exists:\"undefined\"!=typeof window.performance&&window.performance.timing&&\"undefined\"!=typeof window.performance.timing.navigationStart}},{}],ee:[function(t,e,n){function r(){}function i(t){function e(t){return t&&t instanceof r?t:t?u(t,f,a):a()}function n(n,r,i,o,a){if(a!==!1&&(a=!0),!l.aborted||o){t&&a&&t(n,r,i);for(var c=e(i),f=m(n),u=f.length,s=0;s<u;s++)f[s].apply(c,r);var p=d[w[n]];return p&&p.push([b,n,r,c]),c}}function o(t,e){h[t]=m(t).concat(e)}function v(t,e){var n=h[t];if(n)for(var r=0;r<n.length;r++)n[r]===e&&n.splice(r,1)}function m(t){return h[t]||[]}function g(t){return p[t]=p[t]||i(n)}function y(t,e){l.aborted||s(t,function(t,n){e=e||\"feature\",w[n]=e,e in d||(d[e]=[])})}var h={},w={},b={on:o,addEventListener:o,removeEventListener:v,emit:n,get:g,listeners:m,context:e,buffer:y,abort:c,aborted:!1};return b}function o(t){return u(t,f,a)}function a(){return new r}function c(){(d.api||d.feature)&&(l.aborted=!0,d=l.backlog={})}var f=\"nr@context\",u=t(\"gos\"),s=t(9),d={},p={},l=e.exports=i();e.exports.getOrSetContext=o,l.backlog=d},{}],gos:[function(t,e,n){function r(t,e,n){if(i.call(t,e))return t[e];var r=n();if(Object.defineProperty&&Object.keys)try{return Object.defineProperty(t,e,{value:r,writable:!0,enumerable:!1}),r}catch(o){}return t[e]=r,r}var i=Object.prototype.hasOwnProperty;e.exports=r},{}],handle:[function(t,e,n){function r(t,e,n,r){i.buffer([t],r),i.emit(t,e,n)}var i=t(\"ee\").get(\"handle\");e.exports=r,r.ee=i},{}],id:[function(t,e,n){function r(t){var e=typeof t;return!t||\"object\"!==e&&\"function\"!==e?-1:t===window?0:a(t,o,function(){return i++})}var i=1,o=\"nr@id\",a=t(\"gos\");e.exports=r},{}],loader:[function(t,e,n){function r(){if(!M++){var t=T.info=NREUM.info,e=m.getElementsByTagName(\"script\")[0];if(setTimeout(u.abort,3e4),!(t&&t.licenseKey&&t.applicationID&&e))return u.abort();f(x,function(e,n){t[e]||(t[e]=n)});var n=a();c(\"mark\",[\"onload\",n+T.offset],null,\"api\"),c(\"timing\",[\"load\",n]);var r=m.createElement(\"script\");0===t.agent.indexOf(\"http://\")||0===t.agent.indexOf(\"https://\")?r.src=t.agent:r.src=l+\"://\"+t.agent,e.parentNode.insertBefore(r,e)}}function i(){\"complete\"===m.readyState&&o()}function o(){c(\"mark\",[\"domContent\",a()+T.offset],null,\"api\")}var a=t(5),c=t(\"handle\"),f=t(9),u=t(\"ee\"),s=t(7),d=t(2),p=t(3),l=d.getConfiguration(\"ssl\")===!1?\"http\":\"https\",v=window,m=v.document,g=\"addEventListener\",y=\"attachEvent\",h=v.XMLHttpRequest,w=h&&h.prototype,b=!1;NREUM.o={ST:setTimeout,SI:v.setImmediate,CT:clearTimeout,XHR:h,REQ:v.Request,EV:v.Event,PR:v.Promise,MO:v.MutationObserver};var E=\"\"+location,x={beacon:\"bam.nr-data.net\",errorBeacon:\"bam.nr-data.net\",agent:\"js-agent.newrelic.com/nr-1216.min.js\"},O=h&&w&&w[g]&&!/CriOS/.test(navigator.userAgent),T=e.exports={offset:a.getLastTimestamp(),now:a,origin:E,features:{},xhrWrappable:O,userAgent:s,disabled:b};if(!b){t(1),t(6),m[g]?(m[g](\"DOMContentLoaded\",o,p(!1)),v[g](\"load\",r,p(!1))):(m[y](\"onreadystatechange\",i),v[y](\"onload\",r)),c(\"mark\",[\"firstbyte\",a.getLastTimestamp()],null,\"api\");var M=0}},{}],\"wrap-function\":[function(t,e,n){function r(t,e){function n(e,n,r,f,u){function nrWrapper(){var o,a,s,p;try{a=this,o=d(arguments),s=\"function\"==typeof r?r(o,a):r||{}}catch(l){i([l,\"\",[o,a,f],s],t)}c(n+\"start\",[o,a,f],s,u);try{return p=e.apply(a,o)}catch(v){throw c(n+\"err\",[o,a,v],s,u),v}finally{c(n+\"end\",[o,a,p],s,u)}}return a(e)?e:(n||(n=\"\"),nrWrapper[p]=e,o(e,nrWrapper,t),nrWrapper)}function r(t,e,r,i,o){r||(r=\"\");var c,f,u,s=\"-\"===r.charAt(0);for(u=0;u<e.length;u++)f=e[u],c=t[f],a(c)||(t[f]=n(c,s?f+r:r,i,f,o))}function c(n,r,o,a){if(!v||e){var c=v;v=!0;try{t.emit(n,r,o,e,a)}catch(f){i([f,n,r,o],t)}v=c}}return t||(t=s),n.inPlace=r,n.flag=p,n}function i(t,e){e||(e=s);try{e.emit(\"internal-error\",t)}catch(n){}}function o(t,e,n){if(Object.defineProperty&&Object.keys)try{var r=Object.keys(t);return r.forEach(function(n){Object.defineProperty(e,n,{get:function(){return t[n]},set:function(e){return t[n]=e,e}})}),e}catch(o){i([o],n)}for(var a in t)l.call(t,a)&&(e[a]=t[a]);return e}function a(t){return!(t&&t instanceof Function&&t.apply&&!t[p])}function c(t,e){var n=e(t);return n[p]=t,o(t,n,s),n}function f(t,e,n){var r=t[e];t[e]=c(r,n)}function u(){for(var t=arguments.length,e=new Array(t),n=0;n<t;++n)e[n]=arguments[n];return e}var s=t(\"ee\"),d=t(10),p=\"nr@original\",l=Object.prototype.hasOwnProperty,v=!1;e.exports=r,e.exports.wrapFunction=c,e.exports.wrapInPlace=f,e.exports.argsToArray=u},{}]},{},[\"loader\"]);</script>\r\n",
      "<meta name=\"viewport\" content=\"width=device-width, initial-scale=1, shrink-to-fit=no\">\r\n",
      "<link rel=\"preconnect\" href=\"https://static.nd.edu/\" crossorigin>\r\n",
      "<link rel=\"preconnect\" href=\"https://emergency.nd.edu/\">\r\n",
      "<link rel=\"preconnect\" href=\"https://map.nd.edu/\">\r\n",
      "<link rel=\"preconnect\" href=\"https://ajax.googleapis.com/\">\r\n",
      "<link rel=\"preconnect\" href=\"https://fonts.googleapis.com/\">\r\n",
      "<link rel=\"preconnect\" href=\"https://fonts.gstatic.com/\" crossorigin>\r\n",
      "<meta name=\"generator\" content=\"Conductor CMS\">\r\n",
      "<meta name=\"author\" content=\"Marketing Communications: Web | University of Notre Dame\">\r\n",
      "<meta name=\"apple-mobile-web-app-title\" content=\"Campus Tour\">\r\n",
      "<meta name=\"application-name\" content=\"Campus Tour\">\r\n",
      "<meta name=\"twitter:card\" content=\"summary\">\r\n",
      "<meta name=\"twitter:site\" content=\"@notredame\">\r\n",
      "<meta name=\"twitter:creator\" content=\"@ndwebteam\">\r\n",
      "<meta name=\"twitter:image\" property=\"og:image\" content=\"https://tour.nd.edu/assets/385371/1200x/dome.jpg\">\r\n",
      "<meta property=\"og:description\" name=\"description\" content=\"The Notre Dame campus annually attracts hundreds of thousands of visitors who delight in a landscape of fresh colors for every season, ivy-covered walls on classic collegiate Gothic buildings, expansive quadrangles and some of the world’s most recognized campus landmarks – the Golden Dome, Touchdown Jesus, the Grotto o\">\r\n",
      "<meta property=\"og:site_name\" content=\"Campus Tour\">\r\n",
      "<meta property=\"og:title\" content=\"Main Building\">\r\n",
      "<meta property=\"og:type\" content=\"website\">\r\n",
      "<meta property=\"og:url\" content=\"https://tour.nd.edu/locations/main-building/\">\r\n",
      "<meta property=\"og:locale\" content=\"en_US\">\r\n",
      "<link rel=\"canonical\" href=\"https://tour.nd.edu/locations/main-building/\">\n",
      "<title>Main Building | Locations | Campus Tour | University of Notre Dame</title>\n",
      "<link rel=\"manifest\" href=\"/manifest.json\" crossorigin=\"use-credentials\">\r\n",
      "<link rel=\"shortcut icon\" href=\"/favicon.ico\">\r\n",
      "<link rel=\"icon\" type=\"image/png\" href=\"https://static.nd.edu/images/monogram/gold/monogram-32.png\" sizes=\"32x32\">\r\n",
      "<link rel=\"icon\" type=\"image/png\" href=\"https://static.nd.edu/images/monogram/gold/monogram-96.png\" sizes=\"96x96\">\r\n",
      "<link rel=\"apple-touch-icon\" sizes=\"180x180\" href=\"https://static.nd.edu/images/webclips/default/webclip-180.png\">\r\n",
      "<link rel=\"apple-touch-icon\" sizes=\"512x512\" href=\"https://static.nd.edu/images/webclips/default/webclip-512.png\">\r\n",
      "<link rel=\"mask-icon\" href=\"https://static.nd.edu/images/monogram/monogram.svg\" color=\"#002b5c\">\r\n",
      "<meta name=\"theme-color\" content=\"#002b5c\">\r\n",
      "<script async src=\"https://www.googletagmanager.com/gtag/js?id=G-5HWQMJB6ZC\"></script>\n",
      "<script>\n",
      "  window.dataLayer = window.dataLayer || [];\n",
      "  function gtag(){dataLayer.push(arguments);}\n",
      "  gtag('js', new Date());\n",
      "  gtag('config', 'G-5HWQMJB6ZC', { 'groups': 'network' });\n",
      "  gtag('config', 'UA-11434524-1', { 'groups': 'network' });\n",
      "  gtag('config', 'G-S2YE6CGYPH', { 'groups': 'site' });\n",
      "  gtag('config', 'UA-10196293-4', { 'groups': 'site' });  \n",
      "</script>\r\n",
      "<link rel=\"stylesheet\" href=\"/stylesheets/themes/ndt/v3/ndt.css\">\r\n",
      "<link rel=\"stylesheet\" type=\"text/css\" href=\"/stylesheets/site.1661877273.css\" />\n",
      "\r\n",
      "<!--[if IE]>\r\n",
      "  <link rel=\"stylesheet\" type=\"text/css\" href=\"/stylesheets/ie.1600091741.css\" />\n",
      "<![endif]-->\r\n",
      "<!--[if lt IE 9]>\r\n",
      "  <script src=\"https://static.nd.edu/js/html5shiv.min.js\"></script>\r\n",
      "  <script src=\"https://static.nd.edu/js/respond.js\"></script>\r\n",
      "<![endif]-->\r\n",
      "<script>var ndn=document.createElement(\"script\");ndn.async=true;ndn.id=\"ndalertbarscript\";ndn.src=\"https://emergency.nd.edu/api/alert/\";var s=document.getElementsByTagName(\"script\")[0];s.parentNode.insertBefore(ndn, s);</script>\n",
      "\r\n",
      "\n",
      "</head>\r\n",
      "\r\n",
      "<body id=\"locations-main-building\" class=\"locations locations-main-building full-width location full-width nav-top-true \" vocab=\"https://schema.org/\">\r\n",
      "\r\n",
      "<!-- Skip links -->\r\n",
      "<nav class=\"skip-links\" aria-label=\"Skip links\">\r\n",
      "  <ul>\r\n",
      "    <li><a href=\"#content\" accesskey=\"C\" title=\"Skip to content = C\">Skip To Content</a></li>\r\n",
      "    <li><a href=\"#nav-top\" accesskey=\"S\" title=\"Skip to navigation = S\">Skip To Navigation</a></li>\r\n",
      "    <li><a href=\"#search-input-nav-top\">Skip To Search</a></li>\r\n",
      "  </ul>\r\n",
      "</nav>\r\n",
      "\r\n",
      "<div class=\"wrapper\" id=\"wrapper\">\r\n",
      "\r\n",
      "  <!-- Site Header -->\r\n",
      "  <header id=\"header\" class=\"site-header\">\r\n",
      "    <p class=\"mark-header\"><a href=\"https://www.nd.edu/\">University of Notre Dame</a></p>\r\n",
      "    <div class=\"site-title-group\">\r\n",
      "      \r\n",
      "      <p id=\"site-title\" class=\"site-title\"><a href=\"/\" accesskey=\"1\" title=\"Homepage shortcut key = 1\">Campus Tour</a></p>\r\n",
      "      \r\n",
      "      \r\n",
      "    </div>\r\n",
      "\r\n",
      "    <!-- Header Search/Nav  -->\r\n",
      "    <div class=\"nav-header\">\r\n",
      "      <nav id=\"nav-top\" class=\"nav-top\" role=\"navigation\" aria-label=\"Primary navigation\">\r\n",
      "        \r\n",
      "        \r\n",
      "        <div id=\"primary\"><ul class=\"nav-level-1 depth_1\"><li id=\"primary_110440\" class=\"first\"><a href=\"/\" aria-label=\"Home\"><svg class=\"icon\" data-icon=\"home\" width=\"16\" height=\"16\"><use xmlns:xlink=\"http://www.w3.org/1999/xlink\" xlink:href=\"#icon-home\"></use></svg></a></li><li id=\"primary_110441\" class=\"active\"><a href=\"/locations/\" aria-current=\"page\" class=\"current current-last\">Locations</a></li><li id=\"primary_110539\"><a href=\"/galleries/\">Galleries</a></li><li id=\"primary_110796\" class=\"last\"><a href=\"/on-campus-tours/\">On-Campus Tours</a></li>\r\n",
      "        <li class=\"nav-search\"><button class=\"btn-search search-toggle\" aria-label=\"Toggle search\"><svg class=\"icon\" data-icon=\"search\" width=\"16\" height=\"16\"><use xlink:href=\"#icon-search\"></use></svg></button></li>\r\n",
      "      </ul>\r\n",
      "      <div class=\"nav-search-wrapper\">\r\n",
      "        <form method=\"get\" action=\"/search/\" id=\"search-nav-top\" class=\"search-form\" role=\"search\" aria-label=\"Site search\">\r\n",
      "          <input type=\"hidden\" name=\"as_sitesearch\" value=\"tour.nd.edu\">\r\n",
      "          <input type=\"hidden\" name=\"entqr\" value=\"3\">\r\n",
      "          <input type=\"search\" name=\"q\" class=\"search-input\" id=\"search-input-nav-top\" placeholder=\"Search this site\" title=\"type your search term\" aria-label=\"Site Search input\">\r\n",
      "          <button class=\"search-button\" type=\"submit\" aria-label=\"Search\"><svg class=\"icon\" width=\"16\" height=\"16\" data-icon=\"search\"><use xlink:href=\"#icon-search\"></use></svg></button>\r\n",
      "          <button class=\"search-close search-toggle\" aria-label=\"Close Search\"><svg class=\"icon\" data-icon=\"close\"  width=\"16\" height=\"16\"><use xlink:href=\"#icon-close\"></use></svg></button>\r\n",
      "        </form>\r\n",
      "      </div></div>\r\n",
      "      </nav>\r\n",
      "    </div>\r\n",
      "\r\n",
      "    <!-- Mobile Navbar -->\r\n",
      "    <div class=\"nav-mobile-util\">\r\n",
      "      <ul class=\"no-bullets\">\r\n",
      "        <li><a href=\"/\"><svg class=\"icon\" data-icon=\"home\" width=\"16\" height=\"16\"><use xmlns:xlink=\"http://www.w3.org/1999/xlink\" xlink:href=\"#icon-home\"></use></svg> Home</a></li>\r\n",
      "        <li><button class=\"btn-search search-toggle\"><svg class=\"icon\" data-icon=\"search\" width=\"16\" height=\"16\"><use xmlns:xlink=\"http://www.w3.org/1999/xlink\" xlink:href=\"#icon-search\"></use></svg> Search</button></li>\r\n",
      "        <li>\r\n",
      "          <a href=\"#nav\" class=\"nav-menu nav-skip\">\r\n",
      "          <svg version=\"1.1\" class=\"icon\" xmlns=\"http://www.w3.org/2000/svg\"  width=\"16\" height=\"16\" xmlns:xlink=\"http://www.w3.org/1999/xlink\" x=\"0px\" y=\"0px\" viewBox=\"0 0 20 20\" xml:space=\"preserve\">\r\n",
      "            <line class=\"ni ni1\" stroke-width=\"2\" stroke-linecap=\"square\" stroke-miterlimit=\"10\" x1=\"0.98\" y1=\"2\" x2=\"18.94\" y2=\"2\"/>\r\n",
      "            <line class=\"ni ni2\" stroke-width=\"2\" stroke-linecap=\"square\" stroke-miterlimit=\"10\" x1=\"0.98\" y1=\"8.69\" x2=\"18.94\" y2=\"8.69\"/>\r\n",
      "          </svg>\r\n",
      "          <span class=\"ni ni3\">Menu</span>\r\n",
      "        </a>\r\n",
      "        </li>\r\n",
      "      </ul>\r\n",
      "      <div class=\"nav-search-wrapper\">\r\n",
      "        <form method=\"get\" action=\"/search/\" id=\"search-navbar-mobile\" class=\"search-form\" role=\"search\" aria-label=\"Site search\">\r\n",
      "          <input type=\"hidden\" name=\"as_sitesearch\" value=\"tour.nd.edu\">\r\n",
      "          <input type=\"hidden\" name=\"entqr\" value=\"3\">\r\n",
      "          <input type=\"search\" name=\"q\" class=\"search-input\" id=\"search-input-navbar-mobile\" placeholder=\"Search this site\" title=\"type your search term\" aria-label=\"Site Search input\">\r\n",
      "          <button class=\"search-button\" type=\"submit\" aria-label=\"Search\"><svg class=\"icon\" data-icon=\"search\" width=\"16\" height=\"16\"><use xlink:href=\"#icon-search\"></use></svg></button>\r\n",
      "          <button class=\"search-close search-toggle\" aria-label=\"Close Search\"><svg class=\"icon\" data-icon=\"close\" width=\"16\" height=\"16\"><use xlink:href=\"#icon-close\"></use></svg></button>\r\n",
      "        </form>\r\n",
      "      </div>\r\n",
      "    </div>\r\n",
      "  </header>\r\n",
      "\r\n",
      "  <!-- Site Content -->\r\n",
      "  <div id=\"content\" class=\"site-content\">\r\n",
      "\n",
      "\n",
      "  <div class=\"page-header has-title\">\n",
      "    <h1 class=\"page-title\">Main Building</h1>\n",
      "  </div>\n",
      "\n",
      "  <main class=\"page-main\">\n",
      "    <figure class=\"page-image full\">\n",
      "    <img src=\"/assets/385371/800x/dome.jpg\"\n",
      "         alt=\"\" width=\"2400\" height=\"1200\" fetchpriority=\"high\"\n",
      "         srcset=\"/assets/385371/800x/dome.jpg 800w,\n",
      "                 /assets/385371/1200x/dome.jpg 1200w,\n",
      "                 /assets/385371/1600x/dome.jpg 1600w,\n",
      "                 /assets/385371/2400x/dome.jpg 2400w\" sizes=\"90vw\">\n",
      "    </figure>\n",
      "  \n",
      "    <div class=\"page-primary page-section block-center\">\n",
      "      <p class=\"page-title\">Main Building</p>\n",
      "      <p><p>The Main Building, with its famous Golden Dome, is a centerpiece of Notre Dame’s past and present. Today, it serves primarily as a headquarters for administration, although it still contains classrooms, harking back to a time when it was a crossroads where students learned, ate meals, and resided. This structure is actually the third building to stand on the site. It was built in 1879, the same year in which the previous building was destroyed by fire.</p>\r\n",
      "<p>The Golden Dome was added to this building in 1882 and was most recently regilded in 2005. The regilding process uses only about a fist-full of gold leaf to cover the entire structure. Atop the Dome, you will find a 19-foot-tall, 4,000-pound statue of Mary, the Mother of God, “Notre Dame” (“Our Lady”). With this beautiful adornment, the Main Building is 187 feet tall, making it the second tallest structure on campus after the Basilica of the Sacred Heart.</p>\r\n",
      "<p>Learn more about the <a href=\"http://archives.nd.edu/main.htm\">Main Building</a></p></p>\n",
      "    </div>\n",
      "      \n",
      "    <div class=\"page-section bg-full-bleed section-light full\">\n",
      "      \n",
      "      <div class=\"section section-loc-embeds full\">\n",
      "          <div id=\"sv-placeholder\" class=\"sv-placeholder loc-streetview\">\n",
      "            <img src=\"/stylesheets/images/street-view-placeholder.jpg\" alt=\"Load Google Street View\" width=\"1200\" height=\"900\" loading=\"lazy\">\n",
      "            <p>Load Street View</p>\n",
      "          </div>\n",
      "          <div id=\"sv-embed\"><!--<div id=\"loc-streetview\" onclick=\"streetviewClick()\" onmouseout=\"streetviewAway\"><p><iframe title=\"Google Street View\" allowfullscreen=\"\" aria-hidden=\"false\" frameborder=\"0\" height=\"450\" src=\"https://www.google.com/maps/embed?pb=!4v1587378832044!6m8!1m7!1sFY8e1K5Q4bDjU7bxYiokUQ!2m2!1d41.7024307589197!2d-86.2389490436225!3f355.0244942616548!4f0.638019415520418!5f0.7820865974627469\" style=\"border:0;\" tabindex=\"0\" width=\"600\"></iframe></p></div>--></div>\n",
      "          <div class=\"loc-map\"><iframe width=\"650\" height=\"400\" loading=\"lazy\" title=\"Main Building on map.nd.edu\" src=\"https://map.nd.edu/#/placemarks/1008/zoom/17/lat/41.702972/lon/-86.2389745\"></iframe></div>\n",
      "      </div>\n",
      "    </div>\n",
      "      <div class=\"page-section block-center\">\n",
      "        <div class=\"section section-gallery\">\n",
      "          <h2>Gallery</h2>\n",
      "          <a class=\"gallery btn\" data-id=\"G0000p5d_L1tMWFo\" data-limit=\"10\" href=\"https://photos.nd.edu/gallery/G0000p5d_L1tMWFo\">View gallery</a>\n",
      "        </div>\n",
      "      </div>\n",
      "      \n",
      "      \n",
      "    \n",
      "  </main>\n",
      "  <div class=\"page-sidebar\">\n",
      "    <nav id=\"nav\" class=\"nav-site nav-full\" role=\"navigation\" aria-label=\"Primary navigation\"><ul class=\"nav-level-1 depth_1\"><li class=\"first nav-110440\"><a href=\"/\">Home</a></li><li class=\"active nav-110441\"><a href=\"/locations/\" aria-current=\"page\" class=\"current current-last\">Locations</a></li><li class=\"nav-110539\"><a href=\"/galleries/\">Galleries</a></li><li class=\"last nav-110796\"><a href=\"/on-campus-tours/\">On-Campus Tours</a></li></ul></nav>\n",
      "  </div>\n",
      "  </div>\r\n",
      "\r\n",
      "  <!-- Site Footer -->\r\n",
      "  <footer id=\"footer\" class=\"site-footer\">\r\n",
      "    <div class=\"footer-org\" typeof=\"Organization\" resource=\"#siteorg\">\r\n",
      "      <meta property=\"parentOrganization\" resource=\"#parentorg\" content=\"University of Notre Dame\">\r\n",
      "      <ul class=\"footer-breadcrumbs\">\r\n",
      "        <li><a href=\"https://opac.nd.edu/\">Office of Public Affairs and Communications</a></li>\r\n",
      "      </ul>\r\n",
      "      <p><a href=\"/\" class=\"site-link\" property=\"url\"><span property=\"name\">Campus Tour</span></a></p>\r\n",
      "      <div class=\"footer-contacts\">\r\n",
      "        <p class=\"contact-info\">\r\n",
      "          <span class=\"address\" property=\"address\" typeof=\"PostalAddress\">\r\n",
      "            \r\n",
      "            <span property=\"addressLocality\">Notre Dame</span>, <span property=\"addressRegion\">IN</span> <span property=\"postalCode\">46556</span> <span property=\"addressCountry\">USA</span>\r\n",
      "          </span>\r\n",
      "          \r\n",
      "          \r\n",
      "          \r\n",
      "        </p>\r\n",
      "        <nav class=\"social\" aria-label=\"Social media navigation\" vocab=\"\">\r\n",
      "          <ul>\r\n",
      "          </ul>\r\n",
      "        </nav>\r\n",
      "      </div>\r\n",
      "      <div property=\"logo\" typeof=\"ImageObject\"><meta property=\"url\" content=\"https://static.nd.edu/images/webclips/default/webclip-60.png\"></div>\r\n",
      "      <p class=\"copyright\"><a href=\"https://www.nd.edu/copyright/\">&copy; 2022</a> <a href=\"https://www.nd.edu\">University of Notre Dame</a></p>\r\n",
      "    </div>\r\n",
      "    <div class=\"footer-parent\" property=\"parentOrganization\" typeof=\"CollegeOrUniversity\" resource=\"#parentorg\">\r\n",
      "      <meta property=\"name\" content=\"University of Notre Dame\">\r\n",
      "      <a href=\"https://www.nd.edu/\" class=\"mark-footer\" property=\"url logo\" typeof=\"ImageObject\" aria-label=\"University of Notre Dame\">\r\n",
      "        <img src=\"https://static.nd.edu/images/marks/gray/ndmark600.png\" width=\"300\" height=\"70\" alt=\"University of Notre Dame\" property=\"url\" loading=\"lazy\">\r\n",
      "      </a>\r\n",
      "      <div class=\"footer-parent-links\">\r\n",
      "        <nav aria-label=\"Footer links navigation\">\r\n",
      "          <ul class=\"footer-links\">\r\n",
      "            <li><a href=\"https://search.nd.edu/\" aria-label=\"Search Notre Dame\">Search</a></li>\r\n",
      "            <li><a href=\"https://mobile.nd.edu/\" aria-label=\"Notre Dame Mobile App\">Mobile App</a></li>\r\n",
      "            <li><a href=\"https://news.nd.edu/\" aria-label=\"Notre Dame News\">News</a></li>\r\n",
      "            <li><a href=\"https://events.nd.edu/\" aria-label=\"Notre Dame Events\">Events</a></li>\r\n",
      "            <li><a href=\"https://www.nd.edu/visit/\" aria-label=\"Visit Notre Dame\">Visit</a></li>\r\n",
      "            <li><a href=\"https://www.nd.edu/about/accessibility/\" aria-label=\"Notre Dame Accessibility Information\">Accessibility</a></li>\r\n",
      "          </ul>\r\n",
      "        </nav>\r\n",
      "        <nav class=\"social\" aria-label=\"Social media navigation\" vocab=\"\">\r\n",
      "          <ul>\r\n",
      "            <li><a class=\"soc-facebook\" href=\"https://www.facebook.com/notredame/\" rel=\"noopener\" aria-label=\"Notre Dame on Facebook\"><svg class=\"icon\" data-icon=\"facebook\" width=\"16\" height=\"16\" aria-hidden=\"true\"><use xlink:href=\"#icon-facebook\"></use></svg> Facebook</a></li>\r\n",
      "            <li><a class=\"soc-twitter\" href=\"https://twitter.com/NotreDame/\" rel=\"noopener\" aria-label=\"Notre Dame on Twitter\"><svg class=\"icon\" data-icon=\"twitter\" width=\"16\" height=\"16\" aria-hidden=\"true\"><use xlink:href=\"#icon-twitter\"></use></svg> Twitter</a></li>\r\n",
      "            <li><a class=\"soc-instagram\" href=\"https://www.instagram.com/notredame/\" rel=\"noopener\" aria-label=\"Notre Dame on Instagram\"><svg class=\"icon\" data-icon=\"instagram\" width=\"16\" height=\"16\" aria-hidden=\"true\"><use xlink:href=\"#icon-instagram\"></use></svg> Instagram</a></li>\r\n",
      "            <li><a class=\"soc-youtube\" href=\"https://www.youtube.com/user/NDdotEDU\" rel=\"noopener\" aria-label=\"Notre Dame on YouTube\"><svg class=\"icon\" data-icon=\"youtube\" width=\"16\" height=\"16\" aria-hidden=\"true\"><use xlink:href=\"#icon-youtube\"></use></svg> YouTube</a></li>\r\n",
      "            <li><a class=\"soc-linkedin\" href=\"https://www.linkedin.com/school/university-of-notre-dame/\" rel=\"noopener\" aria-label=\"Notre Dame on Linkedin\"><svg class=\"icon\" data-icon=\"linkedin\" width=\"16\" height=\"16\" aria-hidden=\"true\"><use xlink:href=\"#icon-linkedin\"></use></svg> LinkedIn</a></li>\r\n",
      "          </ul>\r\n",
      "        </nav>\r\n",
      "      </div>\r\n",
      "    </div>\r\n",
      "  </footer>\r\n",
      "</div><!-- .wrapper -->\r\n",
      "<script src=\"/javascripts/themes/ndt/v3/ndt.js\"></script>\r\n",
      "<script src=\"/javascripts/site.1661878058.js\"></script>\n",
      "\n",
      "<script>\n",
      "// Streetview Placeholder\n",
      "(function(){\n",
      "  var sp = document.getElementById('sv-placeholder'),\n",
      "      se = document.getElementById('sv-embed')\n",
      "  ;\n",
      "  if(sp){\n",
      "    sp.addEventListener('click', function(e){\n",
      "      e.preventDefault();\n",
      "      sp.classList.add('hidden');\n",
      "      var html = se.innerHTML.replace(/<!--/ig, '').replace(/-->/ig, '');\n",
      "      se.innerHTML = html;\n",
      "    });\n",
      "  }\n",
      "})();\n",
      "\n",
      "// Streetview Functions\n",
      "function streetviewClick() {\n",
      "  document.getElementById('loc-streetview').style.cssText = 'pointer-events:auto;';\n",
      "}\n",
      "\n",
      "function streetviewAway() {\n",
      "  document.getElementById('loc-streetview').style.cssText = 'pointer-events:none;';\n",
      "}\n",
      "</script>\n",
      "</body>\n",
      "</html>\n",
      "\n"
     ]
    }
   ],
   "source": [
    "html_string = response.text\n",
    "print (html_string)"
   ]
  },
  {
   "cell_type": "code",
   "execution_count": 26,
   "metadata": {},
   "outputs": [
    {
     "ename": "gaierror",
     "evalue": "[Errno 11001] getaddrinfo failed",
     "output_type": "error",
     "traceback": [
      "\u001b[1;31m---------------------------------------------------------------------------\u001b[0m",
      "\u001b[1;31mgaierror\u001b[0m                                  Traceback (most recent call last)",
      "Input \u001b[1;32mIn [26]\u001b[0m, in \u001b[0;36m<cell line: 3>\u001b[1;34m()\u001b[0m\n\u001b[0;32m      1\u001b[0m s \u001b[38;5;241m=\u001b[39m socket\u001b[38;5;241m.\u001b[39msocket(socket\u001b[38;5;241m.\u001b[39mAF_INET, socket\u001b[38;5;241m.\u001b[39mSOCK_STREAM)\n\u001b[1;32m----> 3\u001b[0m \u001b[43ms\u001b[49m\u001b[38;5;241;43m.\u001b[39;49m\u001b[43mconnect\u001b[49m\u001b[43m(\u001b[49m\u001b[43m(\u001b[49m\u001b[43mmain_building_tour_url\u001b[49m\u001b[43m,\u001b[49m\u001b[43m \u001b[49m\u001b[38;5;241;43m80\u001b[39;49m\u001b[43m)\u001b[49m\u001b[43m)\u001b[49m\n\u001b[0;32m      5\u001b[0m s\u001b[38;5;241m.\u001b[39msend(\u001b[38;5;124mb\u001b[39m\u001b[38;5;124m'\u001b[39m\u001b[38;5;124mGET / HTTP/1.0\u001b[39m\u001b[38;5;130;01m\\n\u001b[39;00m\u001b[38;5;124m'\u001b[39m)        \u001b[38;5;66;03m# Client sends request to server\u001b[39;00m\n\u001b[0;32m      6\u001b[0m s\u001b[38;5;241m.\u001b[39msend(\u001b[38;5;124mb\u001b[39m\u001b[38;5;124m'\u001b[39m\u001b[38;5;124mHost: \u001b[39m\u001b[38;5;132;01m{link_string}\u001b[39;00m\u001b[38;5;130;01m\\n\u001b[39;00m\u001b[38;5;124m'\u001b[39m)\n",
      "\u001b[1;31mgaierror\u001b[0m: [Errno 11001] getaddrinfo failed"
     ]
    }
   ],
   "source": [
    "s = socket.socket(socket.AF_INET, socket.SOCK_STREAM)\n",
    "\n",
    "s.connect((main_building_tour_url, 80))\n",
    "\n",
    "s.send(b'GET / HTTP/1.0\\n')        # Client sends request to server\n",
    "s.send(b'Host: {link_string}\\n')\n",
    "s.send(b'\\n')\n",
    "\n",
    "data = s.recv(4096)                # Client reads response from server\n",
    "while data:\n",
    "    print(data.decode())\n",
    "    data = s.recv(4096)"
   ]
  },
  {
   "cell_type": "markdown",
   "metadata": {},
   "source": [
    "## How do we measure latency?"
   ]
  },
  {
   "cell_type": "code",
   "execution_count": 27,
   "metadata": {},
   "outputs": [],
   "source": [
    "import time\n",
    "\n",
    "def measure_latency(domain):\n",
    "    # Measure latency by doing the following:\n",
    "\n",
    "    # 1. Create streaming internet socket.\n",
    "    s = socket.socket(socket.AF_INET, socket.SOCK_STREAM)\n",
    "    \n",
    "    # 2. Record start time.\n",
    "    start_time = time.time()\n",
    "    \n",
    "    # 3. Connect to specified domain at port 80.\n",
    "    s.connect((domain, 80))\n",
    "    \n",
    "    # 4. Record end time.\n",
    "    end_time = time.time()\n",
    "    \n",
    "    # 5. Compute latency: latency = Elapsed Time * 1000\n",
    "    latency = (end_time - start_time) * 1000\n",
    "    \n",
    "    return latency"
   ]
  },
  {
   "cell_type": "code",
   "execution_count": 28,
   "metadata": {},
   "outputs": [
    {
     "data": {
      "text/plain": [
       "34.658193588256836"
      ]
     },
     "execution_count": 28,
     "metadata": {},
     "output_type": "execute_result"
    }
   ],
   "source": [
    "measure_latency( 'www.nd.edu' )"
   ]
  },
  {
   "cell_type": "code",
   "execution_count": 30,
   "metadata": {},
   "outputs": [
    {
     "data": {
      "text/plain": [
       "15.355587005615234"
      ]
     },
     "execution_count": 30,
     "metadata": {},
     "output_type": "execute_result"
    }
   ],
   "source": [
    "measure_latency( 'www.google.com' )"
   ]
  },
  {
   "cell_type": "code",
   "execution_count": null,
   "metadata": {},
   "outputs": [],
   "source": []
  }
 ],
 "metadata": {
  "kernelspec": {
   "display_name": "Python 3 (ipykernel)",
   "language": "python",
   "name": "python3"
  },
  "language_info": {
   "codemirror_mode": {
    "name": "ipython",
    "version": 3
   },
   "file_extension": ".py",
   "mimetype": "text/x-python",
   "name": "python",
   "nbconvert_exporter": "python",
   "pygments_lexer": "ipython3",
   "version": "3.9.12"
  }
 },
 "nbformat": 4,
 "nbformat_minor": 2
}
