{
 "cells": [
  {
   "cell_type": "markdown",
   "id": "04f21f68",
   "metadata": {},
   "source": [
    "### This is the Notebook for Lecture 08\n",
    "\n",
    "In this lecture, you will learn\n",
    "<ol>\n",
    "    <li>The process of implementing an <b>Algorithm</b>\n",
    "</ol>\n",
    "    "
   ]
  },
  {
   "attachments": {},
   "cell_type": "markdown",
   "id": "0f7de3d8",
   "metadata": {},
   "source": [
    "#### In-Class Coding Opportunity\n",
    "\n",
    "Given a list words of N items and a target parameter, determine whether or not the list words contains the target parameter."
   ]
  },
  {
   "cell_type": "code",
   "execution_count": 1,
   "id": "306e600e",
   "metadata": {},
   "outputs": [],
   "source": [
    "book = ['harry', 'potter', 'and', 'the', 'goblet', 'of', 'fire']"
   ]
  },
  {
   "cell_type": "code",
   "execution_count": 10,
   "id": "d387b059",
   "metadata": {},
   "outputs": [],
   "source": [
    "# Returns whether or not target is contained in words\n",
    "def contains_target(words, target):\n",
    "    for word in words:\n",
    "        if word == target:\n",
    "            return True\n",
    "    return False"
   ]
  },
  {
   "cell_type": "code",
   "execution_count": 12,
   "id": "71dc23b8",
   "metadata": {
    "scrolled": true
   },
   "outputs": [
    {
     "data": {
      "text/plain": [
       "True"
      ]
     },
     "execution_count": 12,
     "metadata": {},
     "output_type": "execute_result"
    }
   ],
   "source": [
    "contains_target(book, 'harry')"
   ]
  },
  {
   "cell_type": "code",
   "execution_count": 13,
   "id": "164ad5d6",
   "metadata": {},
   "outputs": [
    {
     "data": {
      "text/plain": [
       "False"
      ]
     },
     "execution_count": 13,
     "metadata": {},
     "output_type": "execute_result"
    }
   ],
   "source": [
    "contains_target(book, 'Thor')"
   ]
  },
  {
   "cell_type": "code",
   "execution_count": 14,
   "id": "08de7413",
   "metadata": {},
   "outputs": [
    {
     "data": {
      "text/plain": [
       "False"
      ]
     },
     "execution_count": 14,
     "metadata": {},
     "output_type": "execute_result"
    }
   ],
   "source": [
    "contains_target(book, 'Harry')"
   ]
  },
  {
   "cell_type": "markdown",
   "id": "b3a504e2",
   "metadata": {},
   "source": [
    "### lower()\n",
    "\n",
    "Used to convert uppercase ASCII to lowercase to make == comparisons valid"
   ]
  },
  {
   "cell_type": "code",
   "execution_count": 16,
   "id": "1183ff79",
   "metadata": {},
   "outputs": [],
   "source": [
    "def contains_target_lower(words, target):\n",
    "    \n",
    "    for word in words:\n",
    "        if word.lower() == target.lower():\n",
    "            return True\n",
    "    \n",
    "    return False"
   ]
  },
  {
   "cell_type": "code",
   "execution_count": 17,
   "id": "d63b6372",
   "metadata": {},
   "outputs": [
    {
     "data": {
      "text/plain": [
       "True"
      ]
     },
     "execution_count": 17,
     "metadata": {},
     "output_type": "execute_result"
    }
   ],
   "source": [
    "contains_target_lower(book, 'Harry')"
   ]
  },
  {
   "cell_type": "markdown",
   "id": "e21f863d",
   "metadata": {},
   "source": [
    "### Enumerate\n",
    "\n",
    "The enumerate method for a list of words creates an index and a string\n",
    "Here, we will create index, word for each enumerated word"
   ]
  },
  {
   "cell_type": "code",
   "execution_count": 25,
   "id": "a73673f5",
   "metadata": {},
   "outputs": [],
   "source": [
    "def contains_enum_index(words, target):\n",
    "    \n",
    "    for index, word in enumerate(words):\n",
    "        if word.lower() == target.lower():\n",
    "            return index\n",
    "    \n",
    "    return -1  # Use -1 to indicate no index"
   ]
  },
  {
   "cell_type": "code",
   "execution_count": 20,
   "id": "34fdc884",
   "metadata": {},
   "outputs": [],
   "source": [
    "random_words = 'harry potter and the thing that does the magic thing'"
   ]
  },
  {
   "cell_type": "code",
   "execution_count": 21,
   "id": "44f1c22f",
   "metadata": {},
   "outputs": [
    {
     "data": {
      "text/plain": [
       "3"
      ]
     },
     "execution_count": 21,
     "metadata": {},
     "output_type": "execute_result"
    }
   ],
   "source": [
    "contains_enum_index(random_words.split(), 'the')"
   ]
  },
  {
   "cell_type": "code",
   "execution_count": 22,
   "id": "f3b1dc64",
   "metadata": {},
   "outputs": [
    {
     "data": {
      "text/plain": [
       "4"
      ]
     },
     "execution_count": 22,
     "metadata": {},
     "output_type": "execute_result"
    }
   ],
   "source": [
    "contains_enum_index(book, 'Goblet')"
   ]
  },
  {
   "cell_type": "code",
   "execution_count": 26,
   "id": "d5d12432",
   "metadata": {},
   "outputs": [
    {
     "data": {
      "text/plain": [
       "-1"
      ]
     },
     "execution_count": 26,
     "metadata": {},
     "output_type": "execute_result"
    }
   ],
   "source": [
    "contains_enum_index(book, 'Thor')"
   ]
  },
  {
   "cell_type": "code",
   "execution_count": 35,
   "id": "6b4d3116",
   "metadata": {},
   "outputs": [],
   "source": [
    "def binary_search(num_array, target):\n",
    "    start = 0 \n",
    "    end   = len(num_array) - 1                                             \n",
    "\n",
    "    while start <= end:\n",
    "        midpoint = (start + end) // 2\n",
    "        middle   = num_array[midpoint]\n",
    "\n",
    "        print( \"num_array[\" + f'{midpoint}' + \"] = \" + f'{middle}' )              # Prints the current index\n",
    "        \n",
    "        if middle == target:         # Base case (found target)\n",
    "            return True\n",
    "        \n",
    "        if middle > target:          # Go left\n",
    "            end   = midpoint - 1 \n",
    "        else:                        # Go right\n",
    "            start = midpoint + 1 \n",
    "\n",
    "    return False"
   ]
  },
  {
   "cell_type": "code",
   "execution_count": 36,
   "id": "f1c50325",
   "metadata": {},
   "outputs": [
    {
     "name": "stdout",
     "output_type": "stream",
     "text": [
      "num_array[3] = 28\n",
      "num_array[1] = 14\n"
     ]
    },
    {
     "data": {
      "text/plain": [
       "True"
      ]
     },
     "execution_count": 36,
     "metadata": {},
     "output_type": "execute_result"
    }
   ],
   "source": [
    "num_array = [3, 14, 22, 28, 34, 42, 47]\n",
    "binary_search( num_array, 14 )"
   ]
  },
  {
   "cell_type": "code",
   "execution_count": 38,
   "id": "afacc676",
   "metadata": {},
   "outputs": [
    {
     "name": "stdout",
     "output_type": "stream",
     "text": [
      "num_array[3] = 28\n",
      "num_array[5] = 42\n",
      "num_array[4] = 34\n"
     ]
    },
    {
     "data": {
      "text/plain": [
       "True"
      ]
     },
     "execution_count": 38,
     "metadata": {},
     "output_type": "execute_result"
    }
   ],
   "source": [
    "binary_search( num_array, 34 )"
   ]
  },
  {
   "cell_type": "code",
   "execution_count": 39,
   "id": "dcea2581",
   "metadata": {},
   "outputs": [
    {
     "name": "stdout",
     "output_type": "stream",
     "text": [
      "num_array[3] = 28\n",
      "num_array[1] = 14\n",
      "num_array[0] = 3\n"
     ]
    },
    {
     "data": {
      "text/plain": [
       "False"
      ]
     },
     "execution_count": 39,
     "metadata": {},
     "output_type": "execute_result"
    }
   ],
   "source": [
    "binary_search( num_array, 2 )"
   ]
  },
  {
   "attachments": {},
   "cell_type": "markdown",
   "id": "a99dfe30",
   "metadata": {},
   "source": [
    "### In-Class Coding Opportunity\n",
    "\n",
    "We will code a Selection Sort Algorithm\n",
    "\n",
    "<ol>\n",
    "    <li>Search for the smallest element in the unsorted portion of the list</li>\n",
    "    <li>Swap the smallest element with the first element in the unsorted portion of the list</li>\n",
    "    <li>Repeat process on remaining unsorted portion of the list</li>\n",
    "</ol>"
   ]
  },
  {
   "cell_type": "code",
   "execution_count": 63,
   "id": "1e276138",
   "metadata": {},
   "outputs": [],
   "source": [
    "def selection_sort(array_to_sort):\n",
    "    \n",
    "    # Repeat process on smaller and smaller portions of the unsorted list\n",
    "    for first in range(0, len(array_to_sort)):\n",
    "        smallest = first\n",
    "\n",
    "        # Search for the smallest element in the unsorted portion of the list\n",
    "        for current in range(first, len(array_to_sort)):\n",
    "            if array_to_sort[current] < array_to_sort[smallest]:\n",
    "                smallest = current\n",
    "\n",
    "        # Swap the smallest element with the first element in the unsorted portion of the list\n",
    "        temp = array_to_sort[ first ]\n",
    "        array_to_sort[ first ] = array_to_sort[ smallest ]\n",
    "        array_to_sort[ smallest ] = temp"
   ]
  },
  {
   "cell_type": "code",
   "execution_count": 64,
   "id": "7b027ef3",
   "metadata": {},
   "outputs": [
    {
     "name": "stdout",
     "output_type": "stream",
     "text": [
      "[0, 1, 2, 3, 5, 7, 10, 11]\n"
     ]
    }
   ],
   "source": [
    "int_array = [10, 7, 5, 3, 0, 2, 1, 11]\n",
    "selection_sort( int_array )\n",
    "print( int_array )"
   ]
  },
  {
   "cell_type": "markdown",
   "id": "8a7ee6b7",
   "metadata": {},
   "source": [
    "#### Merge Sort"
   ]
  },
  {
   "cell_type": "code",
   "execution_count": 97,
   "id": "864d44d3",
   "metadata": {},
   "outputs": [],
   "source": [
    "def merge(left, right):\n",
    "    merged = []\n",
    "    \n",
    "    while left or right:\n",
    "        if not left:  # If the left array \n",
    "            merged.append(right.pop(0))\n",
    "        elif not right:\n",
    "            merged.append(left.pop(0))\n",
    "        elif left[0] <= right[0]:\n",
    "            merged.append(left.pop(0))\n",
    "        else:\n",
    "            merged.append(right.pop(0))\n",
    "    \n",
    "    return merged"
   ]
  },
  {
   "cell_type": "code",
   "execution_count": 105,
   "id": "e957db93",
   "metadata": {},
   "outputs": [],
   "source": [
    "def merge_sort(numbers):\n",
    "    # Base case\n",
    "    if len(numbers) <= 1:\n",
    "        return numbers\n",
    "    \n",
    "    # Divide\n",
    "    middle = len(numbers) // 2\n",
    "    left   = numbers[:middle]\n",
    "    right  = numbers[middle:]\n",
    "    \n",
    "    # Print the divide\n",
    "    print( 'Divide in merge_sort: Middle = ' + f'{middle}' + ', left = ' + f'{left}' + ', right = ' + f'{right}')\n",
    "    \n",
    "    # Conquer\n",
    "    left   = merge_sort(left)\n",
    "    right  = merge_sort(right)\n",
    "    \n",
    "    print( 'Conquer in merge_sort: left = ' + f'{left}' + ', right = ' + f'{right}')\n",
    "    \n",
    "    # Combine\n",
    "    return merge(left, right)"
   ]
  },
  {
   "cell_type": "code",
   "execution_count": 106,
   "id": "25636179",
   "metadata": {},
   "outputs": [
    {
     "name": "stdout",
     "output_type": "stream",
     "text": [
      "Divide in merge_sort: Middle = 4, left = [10, 7, 5, 3], right = [0, 2, 1, 11]\n",
      "Divide in merge_sort: Middle = 2, left = [10, 7], right = [5, 3]\n",
      "Divide in merge_sort: Middle = 1, left = [10], right = [7]\n",
      "Conquer in merge_sort: left = [10], right = [7]\n",
      "Divide in merge_sort: Middle = 1, left = [5], right = [3]\n",
      "Conquer in merge_sort: left = [5], right = [3]\n",
      "Conquer in merge_sort: left = [7, 10], right = [3, 5]\n",
      "Divide in merge_sort: Middle = 2, left = [0, 2], right = [1, 11]\n",
      "Divide in merge_sort: Middle = 1, left = [0], right = [2]\n",
      "Conquer in merge_sort: left = [0], right = [2]\n",
      "Divide in merge_sort: Middle = 1, left = [1], right = [11]\n",
      "Conquer in merge_sort: left = [1], right = [11]\n",
      "Conquer in merge_sort: left = [0, 2], right = [1, 11]\n",
      "Conquer in merge_sort: left = [3, 5, 7, 10], right = [0, 1, 2, 11]\n",
      "[0, 1, 2, 3, 5, 7, 10, 11]\n"
     ]
    }
   ],
   "source": [
    "int_array = [10, 7, 5, 3, 0, 2, 1, 11]\n",
    "sorted_array = merge_sort( int_array )\n",
    "print( sorted_array )"
   ]
  },
  {
   "cell_type": "markdown",
   "id": "030a0ea1",
   "metadata": {},
   "source": [
    "### Comparing Selection Sort and Merge Sort"
   ]
  },
  {
   "cell_type": "code",
   "execution_count": 115,
   "id": "2277e5b1",
   "metadata": {},
   "outputs": [],
   "source": [
    "poem = '''\n",
    "’Twas brillig, and the slithy toves\n",
    "      Did gyre and gimble in the wabe:\n",
    "All mimsy were the borogoves,\n",
    "      And the mome raths outgrabe.\n",
    "\n",
    "“Beware the Jabberwock, my son!\n",
    "      The jaws that bite, the claws that catch!\n",
    "Beware the Jubjub bird, and shun\n",
    "      The frumious Bandersnatch!”\n",
    "\n",
    "He took his vorpal sword in hand;\n",
    "      Long time the manxome foe he sought—\n",
    "So rested he by the Tumtum tree\n",
    "      And stood awhile in thought.\n",
    "\n",
    "And, as in uffish thought he stood,\n",
    "      The Jabberwock, with eyes of flame,\n",
    "Came whiffling through the tulgey wood,\n",
    "      And burbled as it came!\n",
    "\n",
    "One, two! One, two! And through and through\n",
    "      The vorpal blade went snicker-snack!\n",
    "He left it dead, and with its head\n",
    "      He went galumphing back.\n",
    "\n",
    "“And hast thou slain the Jabberwock?\n",
    "      Come to my arms, my beamish boy!\n",
    "O frabjous day! Callooh! Callay!”\n",
    "      He chortled in his joy.\n",
    "\n",
    "’Twas brillig, and the slithy toves\n",
    "      Did gyre and gimble in the wabe:\n",
    "All mimsy were the borogoves,\n",
    "      And the mome raths outgrabe.\n",
    "'''"
   ]
  },
  {
   "cell_type": "code",
   "execution_count": 116,
   "id": "4956a65d",
   "metadata": {},
   "outputs": [
    {
     "name": "stdout",
     "output_type": "stream",
     "text": [
      "1.69 ms ± 42.4 µs per loop (mean ± std. dev. of 7 runs, 1,000 loops each)\n"
     ]
    }
   ],
   "source": [
    "# %timeit runs the code 7 times with 1,000 loops to get a benchmark\n",
    "%timeit selection_sort(poem.split())"
   ]
  },
  {
   "cell_type": "code",
   "execution_count": 110,
   "id": "92100ad8",
   "metadata": {},
   "outputs": [],
   "source": [
    "def merge_sort_no_print(numbers):\n",
    "    # Base case\n",
    "    if len(numbers) <= 1:\n",
    "        return numbers\n",
    "    \n",
    "    # Divide\n",
    "    middle = len(numbers) // 2\n",
    "    left   = numbers[:middle]\n",
    "    right  = numbers[middle:] \n",
    "    \n",
    "    # Conquer\n",
    "    left   = merge_sort_no_print(left)\n",
    "    right  = merge_sort_no_print(right)\n",
    "    \n",
    "    # Combine\n",
    "    return merge(left, right)"
   ]
  },
  {
   "cell_type": "code",
   "execution_count": 112,
   "id": "a030f323",
   "metadata": {},
   "outputs": [
    {
     "name": "stdout",
     "output_type": "stream",
     "text": [
      "671 µs ± 32.9 µs per loop (mean ± std. dev. of 7 runs, 1,000 loops each)\n"
     ]
    }
   ],
   "source": [
    "%timeit merge_sort_no_print(poem.split())"
   ]
  }
 ],
 "metadata": {
  "kernelspec": {
   "display_name": "Python 3 (ipykernel)",
   "language": "python",
   "name": "python3"
  },
  "language_info": {
   "codemirror_mode": {
    "name": "ipython",
    "version": 3
   },
   "file_extension": ".py",
   "mimetype": "text/x-python",
   "name": "python",
   "nbconvert_exporter": "python",
   "pygments_lexer": "ipython3",
   "version": "3.9.12"
  }
 },
 "nbformat": 4,
 "nbformat_minor": 5
}
