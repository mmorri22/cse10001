{
 "cells": [
  {
   "cell_type": "markdown",
   "id": "613501e0",
   "metadata": {},
   "source": [
    "### This is the Notebook for Lecture 08\n",
    "\n",
    "In this lecture, you will learn\n",
    "<ol>\n",
    "    <li>The process of implementing an <b>Algorithm</b>\n",
    "</ol>\n",
    "    "
   ]
  },
  {
   "attachments": {},
   "cell_type": "markdown",
   "id": "85632b84",
   "metadata": {},
   "source": [
    "#### In-Class Coding Opportunity\n",
    "\n",
    "Given a list words of N items and a target parameter, determine whether or not the list words contains the target parameter."
   ]
  },
  {
   "cell_type": "code",
   "execution_count": 1,
   "id": "be917982",
   "metadata": {},
   "outputs": [],
   "source": [
    "book = ['harry', 'potter', 'and', 'the', 'goblet', 'of', 'fire']"
   ]
  },
  {
   "cell_type": "code",
   "execution_count": 10,
   "id": "864921b6",
   "metadata": {},
   "outputs": [],
   "source": [
    "# Returns whether or not target is contained in words\n",
    "def contains_target(words, target):\n",
    "    for word in words:\n",
    "        if word == target:\n",
    "            return True\n",
    "    return False"
   ]
  },
  {
   "cell_type": "code",
   "execution_count": 12,
   "id": "4a52dc83",
   "metadata": {
    "scrolled": true
   },
   "outputs": [
    {
     "data": {
      "text/plain": [
       "True"
      ]
     },
     "execution_count": 12,
     "metadata": {},
     "output_type": "execute_result"
    }
   ],
   "source": [
    "contains_target(book, 'harry')"
   ]
  },
  {
   "cell_type": "code",
   "execution_count": 13,
   "id": "04351504",
   "metadata": {},
   "outputs": [
    {
     "data": {
      "text/plain": [
       "False"
      ]
     },
     "execution_count": 13,
     "metadata": {},
     "output_type": "execute_result"
    }
   ],
   "source": [
    "contains_target(book, 'Thor')"
   ]
  },
  {
   "cell_type": "code",
   "execution_count": 14,
   "id": "a29febff",
   "metadata": {},
   "outputs": [
    {
     "data": {
      "text/plain": [
       "False"
      ]
     },
     "execution_count": 14,
     "metadata": {},
     "output_type": "execute_result"
    }
   ],
   "source": [
    "contains_target(book, 'Harry')"
   ]
  },
  {
   "cell_type": "markdown",
   "id": "5101ce30",
   "metadata": {},
   "source": [
    "### lower()\n",
    "\n",
    "Used to convert uppercase ASCII to lowercase to make == comparisons valid"
   ]
  },
  {
   "cell_type": "code",
   "execution_count": 16,
   "id": "ed51dad4",
   "metadata": {},
   "outputs": [],
   "source": [
    "def contains_target_lower(words, target):\n",
    "    \n",
    "    for word in words:\n",
    "        if word.lower() == target.lower():\n",
    "            return True\n",
    "    \n",
    "    return False"
   ]
  },
  {
   "cell_type": "code",
   "execution_count": 17,
   "id": "5853341a",
   "metadata": {},
   "outputs": [
    {
     "data": {
      "text/plain": [
       "True"
      ]
     },
     "execution_count": 17,
     "metadata": {},
     "output_type": "execute_result"
    }
   ],
   "source": [
    "contains_target_lower(book, 'Harry')"
   ]
  },
  {
   "cell_type": "markdown",
   "id": "c0cd8e25",
   "metadata": {},
   "source": [
    "### Enumerate\n",
    "\n",
    "The enumerate method for a list of words creates an index and a string\n",
    "Here, we will create index, word for each enumerated word"
   ]
  },
  {
   "cell_type": "code",
   "execution_count": 25,
   "id": "17de22fe",
   "metadata": {},
   "outputs": [],
   "source": [
    "def contains_enum_index(words, target):\n",
    "    \n",
    "    for index, word in enumerate(words):\n",
    "        if word.lower() == target.lower():\n",
    "            return index\n",
    "    \n",
    "    return -1  # Use -1 to indicate no index"
   ]
  },
  {
   "cell_type": "code",
   "execution_count": 20,
   "id": "40d5e409",
   "metadata": {},
   "outputs": [],
   "source": [
    "random_words = 'harry potter and the thing that does the magic thing'"
   ]
  },
  {
   "cell_type": "code",
   "execution_count": 21,
   "id": "7160c60c",
   "metadata": {},
   "outputs": [
    {
     "data": {
      "text/plain": [
       "3"
      ]
     },
     "execution_count": 21,
     "metadata": {},
     "output_type": "execute_result"
    }
   ],
   "source": [
    "contains_enum_index(random_words.split(), 'the')"
   ]
  },
  {
   "cell_type": "code",
   "execution_count": 22,
   "id": "7358b78e",
   "metadata": {},
   "outputs": [
    {
     "data": {
      "text/plain": [
       "4"
      ]
     },
     "execution_count": 22,
     "metadata": {},
     "output_type": "execute_result"
    }
   ],
   "source": [
    "contains_enum_index(book, 'Goblet')"
   ]
  },
  {
   "cell_type": "code",
   "execution_count": 26,
   "id": "8421f32d",
   "metadata": {},
   "outputs": [
    {
     "data": {
      "text/plain": [
       "-1"
      ]
     },
     "execution_count": 26,
     "metadata": {},
     "output_type": "execute_result"
    }
   ],
   "source": [
    "contains_enum_index(book, 'Thor')"
   ]
  },
  {
   "cell_type": "code",
   "execution_count": 35,
   "id": "5ef4cec4",
   "metadata": {},
   "outputs": [],
   "source": [
    "def binary_search(num_array, target):\n",
    "    start = 0 \n",
    "    end   = len(num_array) - 1                                             \n",
    "\n",
    "    while start <= end:\n",
    "        midpoint = (start + end) // 2\n",
    "        middle   = num_array[midpoint]\n",
    "\n",
    "        print( \"num_array[\" + f'{midpoint}' + \"] = \" + f'{middle}' )              # Prints the current index\n",
    "        \n",
    "        if middle == target:         # Base case (found target)\n",
    "            return True\n",
    "        \n",
    "        if middle > target:          # Go left\n",
    "            end   = midpoint - 1 \n",
    "        else:                        # Go right\n",
    "            start = midpoint + 1 \n",
    "\n",
    "    return False"
   ]
  },
  {
   "cell_type": "code",
   "execution_count": 36,
   "id": "4e8aaf65",
   "metadata": {},
   "outputs": [
    {
     "name": "stdout",
     "output_type": "stream",
     "text": [
      "num_array[3] = 28\n",
      "num_array[1] = 14\n"
     ]
    },
    {
     "data": {
      "text/plain": [
       "True"
      ]
     },
     "execution_count": 36,
     "metadata": {},
     "output_type": "execute_result"
    }
   ],
   "source": [
    "num_array = [3, 14, 22, 28, 34, 42, 47]\n",
    "binary_search( num_array, 14 )"
   ]
  },
  {
   "cell_type": "code",
   "execution_count": 38,
   "id": "b21644a4",
   "metadata": {},
   "outputs": [
    {
     "name": "stdout",
     "output_type": "stream",
     "text": [
      "num_array[3] = 28\n",
      "num_array[5] = 42\n",
      "num_array[4] = 34\n"
     ]
    },
    {
     "data": {
      "text/plain": [
       "True"
      ]
     },
     "execution_count": 38,
     "metadata": {},
     "output_type": "execute_result"
    }
   ],
   "source": [
    "binary_search( num_array, 34 )"
   ]
  },
  {
   "cell_type": "code",
   "execution_count": 39,
   "id": "5930441f",
   "metadata": {},
   "outputs": [
    {
     "name": "stdout",
     "output_type": "stream",
     "text": [
      "num_array[3] = 28\n",
      "num_array[1] = 14\n",
      "num_array[0] = 3\n"
     ]
    },
    {
     "data": {
      "text/plain": [
       "False"
      ]
     },
     "execution_count": 39,
     "metadata": {},
     "output_type": "execute_result"
    }
   ],
   "source": [
    "binary_search( num_array, 2 )"
   ]
  },
  {
   "attachments": {},
   "cell_type": "markdown",
   "id": "4f9e5140",
   "metadata": {},
   "source": [
    "### In-Class Coding Opportunity\n",
    "\n",
    "We will code a Selection Sort Algorithm\n",
    "\n",
    "<ol>\n",
    "    <li>Search for the smallest element in the unsorted portion of the list</li>\n",
    "    <li>Swap the smallest element with the first element in the unsorted portion of the list</li>\n",
    "    <li>Repeat process on remaining unsorted portion of the list</li>\n",
    "</ol>"
   ]
  },
  {
   "cell_type": "code",
   "execution_count": 63,
   "id": "915e4e53",
   "metadata": {},
   "outputs": [],
   "source": [
    "def selection_sort(array_to_sort):\n",
    "    \n",
    "    # Repeat process on smaller and smaller portions of the unsorted list\n",
    "    for first in range(0, len(array_to_sort)):\n",
    "        smallest = first\n",
    "\n",
    "        # Search for the smallest element in the unsorted portion of the list\n",
    "        for current in range(first, len(array_to_sort)):\n",
    "            if array_to_sort[current] < array_to_sort[smallest]:\n",
    "                smallest = current\n",
    "\n",
    "        # Swap the smallest element with the first element in the unsorted portion of the list\n",
    "        temp = array_to_sort[ first ]\n",
    "        array_to_sort[ first ] = array_to_sort[ smallest ]\n",
    "        array_to_sort[ smallest ] = temp"
   ]
  },
  {
   "cell_type": "code",
   "execution_count": 64,
   "id": "034420d8",
   "metadata": {},
   "outputs": [
    {
     "name": "stdout",
     "output_type": "stream",
     "text": [
      "[0, 1, 2, 3, 5, 7, 10, 11]\n"
     ]
    }
   ],
   "source": [
    "int_array = [10, 7, 5, 3, 0, 2, 1, 11]\n",
    "selection_sort( int_array )\n",
    "print( int_array )"
   ]
  },
  {
   "cell_type": "markdown",
   "id": "88baea4d",
   "metadata": {},
   "source": [
    "#### Merge Sort"
   ]
  },
  {
   "cell_type": "code",
   "execution_count": 97,
   "id": "081839a8",
   "metadata": {},
   "outputs": [],
   "source": [
    "def merge(left, right):\n",
    "    merged = []\n",
    "    \n",
    "    while left or right:\n",
    "        if not left:  # If the left array \n",
    "            merged.append(right.pop(0))\n",
    "        elif not right:\n",
    "            merged.append(left.pop(0))\n",
    "        elif left[0] <= right[0]:\n",
    "            merged.append(left.pop(0))\n",
    "        else:\n",
    "            merged.append(right.pop(0))\n",
    "    \n",
    "    return merged"
   ]
  },
  {
   "cell_type": "code",
   "execution_count": 105,
   "id": "f1e60f5b",
   "metadata": {},
   "outputs": [],
   "source": [
    "def merge_sort(numbers):\n",
    "    # Base case\n",
    "    if len(numbers) <= 1:\n",
    "        return numbers\n",
    "    \n",
    "    # Divide\n",
    "    middle = len(numbers) // 2\n",
    "    left   = numbers[:middle]\n",
    "    right  = numbers[middle:]\n",
    "    \n",
    "    # Print the divide\n",
    "    print( 'Divide in merge_sort: Middle = ' + f'{middle}' + ', left = ' + f'{left}' + ', right = ' + f'{right}')\n",
    "    \n",
    "    # Conquer\n",
    "    left   = merge_sort(left)\n",
    "    right  = merge_sort(right)\n",
    "    \n",
    "    print( 'Conquer in merge_sort: left = ' + f'{left}' + ', right = ' + f'{right}')\n",
    "    \n",
    "    # Combine\n",
    "    return merge(left, right)"
   ]
  },
  {
   "cell_type": "code",
   "execution_count": 106,
   "id": "79f76f08",
   "metadata": {},
   "outputs": [
    {
     "name": "stdout",
     "output_type": "stream",
     "text": [
      "Divide in merge_sort: Middle = 4, left = [10, 7, 5, 3], right = [0, 2, 1, 11]\n",
      "Divide in merge_sort: Middle = 2, left = [10, 7], right = [5, 3]\n",
      "Divide in merge_sort: Middle = 1, left = [10], right = [7]\n",
      "Conquer in merge_sort: left = [10], right = [7]\n",
      "Divide in merge_sort: Middle = 1, left = [5], right = [3]\n",
      "Conquer in merge_sort: left = [5], right = [3]\n",
      "Conquer in merge_sort: left = [7, 10], right = [3, 5]\n",
      "Divide in merge_sort: Middle = 2, left = [0, 2], right = [1, 11]\n",
      "Divide in merge_sort: Middle = 1, left = [0], right = [2]\n",
      "Conquer in merge_sort: left = [0], right = [2]\n",
      "Divide in merge_sort: Middle = 1, left = [1], right = [11]\n",
      "Conquer in merge_sort: left = [1], right = [11]\n",
      "Conquer in merge_sort: left = [0, 2], right = [1, 11]\n",
      "Conquer in merge_sort: left = [3, 5, 7, 10], right = [0, 1, 2, 11]\n",
      "[0, 1, 2, 3, 5, 7, 10, 11]\n"
     ]
    }
   ],
   "source": [
    "int_array = [10, 7, 5, 3, 0, 2, 1, 11]\n",
    "sorted_array = merge_sort( int_array )\n",
    "print( sorted_array )"
   ]
  },
  {
   "cell_type": "code",
   "execution_count": null,
   "id": "f089504a",
   "metadata": {},
   "outputs": [],
   "source": []
  }
 ],
 "metadata": {
  "kernelspec": {
   "display_name": "Python 3 (ipykernel)",
   "language": "python",
   "name": "python3"
  },
  "language_info": {
   "codemirror_mode": {
    "name": "ipython",
    "version": 3
   },
   "file_extension": ".py",
   "mimetype": "text/x-python",
   "name": "python",
   "nbconvert_exporter": "python",
   "pygments_lexer": "ipython3",
   "version": "3.9.12"
  }
 },
 "nbformat": 4,
 "nbformat_minor": 5
}
