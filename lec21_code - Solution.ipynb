{
 "cells": [
  {
   "cell_type": "markdown",
   "id": "eb2f1fdd",
   "metadata": {},
   "source": [
    "## This is the Notebook for Lecture 21\n",
    "\n",
    "In this lecture, we will learn techniques for using Tornado for running HTML in Pythin. This will include:\n",
    "\n",
    "<ol>\n",
    "    <li>Create HTML Advanced Interactive Forms</li>\n",
    "    <li>Reviewing the Sample Project Page</li>\n",
    "</ol>"
   ]
  },
  {
   "cell_type": "markdown",
   "id": "500d80a1",
   "metadata": {},
   "source": [
    "## Advanced Form Processing\n",
    "\n",
    "To read input from the user, we must create a form where each input element has a name and then retrieve the value of each element by using the <code><a href=\"https://www.tornadoweb.org/en/stable/_modules/tornado/web.html#RequestHandler.get_argument\">get_argument</a></code> method.\n",
    "\n",
    "For this to work, we will download and observe the HTML code for two HTML files. Be sure to put them in the same folder as this Jupyter Notebook:<br />\n",
    "<ol>\n",
    "    <li><a href=\"https://github.com/mmorri22/cse10001/blob/main/index.html\">index.html</a></li>\n",
    "    <li><a href=\"https://github.com/mmorri22/cse10001/blob/main/poem.html\">poem.html</a></li>\n",
    "</ol>"
   ]
  },
  {
   "cell_type": "code",
   "execution_count": 2,
   "id": "f800276c",
   "metadata": {},
   "outputs": [],
   "source": [
    "# Click this to re-start\n",
    "\n",
    "# This will Re-import the tornado libraries you need for you\n",
    "import tornado.ioloop\n",
    "import tornado.web\n",
    "import tornado.httpserver\n",
    "import tornado.options\n",
    "\n",
    "# In-Class: Import from tornado options\n",
    "from tornado.options import define, options\n",
    "\n",
    "# This will define the global variables for you\n",
    "PORT_9004 = 9004 \n",
    "\n",
    "# In-Class Now we will import os - Need this for the file hierarchy\n",
    "import os\n",
    "\n",
    "# In-Class Obtain the current working directory\n",
    "cwd = os.getcwd()\n",
    "\n",
    "# Define the function stopTornado() so you can stop the kernel and continue to test\n",
    "def stopTornado():\n",
    "    tornado.ioloop.IOLoop.instance().stop()"
   ]
  },
  {
   "cell_type": "code",
   "execution_count": 3,
   "id": "a0c6bb6c",
   "metadata": {},
   "outputs": [],
   "source": [
    "class IndexHandler(tornado.web.RequestHandler):\n",
    "    \n",
    "    # In-Class Code: Basic Rendering of HTML Code\n",
    "    def get(self):\n",
    "        self.render('index.html')\n",
    "\n",
    "class PoemPageHandler(tornado.web.RequestHandler):\n",
    "    \n",
    "    # In-Class Code to use get_argument for mapping to form\n",
    "    def post(self):\n",
    "        noun1 = self.get_argument('noun1')\n",
    "        noun2 = self.get_argument('noun2')\n",
    "        verb = self.get_argument('verb')\n",
    "        noun3 = self.get_argument('noun3')\n",
    "        \n",
    "        self.render('poem.html', roads=noun1, wood=noun2, made=verb, difference=noun3)\n",
    "\n",
    "# This will define the start_application you need to run the web page for you\n",
    "def start_poem_application( PORT, IndexHandler, PoemPageHandler ):\n",
    "\n",
    "    # In-Class Code to use templates fot HTML Expressions\n",
    "    Application = tornado.web.Application([\n",
    "        (r'/', IndexHandler),\n",
    "        (r'/poem', PoemPageHandler),\n",
    "        (r\"/(.*)\", tornado.web.StaticFileHandler, {\"path\": cwd})\n",
    "    ], template_path=cwd)\n",
    "    \n",
    "    # Don't forget this Professor!\n",
    "    Application.listen(PORT)"
   ]
  },
  {
   "cell_type": "code",
   "execution_count": 4,
   "id": "d6dd823f",
   "metadata": {},
   "outputs": [],
   "source": [
    "# Use PORT_9004 for the next link\n",
    "start_poem_application( PORT_9004, IndexHandler, PoemPageHandler )"
   ]
  },
  {
   "cell_type": "markdown",
   "id": "c08b5ae6",
   "metadata": {},
   "source": [
    "You will now be able to see the updated version at http://localhost:9004. It will render the <code>index.html</code> in the normal page. When you press the <strong>Submit</strong> button, you will see that it opens http://localhost:9004/poem, since that is what is used in the HTML and the Tornado form:\n",
    "<ol>\n",
    "    <li>In the Python code for Tornado: <code>(r'/poem', PoemPageHandler)</code></li>\n",
    "    <li>In the HTML code in <code>index.html</code> at line 6: <code>form method=\"post\" action=\"/poem\"</code></li>\n",
    "</ol>"
   ]
  },
  {
   "cell_type": "code",
   "execution_count": 1,
   "id": "28380343",
   "metadata": {},
   "outputs": [
    {
     "ename": "NameError",
     "evalue": "name 'stopTornado' is not defined",
     "output_type": "error",
     "traceback": [
      "\u001b[1;31m---------------------------------------------------------------------------\u001b[0m",
      "\u001b[1;31mNameError\u001b[0m                                 Traceback (most recent call last)",
      "\u001b[1;32m~\\AppData\\Local\\Temp\\ipykernel_4948\\3743455045.py\u001b[0m in \u001b[0;36m<module>\u001b[1;34m\u001b[0m\n\u001b[0;32m      1\u001b[0m \u001b[1;31m# stops the tornado every time and resets\u001b[0m\u001b[1;33m\u001b[0m\u001b[1;33m\u001b[0m\u001b[0m\n\u001b[1;32m----> 2\u001b[1;33m \u001b[0mstopTornado\u001b[0m\u001b[1;33m(\u001b[0m\u001b[1;33m)\u001b[0m\u001b[1;33m\u001b[0m\u001b[1;33m\u001b[0m\u001b[0m\n\u001b[0m",
      "\u001b[1;31mNameError\u001b[0m: name 'stopTornado' is not defined"
     ]
    }
   ],
   "source": [
    "# stops the tornado every time and resets\n",
    "stopTornado()"
   ]
  },
  {
   "cell_type": "code",
   "execution_count": null,
   "id": "878721e5",
   "metadata": {},
   "outputs": [],
   "source": []
  }
 ],
 "metadata": {
  "kernelspec": {
   "display_name": "Python 3 (ipykernel)",
   "language": "python",
   "name": "python3"
  },
  "language_info": {
   "codemirror_mode": {
    "name": "ipython",
    "version": 3
   },
   "file_extension": ".py",
   "mimetype": "text/x-python",
   "name": "python",
   "nbconvert_exporter": "python",
   "pygments_lexer": "ipython3",
   "version": "3.9.12"
  }
 },
 "nbformat": 4,
 "nbformat_minor": 5
}
