{
 "cells": [
  {
   "cell_type": "markdown",
   "id": "9beef6eb",
   "metadata": {},
   "source": [
    "# Reading 12: Part 2 - Logic Blocks and Advanced Logic Circuits\n",
    "\n",
    "In order to properly simulate the output of a circuit, you will need to develop <b>logic blocks</b> that build upon each other. This approach is the hardware equivalent of using <b>functions</b> in software design!"
   ]
  },
  {
   "cell_type": "code",
   "execution_count": 1,
   "id": "24a26dd7",
   "metadata": {},
   "outputs": [],
   "source": [
    "# Like in Part 1, we will start by imporing pyrtl\n",
    "from pyrtl import *\n",
    "import pyrtl"
   ]
  },
  {
   "cell_type": "markdown",
   "id": "0f452d3e",
   "metadata": {},
   "source": [
    "A <b><a href = \"https://pyrtl.readthedocs.io/en/latest/blocks.html#pyrtl.core.Block\" target=\"_blank\">Block</a></b> in PyRTL is the class that stores a netlist and provides basic access and error checking members. Each block has well-defined <b>inputs and outputs</b>, and contains both the <b>basic logic elements</b> and references to the <b>wires and memories</b> that <i>connect them together</i>."
   ]
  },
  {
   "cell_type": "markdown",
   "id": "69cbf3b3",
   "metadata": {},
   "source": [
    "#### Multiple Logic Structures\n",
    "\n",
    "Let's say we want to develop a <b>three input AND gate</b>, where the output is a <b>logic 1</b> only when <i>all three inputs are true</i>. We can design a <b>function</b> that performs this task for us.<br />\n",
    "\n",
    "| A | B | C | out |\n",
    "|---|---|---|---|\n",
    "|0|0|0|0|\n",
    "|0|0|1|0|\n",
    "|0|1|0|0|\n",
    "|0|1|1|0|\n",
    "|1|0|0|0|\n",
    "|1|0|1|0|\n",
    "|1|1|0|0|\n",
    "|1|1|1|1|"
   ]
  },
  {
   "cell_type": "code",
   "execution_count": 2,
   "id": "500b1b38",
   "metadata": {},
   "outputs": [],
   "source": [
    "def three_input_and( a_input, b_input, c_input ):\n",
    "    \n",
    "    # Security to ensure the lengths passed to the block are 1\n",
    "    assert len(a_input) == len(b_input) == len(c_input) == 1  \n",
    "    \n",
    "    # Create the wire out and put a & b & c on that \n",
    "    y_output = a_input & b_input & c_input\n",
    "\n",
    "    # Use assert to ensure that the signals are one bit\n",
    "    return y_output"
   ]
  },
  {
   "cell_type": "code",
   "execution_count": 3,
   "id": "c0990a46",
   "metadata": {
    "scrolled": true
   },
   "outputs": [],
   "source": [
    "def three_input_and_simulate():\n",
    "\n",
    "    # Step 1 - Reset the working block\n",
    "    pyrtl.reset_working_block()\n",
    "\n",
    "    # Step 2 - Create the input and ouput wires\n",
    "    a, b, c = pyrtl.Input(1, 'a'), pyrtl.Input(1, 'b'), pyrtl.Input(1, 'c')\n",
    "    out = pyrtl.Output(1, 'out')\n",
    "\n",
    "    # Step 3 - Save to an intermediate value using the\n",
    "    out_inter = three_input_and( a, b, c )\n",
    "    \n",
    "    # Step 3b - Connect them using the three_input_or function\n",
    "    out <<= out_inter\n",
    "    \n",
    "    # Step 4 - Simulate the design\n",
    "    sim = pyrtl.Simulation()\n",
    "    \n",
    "    # Step 5 - Create lists for the inputs\n",
    "    a_inputs = [0,0,0,0,1,1,1,1]\n",
    "    b_inputs = [0,0,1,1,0,0,1,1]\n",
    "    c_inputs = [0,1,0,1,0,1,0,1]\n",
    "    \n",
    "    # Step 6 - Loop through and simuluate\n",
    "    for value in range(0, 8):\n",
    "\n",
    "        sim.step({\n",
    "            'a' : a_inputs[value],\n",
    "            'b' : b_inputs[value],\n",
    "            'c' : c_inputs[value] \n",
    "        })\n",
    "    \n",
    "    # Render the trace\n",
    "    sim.tracer.render_trace()"
   ]
  },
  {
   "cell_type": "code",
   "execution_count": 4,
   "id": "e46bce50",
   "metadata": {},
   "outputs": [
    {
     "data": {
      "text/html": [
       "<script type=\"WaveDrom\">\n",
       "{\n",
       "  signal : [\n",
       "    { name: \"a\",  wave: \"0...1...\" },\n",
       "    { name: \"b\",  wave: \"0.1.0.1.\" },\n",
       "    { name: \"c\",  wave: \"01010101\" },\n",
       "    { name: \"out\",  wave: \"0......1\" },\n",
       "  ],\n",
       "  config: { hscale: 1 }\n",
       "}\n",
       "</script>\n"
      ],
      "text/plain": [
       "<IPython.core.display.HTML object>"
      ]
     },
     "metadata": {},
     "output_type": "display_data"
    },
    {
     "data": {
      "application/javascript": [
       "\n",
       "            $.when(\n",
       "            $.getScript(\"https://cdnjs.cloudflare.com/ajax/libs/wavedrom/1.6.2/skins/default.js\"),\n",
       "            $.getScript(\"https://cdnjs.cloudflare.com/ajax/libs/wavedrom/1.6.2/wavedrom.min.js\"),\n",
       "            $.Deferred(function( deferred ){\n",
       "                $( deferred.resolve );\n",
       "            })).done(function(){\n",
       "                WaveDrom.ProcessAll();\n",
       "            });"
      ],
      "text/plain": [
       "<IPython.core.display.Javascript object>"
      ]
     },
     "metadata": {},
     "output_type": "display_data"
    }
   ],
   "source": [
    "# Call the function\n",
    "three_input_and_simulate()"
   ]
  },
  {
   "cell_type": "markdown",
   "id": "88257ce7",
   "metadata": {},
   "source": [
    "#### 3-input OR gate\n",
    "\n",
    "Now let's do the same with a 3-input OR gate, \n",
    "\n",
    "| A | B | C | out |\n",
    "|---|---|---|---|\n",
    "|0|0|0|0|\n",
    "|0|0|1|1|\n",
    "|0|1|0|1|\n",
    "|0|1|1|1|\n",
    "|1|0|0|1|\n",
    "|1|0|1|1|\n",
    "|1|1|0|1|\n",
    "|1|1|1|1|"
   ]
  },
  {
   "cell_type": "code",
   "execution_count": 5,
   "id": "9a3602b4",
   "metadata": {},
   "outputs": [],
   "source": [
    "def three_input_or( a_input, b_input, c_input ):\n",
    "    \n",
    "    # Security to ensure the lengths passed to the block are 1\n",
    "    assert len(a_input) == len(b_input) == len(c_input) == 1  \n",
    "    \n",
    "    # Create the wire out and put a | b | c on that \n",
    "    y_output = a_input | b_input | c_input\n",
    "\n",
    "    # Use assert to ensure that the signals are one bit\n",
    "    return y_output"
   ]
  },
  {
   "cell_type": "code",
   "execution_count": 6,
   "id": "b90d65e7",
   "metadata": {},
   "outputs": [],
   "source": [
    "def three_input_or_simulate():\n",
    "\n",
    "    # Step 1 - Reset the working block\n",
    "    pyrtl.reset_working_block()\n",
    "\n",
    "    # Step 2 - Create the input and ouput wires\n",
    "    a, b, c = pyrtl.Input(1, 'a'), pyrtl.Input(1, 'b'), pyrtl.Input(1, 'c')\n",
    "    out = pyrtl.Output(1, 'out')\n",
    "\n",
    "    # Step 3 - Save to an intermediate value using the\n",
    "    out_inter = three_input_or( a, b, c )\n",
    "    \n",
    "    # Step 3b - Connect them using the three_input_or function\n",
    "    out <<= out_inter\n",
    "    \n",
    "    # Step 4 - Simulate the design\n",
    "    sim = pyrtl.Simulation()\n",
    "    \n",
    "    # Step 5 - Create lists for the inputs\n",
    "    a_inputs = [0,0,0,0,1,1,1,1]\n",
    "    b_inputs = [0,0,1,1,0,0,1,1]\n",
    "    c_inputs = [0,1,0,1,0,1,0,1]\n",
    "    \n",
    "    # Step 6 - Loop through and simuluate\n",
    "    for value in range(0, 8):\n",
    "\n",
    "        sim.step({\n",
    "            'a' : a_inputs[value],\n",
    "            'b' : b_inputs[value],\n",
    "            'c' : c_inputs[value] \n",
    "        })\n",
    "    \n",
    "    # Render the trace\n",
    "    sim.tracer.render_trace()"
   ]
  },
  {
   "cell_type": "code",
   "execution_count": 7,
   "id": "e59f95f5",
   "metadata": {},
   "outputs": [
    {
     "data": {
      "text/html": [
       "<script type=\"WaveDrom\">\n",
       "{\n",
       "  signal : [\n",
       "    { name: \"a\",  wave: \"0...1...\" },\n",
       "    { name: \"b\",  wave: \"0.1.0.1.\" },\n",
       "    { name: \"c\",  wave: \"01010101\" },\n",
       "    { name: \"out\",  wave: \"01......\" },\n",
       "  ],\n",
       "  config: { hscale: 1 }\n",
       "}\n",
       "</script>\n"
      ],
      "text/plain": [
       "<IPython.core.display.HTML object>"
      ]
     },
     "metadata": {},
     "output_type": "display_data"
    },
    {
     "data": {
      "application/javascript": [
       "\n",
       "            $.when(\n",
       "            $.getScript(\"https://cdnjs.cloudflare.com/ajax/libs/wavedrom/1.6.2/skins/default.js\"),\n",
       "            $.getScript(\"https://cdnjs.cloudflare.com/ajax/libs/wavedrom/1.6.2/wavedrom.min.js\"),\n",
       "            $.Deferred(function( deferred ){\n",
       "                $( deferred.resolve );\n",
       "            })).done(function(){\n",
       "                WaveDrom.ProcessAll();\n",
       "            });"
      ],
      "text/plain": [
       "<IPython.core.display.Javascript object>"
      ]
     },
     "metadata": {},
     "output_type": "display_data"
    }
   ],
   "source": [
    "# Call the function\n",
    "three_input_or_simulate()"
   ]
  },
  {
   "cell_type": "markdown",
   "id": "73075f81",
   "metadata": {},
   "source": [
    "### Now we can combine them using a larger block and multiple outputs!"
   ]
  },
  {
   "cell_type": "code",
   "execution_count": 8,
   "id": "85863e75",
   "metadata": {},
   "outputs": [],
   "source": [
    "def three_input_and_or( a_input, b_input, c_input ):\n",
    "    \n",
    "    # Security to ensure the lengths passed to the block are 1\n",
    "    assert len(a_input) == len(b_input) == len(c_input) == 1  \n",
    "    \n",
    "    # Calculate the and output\n",
    "    output_and = three_input_and( a_input, b_input, c_input )\n",
    "\n",
    "    # Calculate the or output\n",
    "    output_or = three_input_or( a_input, b_input, c_input )\n",
    "    \n",
    "    # Return both\n",
    "    return output_and, output_or"
   ]
  },
  {
   "cell_type": "code",
   "execution_count": 9,
   "id": "80d5296b",
   "metadata": {},
   "outputs": [],
   "source": [
    "def three_input_and_or_simulate():\n",
    "    \n",
    "    # Step 1 - Reset the working block\n",
    "    pyrtl.reset_working_block()\n",
    "    \n",
    "    # Step 2 - Create the input and ouput wires\n",
    "    a, b, c = pyrtl.Input(1, 'a'), pyrtl.Input(1, 'b'), pyrtl.Input(1, 'c')\n",
    "    output_and = pyrtl.Output(1, 'output_and')\n",
    "    output_or = pyrtl.Output(1, 'output_or')\n",
    "    \n",
    "    # Step 3-a - Save to an intermediate value using the three_input_and_or function\n",
    "    inter_and, inter_or = three_input_and_or( a, b, c )\n",
    "    \n",
    "    # Step 3-b Assign to a wire using <<=\n",
    "    output_and <<= inter_and\n",
    "    output_or <<= inter_or\n",
    "    \n",
    "    # Step 4 - - Simulate the design\n",
    "    sim = pyrtl.Simulation()\n",
    "    \n",
    "    # Step 5 - Create lists for the inputs\n",
    "    a_inputs = [0,0,0,0,1,1,1,1]\n",
    "    b_inputs = [0,0,1,1,0,0,1,1]\n",
    "    c_inputs = [0,1,0,1,0,1,0,1]\n",
    "    \n",
    "    # Step 6 - Loop through and simuluate\n",
    "    for value in range(0, 8):\n",
    "\n",
    "        sim.step({\n",
    "            'a' : a_inputs[value],\n",
    "            'b' : b_inputs[value],\n",
    "            'c' : c_inputs[value] \n",
    "        })\n",
    "    \n",
    "    # Render the trace\n",
    "    sim.tracer.render_trace()"
   ]
  },
  {
   "cell_type": "code",
   "execution_count": 10,
   "id": "d6807006",
   "metadata": {},
   "outputs": [
    {
     "data": {
      "text/html": [
       "<script type=\"WaveDrom\">\n",
       "{\n",
       "  signal : [\n",
       "    { name: \"a\",  wave: \"0...1...\" },\n",
       "    { name: \"b\",  wave: \"0.1.0.1.\" },\n",
       "    { name: \"c\",  wave: \"01010101\" },\n",
       "    { name: \"output_and\",  wave: \"0......1\" },\n",
       "    { name: \"output_or\",  wave: \"01......\" },\n",
       "  ],\n",
       "  config: { hscale: 1 }\n",
       "}\n",
       "</script>\n"
      ],
      "text/plain": [
       "<IPython.core.display.HTML object>"
      ]
     },
     "metadata": {},
     "output_type": "display_data"
    },
    {
     "data": {
      "application/javascript": [
       "\n",
       "            $.when(\n",
       "            $.getScript(\"https://cdnjs.cloudflare.com/ajax/libs/wavedrom/1.6.2/skins/default.js\"),\n",
       "            $.getScript(\"https://cdnjs.cloudflare.com/ajax/libs/wavedrom/1.6.2/wavedrom.min.js\"),\n",
       "            $.Deferred(function( deferred ){\n",
       "                $( deferred.resolve );\n",
       "            })).done(function(){\n",
       "                WaveDrom.ProcessAll();\n",
       "            });"
      ],
      "text/plain": [
       "<IPython.core.display.Javascript object>"
      ]
     },
     "metadata": {},
     "output_type": "display_data"
    }
   ],
   "source": [
    "# Call the function\n",
    "three_input_and_or_simulate()"
   ]
  },
  {
   "cell_type": "markdown",
   "id": "60f21509",
   "metadata": {},
   "source": [
    "## Classic Advanced Circuit: Adder\n",
    "\n",
    "The circuit below perform binary addition. We briefly discussed binary addition in class this semester, and we will review in much greater detail this week. The result is <code>a + b</code>, with a <code>carry in</code> and <code>carry out</code> signal, just like the addition you learned in grade school! <br />\n",
    "\n",
    "The logic <b>equations</b> are as follows:\n",
    "<ol>\n",
    "    <li><code>Sum = a ^ b ^ Cin</code></li>\n",
    "    <li><code>Cout = (a & b) | (Cin & (a ^ b))</code></li>\n",
    "</ol>\n",
    "\n",
    "The <b>logic diagram</b> and <b>truth table</b> are presented below:\n",
    "\n",
    "<center><img src=\"https://upload.wikimedia.org/wikipedia/commons/thumb/6/69/Full-adder_logic_diagram.svg/400px-Full-adder_logic_diagram.svg.png\"></center> <br />\n",
    "\n",
    "| A | B | Cin | Sum | Cout |\n",
    "|---|---|---|---|---|\n",
    "|0|0|0|0|0|\n",
    "|0|0|1|1|0|\n",
    "|0|1|0|1|0|\n",
    "|0|1|1|0|1|\n",
    "|1|0|0|1|0|\n",
    "|1|0|1|0|1|\n",
    "|1|1|0|0|1|\n",
    "|1|1|1|1|1|"
   ]
  },
  {
   "cell_type": "code",
   "execution_count": 11,
   "id": "570a1506",
   "metadata": {},
   "outputs": [],
   "source": [
    "def sum( a, b, c_in ):\n",
    "    \n",
    "    # Security to ensure the lengths passed to the block are 1\n",
    "    assert len(a) == len(b) == len(c_in) == 1  \n",
    "    \n",
    "    # Return the sum\n",
    "    return a ^ b ^ c_in"
   ]
  },
  {
   "cell_type": "code",
   "execution_count": 12,
   "id": "b61451d6",
   "metadata": {},
   "outputs": [],
   "source": [
    "def carry_out( a, b, c_in ):\n",
    "    \n",
    "    # Security to ensure the lengths passed to the block are 1\n",
    "    assert len(a) == len(b) == len(c_in) == 1  \n",
    "    \n",
    "    # Return the carry out\n",
    "    return (a & b) | ( c_in & ( a ^ b ) )"
   ]
  },
  {
   "cell_type": "code",
   "execution_count": 13,
   "id": "9f1a83e7",
   "metadata": {},
   "outputs": [],
   "source": [
    "def full_adder( a, b, c_in ):\n",
    "    \n",
    "    # Security to ensure the lengths passed to the block are 1\n",
    "    assert len(a) == len(b) == len(c_in) == 1  \n",
    "    \n",
    "    # Calculate the sum\n",
    "    output_sum = sum( a, b, c_in )\n",
    "\n",
    "    # Calculate the carry out\n",
    "    output_c_out = carry_out( a, b, c_in )\n",
    "    \n",
    "    # Return both\n",
    "    return output_sum, output_c_out"
   ]
  },
  {
   "cell_type": "code",
   "execution_count": 16,
   "id": "3708973a",
   "metadata": {},
   "outputs": [],
   "source": [
    "def full_adder_simulate():\n",
    "    \n",
    "    # Step 1 - Reset the working block\n",
    "    pyrtl.reset_working_block()\n",
    "    \n",
    "    # Step 2 - Create the input and ouput wires\n",
    "    a, b, c_in = pyrtl.Input(1, 'a'), pyrtl.Input(1, 'b'), pyrtl.Input(1, 'c_in')\n",
    "    output_sum = pyrtl.Output(1, 'output_sum')\n",
    "    output_c_out = pyrtl.Output(1, 'output_c_out')\n",
    "    \n",
    "    # Step 3-a - Save to an intermediate value using the three_input_and_or function\n",
    "    inter_sum, inter_c_out = full_adder( a, b, c_in )\n",
    "    \n",
    "    # Step 3-b Assign to a wire using <<=\n",
    "    output_sum <<= inter_sum\n",
    "    output_c_out <<= inter_c_out\n",
    "    \n",
    "    # Step 4 - - Simulate the design\n",
    "    sim = pyrtl.Simulation()\n",
    "    \n",
    "    # Step 5 - Create lists for the inputs\n",
    "    a_inputs = [0,0,0,0,1,1,1,1]\n",
    "    b_inputs = [0,0,1,1,0,0,1,1]\n",
    "    c_in_inputs = [0,1,0,1,0,1,0,1]\n",
    "    \n",
    "    # Step 6 - Loop through and simuluate\n",
    "    for value in range(0, len(a_inputs)):\n",
    "\n",
    "        sim.step({\n",
    "            'a' : a_inputs[value],\n",
    "            'b' : b_inputs[value],\n",
    "            'c_in' : c_in_inputs[value] \n",
    "        })\n",
    "    \n",
    "    # Render the trace\n",
    "    sim.tracer.render_trace()"
   ]
  },
  {
   "cell_type": "code",
   "execution_count": 17,
   "id": "46ce6073",
   "metadata": {},
   "outputs": [
    {
     "data": {
      "text/html": [
       "<script type=\"WaveDrom\">\n",
       "{\n",
       "  signal : [\n",
       "    { name: \"a\",  wave: \"0...1...\" },\n",
       "    { name: \"b\",  wave: \"0.1.0.1.\" },\n",
       "    { name: \"c_in\",  wave: \"01010101\" },\n",
       "    { name: \"output_c_out\",  wave: \"0..101..\" },\n",
       "    { name: \"output_sum\",  wave: \"01.010.1\" },\n",
       "  ],\n",
       "  config: { hscale: 1 }\n",
       "}\n",
       "</script>\n"
      ],
      "text/plain": [
       "<IPython.core.display.HTML object>"
      ]
     },
     "metadata": {},
     "output_type": "display_data"
    },
    {
     "data": {
      "application/javascript": [
       "\n",
       "            $.when(\n",
       "            $.getScript(\"https://cdnjs.cloudflare.com/ajax/libs/wavedrom/1.6.2/skins/default.js\"),\n",
       "            $.getScript(\"https://cdnjs.cloudflare.com/ajax/libs/wavedrom/1.6.2/wavedrom.min.js\"),\n",
       "            $.Deferred(function( deferred ){\n",
       "                $( deferred.resolve );\n",
       "            })).done(function(){\n",
       "                WaveDrom.ProcessAll();\n",
       "            });"
      ],
      "text/plain": [
       "<IPython.core.display.Javascript object>"
      ]
     },
     "metadata": {},
     "output_type": "display_data"
    }
   ],
   "source": [
    "# Call the function\n",
    "full_adder_simulate()"
   ]
  },
  {
   "cell_type": "code",
   "execution_count": null,
   "id": "79e194e2",
   "metadata": {},
   "outputs": [],
   "source": []
  }
 ],
 "metadata": {
  "kernelspec": {
   "display_name": "Python 3 (ipykernel)",
   "language": "python",
   "name": "python3"
  },
  "language_info": {
   "codemirror_mode": {
    "name": "ipython",
    "version": 3
   },
   "file_extension": ".py",
   "mimetype": "text/x-python",
   "name": "python",
   "nbconvert_exporter": "python",
   "pygments_lexer": "ipython3",
   "version": "3.9.12"
  }
 },
 "nbformat": 4,
 "nbformat_minor": 5
}
