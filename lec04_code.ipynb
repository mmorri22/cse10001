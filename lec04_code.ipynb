{
 "cells": [
  {
   "cell_type": "markdown",
   "id": "b5069922",
   "metadata": {},
   "source": [
    "### This is the preview Notebook for Lecture 04\n",
    "\n",
    "In this lecture, we will learn about the <b>Central Processing Unit</b> and <font color=\"red\">Conditional Executions</font>"
   ]
  },
  {
   "cell_type": "markdown",
   "id": "74963fc3",
   "metadata": {},
   "source": [
    "First, we will write a function called <b>simple</b> that <b>adds two numbers</b> and then <b>displays the result</b>"
   ]
  },
  {
   "cell_type": "code",
   "execution_count": 1,
   "id": "7fb4d820",
   "metadata": {},
   "outputs": [],
   "source": [
    "# We will write the function for simple here:\n",
    "def simple():\n",
    "    x = int(input(\"x? \"))\n",
    "    y = int(input(\"y? \"))\n",
    "\n",
    "    print(x + y)"
   ]
  },
  {
   "cell_type": "code",
   "execution_count": 2,
   "id": "b31dd538",
   "metadata": {},
   "outputs": [],
   "source": [
    "# Next, we will import the dis library, which will help us view the assembly code\n",
    "import dis"
   ]
  },
  {
   "cell_type": "code",
   "execution_count": 6,
   "id": "b95bf89e",
   "metadata": {
    "scrolled": true
   },
   "outputs": [
    {
     "name": "stdout",
     "output_type": "stream",
     "text": [
      "x? 5\n",
      "y? 6\n",
      "11\n"
     ]
    }
   ],
   "source": [
    "# Run example\n",
    "simple()"
   ]
  },
  {
   "cell_type": "code",
   "execution_count": 8,
   "id": "dca760db",
   "metadata": {},
   "outputs": [
    {
     "name": "stdout",
     "output_type": "stream",
     "text": [
      "  3           0 LOAD_GLOBAL              0 (int)\n",
      "              2 LOAD_GLOBAL              1 (input)\n",
      "              4 LOAD_CONST               1 ('x? ')\n",
      "              6 CALL_FUNCTION            1\n",
      "              8 CALL_FUNCTION            1\n",
      "             10 STORE_FAST               0 (x)\n",
      "\n",
      "  4          12 LOAD_GLOBAL              0 (int)\n",
      "             14 LOAD_GLOBAL              1 (input)\n",
      "             16 LOAD_CONST               2 ('y? ')\n",
      "             18 CALL_FUNCTION            1\n",
      "             20 CALL_FUNCTION            1\n",
      "             22 STORE_FAST               1 (y)\n",
      "\n",
      "  6          24 LOAD_GLOBAL              2 (print)\n",
      "             26 LOAD_FAST                0 (x)\n",
      "             28 LOAD_FAST                1 (y)\n",
      "             30 BINARY_ADD\n",
      "             32 CALL_FUNCTION            1\n",
      "             34 POP_TOP\n",
      "             36 LOAD_CONST               0 (None)\n",
      "             38 RETURN_VALUE\n"
     ]
    }
   ],
   "source": [
    "# By passing simple to a dis function, we can see how the compiler will organize it\n",
    "# Functions are put in cache and then are cleared when done (like cramming for an exam)\n",
    "dis.dis(simple)"
   ]
  },
  {
   "cell_type": "markdown",
   "id": "d2e07017",
   "metadata": {},
   "source": [
    "### Next, we will write a function that adds up all numbers until 0 is entered"
   ]
  },
  {
   "cell_type": "code",
   "execution_count": 11,
   "id": "f1743a42",
   "metadata": {},
   "outputs": [
    {
     "name": "stdout",
     "output_type": "stream",
     "text": [
      "number? 1\n",
      "number? 7\n",
      "Current total = 1\n",
      "number? 13\n",
      "Current total = 8\n",
      "number? -5\n",
      "Current total = 21\n",
      "number? 10\n",
      "Current total = 16\n",
      "number? 8\n",
      "Current total = 26\n",
      "number? 3\n",
      "Current total = 34\n",
      "number? 0\n",
      "Current total = 37\n",
      "Final total = 37\n"
     ]
    }
   ],
   "source": [
    "total  = 0\n",
    "number = int(input('number? '))\n",
    "\n",
    "while number != 0:\n",
    "    total  = total + number\n",
    "    number = int(input('number? '))\n",
    "    print( 'Current total = ' + f'{total}')\n",
    "    \n",
    "print( 'Final total = ' + f'{total}')"
   ]
  },
  {
   "cell_type": "markdown",
   "id": "695868d2",
   "metadata": {},
   "source": [
    "### Now let's do some examples of code using binary logic!"
   ]
  },
  {
   "cell_type": "code",
   "execution_count": 14,
   "id": "f4d38c4e",
   "metadata": {},
   "outputs": [
    {
     "data": {
      "text/plain": [
       "'1010'"
      ]
     },
     "execution_count": 14,
     "metadata": {},
     "output_type": "execute_result"
    }
   ],
   "source": [
    "# An example of AND using &\n",
    "# Compares the binary in each column\n",
    "# Only true if BOTH are 1\n",
    "x = int('1011', 2)\n",
    "y = int('1110', 2)\n",
    "\n",
    "format(x & y, 'b')"
   ]
  },
  {
   "cell_type": "code",
   "execution_count": 15,
   "id": "4b428195",
   "metadata": {},
   "outputs": [
    {
     "data": {
      "text/plain": [
       "'1110'"
      ]
     },
     "execution_count": 15,
     "metadata": {},
     "output_type": "execute_result"
    }
   ],
   "source": [
    "# An example of OR using |\n",
    "# Compares the binary in each column\n",
    "# True if EITHER are 1\n",
    "x = int('1010', 2)\n",
    "y = int('1100', 2)\n",
    "\n",
    "format(x | y, 'b')"
   ]
  },
  {
   "cell_type": "code",
   "execution_count": 17,
   "id": "0b6e1fc5",
   "metadata": {},
   "outputs": [],
   "source": [
    "# Mapping Dorms to Quads\n",
    "def dorm_to_quad(dorm):\n",
    "    ''' Return which quad the dorm is located in '''\n",
    "    dorm = dorm.lower()\n",
    "    if dorm in ['dillon', 'alumni', 'fisher', 'pangborn', 'howard']:\n",
    "        return 'South'\n",
    "    elif dorm in ['stanford', 'farley', 'bp', 'zahm']:\n",
    "        return 'North'\n",
    "    else:\n",
    "        return 'No Idea'\n",
    "\n",
    "# Calls dorm_to_quad and then prints a formatted result\n",
    "def display_quad(dorm):\n",
    "    ''' Given dorm, determine which quad it is located in and display that'''\n",
    "    \n",
    "    quad = dorm_to_quad(dorm)\n",
    "    print(f'{dorm} is located in {quad}.')"
   ]
  },
  {
   "cell_type": "code",
   "execution_count": 18,
   "id": "24b8c75c",
   "metadata": {},
   "outputs": [
    {
     "name": "stdout",
     "output_type": "stream",
     "text": [
      "dillon is located in South.\n"
     ]
    }
   ],
   "source": [
    "# Python's inputs are not case sensitive\n",
    "# We can put in all lower-case and this will work\n",
    "# This is not the case with most programming languages\n",
    "display_quad('dillon')"
   ]
  },
  {
   "cell_type": "code",
   "execution_count": 19,
   "id": "8f7114bd",
   "metadata": {},
   "outputs": [
    {
     "name": "stdout",
     "output_type": "stream",
     "text": [
      "Stanford is located in North.\n"
     ]
    }
   ],
   "source": [
    "# We can do uppercase first letter\n",
    "display_quad('Stanford')"
   ]
  },
  {
   "cell_type": "code",
   "execution_count": 20,
   "id": "00619562",
   "metadata": {},
   "outputs": [
    {
     "name": "stdout",
     "output_type": "stream",
     "text": [
      "faRlEy is located in North.\n"
     ]
    }
   ],
   "source": [
    "# We can do random letters\n",
    "display_quad('faRlEy')"
   ]
  }
 ],
 "metadata": {
  "kernelspec": {
   "display_name": "Python 3 (ipykernel)",
   "language": "python",
   "name": "python3"
  },
  "language_info": {
   "codemirror_mode": {
    "name": "ipython",
    "version": 3
   },
   "file_extension": ".py",
   "mimetype": "text/x-python",
   "name": "python",
   "nbconvert_exporter": "python",
   "pygments_lexer": "ipython3",
   "version": "3.9.12"
  }
 },
 "nbformat": 4,
 "nbformat_minor": 5
}
