{
 "cells": [
  {
   "cell_type": "markdown",
   "id": "11d2c5ee",
   "metadata": {},
   "source": [
    "### This is the Notebook for Lecture 10\n",
    "\n",
    "In this lecture, we will focus primarily on File I/O. Specifically, we will focus on:\n",
    "<ol>\n",
    "    <li>Opening and closing a file</li>\n",
    "    <li>Reading from a text file, and applying our understanding of ASCII</li>\n",
    "    <li>Searching a file</li>\n",
    "    <li>Writing to a file</li>\n",
    "    <li>Error handling</li>\n",
    "</ol>"
   ]
  },
  {
   "cell_type": "code",
   "execution_count": 1,
   "id": "900b6610",
   "metadata": {},
   "outputs": [],
   "source": [
    "# In order to perform File I/O in Python, you need to invoke the os\n",
    "import os"
   ]
  },
  {
   "cell_type": "code",
   "execution_count": 4,
   "id": "e2f111ad",
   "metadata": {},
   "outputs": [
    {
     "data": {
      "text/plain": [
       "['.ipynb_checkpoints',\n",
       " 'Digital World Textbook',\n",
       " 'lab04.ipynb',\n",
       " 'lec02_code.ipynb',\n",
       " 'lec03_code.ipynb',\n",
       " 'lec04_code.ipynb',\n",
       " 'lec06_code.ipynb',\n",
       " 'lec07_code .ipynb',\n",
       " 'lec08_code.ipynb',\n",
       " 'lec09_code.ipynb',\n",
       " 'lec10_code.ipynb',\n",
       " 'Lecture 01 - Introduction to Principles of Computing.pptx',\n",
       " 'Lecture 02 - Introduction to Programming and Data Representation.pptx',\n",
       " 'Lecture 03 - Variables, Expressions, and Functions.pptx',\n",
       " 'Lecture 04 - CPU and Conditionals Execution.pptx',\n",
       " 'Lecture 06 - Iteration and Lists.pptx',\n",
       " 'Lecture 07 - Dice Rolling, Compound Interest.pptx',\n",
       " 'Lecture 08 - Algorithms.pptx',\n",
       " 'Lecture 09 - Strings and Duplicates.pptx',\n",
       " 'Lecture 10 - File Input-Output.pptx',\n",
       " '~$Lecture 06 - Iteration and Lists.pptx',\n",
       " '~$Lecture 10 - File Input-Output.pptx']"
      ]
     },
     "execution_count": 4,
     "metadata": {},
     "output_type": "execute_result"
    }
   ],
   "source": [
    "# List all the files in the current directory\n",
    "os.listdir()"
   ]
  },
  {
   "cell_type": "code",
   "execution_count": 22,
   "id": "a3311ec2",
   "metadata": {},
   "outputs": [
    {
     "name": "stdout",
     "output_type": "stream",
     "text": [
      "1 .ipynb_checkpoints\n",
      "2 Dictionary.txt\n",
      "3 Digital World Textbook\n",
      "4 FightSong.txt\n",
      "5 Lecture 01 - Introduction to Principles of Computing.pptx\n",
      "6 Lecture 02 - Introduction to Programming and Data Representation.pptx\n",
      "7 Lecture 03 - Variables, Expressions, and Functions.pptx\n",
      "8 Lecture 04 - CPU and Conditionals Execution.pptx\n",
      "9 Lecture 06 - Iteration and Lists.pptx\n",
      "10 Lecture 07 - Dice Rolling, Compound Interest.pptx\n",
      "11 Lecture 08 - Algorithms.pptx\n",
      "12 Lecture 09 - Strings and Duplicates.pptx\n",
      "13 Lecture 10 - File Input-Output.pptx\n",
      "14 lab04.ipynb\n",
      "15 lec02_code.ipynb\n",
      "16 lec03_code.ipynb\n",
      "17 lec04_code.ipynb\n",
      "18 lec06_code.ipynb\n",
      "19 lec07_code .ipynb\n",
      "20 lec08_code.ipynb\n",
      "21 lec09_code.ipynb\n",
      "22 lec10_code.ipynb\n",
      "23 ~$Lecture 06 - Iteration and Lists.pptx\n",
      "24 ~$Lecture 10 - File Input-Output.pptx\n"
     ]
    }
   ],
   "source": [
    "# Combining Concepts: Use enumerate to loop and print files\n",
    "for index, file in enumerate(sorted(os.listdir()), 1):\n",
    "    print(index, file)"
   ]
  },
  {
   "cell_type": "markdown",
   "id": "8b7c1e60",
   "metadata": {},
   "source": [
    "### Determining the size of the file"
   ]
  },
  {
   "cell_type": "code",
   "execution_count": 10,
   "id": "3a13dd0a",
   "metadata": {},
   "outputs": [
    {
     "data": {
      "text/plain": [
       "15547"
      ]
     },
     "execution_count": 10,
     "metadata": {},
     "output_type": "execute_result"
    }
   ],
   "source": [
    "# Use the getsize() to determine the size of the file\n",
    "os.path.getsize('lec02_code.ipynb')"
   ]
  },
  {
   "cell_type": "code",
   "execution_count": 11,
   "id": "2eba91af",
   "metadata": {},
   "outputs": [
    {
     "data": {
      "text/plain": [
       "106.120357"
      ]
     },
     "execution_count": 11,
     "metadata": {},
     "output_type": "execute_result"
    }
   ],
   "source": [
    "# This PPTX contains videos, so it was ~106 MB\n",
    "os.path.getsize('Lecture 01 - Introduction to Principles of Computing.pptx') / 1000000"
   ]
  },
  {
   "cell_type": "code",
   "execution_count": 23,
   "id": "32b0229c",
   "metadata": {},
   "outputs": [
    {
     "name": "stdout",
     "output_type": "stream",
     "text": [
      "1 .ipynb_checkpoints 4096\n",
      "2 Dictionary.txt 542740\n",
      "3 Digital World Textbook 4096\n",
      "4 FightSong.txt 272\n",
      "5 Lecture 01 - Introduction to Principles of Computing.pptx 106120357\n",
      "6 Lecture 02 - Introduction to Programming and Data Representation.pptx 38360640\n",
      "7 Lecture 03 - Variables, Expressions, and Functions.pptx 477109\n",
      "8 Lecture 04 - CPU and Conditionals Execution.pptx 45811079\n",
      "9 Lecture 06 - Iteration and Lists.pptx 665331\n",
      "10 Lecture 07 - Dice Rolling, Compound Interest.pptx 584629\n",
      "11 Lecture 08 - Algorithms.pptx 710512\n",
      "12 Lecture 09 - Strings and Duplicates.pptx 661650\n",
      "13 Lecture 10 - File Input-Output.pptx 610601\n",
      "14 lab04.ipynb 7308\n",
      "15 lec02_code.ipynb 15547\n",
      "16 lec03_code.ipynb 19006\n",
      "17 lec04_code.ipynb 8704\n",
      "18 lec06_code.ipynb 22952\n",
      "19 lec07_code .ipynb 35951\n",
      "20 lec08_code.ipynb 15077\n",
      "21 lec09_code.ipynb 25154\n",
      "22 lec10_code.ipynb 6951\n",
      "23 ~$Lecture 06 - Iteration and Lists.pptx 165\n",
      "24 ~$Lecture 10 - File Input-Output.pptx 165\n"
     ]
    }
   ],
   "source": [
    "# Combining Concepts: Use enumerate to loop and print files and file sizes\n",
    "for index, file in enumerate(sorted(os.listdir()), 1):\n",
    "    print(index, file, os.path.getsize(file))"
   ]
  },
  {
   "cell_type": "markdown",
   "id": "82310100",
   "metadata": {},
   "source": [
    "### Opening a File"
   ]
  },
  {
   "cell_type": "code",
   "execution_count": 28,
   "id": "40fc6b19",
   "metadata": {},
   "outputs": [],
   "source": [
    "# Whenever you open a file...\n",
    "fight_song_file = open('FightSong.txt')"
   ]
  },
  {
   "cell_type": "code",
   "execution_count": 29,
   "id": "82cf3866",
   "metadata": {
    "scrolled": true
   },
   "outputs": [
    {
     "data": {
      "text/plain": [
       "'Cheer, cheer for old Notre Dame,\\nWake up the echoes cheering her name,\\nSend a volley cheer on high,\\nShake down the thunder from the sky.\\nWhat though the odds be great or small\\nOld Notre Dame will win over all,\\nWhile her loyal sons and daughters\\nMarch on to victory.'"
      ]
     },
     "execution_count": 29,
     "metadata": {},
     "output_type": "execute_result"
    }
   ],
   "source": [
    "# Read the file to the screen\n",
    "fight_song_file.read()"
   ]
  },
  {
   "cell_type": "code",
   "execution_count": 30,
   "id": "c2967405",
   "metadata": {},
   "outputs": [
    {
     "data": {
      "text/plain": [
       "''"
      ]
     },
     "execution_count": 30,
     "metadata": {},
     "output_type": "execute_result"
    }
   ],
   "source": [
    "# What do you think happens when I try to read it again?\n",
    "fight_song_file.read()"
   ]
  },
  {
   "cell_type": "code",
   "execution_count": 38,
   "id": "def70dec",
   "metadata": {},
   "outputs": [],
   "source": [
    "#... write a code segment to close the file to preserve computing resources\n",
    "fight_song_file.close()"
   ]
  },
  {
   "cell_type": "code",
   "execution_count": 39,
   "id": "ce93118e",
   "metadata": {},
   "outputs": [],
   "source": [
    "# To get back to the top of the file, we re-open\n",
    "fight_song_file = open('FightSong.txt')"
   ]
  },
  {
   "cell_type": "code",
   "execution_count": 40,
   "id": "3ebb3843",
   "metadata": {},
   "outputs": [
    {
     "name": "stdout",
     "output_type": "stream",
     "text": [
      "Cheer, cheer for old Notre Dame,\n",
      "\n",
      "Wake up the echoes cheering her name,\n",
      "\n",
      "Send a volley cheer on high,\n",
      "\n",
      "Shake down the thunder from the sky.\n",
      "\n",
      "What though the odds be great or small\n",
      "\n",
      "Old Notre Dame will win over all,\n",
      "\n",
      "While her loyal sons and daughters\n",
      "\n",
      "March on to victory.\n"
     ]
    }
   ],
   "source": [
    "# Then we can use newlines to print each *line*. But there will be extra newlines\n",
    "for line in fight_song_file:\n",
    "    print(line)"
   ]
  },
  {
   "cell_type": "code",
   "execution_count": 41,
   "id": "5402ff36",
   "metadata": {},
   "outputs": [],
   "source": [
    "#And again, we close the file to get back to the top of the file when we re-open\n",
    "fight_song_file.close()"
   ]
  },
  {
   "cell_type": "code",
   "execution_count": 48,
   "id": "a58e0965",
   "metadata": {},
   "outputs": [],
   "source": [
    "# To get back to the top of the file, we re-open\n",
    "fight_song_file = open('FightSong.txt')"
   ]
  },
  {
   "cell_type": "code",
   "execution_count": 49,
   "id": "2c306a77",
   "metadata": {},
   "outputs": [
    {
     "name": "stdout",
     "output_type": "stream",
     "text": [
      "Cheer, cheer for old Notre Dame,\n",
      "Wake up the echoes cheering her name,\n",
      "Send a volley cheer on high,\n",
      "Shake down the thunder from the sky.\n",
      "What though the odds be great or small\n",
      "Old Notre Dame will win over all,\n",
      "While her loyal sons and daughters\n",
      "March on to victory.\n"
     ]
    }
   ],
   "source": [
    "# We will use the strip() method to remove the newline characters\n",
    "for line in fight_song_file:\n",
    "    print(line.strip())"
   ]
  },
  {
   "cell_type": "code",
   "execution_count": 47,
   "id": "751f630b",
   "metadata": {},
   "outputs": [],
   "source": [
    "# And we will close the file to reset the File pointer\n",
    "fight_song_file.close()"
   ]
  },
  {
   "cell_type": "markdown",
   "id": "71a88024",
   "metadata": {},
   "source": [
    "### In-Class Coding Opportunity\n",
    "\n",
    "Write a function search_file(path, target) that returns all the lines (i.e. a list of strings) in the file specified by path that contain the target string.\n",
    "\n",
    "The example I will use is dict/frost.txt. My file contains the poem \"The Road Not Taken\" by Robert Frost.\n",
    "\n",
    "You should create a folder and a small file, and read from that file"
   ]
  },
  {
   "cell_type": "code",
   "execution_count": 68,
   "id": "3f3fe182",
   "metadata": {},
   "outputs": [],
   "source": [
    "def search_file(path, target):\n",
    "    # Open the file\n",
    "    search_file = open(path)\n",
    "    \n",
    "    # Define a return string\n",
    "    return_string = ''\n",
    "    \n",
    "    # Loop through each line in the file\n",
    "    for line in search_file:\n",
    "        \n",
    "        # If the line contains the target, concatenate\n",
    "        if line.find(target) != -1:\n",
    "            return_string += line\n",
    "    \n",
    "    # Close the file\n",
    "    search_file.close()\n",
    "    \n",
    "    return return_string"
   ]
  },
  {
   "cell_type": "code",
   "execution_count": 70,
   "id": "e3a06565",
   "metadata": {},
   "outputs": [
    {
     "name": "stdout",
     "output_type": "stream",
     "text": [
      "To where it bent in the undergrowth;\n",
      "Then took the other, as just as fair,\n",
      "And having perhaps the better claim,\n",
      "Though as for that the passing there\n",
      "Had worn them really about the same,\n",
      "Oh, I kept the first for another day!\n",
      "I took the one less traveled by,\n",
      "And that has made all the difference.\n"
     ]
    }
   ],
   "source": [
    "text_file_path = 'dict/frost.txt'\n",
    "target_string = 'the'\n",
    "\n",
    "result_string = search_file(text_file_path, target_string)\n",
    "print( result_string.strip() )"
   ]
  },
  {
   "cell_type": "code",
   "execution_count": null,
   "id": "54c9c804",
   "metadata": {},
   "outputs": [],
   "source": []
  }
 ],
 "metadata": {
  "kernelspec": {
   "display_name": "Python 3 (ipykernel)",
   "language": "python",
   "name": "python3"
  },
  "language_info": {
   "codemirror_mode": {
    "name": "ipython",
    "version": 3
   },
   "file_extension": ".py",
   "mimetype": "text/x-python",
   "name": "python",
   "nbconvert_exporter": "python",
   "pygments_lexer": "ipython3",
   "version": "3.9.12"
  }
 },
 "nbformat": 4,
 "nbformat_minor": 5
}
