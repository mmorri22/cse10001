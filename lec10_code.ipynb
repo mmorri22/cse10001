{
 "cells": [
  {
   "cell_type": "markdown",
   "id": "cb706603",
   "metadata": {},
   "source": [
    "### This is the Notebook for Lecture 10\n",
    "\n",
    "In this lecture, we will focus primarily on File I/O. Specifically, we will focus on:\n",
    "<ol>\n",
    "    <li>Opening and closing a file</li>\n",
    "    <li>Reading from a text file, and applying our understanding of ASCII</li>\n",
    "    <li>Searching a file</li>\n",
    "    <li>Writing to a file</li>\n",
    "    <li>Error handling</li>\n",
    "</ol>"
   ]
  },
  {
   "cell_type": "code",
   "execution_count": 1,
   "id": "7384c5d4",
   "metadata": {},
   "outputs": [],
   "source": [
    "# In order to perform File I/O in Python, you need to invoke the os\n",
    "import os"
   ]
  },
  {
   "cell_type": "code",
   "execution_count": 4,
   "id": "b6057c06",
   "metadata": {},
   "outputs": [
    {
     "data": {
      "text/plain": [
       "['.ipynb_checkpoints',\n",
       " 'Digital World Textbook',\n",
       " 'lab04.ipynb',\n",
       " 'lec02_code.ipynb',\n",
       " 'lec03_code.ipynb',\n",
       " 'lec04_code.ipynb',\n",
       " 'lec06_code.ipynb',\n",
       " 'lec07_code .ipynb',\n",
       " 'lec08_code.ipynb',\n",
       " 'lec09_code.ipynb',\n",
       " 'lec10_code.ipynb',\n",
       " 'Lecture 01 - Introduction to Principles of Computing.pptx',\n",
       " 'Lecture 02 - Introduction to Programming and Data Representation.pptx',\n",
       " 'Lecture 03 - Variables, Expressions, and Functions.pptx',\n",
       " 'Lecture 04 - CPU and Conditionals Execution.pptx',\n",
       " 'Lecture 06 - Iteration and Lists.pptx',\n",
       " 'Lecture 07 - Dice Rolling, Compound Interest.pptx',\n",
       " 'Lecture 08 - Algorithms.pptx',\n",
       " 'Lecture 09 - Strings and Duplicates.pptx',\n",
       " 'Lecture 10 - File Input-Output.pptx',\n",
       " '~$Lecture 06 - Iteration and Lists.pptx',\n",
       " '~$Lecture 10 - File Input-Output.pptx']"
      ]
     },
     "execution_count": 4,
     "metadata": {},
     "output_type": "execute_result"
    }
   ],
   "source": [
    "# List all the files in the current directory\n",
    "os.listdir()"
   ]
  },
  {
   "cell_type": "code",
   "execution_count": 22,
   "id": "db02d760",
   "metadata": {},
   "outputs": [
    {
     "name": "stdout",
     "output_type": "stream",
     "text": [
      "1 .ipynb_checkpoints\n",
      "2 Dictionary.txt\n",
      "3 Digital World Textbook\n",
      "4 FightSong.txt\n",
      "5 Lecture 01 - Introduction to Principles of Computing.pptx\n",
      "6 Lecture 02 - Introduction to Programming and Data Representation.pptx\n",
      "7 Lecture 03 - Variables, Expressions, and Functions.pptx\n",
      "8 Lecture 04 - CPU and Conditionals Execution.pptx\n",
      "9 Lecture 06 - Iteration and Lists.pptx\n",
      "10 Lecture 07 - Dice Rolling, Compound Interest.pptx\n",
      "11 Lecture 08 - Algorithms.pptx\n",
      "12 Lecture 09 - Strings and Duplicates.pptx\n",
      "13 Lecture 10 - File Input-Output.pptx\n",
      "14 lab04.ipynb\n",
      "15 lec02_code.ipynb\n",
      "16 lec03_code.ipynb\n",
      "17 lec04_code.ipynb\n",
      "18 lec06_code.ipynb\n",
      "19 lec07_code .ipynb\n",
      "20 lec08_code.ipynb\n",
      "21 lec09_code.ipynb\n",
      "22 lec10_code.ipynb\n",
      "23 ~$Lecture 06 - Iteration and Lists.pptx\n",
      "24 ~$Lecture 10 - File Input-Output.pptx\n"
     ]
    }
   ],
   "source": [
    "# Combining Concepts: Use enumerate to loop and print files\n",
    "for index, file in enumerate(sorted(os.listdir()), 1):\n",
    "    print(index, file)"
   ]
  },
  {
   "cell_type": "markdown",
   "id": "50f8ce17",
   "metadata": {},
   "source": [
    "### Determining the size of the file"
   ]
  },
  {
   "cell_type": "code",
   "execution_count": 10,
   "id": "7e32edbb",
   "metadata": {},
   "outputs": [
    {
     "data": {
      "text/plain": [
       "15547"
      ]
     },
     "execution_count": 10,
     "metadata": {},
     "output_type": "execute_result"
    }
   ],
   "source": [
    "# Use the getsize() to determine the size of the file\n",
    "os.path.getsize('lec02_code.ipynb')"
   ]
  },
  {
   "cell_type": "code",
   "execution_count": 11,
   "id": "edb4d1fa",
   "metadata": {},
   "outputs": [
    {
     "data": {
      "text/plain": [
       "106.120357"
      ]
     },
     "execution_count": 11,
     "metadata": {},
     "output_type": "execute_result"
    }
   ],
   "source": [
    "# This PPTX contains videos, so it was ~106 MB\n",
    "os.path.getsize('Lecture 01 - Introduction to Principles of Computing.pptx') / 1000000"
   ]
  },
  {
   "cell_type": "code",
   "execution_count": 23,
   "id": "32735e9a",
   "metadata": {},
   "outputs": [
    {
     "name": "stdout",
     "output_type": "stream",
     "text": [
      "1 .ipynb_checkpoints 4096\n",
      "2 Dictionary.txt 542740\n",
      "3 Digital World Textbook 4096\n",
      "4 FightSong.txt 272\n",
      "5 Lecture 01 - Introduction to Principles of Computing.pptx 106120357\n",
      "6 Lecture 02 - Introduction to Programming and Data Representation.pptx 38360640\n",
      "7 Lecture 03 - Variables, Expressions, and Functions.pptx 477109\n",
      "8 Lecture 04 - CPU and Conditionals Execution.pptx 45811079\n",
      "9 Lecture 06 - Iteration and Lists.pptx 665331\n",
      "10 Lecture 07 - Dice Rolling, Compound Interest.pptx 584629\n",
      "11 Lecture 08 - Algorithms.pptx 710512\n",
      "12 Lecture 09 - Strings and Duplicates.pptx 661650\n",
      "13 Lecture 10 - File Input-Output.pptx 610601\n",
      "14 lab04.ipynb 7308\n",
      "15 lec02_code.ipynb 15547\n",
      "16 lec03_code.ipynb 19006\n",
      "17 lec04_code.ipynb 8704\n",
      "18 lec06_code.ipynb 22952\n",
      "19 lec07_code .ipynb 35951\n",
      "20 lec08_code.ipynb 15077\n",
      "21 lec09_code.ipynb 25154\n",
      "22 lec10_code.ipynb 6951\n",
      "23 ~$Lecture 06 - Iteration and Lists.pptx 165\n",
      "24 ~$Lecture 10 - File Input-Output.pptx 165\n"
     ]
    }
   ],
   "source": [
    "# Combining Concepts: Use enumerate to loop and print files and file sizes\n",
    "for index, file in enumerate(sorted(os.listdir()), 1):\n",
    "    print(index, file, os.path.getsize(file))"
   ]
  },
  {
   "cell_type": "markdown",
   "id": "af820df0",
   "metadata": {},
   "source": [
    "### Opening a File"
   ]
  },
  {
   "cell_type": "code",
   "execution_count": 28,
   "id": "828faada",
   "metadata": {},
   "outputs": [],
   "source": [
    "# Whenever you open a file...\n",
    "fight_song_file = open('FightSong.txt')"
   ]
  },
  {
   "cell_type": "code",
   "execution_count": 29,
   "id": "503ea936",
   "metadata": {
    "scrolled": true
   },
   "outputs": [
    {
     "data": {
      "text/plain": [
       "'Cheer, cheer for old Notre Dame,\\nWake up the echoes cheering her name,\\nSend a volley cheer on high,\\nShake down the thunder from the sky.\\nWhat though the odds be great or small\\nOld Notre Dame will win over all,\\nWhile her loyal sons and daughters\\nMarch on to victory.'"
      ]
     },
     "execution_count": 29,
     "metadata": {},
     "output_type": "execute_result"
    }
   ],
   "source": [
    "# Read the file to the screen\n",
    "fight_song_file.read()"
   ]
  },
  {
   "cell_type": "code",
   "execution_count": 30,
   "id": "9de0bbef",
   "metadata": {},
   "outputs": [
    {
     "data": {
      "text/plain": [
       "''"
      ]
     },
     "execution_count": 30,
     "metadata": {},
     "output_type": "execute_result"
    }
   ],
   "source": [
    "# What do you think happens when I try to read it again?\n",
    "fight_song_file.read()"
   ]
  },
  {
   "cell_type": "code",
   "execution_count": 38,
   "id": "7df7bf83",
   "metadata": {},
   "outputs": [],
   "source": [
    "#... write a code segment to close the file to preserve computing resources\n",
    "fight_song_file.close()"
   ]
  },
  {
   "cell_type": "code",
   "execution_count": 39,
   "id": "ba1c4b1b",
   "metadata": {},
   "outputs": [],
   "source": [
    "# To get back to the top of the file, we re-open\n",
    "fight_song_file = open('FightSong.txt')"
   ]
  },
  {
   "cell_type": "code",
   "execution_count": 40,
   "id": "c56dc646",
   "metadata": {},
   "outputs": [
    {
     "name": "stdout",
     "output_type": "stream",
     "text": [
      "Cheer, cheer for old Notre Dame,\n",
      "\n",
      "Wake up the echoes cheering her name,\n",
      "\n",
      "Send a volley cheer on high,\n",
      "\n",
      "Shake down the thunder from the sky.\n",
      "\n",
      "What though the odds be great or small\n",
      "\n",
      "Old Notre Dame will win over all,\n",
      "\n",
      "While her loyal sons and daughters\n",
      "\n",
      "March on to victory.\n"
     ]
    }
   ],
   "source": [
    "# Then we can use newlines to print each *line*. But there will be extra newlines\n",
    "for line in fight_song_file:\n",
    "    print(line)"
   ]
  },
  {
   "cell_type": "code",
   "execution_count": 41,
   "id": "e0190378",
   "metadata": {},
   "outputs": [],
   "source": [
    "#And again, we close the file to get back to the top of the file when we re-open\n",
    "fight_song_file.close()"
   ]
  },
  {
   "cell_type": "code",
   "execution_count": 48,
   "id": "419a6f70",
   "metadata": {},
   "outputs": [],
   "source": [
    "# To get back to the top of the file, we re-open\n",
    "fight_song_file = open('FightSong.txt')"
   ]
  },
  {
   "cell_type": "code",
   "execution_count": 49,
   "id": "3e762440",
   "metadata": {},
   "outputs": [
    {
     "name": "stdout",
     "output_type": "stream",
     "text": [
      "Cheer, cheer for old Notre Dame,\n",
      "Wake up the echoes cheering her name,\n",
      "Send a volley cheer on high,\n",
      "Shake down the thunder from the sky.\n",
      "What though the odds be great or small\n",
      "Old Notre Dame will win over all,\n",
      "While her loyal sons and daughters\n",
      "March on to victory.\n"
     ]
    }
   ],
   "source": [
    "# We will use the strip() method to remove the newline characters\n",
    "for line in fight_song_file:\n",
    "    print(line.strip())"
   ]
  },
  {
   "cell_type": "code",
   "execution_count": 47,
   "id": "b8b8f891",
   "metadata": {},
   "outputs": [],
   "source": [
    "# And we will close the file to reset the File pointer\n",
    "fight_song_file.close()"
   ]
  },
  {
   "cell_type": "markdown",
   "id": "b8ddc453",
   "metadata": {},
   "source": [
    "### In-Class Coding Opportunity\n",
    "\n",
    "Write a function search_file(path, target) that returns all the lines (i.e. a list of strings) in the file specified by path that contain the target string.\n",
    "\n",
    "The example I will use is dict/frost.txt. My file contains the poem \"The Road Not Taken\" by Robert Frost.\n",
    "\n",
    "You should create a folder and a small file, and read from that file"
   ]
  },
  {
   "cell_type": "code",
   "execution_count": 68,
   "id": "b1269b3b",
   "metadata": {},
   "outputs": [],
   "source": [
    "def search_file(path, target):\n",
    "    # Open the file\n",
    "    search_file = open(path)\n",
    "    \n",
    "    # Define a return string\n",
    "    return_string = ''\n",
    "    \n",
    "    # Loop through each line in the file\n",
    "    for line in search_file:\n",
    "        \n",
    "        # If the line contains the target, concatenate\n",
    "        if line.find(target) != -1:\n",
    "            return_string += line\n",
    "    \n",
    "    # Close the file\n",
    "    search_file.close()\n",
    "    \n",
    "    return return_string"
   ]
  },
  {
   "cell_type": "code",
   "execution_count": 70,
   "id": "785b4c6f",
   "metadata": {},
   "outputs": [
    {
     "name": "stdout",
     "output_type": "stream",
     "text": [
      "To where it bent in the undergrowth;\n",
      "Then took the other, as just as fair,\n",
      "And having perhaps the better claim,\n",
      "Though as for that the passing there\n",
      "Had worn them really about the same,\n",
      "Oh, I kept the first for another day!\n",
      "I took the one less traveled by,\n",
      "And that has made all the difference.\n"
     ]
    }
   ],
   "source": [
    "text_file_path = 'dict/frost.txt'\n",
    "target_string = 'the'\n",
    "\n",
    "result_string = search_file(text_file_path, target_string)\n",
    "print( result_string.strip() )"
   ]
  },
  {
   "attachments": {},
   "cell_type": "markdown",
   "id": "d37f02fe",
   "metadata": {},
   "source": [
    "### In-Class Coding Opportunity\n",
    "\n",
    "Write a function read_write(file_name) that performs the following tasks:\n",
    "<ol>\n",
    "    <li>Open a file to write</li>\n",
    "    <li>Input sentences to write to the file (using ‘End’ as a loop break), and writes each sentence to the file</li>\n",
    "    <li>Closes the file</li>\n",
    "    <li>Opens the file to read, prints the contents, and then closes the file</li>\n",
    "</ol>"
   ]
  },
  {
   "cell_type": "code",
   "execution_count": 75,
   "id": "743cbc76",
   "metadata": {},
   "outputs": [],
   "source": [
    "def read_write(file_name):\n",
    "    # Use a 'w' in order to write to the file\n",
    "    write_file = open(file_name, 'w')\n",
    "\n",
    "    input_string = input('Input next line or End to finish: ')\n",
    "    while input_string != 'End':\n",
    "        write_file.write(input_string + '\\n')\n",
    "        input_string = input('Input next line or End to finish: ')\n",
    "\n",
    "    # And always remember to close the file\n",
    "    write_file.close()\n",
    "\n",
    "    # Now, we will open the file and print the lines to test if it worked\n",
    "    print_file = open(file_name)\n",
    "\n",
    "    # Loop through each line in the file\n",
    "    for line in print_file:\n",
    "        print( line.strip() )\n",
    "\n",
    "    # Then close the file\n",
    "    print_file.close()"
   ]
  },
  {
   "cell_type": "code",
   "execution_count": 76,
   "id": "8f551eb6",
   "metadata": {},
   "outputs": [
    {
     "name": "stdout",
     "output_type": "stream",
     "text": [
      "Input next line or End to finish: Hello, my name is Inigo Montoya!\n",
      "Input next line or End to finish: You killed my father!\n",
      "Input next line or End to finish: Prepare to die!\n",
      "Input next line or End to finish: End\n",
      "Hello, my name is Inigo Montoya!\n",
      "You killed my father!\n",
      "Prepare to die!\n"
     ]
    }
   ],
   "source": [
    "read_write( 'inigo.txt' )"
   ]
  },
  {
   "cell_type": "markdown",
   "id": "6675dd5a",
   "metadata": {},
   "source": [
    "### File Exception Handling"
   ]
  },
  {
   "cell_type": "code",
   "execution_count": 77,
   "id": "267a0d64",
   "metadata": {},
   "outputs": [],
   "source": [
    "def file_try_except(file_name):\n",
    "    \n",
    "    # Try to open, print contents and close\n",
    "    try:\n",
    "        read_file = open(file_name)\n",
    "\n",
    "        # Loop through each line in the file\n",
    "        for line in print_file:\n",
    "            print( line.strip() )\n",
    "\n",
    "        # Then close the file\n",
    "        print_file.close()\n",
    "        \n",
    "    except IOError as e:\n",
    "        print('Unable to open file:', e)"
   ]
  },
  {
   "cell_type": "code",
   "execution_count": 78,
   "id": "eb0fdf21",
   "metadata": {},
   "outputs": [
    {
     "name": "stdout",
     "output_type": "stream",
     "text": [
      "Unable to open file: [Errno 2] No such file or directory: 'bad_file_name.txt'\n"
     ]
    }
   ],
   "source": [
    "file_try_except('bad_file_name.txt')"
   ]
  },
  {
   "cell_type": "markdown",
   "id": "922b8c4c",
   "metadata": {},
   "source": [
    "### Use a with statement to open/close in a scope"
   ]
  },
  {
   "cell_type": "code",
   "execution_count": 81,
   "id": "e59ddf85",
   "metadata": {},
   "outputs": [],
   "source": [
    "with open('inigo.txt', 'w') as output_file:\n",
    "    output_file.write(\"This is Buttercup's true love. If you heal him, he will stop Humperdinck's wedding!!\\n\")"
   ]
  },
  {
   "cell_type": "code",
   "execution_count": 82,
   "id": "524a2fd9",
   "metadata": {},
   "outputs": [
    {
     "name": "stdout",
     "output_type": "stream",
     "text": [
      "This is Buttercup's true love. If you heal him, he will stop Humperdinck's wedding!!\n"
     ]
    }
   ],
   "source": [
    "with open('inigo.txt') as print_file:\n",
    "    for line in print_file:\n",
    "        print( line.strip() )"
   ]
  }
 ],
 "metadata": {
  "kernelspec": {
   "display_name": "Python 3 (ipykernel)",
   "language": "python",
   "name": "python3"
  },
  "language_info": {
   "codemirror_mode": {
    "name": "ipython",
    "version": 3
   },
   "file_extension": ".py",
   "mimetype": "text/x-python",
   "name": "python",
   "nbconvert_exporter": "python",
   "pygments_lexer": "ipython3",
   "version": "3.9.12"
  }
 },
 "nbformat": 4,
 "nbformat_minor": 5
}
