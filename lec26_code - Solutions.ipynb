{
 "cells": [
  {
   "cell_type": "markdown",
   "id": "03b806c7",
   "metadata": {},
   "source": [
    "### This is the Notebook for Lecture 26 - Logic Design - Finite State Machines\n",
    "\n",
    "In this lecture, we will learn\n",
    "<ol>\n",
    "    <li>Develop and test a 1-bit Full Adder</li>\n",
    "    <li>Use Recursion to develop a 4-bit Full Adder with connected gates</li>\n",
    "    <li>Use a register to store the state value for a Finite State Machine</li>\n",
    "</ol>\n",
    "<br />\n",
    "First, we will run the code blocks we developed in Mondays's lecture:"
   ]
  },
  {
   "cell_type": "code",
   "execution_count": 1,
   "id": "386cf65f",
   "metadata": {},
   "outputs": [],
   "source": [
    "# You will do this library import with every PyRTL assignment\n",
    "from pyrtl import *\n",
    "import pyrtl"
   ]
  },
  {
   "cell_type": "code",
   "execution_count": 3,
   "id": "b1bd81f2",
   "metadata": {},
   "outputs": [],
   "source": [
    "def two_input_and( a_input, b_input ):\n",
    "    \n",
    "    # Create the wire out and put a & b on that \n",
    "    y_output = a_input & b_input\n",
    "\n",
    "    # Use assert to ensure that the signals are one bit\n",
    "    return y_output"
   ]
  },
  {
   "cell_type": "code",
   "execution_count": 4,
   "id": "a4367476",
   "metadata": {},
   "outputs": [],
   "source": [
    "def two_input_or( a_input, b_input ):\n",
    "    \n",
    "    # Create the wire out and put a | b on that \n",
    "    y_output = a_input | b_input\n",
    "\n",
    "    # Use assert to ensure that the signals are one bit\n",
    "    return y_output"
   ]
  },
  {
   "cell_type": "code",
   "execution_count": 5,
   "id": "74fa93bf",
   "metadata": {},
   "outputs": [],
   "source": [
    "def two_input_xor( a_input, b_input ):\n",
    "    \n",
    "    # Create the wire out and put a ^ b on that \n",
    "    y_output = a_input ^ b_input\n",
    "\n",
    "    # Use assert to ensure that the signals are one bit\n",
    "    return y_output"
   ]
  },
  {
   "cell_type": "markdown",
   "id": "cf868e99",
   "metadata": {},
   "source": [
    "## Classic Advanced Circuit: Adder\n",
    "\n",
    "Now we will build the full adder that we developed together in class on Mnday\n",
    "\n",
    "Recall that the logic <b>equations</b> we developed were as follows:\n",
    "<ol>\n",
    "    <li><code>Sum = a ^ b ^ Cin</code></li>\n",
    "    <li><code>Cout = (a & b) | (Cin & (a ^ b))</code></li>\n",
    "</ol>\n",
    "\n",
    "The <b>logic diagram</b> and <b>truth table</b> are presented below:\n",
    "\n",
    "<center><img src=\"https://upload.wikimedia.org/wikipedia/commons/thumb/6/69/Full-adder_logic_diagram.svg/400px-Full-adder_logic_diagram.svg.png\"></center> <br />\n",
    "\n",
    "| A | B | Cin | Sum | Cout |\n",
    "|---|---|---|---|---|\n",
    "|0|0|0|0|0|\n",
    "|0|0|1|1|0|\n",
    "|0|1|0|1|0|\n",
    "|0|1|1|0|1|\n",
    "|1|0|0|1|0|\n",
    "|1|0|1|0|1|\n",
    "|1|1|0|0|1|\n",
    "|1|1|1|1|1|"
   ]
  },
  {
   "cell_type": "code",
   "execution_count": 6,
   "id": "91bfeae7",
   "metadata": {},
   "outputs": [],
   "source": [
    "def sum( a, b, c_in ):\n",
    "    \n",
    "    # In-Class: Return the sum using previously design cells\n",
    "    # Could also simply do a ^ b ^ cin\n",
    "    return two_input_xor( two_input_xor(a, b), c_in )"
   ]
  },
  {
   "cell_type": "code",
   "execution_count": 7,
   "id": "73aacb86",
   "metadata": {},
   "outputs": [],
   "source": [
    "def carry_out( a, b, c_in ):\n",
    "    \n",
    "    # In-Class: Return the carry out\n",
    "    return (a & b) | ( c_in & (a ^ b) )"
   ]
  },
  {
   "cell_type": "code",
   "execution_count": 8,
   "id": "c22fabb7",
   "metadata": {},
   "outputs": [],
   "source": [
    "def full_adder( a, b, c_in ):\n",
    "    \n",
    "    # In-Class: Calculate the sum\n",
    "    output_sum = sum( a, b, c_in )\n",
    "\n",
    "    # In-Class: Calculate the carry out\n",
    "    output_c_out = carry_out( a, b, c_in )\n",
    "    \n",
    "    # Return both\n",
    "    return output_sum, output_c_out"
   ]
  },
  {
   "cell_type": "code",
   "execution_count": 9,
   "id": "731e4808",
   "metadata": {},
   "outputs": [],
   "source": [
    "def full_adder_simulate():\n",
    "    \n",
    "    # Step 1 - Reset the working block\n",
    "    pyrtl.reset_working_block()\n",
    "    \n",
    "    # In-Class: Step 2 - Create the input and ouput wires\n",
    "    a, b, c_in = pyrtl.Input(1, 'a'), pyrtl.Input(1, 'b'), pyrtl.Input(1, 'c_in')\n",
    "    output_sum = pyrtl.Output(1, 'output_sum')\n",
    "    output_c_out = pyrtl.Output(1, 'output_c_out')\n",
    "    \n",
    "    # In-Class: Step 3-a - Save to an intermediate value using the three_input_and_or function\n",
    "    inter_sum, inter_c_out = full_adder( a, b, c_in )\n",
    "    \n",
    "    # In-Class: Step 3-b Assign to a wire using <<=\n",
    "    output_sum <<= inter_sum\n",
    "    output_c_out <<= inter_c_out\n",
    "    \n",
    "    # Step 4 - - Simulate the design\n",
    "    sim = pyrtl.Simulation()\n",
    "    \n",
    "    # Step 5 - Create lists for the inputs\n",
    "    a_inputs =    [0,0,0,0,1,1,1,1]\n",
    "    b_inputs =    [0,0,1,1,0,0,1,1]\n",
    "    c_in_inputs = [0,1,0,1,0,1,0,1]\n",
    "    \n",
    "    # Step 6 - Loop through and simuluate\n",
    "    for value in range(0, len(a_inputs)):\n",
    "\n",
    "        sim.step({\n",
    "            'a' : a_inputs[value],\n",
    "            'b' : b_inputs[value],\n",
    "            'c_in' : c_in_inputs[value] \n",
    "        })\n",
    "    \n",
    "    # Render the trace\n",
    "    sim.tracer.render_trace()"
   ]
  },
  {
   "cell_type": "code",
   "execution_count": 10,
   "id": "26ab0ff6",
   "metadata": {},
   "outputs": [
    {
     "data": {
      "text/html": [
       "<script type=\"WaveDrom\">\n",
       "{\n",
       "  signal : [\n",
       "    { name: \"a\",  wave: \"0...1...\" },\n",
       "    { name: \"b\",  wave: \"0.1.0.1.\" },\n",
       "    { name: \"c_in\",  wave: \"01010101\" },\n",
       "    { name: \"output_c_out\",  wave: \"0..101..\" },\n",
       "    { name: \"output_sum\",  wave: \"01.010.1\" },\n",
       "  ],\n",
       "  config: { hscale: 1 }\n",
       "}\n",
       "</script>\n"
      ],
      "text/plain": [
       "<IPython.core.display.HTML object>"
      ]
     },
     "metadata": {},
     "output_type": "display_data"
    },
    {
     "data": {
      "application/javascript": [
       "\n",
       "            $.when(\n",
       "            $.getScript(\"https://cdnjs.cloudflare.com/ajax/libs/wavedrom/1.6.2/skins/default.js\"),\n",
       "            $.getScript(\"https://cdnjs.cloudflare.com/ajax/libs/wavedrom/1.6.2/wavedrom.min.js\"),\n",
       "            $.Deferred(function( deferred ){\n",
       "                $( deferred.resolve );\n",
       "            })).done(function(){\n",
       "                WaveDrom.ProcessAll();\n",
       "            });"
      ],
      "text/plain": [
       "<IPython.core.display.Javascript object>"
      ]
     },
     "metadata": {},
     "output_type": "display_data"
    }
   ],
   "source": [
    "# Call the function\n",
    "full_adder_simulate()"
   ]
  },
  {
   "cell_type": "markdown",
   "id": "fd9c0a4f",
   "metadata": {},
   "source": [
    "### Combining Concepts: Using Recursion to Create a Full Adder\n",
    "\n",
    "When we create a circuit in PyRTL, we cannot use loop to create the signals, only the input signals. But if there is repetition, we can use <b>recursion</b>!"
   ]
  },
  {
   "cell_type": "code",
   "execution_count": 12,
   "id": "4e17cd8b",
   "metadata": {},
   "outputs": [],
   "source": [
    "def ripple_carry_adder( a, b, c_in ):\n",
    "    \n",
    "    # Base Case: When a is a length of 1, we put the first full adder\n",
    "    if len(a) == 1:\n",
    "        sum_result, c_out = full_adder(a, b, c_in )\n",
    "    \n",
    "    # Recursive Case\n",
    "    else:\n",
    "\n",
    "        # Get the \"least significant\" bit and the rippecarry to the next full adder\n",
    "        ls_bit, ripplecarry = full_adder(a[0], b[0], c_in)\n",
    "        \n",
    "        # Recursively call the remaining bits to get the \"most significant\" bits and the current carry out\n",
    "        ms_bits, c_out = ripple_carry_adder( a[1:], b[1:], ripplecarry )\n",
    "        \n",
    "        # Use pyrtl.concat Concatenate the results on the recursive call back up\n",
    "        sum_result = pyrtl.concat(ms_bits, ls_bit)\n",
    "\n",
    "    # Return the results                                      \n",
    "    return sum_result, c_out"
   ]
  },
  {
   "cell_type": "code",
   "execution_count": 13,
   "id": "519353b8",
   "metadata": {},
   "outputs": [],
   "source": [
    "def ripple_carry_sim( ):\n",
    "    \n",
    "    # Step 1 - Reset the working block\n",
    "    pyrtl.reset_working_block()\n",
    "    \n",
    "    # In-Class: Step 2 - Create the input and ouput wires for a 4-bit adder\n",
    "    a, b, c_in = pyrtl.Input(4, 'a'), pyrtl.Input(4, 'b'), pyrtl.Input(1, 'c_in')\n",
    "    output_sum = pyrtl.Output(4, 'output_sum')\n",
    "    output_c_out = pyrtl.Output(1, 'output_c_out')    \n",
    "    \n",
    "    \n",
    "    # In-Class:Step 3-a - Save to an intermediate value using the three_input_and_or function\n",
    "    inter_sum, inter_c_out = ripple_carry_adder(a, b, c_in)\n",
    "    \n",
    "    # In-Class: Step 3-b Assign to a bus wire using <<=\n",
    "    output_sum <<= inter_sum\n",
    "    output_c_out <<= inter_c_out\n",
    "    \n",
    "    # Step 4 - Simulate the design\n",
    "    sim = pyrtl.Simulation()\n",
    "    \n",
    "    # Step 5 - Create lists for the inputs\n",
    "    a_inputs = [ 0, 3, 10, 2, 15, 3, 14 ]\n",
    "    b_inputs = [ 4, 6, 6, 11, 15, 12, 1 ]\n",
    "    c_in_inputs = [0, 0, 0, 0, 0, 0, 0]\n",
    "\n",
    "    # Step 6 - Loop through and simuluate\n",
    "    for value in range( 0, len(a_inputs) ):\n",
    "\n",
    "        sim.step({\n",
    "            'a' : a_inputs[value],\n",
    "            'b' : b_inputs[value],\n",
    "            'c_in' : c_in_inputs[value] \n",
    "        })\n",
    "    \n",
    "    # Render the trace\n",
    "    sim.tracer.render_trace()"
   ]
  },
  {
   "cell_type": "code",
   "execution_count": 14,
   "id": "6fb97cc9",
   "metadata": {},
   "outputs": [
    {
     "data": {
      "text/html": [
       "<script type=\"WaveDrom\">\n",
       "{\n",
       "  signal : [\n",
       "    { name: \"a\",  wave: \"=======\", data: [\"0x0\", \"0x3\", \"0xa\", \"0x2\", \"0xf\", \"0x3\", \"0xe\"] },\n",
       "    { name: \"b\",  wave: \"==.====\", data: [\"0x4\", \"0x6\", \"0xb\", \"0xf\", \"0xc\", \"0x1\"] },\n",
       "    { name: \"c_in\",  wave: \"0......\" },\n",
       "    { name: \"output_c_out\",  wave: \"0.1010.\" },\n",
       "    { name: \"output_sum\",  wave: \"======.\", data: [\"0x4\", \"0x9\", \"0x0\", \"0xd\", \"0xe\", \"0xf\"] },\n",
       "  ],\n",
       "  config: { hscale: 1 }\n",
       "}\n",
       "</script>\n"
      ],
      "text/plain": [
       "<IPython.core.display.HTML object>"
      ]
     },
     "metadata": {},
     "output_type": "display_data"
    },
    {
     "data": {
      "application/javascript": [
       "\n",
       "            $.when(\n",
       "            $.getScript(\"https://cdnjs.cloudflare.com/ajax/libs/wavedrom/1.6.2/skins/default.js\"),\n",
       "            $.getScript(\"https://cdnjs.cloudflare.com/ajax/libs/wavedrom/1.6.2/wavedrom.min.js\"),\n",
       "            $.Deferred(function( deferred ){\n",
       "                $( deferred.resolve );\n",
       "            })).done(function(){\n",
       "                WaveDrom.ProcessAll();\n",
       "            });"
      ],
      "text/plain": [
       "<IPython.core.display.Javascript object>"
      ]
     },
     "metadata": {},
     "output_type": "display_data"
    }
   ],
   "source": [
    "ripple_carry_sim( )"
   ]
  },
  {
   "cell_type": "markdown",
   "id": "b9c13e36",
   "metadata": {},
   "source": [
    "# Finite State Machine Example\n",
    "\n",
    "Recall from the reading assignment: We can write digital logic that acts like a graph called a <b>Finite State Machine</b>. A <b>Finite State Machine</b> consists of:<br />\n",
    "<ol>\n",
    "    <li>A set of states (represented as nodes)</li>\n",
    "    <li>An initial state</li>\n",
    "    <li>A set of transitions between states (represented by edges)</li>\n",
    "    <li>A set of control input signals</li>\n",
    "</ol>"
   ]
  },
  {
   "cell_type": "markdown",
   "id": "57a601b5",
   "metadata": {},
   "source": [
    "### Now, we can define states. \n",
    "\n",
    "Using the same nodes and transitions as above, Here are the outputs we will create for our new FSM:\n",
    "\n",
    "<ol>\n",
    "    <li><b>State Name:</b><code>q0</code>, <b>Outputs:</b> <code>out_0 = 1</code>, <code>out_1 = a & b</code></li>\n",
    "    <li><b>State Name:</b><code>q1</code>, <b>Outputs:</b> <code>out_0 = a | b | c</code>, <code>out_1 = a ^ b</code></li>\n",
    "    <li><b>State Name:</b><code>q2</code>, <b>Outputs:</b> <code>out_0 = a & b & c</code>, <code>out_1 = 0</code></li>\n",
    "    <li><b>State Name:</b><code>q3</code>, <b>Outputs:</b> <code>out_0 = a ^ b</code>, <code>out_1 = b & c</code></li>\n",
    "    <li><b>State Name:</b><code>q4</code>, <b>Outputs:</b> <code>out_0 = 0</code>, <code>out_1 = 1</code></li>\n",
    "</ol>\n",
    "\n",
    "<img src = \"https://mmorri22-nd.neocities.org/images/lec26_fsm.jpg\" width=700 height=700>"
   ]
  },
  {
   "cell_type": "markdown",
   "id": "f627681a",
   "metadata": {},
   "source": [
    "### Test Suite\n",
    "\n",
    "Here is the truth table for our Finite State Machine\n",
    "\n",
    "| State | out_0 | out_1 | next_state 0 | next_state 1 |\n",
    "|---|---|---|---|---|\n",
    "|q0| 1 | a & b | q1 | q2 |\n",
    "|q1| a or b or c | a ^ b | q1 | q3 |\n",
    "|q2| a & b & c | 0 | q4 | q2 |\n",
    "|q3| a ^ b | b & c| q4 | q2 |\n",
    "|q4| 0 | 1 |q1 | q3 |\n",
    "\n",
    "Based on these functions and the FSM Diagram, here are the <i>expected</i> outputs:\n",
    "\n",
    "\n",
    "| Start State | a | b | c | out_0 | out_1 | Control | Next State |\n",
    "|---|---|---|---|---|---|---|---|\n",
    "|<b><font color=\"purple\">q0</font></b>|1|1|1|<b><font color=\"red\">1</font></b>| a & b = <b><font color=\"blue\">1</font></b>| 1 | q2 |\n",
    "|<b><font color=\"purple\">q2</font></b>|1|0|0|a & b & c = <b><font color=\"red\">0</font></b>| <b><font color=\"blue\">0</font></b> | 1 | q2 |\n",
    "|<b><font color=\"purple\">q2</font></b>|1|1|1|a & b & c = <b><font color=\"red\">1</font></b>| <b><font color=\"blue\">0</font></b> | 0 | q4 |\n",
    "|<b><font color=\"purple\">q4</font></b>|0|1|0|<b><font color=\"red\">0</font></b>| <b><font color=\"blue\">1</font></b> | 1 | q3 |\n",
    "|<b><font color=\"purple\">q3</font></b>|0|1|1|a ^ b = <b><font color=\"red\">1</font></b>| b & c = <b><font color=\"blue\">1</font></b> | 0 | q4 |\n",
    "|<b><font color=\"purple\">q4</font></b>|1|0|0|<b><font color=\"red\">0</font></b>| <b><font color=\"blue\">1</font></b> | 0 | q1 |\n",
    "|<b><font color=\"purple\">q1</font></b>|1|0|0| a or b or c = <b><font color=\"red\">1</font></b> | a ^ b = <b><font color=\"blue\">1</font></b> | 0 | q1 |\n",
    "|<b><font color=\"purple\">q1</font></b>|1|1|0| a or b or c = <b><font color=\"red\">1</font></b> | a ^ b = <b><font color=\"blue\">0</font></b> | 1 | q3 |\n",
    "|<b><font color=\"purple\">q3</font></b>|1|1|1| a ^ b = <b><font color=\"red\">0</font></b>| b & c = <b><font color=\"blue\">1</font></b> | 1 | q2 |"
   ]
  },
  {
   "cell_type": "markdown",
   "id": "c309ec5e",
   "metadata": {},
   "source": [
    "### Additional Functions\n",
    "\n",
    "Click through these functions that we will use inside each state:"
   ]
  },
  {
   "cell_type": "code",
   "execution_count": 15,
   "id": "f9e2199d",
   "metadata": {},
   "outputs": [],
   "source": [
    "def three_input_and( a_input, b_input, c_input ):\n",
    "    \n",
    "    # Create the wire out and put a & b & c on that \n",
    "    y_output = a_input & b_input & c_input\n",
    "\n",
    "    # Use assert to ensure that the signals are one bit\n",
    "    return y_output"
   ]
  },
  {
   "cell_type": "code",
   "execution_count": 16,
   "id": "00119276",
   "metadata": {},
   "outputs": [],
   "source": [
    "def three_input_or( a_input, b_input, c_input ):\n",
    "    \n",
    "    # Create the wire out and put a | b | c on that \n",
    "    y_output = a_input | b_input | c_input\n",
    "\n",
    "    # Use assert to ensure that the signals are one bit\n",
    "    return y_output"
   ]
  },
  {
   "cell_type": "markdown",
   "id": "a77181e1",
   "metadata": {},
   "source": [
    "### First, define each state in the FSM\n",
    "\n",
    "To promote modularity, and reduce the challenges of troubleshooting, keep the \"current state operations\" and the \"next state calculations separate."
   ]
  },
  {
   "cell_type": "code",
   "execution_count": 17,
   "id": "79933721",
   "metadata": {},
   "outputs": [],
   "source": [
    "# For this function, we assume the initial state has already been executed impemented\n",
    "\n",
    "def curr_state_op( curr_state, a_input, b_input, c_input ):\n",
    "    \n",
    "    # In-Class: Must include with pyrtl.conditional_assignment\n",
    "    with pyrtl.conditional_assignment:\n",
    "        \n",
    "        # In-Class: Create two intermediate WireVectors of bitwidth 1\n",
    "        state_out_0 = pyrtl.WireVector(1)\n",
    "        state_out_1 = pyrtl.WireVector(1)\n",
    "        \n",
    "        # In-Class: Perform the transition\n",
    "        \n",
    "        # State q0\n",
    "        with curr_state == 0:\n",
    "            state_out_0 |= 1\n",
    "            state_out_1 |= two_input_and( a_input, b_input )\n",
    "        \n",
    "        # State q1\n",
    "        with curr_state == 1:\n",
    "            state_out_0 |= three_input_or( a_input, b_input, c_input )\n",
    "            state_out_1 |= two_input_xor( a_input, b_input )\n",
    "        \n",
    "        # State q2\n",
    "        with curr_state == 2:\n",
    "            state_out_0 |= three_input_and( a_input, b_input, c_input )\n",
    "            state_out_1 |= 0\n",
    "\n",
    "        # State q3\n",
    "        with curr_state == 3:\n",
    "            state_out_0 |= two_input_xor( a_input, b_input )\n",
    "            state_out_1 |= two_input_and( b_input, c_input )\n",
    "\n",
    "        # State q4\n",
    "        with curr_state == 4:\n",
    "            state_out_0 |= 0\n",
    "            state_out_1 |= 1\n",
    "            \n",
    "        # Return both wire outputs\n",
    "        return state_out_0, state_out_1"
   ]
  },
  {
   "cell_type": "code",
   "execution_count": 18,
   "id": "5f0ed87d",
   "metadata": {},
   "outputs": [],
   "source": [
    "# For this function, we assume the initial state has already been executed impemented\n",
    "\n",
    "def next_state( curr_state, control_signal ):\n",
    "    \n",
    "    # Every time you perform a conditional assignment\n",
    "    with pyrtl.conditional_assignment:\n",
    "            \n",
    "        # Perform the transition\n",
    "        \n",
    "        # State q0\n",
    "        with curr_state == 0:\n",
    "            \n",
    "            with control_signal == 0:\n",
    "                curr_state.next |= 1\n",
    "                \n",
    "            with control_signal == 1:\n",
    "                curr_state.next |= 2\n",
    "                \n",
    "        # State q1\n",
    "        with curr_state == 1:\n",
    "            \n",
    "            with control_signal == 0:\n",
    "                curr_state.next |= 1\n",
    "                \n",
    "            with control_signal == 1:\n",
    "                curr_state.next |= 3\n",
    "                \n",
    "        # State q2\n",
    "        with curr_state == 2:\n",
    "            \n",
    "            with control_signal == 0:\n",
    "                curr_state.next |= 4\n",
    "                \n",
    "            with control_signal == 1:\n",
    "                curr_state.next |= 2\n",
    "                \n",
    "        # State q3\n",
    "        with curr_state == 3:\n",
    "            \n",
    "            with control_signal == 0:\n",
    "                curr_state.next |= 4\n",
    "                \n",
    "            with control_signal == 1:\n",
    "                curr_state.next |= 2\n",
    "                \n",
    "\n",
    "        # State q4\n",
    "        with curr_state == 4:\n",
    "            \n",
    "            with control_signal == 0:\n",
    "                curr_state.next |= 1\n",
    "                \n",
    "            with control_signal == 1:\n",
    "                curr_state.next |= 3\n",
    "        \n",
    "        # Return the updated memory\n",
    "        return curr_state.next"
   ]
  },
  {
   "cell_type": "code",
   "execution_count": 19,
   "id": "76b88284",
   "metadata": {},
   "outputs": [],
   "source": [
    "def example_fsm_simulate( ):\n",
    "    \n",
    "    # Step 1 - Reset the working block\n",
    "    pyrtl.reset_working_block()\n",
    "    \n",
    "    # Step 2 - Create the input and ouput wires\n",
    "    \n",
    "    # Inputs \n",
    "    control_signal = pyrtl.Input(2, 'control_signal')\n",
    "    a_in = pyrtl.Input(1, 'a_in')\n",
    "    b_in = pyrtl.Input(1, 'b_in')\n",
    "    c_in = pyrtl.Input(1, 'c_in')\n",
    "    \n",
    "    # Outputs\n",
    "    output_0 = pyrtl.Output(1, 'output_0')\n",
    "    output_1 = pyrtl.Output(1, 'output_1')\n",
    "    \n",
    "    \n",
    "    # In-Class: Define Register. Needs to have the number of bits requried to hold the value \n",
    "    # Since we have five states, we need three bits\n",
    "    curr_state = pyrtl.Register(3, 'curr_state')\n",
    "\n",
    "    \n",
    "    # In-Class Step 3 - Save to an intermediate value using example_fsm the function\n",
    "    inter_0, inter_1 = curr_state_op( curr_state, a_in, b_in, c_in )\n",
    "    \n",
    "    output_0 <<= inter_0\n",
    "    output_1 <<= inter_1\n",
    "    \n",
    "    # 3b - Map intermediate states to output signals\n",
    "    curr_state = next_state( curr_state, control_signal )\n",
    "    \n",
    "    # Step 4 - Start the design simulation\n",
    "    sim = pyrtl.Simulation()\n",
    "    \n",
    "    # Step 5 - Create lists for the inputs\n",
    "    control_signals = [1,1,0,1,0,0,0,1,1]\n",
    "    a_inputs        = [1,1,1,0,0,1,1,1,1]\n",
    "    b_inputs        = [1,0,1,1,1,0,0,1,1]\n",
    "    c_inputs        = [1,0,1,0,1,0,0,0,1]\n",
    "    \n",
    "    \n",
    "    # Step 6 - Loop through and simuluate\n",
    "    \n",
    "    for value in range(0, len(a_inputs)):\n",
    "\n",
    "        sim.step({\n",
    "            \n",
    "            'control_signal' : control_signals[value],\n",
    "            'a_in' : a_inputs[value],\n",
    "            'b_in' : b_inputs[value],\n",
    "            'c_in' : c_inputs[value] \n",
    "            \n",
    "        })\n",
    "    \n",
    "    # Step 7- Render the trace\n",
    "    sim.tracer.render_trace()"
   ]
  },
  {
   "cell_type": "code",
   "execution_count": 20,
   "id": "b341448a",
   "metadata": {},
   "outputs": [
    {
     "data": {
      "text/html": [
       "<script type=\"WaveDrom\">\n",
       "{\n",
       "  signal : [\n",
       "    { name: \"a_in\",  wave: \"1..0.1...\" },\n",
       "    { name: \"b_in\",  wave: \"101..0.1.\" },\n",
       "    { name: \"c_in\",  wave: \"101010..1\" },\n",
       "    { name: \"control_signal\",  wave: \"=.===..=.\", data: [\"0x1\", \"0x0\", \"0x1\", \"0x0\", \"0x1\"] },\n",
       "    { name: \"curr_state\",  wave: \"==.====.=\", data: [\"0x0\", \"0x2\", \"0x4\", \"0x3\", \"0x4\", \"0x1\", \"0x3\"] },\n",
       "    { name: \"output_0\",  wave: \"1010101.0\" },\n",
       "    { name: \"output_1\",  wave: \"10.1...01\" },\n",
       "  ],\n",
       "  config: { hscale: 1 }\n",
       "}\n",
       "</script>\n"
      ],
      "text/plain": [
       "<IPython.core.display.HTML object>"
      ]
     },
     "metadata": {},
     "output_type": "display_data"
    },
    {
     "data": {
      "application/javascript": [
       "\n",
       "            $.when(\n",
       "            $.getScript(\"https://cdnjs.cloudflare.com/ajax/libs/wavedrom/1.6.2/skins/default.js\"),\n",
       "            $.getScript(\"https://cdnjs.cloudflare.com/ajax/libs/wavedrom/1.6.2/wavedrom.min.js\"),\n",
       "            $.Deferred(function( deferred ){\n",
       "                $( deferred.resolve );\n",
       "            })).done(function(){\n",
       "                WaveDrom.ProcessAll();\n",
       "            });"
      ],
      "text/plain": [
       "<IPython.core.display.Javascript object>"
      ]
     },
     "metadata": {},
     "output_type": "display_data"
    }
   ],
   "source": [
    "example_fsm_simulate()"
   ]
  },
  {
   "cell_type": "markdown",
   "id": "d37a51de",
   "metadata": {},
   "source": [
    "### Check: Compare the generated waveform with the table we developed earlier\n",
    "\n",
    "| Start State | a | b | c | out_0 | out_1 | Control | Next State |\n",
    "|---|---|---|---|---|---|---|---|\n",
    "|<b><font color=\"purple\">q0</font></b>|1|1|1|<b><font color=\"red\">1</font></b>| a & b = <b><font color=\"blue\">1</font></b>| 1 | q2 |\n",
    "|<b><font color=\"purple\">q2</font></b>|1|0|0|a & b & c = <b><font color=\"red\">0</font></b>| <b><font color=\"blue\">0</font></b> | 1 | q2 |\n",
    "|<b><font color=\"purple\">q2</font></b>|1|1|1|a & b & c = <b><font color=\"red\">1</font></b>| <b><font color=\"blue\">0</font></b> | 0 | q4 |\n",
    "|<b><font color=\"purple\">q4</font></b>|0|1|0|<b><font color=\"red\">0</font></b>| <b><font color=\"blue\">1</font></b> | 1 | q3 |\n",
    "|<b><font color=\"purple\">q3</font></b>|0|1|1|a ^ b = <b><font color=\"red\">1</font></b>| b & c = <b><font color=\"blue\">1</font></b> | 0 | q4 |\n",
    "|<b><font color=\"purple\">q4</font></b>|1|0|0|<b><font color=\"red\">0</font></b>| <b><font color=\"blue\">1</font></b> | 0 | q1 |\n",
    "|<b><font color=\"purple\">q1</font></b>|1|0|0| a or b or c = <b><font color=\"red\">1</font></b> | a ^ b = <b><font color=\"blue\">1</font></b> | 0 | q1 |\n",
    "|<b><font color=\"purple\">q1</font></b>|1|1|0| a or b or c = <b><font color=\"red\">1</font></b> | a ^ b = <b><font color=\"blue\">0</font></b> | 1 | q3 |\n",
    "|<b><font color=\"purple\">q3</font></b>|1|1|1| a ^ b = <b><font color=\"red\">0</font></b>| b & c = <b><font color=\"blue\">1</font></b> | 1 | q2 |"
   ]
  },
  {
   "cell_type": "code",
   "execution_count": null,
   "id": "dea12f50",
   "metadata": {},
   "outputs": [],
   "source": []
  }
 ],
 "metadata": {
  "kernelspec": {
   "display_name": "Python 3 (ipykernel)",
   "language": "python",
   "name": "python3"
  },
  "language_info": {
   "codemirror_mode": {
    "name": "ipython",
    "version": 3
   },
   "file_extension": ".py",
   "mimetype": "text/x-python",
   "name": "python",
   "nbconvert_exporter": "python",
   "pygments_lexer": "ipython3",
   "version": "3.9.12"
  }
 },
 "nbformat": 4,
 "nbformat_minor": 5
}
