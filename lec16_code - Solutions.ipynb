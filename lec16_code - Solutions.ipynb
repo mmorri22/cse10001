{
 "cells": [
  {
   "cell_type": "markdown",
   "metadata": {},
   "source": [
    "## This is the Notebook for Lecture 16\n",
    "\n",
    "In this lecture, we will learn techniques for accessing the internet. This will include:\n",
    "\n",
    "<ol>\n",
    "    <li>Learning how to lookup IP Addresses</li>\n",
    "    <li>What an IP Address actually means</li>\n",
    "    <li>Modify RGB values</li>\n",
    "</ol>"
   ]
  },
  {
   "cell_type": "markdown",
   "metadata": {},
   "source": [
    "#### What is Google's IP address?"
   ]
  },
  {
   "cell_type": "markdown",
   "metadata": {},
   "source": [
    "<code>nslookup</code> is a network administration command-line tool for querying the <b>Domain Name System</b> to obtain the mapping between <b>domain name</b> and <b>IP address</b>, or other DNS records"
   ]
  },
  {
   "cell_type": "code",
   "execution_count": 1,
   "metadata": {
    "scrolled": false
   },
   "outputs": [
    {
     "name": "stdout",
     "output_type": "stream",
     "text": [
      "Server:  dns2.nd.edu\n",
      "Address:  66.205.160.99\n",
      "\n",
      "Name:    google.com\n",
      "Address:  142.250.190.78\n",
      "\n"
     ]
    },
    {
     "name": "stderr",
     "output_type": "stream",
     "text": [
      "Non-authoritative answer:\n",
      "\n"
     ]
    }
   ],
   "source": [
    "# On Windows - Run !nslookup google.com\n",
    "# Note: You will get a \"Non-Authoritative Answer block\". You may ignore it\n",
    "\n",
    "# On MacOS - Run !host google.com\n",
    "!nslookup google.com"
   ]
  },
  {
   "cell_type": "markdown",
   "metadata": {},
   "source": [
    "By copying and pasting the produced IP Address into your browser, you will be taken to google.com"
   ]
  },
  {
   "cell_type": "code",
   "execution_count": 2,
   "metadata": {
    "scrolled": false
   },
   "outputs": [
    {
     "name": "stdout",
     "output_type": "stream",
     "text": [
      "Server:  dns2.nd.edu\n",
      "Address:  66.205.160.99\n",
      "\n",
      "Name:    www-home-page-1337944717.us-east-1.elb.amazonaws.com\n",
      "Addresses:  3.225.214.203\n",
      "\t  18.209.151.229\n",
      "\t  54.236.100.138\n",
      "Aliases:  www.nd.edu\n",
      "\n"
     ]
    }
   ],
   "source": [
    "# In-Class Opportunity - Using your OS, find the IP Address for www.nd.edu\n",
    "# Afterwards, copy the addresses into your browser and see what happens!\n",
    "!nslookup www.nd.edu"
   ]
  },
  {
   "cell_type": "markdown",
   "metadata": {},
   "source": [
    "### You will get multiple IP Addresses as a result of this command. Let's see why?\n",
    "You can use the address <code>https://whoislookupdb.com/whois-</code> and then the IP address to see what is actually going on\n",
    "<ol>\n",
    "    For example, for the IP address <code>142.250.190.78</code>, you can use <a href = \"https://whoislookupdb.com/whois-142.250.190.78\">https://whoislookupdb.com/whois-142.250.190.78</a> and you will see that the server resides in Mountain View, CA, home of Google by reviewing the \"<b>Whois Lookup:</b>\" at the bottom.\n",
    "</ol>\n",
    "<p>So use the addresses from www.nd.edu to see where the information is being routed from</p>\n",
    "\n",
    "|IP Address   |Region Name|City         |WHo Owns the IP?|\n",
    "|:------------|:----------|:------------|:------|\n",
    "|142.250.190.78|California |Mountain View|Google |\n",
    "|XXX|XXX|XXX|XXX|\n",
    "|XXX|XXX|XXX|XXX|\n",
    "|XXX|XXX|XXX|XXX|"
   ]
  },
  {
   "cell_type": "markdown",
   "metadata": {},
   "source": [
    "#### The ping command\n",
    "\n",
    "The <code>ping</code> command is used to test the reachability of a host on an Internet Protocol network. <b>ping</b> operates by means of <a href = \"https://en.wikipedia.org/wiki/Internet_Control_Message_Protocol\">Internet Control Message Protocol</a> (ICMP) packets. Pinging involves sending an ICMP echo request to the target host and waiting for an ICMP echo reply. <p>\n",
    "    \n",
    "The program reports: \n",
    "<ol>\n",
    "    <li>errors</li>\n",
    "    <li>packet loss</li>\n",
    "    <li>statistical summary of the results, typically including the minimum, maximum, the mean round-trip times, and standard deviation of the mean.</li>\n",
    "</ol>"
   ]
  },
  {
   "cell_type": "code",
   "execution_count": 3,
   "metadata": {
    "scrolled": false
   },
   "outputs": [
    {
     "name": "stdout",
     "output_type": "stream",
     "text": [
      "\n",
      "Pinging google.com [142.250.190.78] with 32 bytes of data:\n",
      "Reply from 142.250.190.78: bytes=32 time=13ms TTL=112\n",
      "Reply from 142.250.190.78: bytes=32 time=13ms TTL=112\n",
      "Reply from 142.250.190.78: bytes=32 time=13ms TTL=112\n",
      "Reply from 142.250.190.78: bytes=32 time=13ms TTL=112\n",
      "\n",
      "Ping statistics for 142.250.190.78:\n",
      "    Packets: Sent = 4, Received = 4, Lost = 0 (0% loss),\n",
      "Approximate round trip times in milli-seconds:\n",
      "    Minimum = 13ms, Maximum = 13ms, Average = 13ms\n"
     ]
    }
   ],
   "source": [
    "# This command will send 4 packets to google.com and then show the IP Address\n",
    "!ping google.com"
   ]
  },
  {
   "cell_type": "code",
   "execution_count": 4,
   "metadata": {
    "scrolled": false
   },
   "outputs": [
    {
     "name": "stdout",
     "output_type": "stream",
     "text": [
      "\n",
      "Pinging google.com [142.250.190.78] with 32 bytes of data:\n",
      "Reply from 142.250.190.78: bytes=32 time=13ms TTL=112\n",
      "Reply from 142.250.190.78: bytes=32 time=13ms TTL=112\n",
      "Reply from 142.250.190.78: bytes=32 time=13ms TTL=112\n",
      "Reply from 142.250.190.78: bytes=32 time=13ms TTL=112\n",
      "Reply from 142.250.190.78: bytes=32 time=13ms TTL=112\n",
      "\n",
      "Ping statistics for 142.250.190.78:\n",
      "    Packets: Sent = 5, Received = 5, Lost = 0 (0% loss),\n",
      "Approximate round trip times in milli-seconds:\n",
      "    Minimum = 13ms, Maximum = 13ms, Average = 13ms\n"
     ]
    }
   ],
   "source": [
    "# What if we want to run more tests?\n",
    "# ! ping -c 5 google.com # Linux/macOS\n",
    "# ! ping -n 5 google.com # Windows\n",
    "\n",
    "! ping -n 5 google.com"
   ]
  },
  {
   "cell_type": "markdown",
   "metadata": {},
   "source": [
    "### Now that we understand DDoS attacks, let's see what happens when we try to ping nd.edu"
   ]
  },
  {
   "cell_type": "code",
   "execution_count": 5,
   "metadata": {
    "scrolled": false
   },
   "outputs": [
    {
     "name": "stdout",
     "output_type": "stream",
     "text": [
      "\n",
      "Pinging nd.edu [34.193.237.201] with 32 bytes of data:\n",
      "Request timed out.\n",
      "Request timed out.\n",
      "Request timed out.\n",
      "Request timed out.\n",
      "\n",
      "Ping statistics for 34.193.237.201:\n",
      "    Packets: Sent = 4, Received = 0, Lost = 4 (100% loss),\n"
     ]
    }
   ],
   "source": [
    "# Something funny happens if we try to ping nd.edu\n",
    "!ping nd.edu"
   ]
  },
  {
   "cell_type": "markdown",
   "metadata": {},
   "source": [
    "#### The ping command only works if the server has enable Internet Control Message Protocol echo requests\n",
    "<p></p>\n",
    "The most hacked website is irs.gov on April 15th every year"
   ]
  },
  {
   "cell_type": "code",
   "execution_count": 6,
   "metadata": {
    "scrolled": true
   },
   "outputs": [
    {
     "name": "stdout",
     "output_type": "stream",
     "text": [
      "\n",
      "Pinging irs.gov [152.216.11.110] with 32 bytes of data:\n",
      "Request timed out.\n",
      "Request timed out.\n",
      "Reply from 152.216.11.177: Destination net unreachable.\n",
      "Request timed out.\n",
      "\n",
      "Ping statistics for 152.216.11.110:\n",
      "    Packets: Sent = 4, Received = 1, Lost = 3 (75% loss),\n"
     ]
    }
   ],
   "source": [
    "!ping irs.gov"
   ]
  },
  {
   "cell_type": "code",
   "execution_count": 2,
   "metadata": {},
   "outputs": [
    {
     "name": "stdout",
     "output_type": "stream",
     "text": [
      "\n",
      "Pinging www.sesamestreet.org [18.160.200.13] with 32 bytes of data:\n",
      "Reply from 18.160.200.13: bytes=32 time=14ms TTL=243\n",
      "Reply from 18.160.200.13: bytes=32 time=14ms TTL=243\n",
      "Reply from 18.160.200.13: bytes=32 time=14ms TTL=243\n",
      "Reply from 18.160.200.13: bytes=32 time=14ms TTL=243\n",
      "\n",
      "Ping statistics for 18.160.200.13:\n",
      "    Packets: Sent = 4, Received = 4, Lost = 0 (0% loss),\n",
      "Approximate round trip times in milli-seconds:\n",
      "    Minimum = 14ms, Maximum = 14ms, Average = 14ms\n"
     ]
    }
   ],
   "source": [
    "!ping www.sesamestreet.org"
   ]
  },
  {
   "cell_type": "markdown",
   "metadata": {},
   "source": [
    "### Services running on your machine"
   ]
  },
  {
   "cell_type": "code",
   "execution_count": 7,
   "metadata": {
    "scrolled": true
   },
   "outputs": [
    {
     "name": "stdout",
     "output_type": "stream",
     "text": [
      "\n",
      "Windows IP Configuration\n",
      "\n",
      "\n",
      "Ethernet adapter Ethernet:\n",
      "\n",
      "   Connection-specific DNS Suffix  . : campus.nd.edu\n",
      "   Link-local IPv6 Address . . . . . : fe80::64a6:f29a:4b01:a2fa%6\n",
      "   IPv4 Address. . . . . . . . . . . : 10.17.130.125\n",
      "   Subnet Mask . . . . . . . . . . . : 255.255.248.0\n",
      "   Default Gateway . . . . . . . . . : 10.17.128.1\n",
      "\n",
      "Wireless LAN adapter Wi-Fi:\n",
      "\n",
      "   Media State . . . . . . . . . . . : Media disconnected\n",
      "   Connection-specific DNS Suffix  . : \n",
      "\n",
      "Wireless LAN adapter Local Area Connection* 1:\n",
      "\n",
      "   Media State . . . . . . . . . . . : Media disconnected\n",
      "   Connection-specific DNS Suffix  . : \n",
      "\n",
      "Wireless LAN adapter Local Area Connection* 2:\n",
      "\n",
      "   Media State . . . . . . . . . . . : Media disconnected\n",
      "   Connection-specific DNS Suffix  . : \n",
      "\n",
      "Ethernet adapter Bluetooth Network Connection:\n",
      "\n",
      "   Media State . . . . . . . . . . . : Media disconnected\n",
      "   Connection-specific DNS Suffix  . : \n"
     ]
    }
   ],
   "source": [
    "# This command will show the potential connections on your local machine\n",
    "# For windows - !ipconfig\n",
    "# For macOS - !ifconfig\n",
    "\n",
    "!ipconfig"
   ]
  },
  {
   "cell_type": "code",
   "execution_count": 8,
   "metadata": {
    "scrolled": false
   },
   "outputs": [
    {
     "name": "stdout",
     "output_type": "stream",
     "text": [
      "\n",
      "Active Connections\n",
      "\n",
      "  Proto  Local Address          Foreign Address        State\n",
      "  TCP    0.0.0.0:135            0.0.0.0:0              LISTENING\n",
      "  TCP    0.0.0.0:445            0.0.0.0:0              LISTENING\n",
      "  TCP    0.0.0.0:623            0.0.0.0:0              LISTENING\n",
      "  TCP    0.0.0.0:2701           0.0.0.0:0              LISTENING\n",
      "  TCP    0.0.0.0:3389           0.0.0.0:0              LISTENING\n",
      "  TCP    0.0.0.0:5040           0.0.0.0:0              LISTENING\n",
      "  TCP    0.0.0.0:5405           0.0.0.0:0              LISTENING\n",
      "  TCP    0.0.0.0:5985           0.0.0.0:0              LISTENING\n",
      "  TCP    0.0.0.0:7680           0.0.0.0:0              LISTENING\n",
      "  TCP    0.0.0.0:8005           0.0.0.0:0              LISTENING\n",
      "  TCP    0.0.0.0:8029           0.0.0.0:0              LISTENING\n",
      "  TCP    0.0.0.0:16992          0.0.0.0:0              LISTENING\n",
      "  TCP    0.0.0.0:26666          0.0.0.0:0              LISTENING\n",
      "  TCP    0.0.0.0:28201          0.0.0.0:0              LISTENING\n",
      "  TCP    0.0.0.0:30950          0.0.0.0:0              LISTENING\n",
      "  TCP    0.0.0.0:47001          0.0.0.0:0              LISTENING\n",
      "  TCP    0.0.0.0:49664          0.0.0.0:0              LISTENING\n",
      "  TCP    0.0.0.0:49665          0.0.0.0:0              LISTENING\n",
      "  TCP    0.0.0.0:49666          0.0.0.0:0              LISTENING\n",
      "  TCP    0.0.0.0:49667          0.0.0.0:0              LISTENING\n",
      "  TCP    0.0.0.0:49669          0.0.0.0:0              LISTENING\n",
      "  TCP    0.0.0.0:49674          0.0.0.0:0              LISTENING\n",
      "  TCP    0.0.0.0:49675          0.0.0.0:0              LISTENING\n",
      "  TCP    0.0.0.0:49739          0.0.0.0:0              LISTENING\n",
      "  TCP    0.0.0.0:49751          0.0.0.0:0              LISTENING\n",
      "  TCP    0.0.0.0:53534          0.0.0.0:0              LISTENING\n",
      "  TCP    0.0.0.0:64995          0.0.0.0:0              LISTENING\n",
      "  TCP    10.17.130.125:139      0.0.0.0:0              LISTENING\n",
      "  TCP    10.17.130.125:49894    40.83.247.108:443      ESTABLISHED\n",
      "  TCP    10.17.130.125:53557    142.250.123.188:5228   ESTABLISHED\n",
      "  TCP    10.17.130.125:53804    129.74.152.87:22       ESTABLISHED\n",
      "  TCP    10.17.130.125:54695    172.217.4.197:443      ESTABLISHED\n",
      "  TCP    10.17.130.125:55149    129.74.250.228:443     TIME_WAIT\n",
      "  TCP    10.17.130.125:55186    172.66.42.230:443      TIME_WAIT\n",
      "  TCP    10.17.130.125:55187    172.66.41.26:443       ESTABLISHED\n",
      "  TCP    10.17.130.125:55190    104.18.225.52:443      ESTABLISHED\n",
      "  TCP    10.17.130.125:55200    35.201.93.97:80        TIME_WAIT\n",
      "  TCP    10.17.130.125:55201    35.201.93.97:80        TIME_WAIT\n",
      "  TCP    10.17.130.125:55202    35.201.93.97:80        TIME_WAIT\n",
      "  TCP    10.17.130.125:55203    20.42.73.24:443        ESTABLISHED\n",
      "  TCP    10.17.130.125:55206    129.74.250.228:443     TIME_WAIT\n",
      "  TCP    10.17.130.125:55207    129.74.250.228:443     TIME_WAIT\n",
      "  TCP    10.17.130.125:55208    129.74.250.228:443     TIME_WAIT\n",
      "  TCP    10.17.130.125:55209    129.74.250.228:443     TIME_WAIT\n",
      "  TCP    10.17.130.125:55215    129.74.250.228:443     TIME_WAIT\n",
      "  TCP    10.17.130.125:55218    129.74.250.228:443     TIME_WAIT\n",
      "  TCP    10.17.130.125:55227    35.201.93.97:80        TIME_WAIT\n",
      "  TCP    10.17.130.125:55228    35.201.93.97:80        TIME_WAIT\n",
      "  TCP    10.17.130.125:55229    35.201.93.97:80        TIME_WAIT\n",
      "  TCP    10.17.130.125:55230    129.74.250.228:443     ESTABLISHED\n",
      "  TCP    10.17.130.125:55231    35.201.93.97:80        TIME_WAIT\n",
      "  TCP    10.17.130.125:55232    35.201.93.97:80        TIME_WAIT\n",
      "  TCP    10.17.130.125:55233    35.201.93.97:80        TIME_WAIT\n",
      "  TCP    10.17.130.125:55234    35.201.93.97:80        TIME_WAIT\n",
      "  TCP    10.17.130.125:55235    35.201.93.97:80        TIME_WAIT\n",
      "  TCP    10.17.130.125:55236    35.201.93.97:80        TIME_WAIT\n",
      "  TCP    127.0.0.1:5354         0.0.0.0:0              LISTENING\n",
      "  TCP    127.0.0.1:8888         0.0.0.0:0              LISTENING\n",
      "  TCP    127.0.0.1:49715        0.0.0.0:0              LISTENING\n",
      "  TCP    127.0.0.1:49732        0.0.0.0:0              LISTENING\n",
      "  TCP    127.0.0.1:49737        127.0.0.1:49738        ESTABLISHED\n",
      "  TCP    127.0.0.1:49738        127.0.0.1:49737        ESTABLISHED\n",
      "  TCP    127.0.0.1:53560        0.0.0.0:0              LISTENING\n",
      "  TCP    127.0.0.1:53595        127.0.0.1:62522        ESTABLISHED\n",
      "  TCP    127.0.0.1:53606        127.0.0.1:53607        ESTABLISHED\n",
      "  TCP    127.0.0.1:53607        127.0.0.1:53606        ESTABLISHED\n",
      "  TCP    127.0.0.1:53697        0.0.0.0:0              LISTENING\n",
      "  TCP    127.0.0.1:53697        127.0.0.1:53706        ESTABLISHED\n",
      "  TCP    127.0.0.1:53697        127.0.0.1:53715        ESTABLISHED\n",
      "  TCP    127.0.0.1:53698        0.0.0.0:0              LISTENING\n",
      "  TCP    127.0.0.1:53698        127.0.0.1:53703        ESTABLISHED\n",
      "  TCP    127.0.0.1:53698        127.0.0.1:53714        ESTABLISHED\n",
      "  TCP    127.0.0.1:53699        0.0.0.0:0              LISTENING\n",
      "  TCP    127.0.0.1:53699        127.0.0.1:53717        ESTABLISHED\n",
      "  TCP    127.0.0.1:53700        0.0.0.0:0              LISTENING\n",
      "  TCP    127.0.0.1:53701        0.0.0.0:0              LISTENING\n",
      "  TCP    127.0.0.1:53701        127.0.0.1:53702        ESTABLISHED\n",
      "  TCP    127.0.0.1:53701        127.0.0.1:53716        ESTABLISHED\n",
      "  TCP    127.0.0.1:53702        127.0.0.1:53701        ESTABLISHED\n",
      "  TCP    127.0.0.1:53703        127.0.0.1:53698        ESTABLISHED\n",
      "  TCP    127.0.0.1:53706        127.0.0.1:53697        ESTABLISHED\n",
      "  TCP    127.0.0.1:53707        127.0.0.1:53708        ESTABLISHED\n",
      "  TCP    127.0.0.1:53708        127.0.0.1:53707        ESTABLISHED\n",
      "  TCP    127.0.0.1:53709        127.0.0.1:53710        ESTABLISHED\n",
      "  TCP    127.0.0.1:53710        127.0.0.1:53709        ESTABLISHED\n",
      "  TCP    127.0.0.1:53711        0.0.0.0:0              LISTENING\n",
      "  TCP    127.0.0.1:53712        127.0.0.1:53713        ESTABLISHED\n",
      "  TCP    127.0.0.1:53713        127.0.0.1:53712        ESTABLISHED\n",
      "  TCP    127.0.0.1:53714        127.0.0.1:53698        ESTABLISHED\n",
      "  TCP    127.0.0.1:53715        127.0.0.1:53697        ESTABLISHED\n",
      "  TCP    127.0.0.1:53716        127.0.0.1:53701        ESTABLISHED\n",
      "  TCP    127.0.0.1:53717        127.0.0.1:53699        ESTABLISHED\n",
      "  TCP    127.0.0.1:54719        0.0.0.0:0              LISTENING\n",
      "  TCP    127.0.0.1:54719        127.0.0.1:54728        ESTABLISHED\n",
      "  TCP    127.0.0.1:54719        127.0.0.1:54737        ESTABLISHED\n",
      "  TCP    127.0.0.1:54720        0.0.0.0:0              LISTENING\n",
      "  TCP    127.0.0.1:54720        127.0.0.1:54725        ESTABLISHED\n",
      "  TCP    127.0.0.1:54720        127.0.0.1:54736        ESTABLISHED\n",
      "  TCP    127.0.0.1:54721        0.0.0.0:0              LISTENING\n",
      "  TCP    127.0.0.1:54721        127.0.0.1:54739        ESTABLISHED\n",
      "  TCP    127.0.0.1:54722        0.0.0.0:0              LISTENING\n",
      "  TCP    127.0.0.1:54723        0.0.0.0:0              LISTENING\n",
      "  TCP    127.0.0.1:54723        127.0.0.1:54724        ESTABLISHED\n",
      "  TCP    127.0.0.1:54723        127.0.0.1:54738        ESTABLISHED\n",
      "  TCP    127.0.0.1:54724        127.0.0.1:54723        ESTABLISHED\n",
      "  TCP    127.0.0.1:54725        127.0.0.1:54720        ESTABLISHED\n",
      "  TCP    127.0.0.1:54728        127.0.0.1:54719        ESTABLISHED\n",
      "  TCP    127.0.0.1:54729        127.0.0.1:54730        ESTABLISHED\n",
      "  TCP    127.0.0.1:54730        127.0.0.1:54729        ESTABLISHED\n",
      "  TCP    127.0.0.1:54731        127.0.0.1:54732        ESTABLISHED\n",
      "  TCP    127.0.0.1:54732        127.0.0.1:54731        ESTABLISHED\n",
      "  TCP    127.0.0.1:54733        0.0.0.0:0              LISTENING\n",
      "  TCP    127.0.0.1:54734        127.0.0.1:54735        ESTABLISHED\n",
      "  TCP    127.0.0.1:54735        127.0.0.1:54734        ESTABLISHED\n",
      "  TCP    127.0.0.1:54736        127.0.0.1:54720        ESTABLISHED\n",
      "  TCP    127.0.0.1:54737        127.0.0.1:54719        ESTABLISHED\n",
      "  TCP    127.0.0.1:54738        127.0.0.1:54723        ESTABLISHED\n",
      "  TCP    127.0.0.1:54739        127.0.0.1:54721        ESTABLISHED\n",
      "  TCP    127.0.0.1:54908        0.0.0.0:0              LISTENING\n",
      "  TCP    127.0.0.1:54908        127.0.0.1:54917        ESTABLISHED\n",
      "  TCP    127.0.0.1:54908        127.0.0.1:54926        ESTABLISHED\n",
      "  TCP    127.0.0.1:54909        0.0.0.0:0              LISTENING\n",
      "  TCP    127.0.0.1:54909        127.0.0.1:54914        ESTABLISHED\n",
      "  TCP    127.0.0.1:54909        127.0.0.1:54925        ESTABLISHED\n",
      "  TCP    127.0.0.1:54910        0.0.0.0:0              LISTENING\n",
      "  TCP    127.0.0.1:54910        127.0.0.1:54928        ESTABLISHED\n",
      "  TCP    127.0.0.1:54911        0.0.0.0:0              LISTENING\n",
      "  TCP    127.0.0.1:54912        0.0.0.0:0              LISTENING\n",
      "  TCP    127.0.0.1:54912        127.0.0.1:54913        ESTABLISHED\n",
      "  TCP    127.0.0.1:54912        127.0.0.1:54927        ESTABLISHED\n",
      "  TCP    127.0.0.1:54913        127.0.0.1:54912        ESTABLISHED\n",
      "  TCP    127.0.0.1:54914        127.0.0.1:54909        ESTABLISHED\n",
      "  TCP    127.0.0.1:54917        127.0.0.1:54908        ESTABLISHED\n",
      "  TCP    127.0.0.1:54918        127.0.0.1:54919        ESTABLISHED\n",
      "  TCP    127.0.0.1:54919        127.0.0.1:54918        ESTABLISHED\n",
      "  TCP    127.0.0.1:54920        127.0.0.1:54921        ESTABLISHED\n",
      "  TCP    127.0.0.1:54921        127.0.0.1:54920        ESTABLISHED\n",
      "  TCP    127.0.0.1:54922        0.0.0.0:0              LISTENING\n",
      "  TCP    127.0.0.1:54923        127.0.0.1:54924        ESTABLISHED\n",
      "  TCP    127.0.0.1:54924        127.0.0.1:54923        ESTABLISHED\n",
      "  TCP    127.0.0.1:54925        127.0.0.1:54909        ESTABLISHED\n",
      "  TCP    127.0.0.1:54926        127.0.0.1:54908        ESTABLISHED\n",
      "  TCP    127.0.0.1:54927        127.0.0.1:54912        ESTABLISHED\n",
      "  TCP    127.0.0.1:54928        127.0.0.1:54910        ESTABLISHED\n",
      "  TCP    127.0.0.1:62522        0.0.0.0:0              LISTENING\n",
      "  TCP    127.0.0.1:62522        127.0.0.1:53595        ESTABLISHED\n",
      "  TCP    [::]:135               [::]:0                 LISTENING\n",
      "  TCP    [::]:445               [::]:0                 LISTENING\n",
      "  TCP    [::]:623               [::]:0                 LISTENING\n",
      "  TCP    [::]:2701              [::]:0                 LISTENING\n",
      "  TCP    [::]:3389              [::]:0                 LISTENING\n",
      "  TCP    [::]:5985              [::]:0                 LISTENING\n",
      "  TCP    [::]:7680              [::]:0                 LISTENING\n",
      "  TCP    [::]:8005              [::]:0                 LISTENING\n",
      "  TCP    [::]:8029              [::]:0                 LISTENING\n",
      "  TCP    [::]:16992             [::]:0                 LISTENING\n",
      "  TCP    [::]:47001             [::]:0                 LISTENING\n",
      "  TCP    [::]:49664             [::]:0                 LISTENING\n",
      "  TCP    [::]:49665             [::]:0                 LISTENING\n",
      "  TCP    [::]:49666             [::]:0                 LISTENING\n",
      "  TCP    [::]:49667             [::]:0                 LISTENING\n",
      "  TCP    [::]:49669             [::]:0                 LISTENING\n",
      "  TCP    [::]:49674             [::]:0                 LISTENING\n",
      "  TCP    [::]:49675             [::]:0                 LISTENING\n",
      "  TCP    [::]:49739             [::]:0                 LISTENING\n",
      "  TCP    [::]:49751             [::]:0                 LISTENING\n",
      "  TCP    [::]:64995             [::]:0                 LISTENING\n",
      "  TCP    [::1]:8888             [::]:0                 LISTENING\n",
      "  TCP    [::1]:8888             [::1]:53704            ESTABLISHED\n",
      "  TCP    [::1]:8888             [::1]:54716            ESTABLISHED\n",
      "  TCP    [::1]:8888             [::1]:54726            ESTABLISHED\n",
      "  TCP    [::1]:8888             [::1]:54915            ESTABLISHED\n",
      "  TCP    [::1]:49679            [::]:0                 LISTENING\n",
      "  TCP    [::1]:53704            [::1]:8888             ESTABLISHED\n",
      "  TCP    [::1]:54716            [::1]:8888             ESTABLISHED\n",
      "  TCP    [::1]:54726            [::1]:8888             ESTABLISHED\n",
      "  TCP    [::1]:54915            [::1]:8888             ESTABLISHED\n",
      "  UDP    0.0.0.0:123            *:*                    \n",
      "  UDP    0.0.0.0:1434           *:*                    \n",
      "  UDP    0.0.0.0:5050           *:*                    \n",
      "  UDP    0.0.0.0:5353           *:*                    \n",
      "  UDP    0.0.0.0:5353           *:*                    \n"
     ]
    },
    {
     "name": "stdout",
     "output_type": "stream",
     "text": [
      "  UDP    0.0.0.0:5353           *:*                    \n",
      "  UDP    0.0.0.0:5355           *:*                    \n",
      "  UDP    0.0.0.0:5405           *:*                    \n",
      "  UDP    0.0.0.0:49292          142.250.191.138:443    \n",
      "  UDP    0.0.0.0:49826          142.251.32.10:443      \n",
      "  UDP    0.0.0.0:50776          *:*                    \n",
      "  UDP    0.0.0.0:50838          172.217.4.195:443      \n",
      "  UDP    0.0.0.0:53793          *:*                    \n",
      "  UDP    0.0.0.0:53963          172.217.5.14:443       \n",
      "  UDP    0.0.0.0:54292          *:*                    \n",
      "  UDP    0.0.0.0:54325          172.217.0.174:443      \n",
      "  UDP    0.0.0.0:56191          *:*                    \n",
      "  UDP    0.0.0.0:62309          *:*                    \n",
      "  UDP    0.0.0.0:62902          *:*                    \n",
      "  UDP    0.0.0.0:63565          *:*                    \n",
      "  UDP    0.0.0.0:64245          *:*                    \n",
      "  UDP    0.0.0.0:64247          *:*                    \n",
      "  UDP    0.0.0.0:65048          *:*                    \n",
      "  UDP    0.0.0.0:65127          *:*                    \n",
      "  UDP    10.17.130.125:137      *:*                    \n",
      "  UDP    10.17.130.125:138      *:*                    \n",
      "  UDP    10.17.130.125:2177     *:*                    \n",
      "  UDP    10.17.130.125:5353     *:*                    \n",
      "  UDP    127.0.0.1:50928        127.0.0.1:50928        \n",
      "  UDP    127.0.0.1:52561        127.0.0.1:52561        \n",
      "  UDP    127.0.0.1:52580        127.0.0.1:52580        \n",
      "  UDP    127.0.0.1:57702        127.0.0.1:57702        \n",
      "  UDP    127.0.0.1:60037        127.0.0.1:60037        \n",
      "  UDP    127.0.0.1:64629        127.0.0.1:64629        \n",
      "  UDP    [::]:123               *:*                    \n",
      "  UDP    [::]:1434              *:*                    \n",
      "  UDP    [::]:5353              *:*                    \n",
      "  UDP    [::]:5353              *:*                    \n",
      "  UDP    [::]:5355              *:*                    \n",
      "  UDP    [::]:50776             *:*                    \n",
      "  UDP    [::]:56191             *:*                    \n",
      "  UDP    [::]:62310             *:*                    \n",
      "  UDP    [::]:62902             *:*                    \n",
      "  UDP    [::]:63565             *:*                    \n",
      "  UDP    [::]:64247             *:*                    \n",
      "  UDP    [::]:65048             *:*                    \n",
      "  UDP    [::]:65127             *:*                    \n",
      "  UDP    [::1]:5353             *:*                    \n",
      "  UDP    [fe80::64a6:f29a:4b01:a2fa%6]:2177  *:*                    \n"
     ]
    }
   ],
   "source": [
    "# For macOS, run !netstat -tlnp\n",
    "# For Windows, run !netstat -a -n\n",
    "\n",
    "!netstat -a -n"
   ]
  },
  {
   "cell_type": "code",
   "execution_count": null,
   "metadata": {},
   "outputs": [],
   "source": []
  }
 ],
 "metadata": {
  "kernelspec": {
   "display_name": "Python 3 (ipykernel)",
   "language": "python",
   "name": "python3"
  },
  "language_info": {
   "codemirror_mode": {
    "name": "ipython",
    "version": 3
   },
   "file_extension": ".py",
   "mimetype": "text/x-python",
   "name": "python",
   "nbconvert_exporter": "python",
   "pygments_lexer": "ipython3",
   "version": "3.9.12"
  }
 },
 "nbformat": 4,
 "nbformat_minor": 2
}
