{
 "cells": [
  {
   "cell_type": "markdown",
   "id": "d4e8982c",
   "metadata": {},
   "source": [
    "### This is the Notebook for Lecture 12\n",
    "\n",
    "In this lecture, we will learn techniques for using Python to interact with the Operating System, as well as how recursion and memory affects computing performance. This will include:\n",
    "\n",
    "<ol>\n",
    "    <li>Printing the date and time</li>\n",
    "    <li>Recursion using the Fibonacci Sequence</li>\n",
    "    <li>Memoization using a dictionary</li>\n",
    "    <li>Showing how memoization will significantly improve the run time of the program.</li>\n",
    "</ol>"
   ]
  },
  {
   "cell_type": "code",
   "execution_count": 1,
   "id": "ad3bbb58",
   "metadata": {},
   "outputs": [],
   "source": [
    "import os"
   ]
  },
  {
   "cell_type": "code",
   "execution_count": 2,
   "id": "ae1807ab",
   "metadata": {},
   "outputs": [
    {
     "data": {
      "text/plain": [
       "1"
      ]
     },
     "execution_count": 2,
     "metadata": {},
     "output_type": "execute_result"
    }
   ],
   "source": [
    "os.system('date')"
   ]
  },
  {
   "cell_type": "code",
   "execution_count": 4,
   "id": "96a97b4d",
   "metadata": {},
   "outputs": [
    {
     "data": {
      "text/plain": [
       "0"
      ]
     },
     "execution_count": 4,
     "metadata": {},
     "output_type": "execute_result"
    }
   ],
   "source": [
    "os.system('calc.exe')"
   ]
  },
  {
   "cell_type": "code",
   "execution_count": 5,
   "id": "b2386e94",
   "metadata": {},
   "outputs": [
    {
     "name": "stdout",
     "output_type": "stream",
     "text": [
      "0 .ipynb_checkpoints\n",
      "1 Digital World Textbook\n",
      "2 FightSong.txt\n",
      "3 Lecture 01 - Introduction to Principles of Computing.pptx\n",
      "4 Lecture 02 - Introduction to Programming and Data Representation.pptx\n",
      "5 Lecture 03 - Variables, Expressions, and Functions.pptx\n",
      "6 Lecture 04 - CPU and Conditionals Execution.pptx\n",
      "7 Lecture 06 - Iteration and Lists.pptx\n",
      "8 Lecture 07 - Dice Rolling, Compound Interest.pptx\n",
      "9 Lecture 08 - Algorithms.pptx\n",
      "10 Lecture 09 - Strings and Duplicates.pptx\n",
      "11 Lecture 10 - File Input-Output.pptx\n",
      "12 Lecture 11 - Dictionaries and Spell Check.pptx\n",
      "13 Lecture 12 - Operating Systems.pptx\n",
      "14 Untitled.ipynb\n",
      "15 dict\n",
      "16 google.txt\n",
      "17 inigo.txt\n",
      "18 lab04.ipynb\n",
      "19 lec02_code.ipynb\n",
      "20 lec03_code.ipynb\n",
      "21 lec04_code.ipynb\n",
      "22 lec06_code.ipynb\n",
      "23 lec07_code .ipynb\n",
      "24 lec08_code.ipynb\n",
      "25 lec09_code.ipynb\n",
      "26 lec10_code.ipynb\n",
      "27 lec11_code.ipynb\n",
      "28 lec12_code.ipynb\n",
      "29 words.txt\n",
      "30 ~$Lecture 06 - Iteration and Lists.pptx\n",
      "31 ~$Lecture 10 - File Input-Output.pptx\n",
      "32 ~$Lecture 12 - Operating Systems.pptx\n"
     ]
    }
   ],
   "source": [
    "for index, file in enumerate(sorted(os.listdir('.'))):\n",
    "    print(index, file)"
   ]
  },
  {
   "cell_type": "code",
   "execution_count": 7,
   "id": "1ca13d22",
   "metadata": {},
   "outputs": [
    {
     "name": "stdout",
     "output_type": "stream",
     "text": [
      "FightSong.txt has 272 bytes!\n",
      "Lecture 01 - Introduction to Principles of Computing.pptx has 106120357 bytes!\n",
      "Lecture 02 - Introduction to Programming and Data Representation.pptx has 38360640 bytes!\n",
      "Lecture 03 - Variables, Expressions, and Functions.pptx has 477109 bytes!\n",
      "Lecture 04 - CPU and Conditionals Execution.pptx has 45811079 bytes!\n",
      "Lecture 06 - Iteration and Lists.pptx has 665331 bytes!\n",
      "Lecture 07 - Dice Rolling, Compound Interest.pptx has 584629 bytes!\n",
      "Lecture 08 - Algorithms.pptx has 710512 bytes!\n",
      "Lecture 09 - Strings and Duplicates.pptx has 661650 bytes!\n",
      "Lecture 10 - File Input-Output.pptx has 786958 bytes!\n",
      "Lecture 11 - Dictionaries and Spell Check.pptx has 616228 bytes!\n",
      "Lecture 12 - Operating Systems.pptx has 46219122 bytes!\n",
      "Untitled.ipynb has 1108 bytes!\n",
      "google.txt has 14013 bytes!\n",
      "inigo.txt has 86 bytes!\n",
      "lab04.ipynb has 7308 bytes!\n",
      "lec02_code.ipynb has 15547 bytes!\n",
      "lec03_code.ipynb has 19006 bytes!\n",
      "lec04_code.ipynb has 8704 bytes!\n",
      "lec06_code.ipynb has 22952 bytes!\n",
      "lec07_code .ipynb has 35951 bytes!\n",
      "lec08_code.ipynb has 15077 bytes!\n",
      "lec09_code.ipynb has 25154 bytes!\n",
      "lec10_code.ipynb has 17142 bytes!\n",
      "lec11_code.ipynb has 23586 bytes!\n",
      "lec12_code.ipynb has 3449 bytes!\n",
      "words.txt has 4862992 bytes!\n",
      "~$Lecture 06 - Iteration and Lists.pptx has 165 bytes!\n",
      "~$Lecture 10 - File Input-Output.pptx has 165 bytes!\n",
      "~$Lecture 12 - Operating Systems.pptx has 165 bytes!\n"
     ]
    }
   ],
   "source": [
    "for path in sorted(os.listdir()):\n",
    "    if os.path.isfile(path):\n",
    "        stat = os.stat(path)\n",
    "        print(f'{path} has {stat.st_size} bytes!')"
   ]
  },
  {
   "cell_type": "code",
   "execution_count": 2,
   "id": "dc06893d",
   "metadata": {},
   "outputs": [
    {
     "data": {
      "text/plain": [
       "8"
      ]
     },
     "execution_count": 2,
     "metadata": {},
     "output_type": "execute_result"
    }
   ],
   "source": [
    "def fibonacci(n):\n",
    "    if n <= 1:\n",
    "        return 1\n",
    "    else:\n",
    "        return fibonacci(n - 1) + fibonacci(n - 2)\n",
    "    \n",
    "fibonacci(5)"
   ]
  },
  {
   "cell_type": "code",
   "execution_count": 6,
   "id": "673b5592",
   "metadata": {},
   "outputs": [
    {
     "name": "stdout",
     "output_type": "stream",
     "text": [
      "1\n",
      "1\n",
      "2\n",
      "3\n",
      "5\n",
      "8\n",
      "13\n",
      "21\n",
      "34\n",
      "55\n"
     ]
    }
   ],
   "source": [
    "for i in range(0,10):\n",
    "    print(fibonacci(i))"
   ]
  },
  {
   "cell_type": "code",
   "execution_count": 27,
   "id": "e37fb36e",
   "metadata": {},
   "outputs": [
    {
     "name": "stdout",
     "output_type": "stream",
     "text": [
      "3.41 s ± 300 ms per loop (mean ± std. dev. of 7 runs, 1 loop each)\n"
     ]
    }
   ],
   "source": [
    "# Output has been cleared\n",
    "# Running 34th Fibonacci will process\n",
    "%timeit fibonacci(34)"
   ]
  },
  {
   "cell_type": "code",
   "execution_count": 3,
   "id": "a438908d",
   "metadata": {},
   "outputs": [],
   "source": [
    "def fibonacci_memo( fib_dict, n ):\n",
    "    \n",
    "    # If it is already in the dictionary\n",
    "    if n in fib_dict:\n",
    "        return fib_dict[n]\n",
    "    \n",
    "    elif n <= 1:\n",
    "        fib_dict[n] = 1\n",
    "    \n",
    "    else:\n",
    "        left_result = fibonacci_memo( fib_dict, n-1 )\n",
    "        right_result = fibonacci_memo( fib_dict, n-2 )\n",
    "        fib_dict[n] = left_result + right_result\n",
    "        \n",
    "    return fib_dict[n]"
   ]
  },
  {
   "cell_type": "code",
   "execution_count": 5,
   "id": "c915e7fc",
   "metadata": {},
   "outputs": [
    {
     "name": "stdout",
     "output_type": "stream",
     "text": [
      "1\n",
      "1\n",
      "2\n",
      "3\n",
      "5\n",
      "8\n",
      "13\n",
      "21\n",
      "34\n",
      "55\n"
     ]
    }
   ],
   "source": [
    "fib_dict = {}\n",
    "\n",
    "for n in range(0, 10):\n",
    "    print( fibonacci_memo(fib_dict, n) )"
   ]
  },
  {
   "cell_type": "code",
   "execution_count": 7,
   "id": "4e36b2c4",
   "metadata": {},
   "outputs": [
    {
     "data": {
      "text/plain": [
       "573147844013817084101"
      ]
     },
     "execution_count": 7,
     "metadata": {},
     "output_type": "execute_result"
    }
   ],
   "source": [
    "fibonacci_memo(fib_dict, 100)"
   ]
  },
  {
   "cell_type": "markdown",
   "id": "7432c329",
   "metadata": {},
   "source": [
    "You can check the value of the 100th Fibonacci number <a href = \"https://www.google.com/search?q=100th+fibonacci+number&rlz=1C1JZAP_enUS828US828&oq=100th+Fibo&aqs=chrome.0.0i512j69i57j0i512j0i22i30j0i390l2.2678j0j4&sourceid=chrome&ie=UTF-8\">by searching on Google here</a>"
   ]
  },
  {
   "cell_type": "code",
   "execution_count": 8,
   "id": "468578f3",
   "metadata": {},
   "outputs": [
    {
     "data": {
      "text/plain": [
       "70330367711422815821835254877183549770181269836358732742604905087154537118196933579742249494562611733487750449241765991088186363265450223647106012053374121273867339111198139373125598767690091902245245323403501"
      ]
     },
     "execution_count": 8,
     "metadata": {},
     "output_type": "execute_result"
    }
   ],
   "source": [
    "# Look how much faster we can calculate these numbers!\n",
    "fibonacci_memo(fib_dict, 1000)"
   ]
  },
  {
   "cell_type": "code",
   "execution_count": 9,
   "id": "d0d92077",
   "metadata": {},
   "outputs": [
    {
     "name": "stdout",
     "output_type": "stream",
     "text": [
      "213 ns ± 17 ns per loop (mean ± std. dev. of 7 runs, 1,000,000 loops each)\n"
     ]
    }
   ],
   "source": [
    "# Compared o 3.41 s ± 300 ms for the regular Fibonacci sequence for just 34!\n",
    "%timeit fibonacci_memo(fib_dict, 1000)"
   ]
  },
  {
   "cell_type": "code",
   "execution_count": null,
   "id": "a123e178",
   "metadata": {},
   "outputs": [],
   "source": []
  }
 ],
 "metadata": {
  "kernelspec": {
   "display_name": "Python 3 (ipykernel)",
   "language": "python",
   "name": "python3"
  },
  "language_info": {
   "codemirror_mode": {
    "name": "ipython",
    "version": 3
   },
   "file_extension": ".py",
   "mimetype": "text/x-python",
   "name": "python",
   "nbconvert_exporter": "python",
   "pygments_lexer": "ipython3",
   "version": "3.9.12"
  }
 },
 "nbformat": 4,
 "nbformat_minor": 5
}
