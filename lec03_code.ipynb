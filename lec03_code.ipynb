{
 "cells": [
  {
   "cell_type": "markdown",
   "id": "8a10338e",
   "metadata": {},
   "source": [
    "### This is the preview notebook for Lecture 03\n",
    "<p>   </p>\n",
    "In this lecture, we will learn about <b>variables</b>, <font color = \"red\">expressions</font>, and <i>functions</i>. Specifically, you will learn about:<br>\n",
    "<ol>\n",
    "    <li>Expressions and how to determine a data type<br>\n",
    "    <li>Boolean operators in Python<br>\n",
    "    <li>Variables and variable tracing<br>\n",
    "    <li>Functions<br>\n",
    "    <li>Nested Functions<br>\n",
    "</ol>"
   ]
  },
  {
   "cell_type": "code",
   "execution_count": 1,
   "id": "ce2d6cf0",
   "metadata": {},
   "outputs": [
    {
     "data": {
      "text/plain": [
       "int"
      ]
     },
     "execution_count": 1,
     "metadata": {},
     "output_type": "execute_result"
    }
   ],
   "source": [
    "# Putting an integer\n",
    "type(5)"
   ]
  },
  {
   "cell_type": "code",
   "execution_count": 2,
   "id": "2c762eec",
   "metadata": {},
   "outputs": [
    {
     "data": {
      "text/plain": [
       "str"
      ]
     },
     "execution_count": 2,
     "metadata": {},
     "output_type": "execute_result"
    }
   ],
   "source": [
    "# But how about a string?\n",
    "type(\"5\")"
   ]
  },
  {
   "cell_type": "code",
   "execution_count": 3,
   "id": "f2e64f70",
   "metadata": {},
   "outputs": [
    {
     "data": {
      "text/plain": [
       "float"
      ]
     },
     "execution_count": 3,
     "metadata": {},
     "output_type": "execute_result"
    }
   ],
   "source": [
    "# How about a float?\n",
    "type(5.0)"
   ]
  },
  {
   "cell_type": "code",
   "execution_count": 5,
   "id": "b5031d1e",
   "metadata": {},
   "outputs": [
    {
     "data": {
      "text/plain": [
       "False"
      ]
     },
     "execution_count": 5,
     "metadata": {},
     "output_type": "execute_result"
    }
   ],
   "source": [
    "# Some basic examples of a boolean operator\n",
    "True and False"
   ]
  },
  {
   "cell_type": "code",
   "execution_count": 6,
   "id": "8ca369af",
   "metadata": {},
   "outputs": [
    {
     "data": {
      "text/plain": [
       "True"
      ]
     },
     "execution_count": 6,
     "metadata": {},
     "output_type": "execute_result"
    }
   ],
   "source": [
    "True and True"
   ]
  },
  {
   "cell_type": "code",
   "execution_count": 7,
   "id": "ef609b1a",
   "metadata": {},
   "outputs": [
    {
     "data": {
      "text/plain": [
       "True"
      ]
     },
     "execution_count": 7,
     "metadata": {},
     "output_type": "execute_result"
    }
   ],
   "source": [
    "True or False"
   ]
  },
  {
   "cell_type": "code",
   "execution_count": 8,
   "id": "df05cb16",
   "metadata": {},
   "outputs": [
    {
     "data": {
      "text/plain": [
       "False"
      ]
     },
     "execution_count": 8,
     "metadata": {},
     "output_type": "execute_result"
    }
   ],
   "source": [
    "False or False"
   ]
  },
  {
   "cell_type": "code",
   "execution_count": 9,
   "id": "c17b1469",
   "metadata": {},
   "outputs": [
    {
     "data": {
      "text/plain": [
       "True"
      ]
     },
     "execution_count": 9,
     "metadata": {},
     "output_type": "execute_result"
    }
   ],
   "source": [
    "(True and True) or False"
   ]
  },
  {
   "cell_type": "code",
   "execution_count": 10,
   "id": "7875dfc4",
   "metadata": {},
   "outputs": [
    {
     "data": {
      "text/plain": [
       "False"
      ]
     },
     "execution_count": 10,
     "metadata": {},
     "output_type": "execute_result"
    }
   ],
   "source": [
    "(True and True) and False"
   ]
  },
  {
   "cell_type": "code",
   "execution_count": 11,
   "id": "e1210b4b",
   "metadata": {},
   "outputs": [],
   "source": [
    "# Boolean Comparisons. We can see how certain values evaluate\n",
    "x = True\n",
    "y = False\n",
    "z = True"
   ]
  },
  {
   "cell_type": "code",
   "execution_count": 25,
   "id": "8d95f90a",
   "metadata": {
    "scrolled": true
   },
   "outputs": [
    {
     "name": "stdout",
     "output_type": "stream",
     "text": [
      "18\n"
     ]
    }
   ],
   "source": [
    "x = 13\n",
    "print( x + 5 )"
   ]
  },
  {
   "cell_type": "code",
   "execution_count": 40,
   "id": "cb941568",
   "metadata": {},
   "outputs": [],
   "source": [
    "# Here, we will show an example of variable tracing\n",
    "x_trace = 5"
   ]
  },
  {
   "cell_type": "code",
   "execution_count": 41,
   "id": "07d56591",
   "metadata": {},
   "outputs": [
    {
     "data": {
      "text/plain": [
       "6"
      ]
     },
     "execution_count": 41,
     "metadata": {},
     "output_type": "execute_result"
    }
   ],
   "source": [
    "x_trace + 1"
   ]
  },
  {
   "cell_type": "code",
   "execution_count": 42,
   "id": "42beb6b6",
   "metadata": {},
   "outputs": [
    {
     "name": "stdout",
     "output_type": "stream",
     "text": [
      "5\n"
     ]
    }
   ],
   "source": [
    "# Student will see x_trace was not updated\n",
    "print( x_trace )"
   ]
  },
  {
   "cell_type": "code",
   "execution_count": 43,
   "id": "90f94bd9",
   "metadata": {},
   "outputs": [],
   "source": [
    "x_trace += 1"
   ]
  },
  {
   "cell_type": "code",
   "execution_count": 44,
   "id": "1f99a596",
   "metadata": {},
   "outputs": [
    {
     "name": "stdout",
     "output_type": "stream",
     "text": [
      "6\n"
     ]
    }
   ],
   "source": [
    "# Student will see x_trace was updated by += operation\n",
    "print( x_trace )"
   ]
  },
  {
   "cell_type": "code",
   "execution_count": 46,
   "id": "4659662b",
   "metadata": {},
   "outputs": [
    {
     "name": "stdout",
     "output_type": "stream",
     "text": [
      "46656\n"
     ]
    }
   ],
   "source": [
    "# Review exponents as **\n",
    "x_trace = x_trace ** x_trace\n",
    "print( x_trace )"
   ]
  },
  {
   "cell_type": "code",
   "execution_count": 15,
   "id": "06a20bee",
   "metadata": {},
   "outputs": [
    {
     "data": {
      "text/plain": [
       "False"
      ]
     },
     "execution_count": 15,
     "metadata": {},
     "output_type": "execute_result"
    }
   ],
   "source": [
    "# Is x equal to y?\n",
    "x == y"
   ]
  },
  {
   "cell_type": "code",
   "execution_count": 16,
   "id": "b276b5e1",
   "metadata": {},
   "outputs": [
    {
     "data": {
      "text/plain": [
       "True"
      ]
     },
     "execution_count": 16,
     "metadata": {},
     "output_type": "execute_result"
    }
   ],
   "source": [
    "# Booleans with variables\n",
    "# Is x equal to z?\n",
    "x == z"
   ]
  },
  {
   "cell_type": "code",
   "execution_count": 17,
   "id": "dbc888bc",
   "metadata": {},
   "outputs": [
    {
     "data": {
      "text/plain": [
       "True"
      ]
     },
     "execution_count": 17,
     "metadata": {},
     "output_type": "execute_result"
    }
   ],
   "source": [
    "# Is z equal to x?\n",
    "z == x"
   ]
  },
  {
   "cell_type": "code",
   "execution_count": 18,
   "id": "3392aa58",
   "metadata": {},
   "outputs": [
    {
     "data": {
      "text/plain": [
       "True"
      ]
     },
     "execution_count": 18,
     "metadata": {},
     "output_type": "execute_result"
    }
   ],
   "source": [
    "# Is z not equal to y?\n",
    "z != y"
   ]
  },
  {
   "cell_type": "code",
   "execution_count": 19,
   "id": "dbbdef79",
   "metadata": {},
   "outputs": [],
   "source": [
    "# Now let's create some integers and perform comparisons\n",
    "x_int = 5\n",
    "y_int = 3\n",
    "z_int = 5"
   ]
  },
  {
   "cell_type": "code",
   "execution_count": 20,
   "id": "56edc921",
   "metadata": {},
   "outputs": [
    {
     "data": {
      "text/plain": [
       "False"
      ]
     },
     "execution_count": 20,
     "metadata": {},
     "output_type": "execute_result"
    }
   ],
   "source": [
    "# Is x equal to y?\n",
    "x_int == y_int"
   ]
  },
  {
   "cell_type": "code",
   "execution_count": 21,
   "id": "a6e290dd",
   "metadata": {},
   "outputs": [
    {
     "data": {
      "text/plain": [
       "True"
      ]
     },
     "execution_count": 21,
     "metadata": {},
     "output_type": "execute_result"
    }
   ],
   "source": [
    "# Is x equal to z?\n",
    "x_int == z_int"
   ]
  },
  {
   "cell_type": "code",
   "execution_count": 22,
   "id": "ceceac14",
   "metadata": {},
   "outputs": [
    {
     "data": {
      "text/plain": [
       "True"
      ]
     },
     "execution_count": 22,
     "metadata": {},
     "output_type": "execute_result"
    }
   ],
   "source": [
    "# Is x greater than y?\n",
    "x_int > y_int"
   ]
  },
  {
   "cell_type": "code",
   "execution_count": 23,
   "id": "88cfa209",
   "metadata": {},
   "outputs": [
    {
     "data": {
      "text/plain": [
       "True"
      ]
     },
     "execution_count": 23,
     "metadata": {},
     "output_type": "execute_result"
    }
   ],
   "source": [
    "# Is x greater than or equal o z?\n",
    "x_int >= z_int"
   ]
  },
  {
   "cell_type": "code",
   "execution_count": 47,
   "id": "26af05c1",
   "metadata": {},
   "outputs": [
    {
     "data": {
      "text/plain": [
       "False"
      ]
     },
     "execution_count": 47,
     "metadata": {},
     "output_type": "execute_result"
    }
   ],
   "source": [
    "# Is y greater than or equal o z?\n",
    "y_int >= z_int"
   ]
  },
  {
   "cell_type": "code",
   "execution_count": 48,
   "id": "b797acef",
   "metadata": {},
   "outputs": [
    {
     "data": {
      "text/plain": [
       "5"
      ]
     },
     "execution_count": 48,
     "metadata": {},
     "output_type": "execute_result"
    }
   ],
   "source": [
    "# Library Function: Convert Binary to Decimal int\n",
    "# 101 is 5 in base 2\n",
    "int('101', 2)"
   ]
  },
  {
   "cell_type": "code",
   "execution_count": 49,
   "id": "12e8a659",
   "metadata": {},
   "outputs": [
    {
     "data": {
      "text/plain": [
       "859"
      ]
     },
     "execution_count": 49,
     "metadata": {},
     "output_type": "execute_result"
    }
   ],
   "source": [
    "int('1101011011',2)"
   ]
  },
  {
   "cell_type": "code",
   "execution_count": 50,
   "id": "500983ab",
   "metadata": {},
   "outputs": [
    {
     "data": {
      "text/plain": [
       "7303294375"
      ]
     },
     "execution_count": 50,
     "metadata": {},
     "output_type": "execute_result"
    }
   ],
   "source": [
    "# Convert hexadecimal (base 16) to int\n",
    "int('1b34f6da7',16)"
   ]
  },
  {
   "cell_type": "code",
   "execution_count": 56,
   "id": "b29a7255",
   "metadata": {},
   "outputs": [],
   "source": [
    "# Initial Example of Function calls:\n",
    "def add_nums( x_input, y_input ):\n",
    "    return x_input + y_input"
   ]
  },
  {
   "cell_type": "code",
   "execution_count": 57,
   "id": "02129d2c",
   "metadata": {},
   "outputs": [],
   "source": [
    "def print_sum( x_print, y_print, sum_print ):\n",
    "    print( 'x = ' + f'{x_print}' + ', y = '+ f'{y_print}' + \", sum = \" + f'{sum_print}' )"
   ]
  },
  {
   "cell_type": "code",
   "execution_count": 59,
   "id": "69569efd",
   "metadata": {},
   "outputs": [
    {
     "name": "stdout",
     "output_type": "stream",
     "text": [
      "x = 5, y = 6, sum = 11\n"
     ]
    }
   ],
   "source": [
    "# Basic Example of Function Operation\n",
    "x_add = 5\n",
    "y_add = 6\n",
    "sum = add_nums( x_add, y_add )\n",
    "print_sum( x_add, y_add, sum )"
   ]
  },
  {
   "cell_type": "code",
   "execution_count": 61,
   "id": "9b6770a7",
   "metadata": {},
   "outputs": [
    {
     "name": "stdout",
     "output_type": "stream",
     "text": [
      "x = 15, y = 16, sum = 11\n"
     ]
    }
   ],
   "source": [
    "# An example of a common student error.\n",
    "# Not setting the return value to sum\n",
    "# Note how sum is still 11, because add_nums *did not update the value*\n",
    "x_add = 15\n",
    "y_add = 16\n",
    "add_nums( x_add, y_add )\n",
    "print_sum( x_add, y_add, sum )"
   ]
  },
  {
   "cell_type": "code",
   "execution_count": 62,
   "id": "7b55a625",
   "metadata": {},
   "outputs": [
    {
     "name": "stdout",
     "output_type": "stream",
     "text": [
      "x = 15, y = 16, sum = 31\n"
     ]
    }
   ],
   "source": [
    "# So now let's fix that, shall we?\n",
    "sum = add_nums( x_add, y_add )\n",
    "print_sum( x_add, y_add, sum )"
   ]
  },
  {
   "cell_type": "code",
   "execution_count": 63,
   "id": "20510f3f",
   "metadata": {},
   "outputs": [
    {
     "name": "stdout",
     "output_type": "stream",
     "text": [
      "x = 25, y = 26, sum = 51\n"
     ]
    }
   ],
   "source": [
    "# Now we can call functions inside functions!\n",
    "x_add = 25\n",
    "y_add = 26\n",
    "\n",
    "# Check out how we call this!\n",
    "# Will execute add_nums first\n",
    "print_sum( x_add, y_add, add_nums( x_add, y_add ) )"
   ]
  },
  {
   "cell_type": "code",
   "execution_count": 110,
   "id": "e978a4c6",
   "metadata": {},
   "outputs": [],
   "source": [
    "# Initial Values\n",
    "val_1 = 78\n",
    "val_2 = 111\n",
    "val_3 = 116\n",
    "val_4 = 114\n",
    "val_5 = 101"
   ]
  },
  {
   "cell_type": "code",
   "execution_count": 111,
   "id": "788948fc",
   "metadata": {},
   "outputs": [],
   "source": [
    "# Get the binary values\n",
    "binary_1 = bin( val_1 )\n",
    "binary_2 = bin( val_2 )\n",
    "binary_3 = bin( val_3 )\n",
    "binary_4 = bin( val_4 )\n",
    "binary_5 = bin( val_5 )"
   ]
  },
  {
   "cell_type": "code",
   "execution_count": 106,
   "id": "bc821949",
   "metadata": {},
   "outputs": [],
   "source": [
    "# Get the hexadecimal values\n",
    "hex_1 = hex( val_1 )\n",
    "hex_2 = hex( val_2 )\n",
    "hex_3 = hex( val_3 )\n",
    "hex_4 = hex( val_4 )\n",
    "hex_5 = hex( val_5 )"
   ]
  },
  {
   "cell_type": "code",
   "execution_count": 112,
   "id": "0ab36f12",
   "metadata": {},
   "outputs": [],
   "source": [
    "# Get the ascii characters\n",
    "char_1 = chr( val_1 )\n",
    "char_2 = chr( val_2 )\n",
    "char_3 = chr( val_3 )\n",
    "char_4 = chr( val_4 )\n",
    "char_5 = chr( val_5 )"
   ]
  },
  {
   "cell_type": "code",
   "execution_count": 113,
   "id": "fe1ba46a",
   "metadata": {},
   "outputs": [],
   "source": [
    "# Print using the user-defined functions\n",
    "def print_conversions( int_val, binary_val, hex_val, char_val ):\n",
    "    print( f'{int_val}' + ': ' + f'{binary_val} ' + f'{hex_val} ' + f'{char_val}')"
   ]
  },
  {
   "cell_type": "code",
   "execution_count": 114,
   "id": "ededc94c",
   "metadata": {},
   "outputs": [
    {
     "name": "stdout",
     "output_type": "stream",
     "text": [
      "78: 0b1001110 0x4e N\n",
      "111: 0b1101111 0x62 o\n",
      "116: 0b1110100 0x6d t\n",
      "114: 0b1110010 0x73 r\n",
      "101: 0b1100101 0x73 e\n"
     ]
    }
   ],
   "source": [
    "# Print all results\n",
    "print_conversions(val_1, binary_1, hex_1, char_1)\n",
    "print_conversions(val_2, binary_2, hex_2, char_2)\n",
    "print_conversions(val_3, binary_3, hex_3, char_3)\n",
    "print_conversions(val_4, binary_4, hex_4, char_4)\n",
    "print_conversions(val_5, binary_5, hex_5, char_5)"
   ]
  },
  {
   "cell_type": "code",
   "execution_count": 116,
   "id": "7f30b913",
   "metadata": {},
   "outputs": [
    {
     "name": "stdout",
     "output_type": "stream",
     "text": [
      "78: 0b1001110 0x4e N\n",
      "111: 0b1101111 0x6f o\n",
      "116: 0b1110100 0x74 t\n",
      "114: 0b1110010 0x72 r\n",
      "101: 0b1100101 0x65 e\n"
     ]
    }
   ],
   "source": [
    "# Use nested functions\n",
    "# Print all results\n",
    "print_conversions(val_1, bin( val_1 ), hex( val_1 ), chr( val_1 ))\n",
    "print_conversions(val_2, bin( val_2 ), hex( val_2 ), chr( val_2 ))\n",
    "print_conversions(val_3, bin( val_3 ), hex( val_3 ), chr( val_3 ))\n",
    "print_conversions(val_4, bin( val_4 ), hex( val_4 ), chr( val_4 ))\n",
    "print_conversions(val_5, bin( val_5 ), hex( val_5 ), chr( val_5 ))"
   ]
  }
 ],
 "metadata": {
  "kernelspec": {
   "display_name": "Python 3 (ipykernel)",
   "language": "python",
   "name": "python3"
  },
  "language_info": {
   "codemirror_mode": {
    "name": "ipython",
    "version": 3
   },
   "file_extension": ".py",
   "mimetype": "text/x-python",
   "name": "python",
   "nbconvert_exporter": "python",
   "pygments_lexer": "ipython3",
   "version": "3.9.12"
  }
 },
 "nbformat": 4,
 "nbformat_minor": 5
}
