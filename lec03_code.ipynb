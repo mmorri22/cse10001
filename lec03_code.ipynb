{
 "cells": [
  {
   "cell_type": "markdown",
   "id": "f1b0c99f",
   "metadata": {},
   "source": [
    "### This is the preview notebook for Lecture 03\n",
    "<p>   </p>\n",
    "In this lecture, we will learn about <b>variables</b>, <font color = \"red\">expressions</font>, and <i>functions</i>. Specifically, you will learn about:<br>\n",
    "<ol>\n",
    "    <li>Expressions and how to determine a data type<br>\n",
    "    <li>Boolean operators in Python<br>\n",
    "    <li>Variables and variable tracing<br>\n",
    "    <li>Functions<br>\n",
    "    <li>Nested Functions<br>\n",
    "</ol>"
   ]
  },
  {
   "cell_type": "code",
   "execution_count": 1,
   "id": "7f0c3d09",
   "metadata": {},
   "outputs": [
    {
     "data": {
      "text/plain": [
       "int"
      ]
     },
     "execution_count": 1,
     "metadata": {},
     "output_type": "execute_result"
    }
   ],
   "source": [
    "# Putting an integer\n",
    "type(5)"
   ]
  },
  {
   "cell_type": "code",
   "execution_count": 2,
   "id": "87a00e88",
   "metadata": {},
   "outputs": [
    {
     "data": {
      "text/plain": [
       "str"
      ]
     },
     "execution_count": 2,
     "metadata": {},
     "output_type": "execute_result"
    }
   ],
   "source": [
    "# But how about a string?\n",
    "type(\"5\")"
   ]
  },
  {
   "cell_type": "code",
   "execution_count": 3,
   "id": "b57dc457",
   "metadata": {},
   "outputs": [
    {
     "data": {
      "text/plain": [
       "float"
      ]
     },
     "execution_count": 3,
     "metadata": {},
     "output_type": "execute_result"
    }
   ],
   "source": [
    "# How about a float?\n",
    "type(5.0)"
   ]
  },
  {
   "cell_type": "code",
   "execution_count": 5,
   "id": "c0a4c98a",
   "metadata": {},
   "outputs": [
    {
     "data": {
      "text/plain": [
       "False"
      ]
     },
     "execution_count": 5,
     "metadata": {},
     "output_type": "execute_result"
    }
   ],
   "source": [
    "# Some basic examples of a boolean operator\n",
    "True and False"
   ]
  },
  {
   "cell_type": "code",
   "execution_count": 6,
   "id": "52094103",
   "metadata": {},
   "outputs": [
    {
     "data": {
      "text/plain": [
       "True"
      ]
     },
     "execution_count": 6,
     "metadata": {},
     "output_type": "execute_result"
    }
   ],
   "source": [
    "True and True"
   ]
  },
  {
   "cell_type": "code",
   "execution_count": 7,
   "id": "ecf6205f",
   "metadata": {},
   "outputs": [
    {
     "data": {
      "text/plain": [
       "True"
      ]
     },
     "execution_count": 7,
     "metadata": {},
     "output_type": "execute_result"
    }
   ],
   "source": [
    "True or False"
   ]
  },
  {
   "cell_type": "code",
   "execution_count": 8,
   "id": "6de6e98c",
   "metadata": {},
   "outputs": [
    {
     "data": {
      "text/plain": [
       "False"
      ]
     },
     "execution_count": 8,
     "metadata": {},
     "output_type": "execute_result"
    }
   ],
   "source": [
    "False or False"
   ]
  },
  {
   "cell_type": "code",
   "execution_count": 9,
   "id": "5f1d9d5c",
   "metadata": {},
   "outputs": [
    {
     "data": {
      "text/plain": [
       "True"
      ]
     },
     "execution_count": 9,
     "metadata": {},
     "output_type": "execute_result"
    }
   ],
   "source": [
    "(True and True) or False"
   ]
  },
  {
   "cell_type": "code",
   "execution_count": 10,
   "id": "ad9a2c44",
   "metadata": {},
   "outputs": [
    {
     "data": {
      "text/plain": [
       "False"
      ]
     },
     "execution_count": 10,
     "metadata": {},
     "output_type": "execute_result"
    }
   ],
   "source": [
    "(True and True) and False"
   ]
  },
  {
   "cell_type": "code",
   "execution_count": 11,
   "id": "418e03c3",
   "metadata": {},
   "outputs": [],
   "source": [
    "# Boolean Comparisons. We can see how certain values evaluate\n",
    "x = True\n",
    "y = False\n",
    "z = True"
   ]
  },
  {
   "cell_type": "code",
   "execution_count": 25,
   "id": "34dbdd71",
   "metadata": {
    "scrolled": true
   },
   "outputs": [
    {
     "name": "stdout",
     "output_type": "stream",
     "text": [
      "18\n"
     ]
    }
   ],
   "source": [
    "x = 13\n",
    "print( x + 5 )"
   ]
  },
  {
   "cell_type": "code",
   "execution_count": 40,
   "id": "fc3c68ca",
   "metadata": {},
   "outputs": [],
   "source": [
    "# Here, we will show an example of variable tracing\n",
    "x_trace = 5"
   ]
  },
  {
   "cell_type": "code",
   "execution_count": 41,
   "id": "7ee70615",
   "metadata": {},
   "outputs": [
    {
     "data": {
      "text/plain": [
       "6"
      ]
     },
     "execution_count": 41,
     "metadata": {},
     "output_type": "execute_result"
    }
   ],
   "source": [
    "x_trace + 1"
   ]
  },
  {
   "cell_type": "code",
   "execution_count": 42,
   "id": "a0cad865",
   "metadata": {},
   "outputs": [
    {
     "name": "stdout",
     "output_type": "stream",
     "text": [
      "5\n"
     ]
    }
   ],
   "source": [
    "# Student will see x_trace was not updated\n",
    "print( x_trace )"
   ]
  },
  {
   "cell_type": "code",
   "execution_count": 43,
   "id": "32a6408a",
   "metadata": {},
   "outputs": [],
   "source": [
    "x_trace += 1"
   ]
  },
  {
   "cell_type": "code",
   "execution_count": 44,
   "id": "6d69faeb",
   "metadata": {},
   "outputs": [
    {
     "name": "stdout",
     "output_type": "stream",
     "text": [
      "6\n"
     ]
    }
   ],
   "source": [
    "# Student will see x_trace was updated by += operation\n",
    "print( x_trace )"
   ]
  },
  {
   "cell_type": "code",
   "execution_count": 46,
   "id": "d7ce7a40",
   "metadata": {},
   "outputs": [
    {
     "name": "stdout",
     "output_type": "stream",
     "text": [
      "46656\n"
     ]
    }
   ],
   "source": [
    "# Review exponents as **\n",
    "x_trace = x_trace ** x_trace\n",
    "print( x_trace )"
   ]
  },
  {
   "cell_type": "code",
   "execution_count": 15,
   "id": "611ad2f5",
   "metadata": {},
   "outputs": [
    {
     "data": {
      "text/plain": [
       "False"
      ]
     },
     "execution_count": 15,
     "metadata": {},
     "output_type": "execute_result"
    }
   ],
   "source": [
    "# Is x equal to y?\n",
    "x == y"
   ]
  },
  {
   "cell_type": "code",
   "execution_count": 16,
   "id": "49ed6a27",
   "metadata": {},
   "outputs": [
    {
     "data": {
      "text/plain": [
       "True"
      ]
     },
     "execution_count": 16,
     "metadata": {},
     "output_type": "execute_result"
    }
   ],
   "source": [
    "# Booleans with variables\n",
    "# Is x equal to z?\n",
    "x == z"
   ]
  },
  {
   "cell_type": "code",
   "execution_count": 17,
   "id": "f9c9c2ed",
   "metadata": {},
   "outputs": [
    {
     "data": {
      "text/plain": [
       "True"
      ]
     },
     "execution_count": 17,
     "metadata": {},
     "output_type": "execute_result"
    }
   ],
   "source": [
    "# Is z equal to x?\n",
    "z == x"
   ]
  },
  {
   "cell_type": "code",
   "execution_count": 18,
   "id": "9a229cb6",
   "metadata": {},
   "outputs": [
    {
     "data": {
      "text/plain": [
       "True"
      ]
     },
     "execution_count": 18,
     "metadata": {},
     "output_type": "execute_result"
    }
   ],
   "source": [
    "# Is z not equal to y?\n",
    "z != y"
   ]
  },
  {
   "cell_type": "code",
   "execution_count": 19,
   "id": "23aca77d",
   "metadata": {},
   "outputs": [],
   "source": [
    "# Now let's create some integers and perform comparisons\n",
    "x_int = 5\n",
    "y_int = 3\n",
    "z_int = 5"
   ]
  },
  {
   "cell_type": "code",
   "execution_count": 20,
   "id": "3bd6eebc",
   "metadata": {},
   "outputs": [
    {
     "data": {
      "text/plain": [
       "False"
      ]
     },
     "execution_count": 20,
     "metadata": {},
     "output_type": "execute_result"
    }
   ],
   "source": [
    "# Is x equal to y?\n",
    "x_int == y_int"
   ]
  },
  {
   "cell_type": "code",
   "execution_count": 21,
   "id": "b125d17e",
   "metadata": {},
   "outputs": [
    {
     "data": {
      "text/plain": [
       "True"
      ]
     },
     "execution_count": 21,
     "metadata": {},
     "output_type": "execute_result"
    }
   ],
   "source": [
    "# Is x equal to z?\n",
    "x_int == z_int"
   ]
  },
  {
   "cell_type": "code",
   "execution_count": 22,
   "id": "4db601c5",
   "metadata": {},
   "outputs": [
    {
     "data": {
      "text/plain": [
       "True"
      ]
     },
     "execution_count": 22,
     "metadata": {},
     "output_type": "execute_result"
    }
   ],
   "source": [
    "# Is x greater than y?\n",
    "x_int > y_int"
   ]
  },
  {
   "cell_type": "code",
   "execution_count": 23,
   "id": "1517776d",
   "metadata": {},
   "outputs": [
    {
     "data": {
      "text/plain": [
       "True"
      ]
     },
     "execution_count": 23,
     "metadata": {},
     "output_type": "execute_result"
    }
   ],
   "source": [
    "# Is x greater than or equal o z?\n",
    "x_int >= z_int"
   ]
  },
  {
   "cell_type": "code",
   "execution_count": 47,
   "id": "5cda5ac2",
   "metadata": {},
   "outputs": [
    {
     "data": {
      "text/plain": [
       "False"
      ]
     },
     "execution_count": 47,
     "metadata": {},
     "output_type": "execute_result"
    }
   ],
   "source": [
    "# Is y greater than or equal o z?\n",
    "y_int >= z_int"
   ]
  },
  {
   "cell_type": "code",
   "execution_count": 48,
   "id": "5e68fa8e",
   "metadata": {},
   "outputs": [
    {
     "data": {
      "text/plain": [
       "5"
      ]
     },
     "execution_count": 48,
     "metadata": {},
     "output_type": "execute_result"
    }
   ],
   "source": [
    "# Library Function: Convert Binary to Decimal int\n",
    "# 101 is 5 in base 2\n",
    "int('101', 2)"
   ]
  },
  {
   "cell_type": "code",
   "execution_count": 49,
   "id": "8b76dd8b",
   "metadata": {},
   "outputs": [
    {
     "data": {
      "text/plain": [
       "859"
      ]
     },
     "execution_count": 49,
     "metadata": {},
     "output_type": "execute_result"
    }
   ],
   "source": [
    "int('1101011011',2)"
   ]
  },
  {
   "cell_type": "code",
   "execution_count": 50,
   "id": "e6b179de",
   "metadata": {},
   "outputs": [
    {
     "data": {
      "text/plain": [
       "7303294375"
      ]
     },
     "execution_count": 50,
     "metadata": {},
     "output_type": "execute_result"
    }
   ],
   "source": [
    "# Convert hexadecimal (base 16) to int\n",
    "int('1b34f6da7',16)"
   ]
  },
  {
   "cell_type": "code",
   "execution_count": 56,
   "id": "656bc7e3",
   "metadata": {},
   "outputs": [],
   "source": [
    "# Initial Example of Function calls:\n",
    "def add_nums( x_input, y_input ):\n",
    "    return x_input + y_input"
   ]
  },
  {
   "cell_type": "code",
   "execution_count": 57,
   "id": "f32aa739",
   "metadata": {},
   "outputs": [],
   "source": [
    "def print_sum( x_print, y_print, sum_print ):\n",
    "    print( 'x = ' + f'{x_print}' + ', y = '+ f'{y_print}' + \", sum = \" + f'{sum_print}' )"
   ]
  },
  {
   "cell_type": "code",
   "execution_count": 59,
   "id": "f868a3e8",
   "metadata": {},
   "outputs": [
    {
     "name": "stdout",
     "output_type": "stream",
     "text": [
      "x = 5, y = 6, sum = 11\n"
     ]
    }
   ],
   "source": [
    "# Basic Example of Function Operation\n",
    "x_add = 5\n",
    "y_add = 6\n",
    "sum = add_nums( x_add, y_add )\n",
    "print_sum( x_add, y_add, sum )"
   ]
  },
  {
   "cell_type": "code",
   "execution_count": 61,
   "id": "f303bd48",
   "metadata": {},
   "outputs": [
    {
     "name": "stdout",
     "output_type": "stream",
     "text": [
      "x = 15, y = 16, sum = 11\n"
     ]
    }
   ],
   "source": [
    "# An example of a common student error.\n",
    "# Not setting the return value to sum\n",
    "# Note how sum is still 11, because add_nums *did not update the value*\n",
    "x_add = 15\n",
    "y_add = 16\n",
    "add_nums( x_add, y_add )\n",
    "print_sum( x_add, y_add, sum )"
   ]
  },
  {
   "cell_type": "code",
   "execution_count": 62,
   "id": "1825fb05",
   "metadata": {},
   "outputs": [
    {
     "name": "stdout",
     "output_type": "stream",
     "text": [
      "x = 15, y = 16, sum = 31\n"
     ]
    }
   ],
   "source": [
    "# So now let's fix that, shall we?\n",
    "sum = add_nums( x_add, y_add )\n",
    "print_sum( x_add, y_add, sum )"
   ]
  },
  {
   "cell_type": "code",
   "execution_count": 63,
   "id": "c5c991ec",
   "metadata": {},
   "outputs": [
    {
     "name": "stdout",
     "output_type": "stream",
     "text": [
      "x = 25, y = 26, sum = 51\n"
     ]
    }
   ],
   "source": [
    "# Now we can call functions inside functions!\n",
    "x_add = 25\n",
    "y_add = 26\n",
    "\n",
    "# Check out how we call this!\n",
    "# Will execute add_nums first\n",
    "print_sum( x_add, y_add, add_nums( x_add, y_add ) )"
   ]
  },
  {
   "cell_type": "code",
   "execution_count": 110,
   "id": "d7102716",
   "metadata": {},
   "outputs": [],
   "source": [
    "# Initial Values\n",
    "val_1 = 78\n",
    "val_2 = 111\n",
    "val_3 = 116\n",
    "val_4 = 114\n",
    "val_5 = 101"
   ]
  },
  {
   "cell_type": "code",
   "execution_count": 111,
   "id": "718f720c",
   "metadata": {},
   "outputs": [],
   "source": [
    "# Get the binary values\n",
    "binary_1 = bin( val_1 )\n",
    "binary_2 = bin( val_2 )\n",
    "binary_3 = bin( val_3 )\n",
    "binary_4 = bin( val_4 )\n",
    "binary_5 = bin( val_5 )"
   ]
  },
  {
   "cell_type": "code",
   "execution_count": 106,
   "id": "d896a628",
   "metadata": {},
   "outputs": [],
   "source": [
    "# Get the hexadecimal values\n",
    "hex_1 = hex( val_1 )\n",
    "hex_2 = hex( val_2 )\n",
    "hex_3 = hex( val_3 )\n",
    "hex_4 = hex( val_4 )\n",
    "hex_5 = hex( val_5 )"
   ]
  },
  {
   "cell_type": "code",
   "execution_count": 112,
   "id": "fd038fa5",
   "metadata": {},
   "outputs": [],
   "source": [
    "# Get the ascii characters\n",
    "char_1 = chr( val_1 )\n",
    "char_2 = chr( val_2 )\n",
    "char_3 = chr( val_3 )\n",
    "char_4 = chr( val_4 )\n",
    "char_5 = chr( val_5 )"
   ]
  },
  {
   "cell_type": "code",
   "execution_count": 113,
   "id": "f9e989ff",
   "metadata": {},
   "outputs": [],
   "source": [
    "# Print using the user-defined functions\n",
    "def print_conversions( int_val, binary_val, hex_val, char_val ):\n",
    "    print( f'{int_val}' + ': ' + f'{binary_val} ' + f'{hex_val} ' + f'{char_val}')"
   ]
  },
  {
   "cell_type": "code",
   "execution_count": 114,
   "id": "57376995",
   "metadata": {},
   "outputs": [
    {
     "name": "stdout",
     "output_type": "stream",
     "text": [
      "78: 0b1001110 0x4e N\n",
      "111: 0b1101111 0x62 o\n",
      "116: 0b1110100 0x6d t\n",
      "114: 0b1110010 0x73 r\n",
      "101: 0b1100101 0x73 e\n"
     ]
    }
   ],
   "source": [
    "# Print all results\n",
    "print_conversions(val_1, binary_1, hex_1, char_1)\n",
    "print_conversions(val_2, binary_2, hex_2, char_2)\n",
    "print_conversions(val_3, binary_3, hex_3, char_3)\n",
    "print_conversions(val_4, binary_4, hex_4, char_4)\n",
    "print_conversions(val_5, binary_5, hex_5, char_5)"
   ]
  },
  {
   "cell_type": "code",
   "execution_count": 116,
   "id": "47d3e56c",
   "metadata": {},
   "outputs": [
    {
     "name": "stdout",
     "output_type": "stream",
     "text": [
      "78: 0b1001110 0x4e N\n",
      "111: 0b1101111 0x6f o\n",
      "116: 0b1110100 0x74 t\n",
      "114: 0b1110010 0x72 r\n",
      "101: 0b1100101 0x65 e\n"
     ]
    }
   ],
   "source": [
    "# Use nested functions\n",
    "# Print all results\n",
    "print_conversions(val_1, bin( val_1 ), hex( val_1 ), chr( val_1 ))\n",
    "print_conversions(val_2, bin( val_2 ), hex( val_2 ), chr( val_2 ))\n",
    "print_conversions(val_3, bin( val_3 ), hex( val_3 ), chr( val_3 ))\n",
    "print_conversions(val_4, bin( val_4 ), hex( val_4 ), chr( val_4 ))\n",
    "print_conversions(val_5, bin( val_5 ), hex( val_5 ), chr( val_5 ))"
   ]
  },
  {
   "cell_type": "code",
   "execution_count": 123,
   "id": "c7e83672",
   "metadata": {},
   "outputs": [],
   "source": [
    "def make_conversions( val_input ):\n",
    "    print_conversions(val_input, bin( val_input ), hex( val_input ), chr( val_input ))"
   ]
  },
  {
   "cell_type": "code",
   "execution_count": 124,
   "id": "91a63767",
   "metadata": {},
   "outputs": [],
   "source": [
    "# Libraries to impor interact\n",
    "from __future__ import print_function\n",
    "from ipywidgets import interact, interactive, fixed, interact_manual\n",
    "import ipywidgets as widgets"
   ]
  },
  {
   "cell_type": "code",
   "execution_count": 125,
   "id": "d5ecd087",
   "metadata": {},
   "outputs": [
    {
     "data": {
      "application/vnd.jupyter.widget-view+json": {
       "model_id": "51382e6cb8164aa3aa14d3048d78fdae",
       "version_major": 2,
       "version_minor": 0
      },
      "text/plain": [
       "interactive(children=(IntSlider(value=63, description='val_input', max=127), Output()), _dom_classes=('widget-…"
      ]
     },
     "metadata": {},
     "output_type": "display_data"
    },
    {
     "data": {
      "text/plain": [
       "<function __main__.make_conversions(val_input)>"
      ]
     },
     "execution_count": 125,
     "metadata": {},
     "output_type": "execute_result"
    }
   ],
   "source": [
    "interact( make_conversions, val_input=(0,127) )"
   ]
  },
  {
   "cell_type": "code",
   "execution_count": null,
   "id": "1a2f7fa8",
   "metadata": {},
   "outputs": [],
   "source": []
  }
 ],
 "metadata": {
  "kernelspec": {
   "display_name": "Python 3 (ipykernel)",
   "language": "python",
   "name": "python3"
  },
  "language_info": {
   "codemirror_mode": {
    "name": "ipython",
    "version": 3
   },
   "file_extension": ".py",
   "mimetype": "text/x-python",
   "name": "python",
   "nbconvert_exporter": "python",
   "pygments_lexer": "ipython3",
   "version": "3.9.12"
  }
 },
 "nbformat": 4,
 "nbformat_minor": 5
}
