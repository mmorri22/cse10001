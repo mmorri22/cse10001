{
 "cells": [
  {
   "cell_type": "markdown",
   "id": "110a5eff",
   "metadata": {},
   "source": [
    "### This is the Notebook for Lecture 24 - Logic Design - Combinational Logic\n",
    "\n",
    "In this lecture, we will learn\n",
    "<ol>\n",
    "    <li>Implement Basic Logic Gates</li>\n",
    "    <li>Develop and test a 1-bit Full Adder</li>\n",
    "    <li>Use Recursion to develop a 4-bit Full Adder with connected gates</li>\n",
    "</ol>"
   ]
  },
  {
   "cell_type": "markdown",
   "id": "9fd4539b",
   "metadata": {},
   "source": [
    "In order to properly simulate the output of a circuit, you will need to develop <b>logic blocks</b> that build upon each other. This approach is the hardware equivalent of using <b>functions</b> in software design!"
   ]
  },
  {
   "cell_type": "code",
   "execution_count": null,
   "id": "303f7ac1",
   "metadata": {},
   "outputs": [],
   "source": [
    "# You will do this library import with every PyRTL assignment"
   ]
  },
  {
   "cell_type": "code",
   "execution_count": null,
   "id": "9944db85",
   "metadata": {},
   "outputs": [],
   "source": [
    "def two_input_and( a_input, b_input ):\n",
    "    \n",
    "    # Security to ensure the lengths passed to the block are 1\n",
    "    \n",
    "    \n",
    "    # Create the wire out and put a & b on that \n",
    "    \n",
    "\n",
    "    # Use assert to ensure that the signals are one bit\n",
    "    "
   ]
  },
  {
   "cell_type": "code",
   "execution_count": null,
   "id": "bbf77695",
   "metadata": {},
   "outputs": [],
   "source": [
    "def two_input_and_simulate():\n",
    "\n",
    "    # Step 1 - Reset the working block\n",
    "    \n",
    "\n",
    "    # Step 2 - Create the input and ouput wires\n",
    "\n",
    "\n",
    "    # Step 3 - Save to an intermediate value using the\n",
    "\n",
    "    \n",
    "    # Step 3b - Connect them using the three_input_or function\n",
    "\n",
    "    \n",
    "    # Step 4 - Simulate the design\n",
    "\n",
    "    \n",
    "    # Step 5 - Create lists for the inputs\n",
    "\n",
    "    \n",
    "    # Step 6 - Loop through and simuluate\n",
    "\n",
    "    \n",
    "    # Render the trace\n"
   ]
  },
  {
   "cell_type": "code",
   "execution_count": null,
   "id": "ce68618d",
   "metadata": {
    "scrolled": true
   },
   "outputs": [],
   "source": [
    "# Call the function\n",
    "two_input_and_simulate()"
   ]
  },
  {
   "cell_type": "markdown",
   "id": "792a63b3",
   "metadata": {},
   "source": [
    "### Now we can combine circuits using a larger block and multiple outputs!"
   ]
  },
  {
   "cell_type": "code",
   "execution_count": null,
   "id": "c9093c14",
   "metadata": {},
   "outputs": [],
   "source": [
    "def two_input_or( a_input, b_input ):\n",
    "    \n",
    "    # Security to ensure the lengths passed to the block are 1\n",
    "    assert len(a_input) == len(b_input)  == 1  \n",
    "    \n",
    "    # In-Class: Create the wire out and put a | b on that \n",
    "    \n",
    "\n",
    "    # Use assert to ensure that the signals are one bit\n",
    "    return y_output\n",
    "\n",
    "\n",
    "def two_input_xor( a_input, b_input ):\n",
    "    \n",
    "    # Security to ensure the lengths passed to the block are 1\n",
    "    assert len(a_input) == len(b_input)  == 1  \n",
    "    \n",
    "    # In-Class: Create the wire out and put a ^ b on that \n",
    "    \n",
    "\n",
    "    # Use assert to ensure that the signals are one bit\n",
    "    return y_output"
   ]
  },
  {
   "cell_type": "code",
   "execution_count": null,
   "id": "e48605c6",
   "metadata": {},
   "outputs": [],
   "source": [
    "def two_input_or_xor_simulate():\n",
    "\n",
    "    # Step 1 - Reset the working block\n",
    "    pyrtl.reset_working_block()\n",
    "\n",
    "    # Step 2 - Create the input and ouput wires\n",
    "    a, b = pyrtl.Input(1, 'a'), pyrtl.Input(1, 'b')\n",
    "    out_or = pyrtl.Output(1, 'out_or')\n",
    "    out_xor = pyrtl.Output(1, 'out_xor')\n",
    "\n",
    "    # In-Class Step 3 - Save to an intermediate value using the\n",
    "\n",
    "    \n",
    "    # In-Class Step 3b - Connect them using the three_input_or function\n",
    "\n",
    "    \n",
    "    \n",
    "    # Step 4 - Simulate the design\n",
    "    sim = pyrtl.Simulation()\n",
    "    \n",
    "    # Step 5 - Create lists for the inputs\n",
    "    a_inputs = [0,0,1,1]\n",
    "    b_inputs = [0,1,0,1]\n",
    "    \n",
    "    # Step 6 - Loop through and simuluate\n",
    "    for value in range(0, 4):\n",
    "\n",
    "        sim.step({\n",
    "            'a' : a_inputs[value],\n",
    "            'b' : b_inputs[value]\n",
    "        })\n",
    "    \n",
    "    # Render the trace\n",
    "    sim.tracer.render_trace()"
   ]
  },
  {
   "cell_type": "code",
   "execution_count": null,
   "id": "c8ac5f6f",
   "metadata": {},
   "outputs": [],
   "source": [
    "two_input_or_xor_simulate()"
   ]
  },
  {
   "cell_type": "markdown",
   "id": "c5d5b9e6",
   "metadata": {},
   "source": [
    "### Now let's develop a logic circuit with a 3-input AND and 2-input OR"
   ]
  },
  {
   "cell_type": "code",
   "execution_count": null,
   "id": "07608c99",
   "metadata": {},
   "outputs": [],
   "source": [
    "def three_input_and_two_input_or( a_input, b_input, c_input ):\n",
    "    \n",
    "    # Security to ensure the lengths passed to the block are 1\n",
    "    assert len(a_input) == len(b_input) == len(c_input) == 1  \n",
    "    \n",
    "    # In-Class: Calculate the and output\n",
    "    \n",
    "\n",
    "    # In-Class: Calculate the or output\n",
    "    \n",
    "    \n",
    "    # Return both\n",
    "    return output_and, output_or"
   ]
  },
  {
   "cell_type": "code",
   "execution_count": null,
   "id": "eaf6ddd9",
   "metadata": {},
   "outputs": [],
   "source": [
    "def three_input_and_two_input_or_simulate():\n",
    "    \n",
    "    # Step 1 - Reset the working block\n",
    "    pyrtl.reset_working_block()\n",
    "    \n",
    "    # Step 2 - Create the input and ouput wires\n",
    "    a, b, c = pyrtl.Input(1, 'a'), pyrtl.Input(1, 'b'), pyrtl.Input(1, 'c')\n",
    "    \n",
    "    output_3_and = pyrtl.Output(1, 'output_3_and')\n",
    "    output_2_or = pyrtl.Output(1, 'output_2_or')\n",
    "    \n",
    "    # In-Class - Step 3-a - Save to an intermediate value using the three_input_and_or function\n",
    "\n",
    "    \n",
    "    # In-Class - Step 3-b Assign to a wire using <<=\n",
    "\n",
    "    \n",
    "    # Step 4 - - Simulate the design\n",
    "    sim = pyrtl.Simulation()\n",
    "    \n",
    "    # In-Class Step 5 - Create lists for the inputs\n",
    "\n",
    "    \n",
    "    # In-Class Step 6 - Loop through and simuluate\n",
    "\n",
    "    \n",
    "    # Render the trace\n",
    "    sim.tracer.render_trace()"
   ]
  },
  {
   "cell_type": "code",
   "execution_count": null,
   "id": "64ad0a93",
   "metadata": {},
   "outputs": [],
   "source": [
    "three_input_and_two_input_or_simulate()"
   ]
  },
  {
   "cell_type": "markdown",
   "id": "e34d8f9d",
   "metadata": {},
   "source": [
    "## Classic Advanced Circuit: Adder\n",
    "\n",
    "Now we will build the full adder that we developed together in class!\n",
    "\n",
    "The logic <b>equations</b> are as follows:\n",
    "<ol>\n",
    "    <li><code>Sum = a ^ b ^ Cin</code></li>\n",
    "    <li><code>Cout = (a & b) | (Cin & (a ^ b))</code></li>\n",
    "</ol>\n",
    "\n",
    "The <b>logic diagram</b> and <b>truth table</b> are presented below:\n",
    "\n",
    "<center><img src=\"https://upload.wikimedia.org/wikipedia/commons/thumb/6/69/Full-adder_logic_diagram.svg/400px-Full-adder_logic_diagram.svg.png\"></center> <br />\n",
    "\n",
    "| A | B | Cin | Sum | Cout |\n",
    "|---|---|---|---|---|\n",
    "|0|0|0|0|0|\n",
    "|0|0|1|1|0|\n",
    "|0|1|0|1|0|\n",
    "|0|1|1|0|1|\n",
    "|1|0|0|1|0|\n",
    "|1|0|1|0|1|\n",
    "|1|1|0|0|1|\n",
    "|1|1|1|1|1|"
   ]
  },
  {
   "cell_type": "code",
   "execution_count": null,
   "id": "e3c49637",
   "metadata": {},
   "outputs": [],
   "source": [
    "def sum( a, b, c_in ):\n",
    "    \n",
    "    # Security to ensure the lengths passed to the block are 1\n",
    "    assert len(a) == len(b) == len(c_in) == 1  \n",
    "    \n",
    "    # Return the sum using previously design cells\n",
    "    # Could also simply do a ^ b ^ cin\n",
    "    "
   ]
  },
  {
   "cell_type": "code",
   "execution_count": null,
   "id": "a49b27a3",
   "metadata": {},
   "outputs": [],
   "source": [
    "def carry_out( a, b, c_in ):\n",
    "    \n",
    "    # Security to ensure the lengths passed to the block are 1\n",
    "    assert len(a) == len(b) == len(c_in) == 1  \n",
    "    \n",
    "    # Return the carry out\n",
    "    "
   ]
  },
  {
   "cell_type": "code",
   "execution_count": null,
   "id": "e1ce0165",
   "metadata": {},
   "outputs": [],
   "source": [
    "def full_adder( a, b, c_in ):\n",
    "    \n",
    "    # Security to ensure the lengths passed to the block are 1\n",
    "    assert len(a) == len(b) == len(c_in) == 1  \n",
    "    \n",
    "    # Calculate the sum\n",
    "    \n",
    "\n",
    "    # Calculate the carry out\n",
    "    \n",
    "    \n",
    "    # Return both\n",
    "    return output_sum, output_c_out"
   ]
  },
  {
   "cell_type": "code",
   "execution_count": null,
   "id": "4ea21efd",
   "metadata": {},
   "outputs": [],
   "source": [
    "def full_adder_simulate():\n",
    "    \n",
    "    # Step 1 - Reset the working block\n",
    "    pyrtl.reset_working_block()\n",
    "    \n",
    "    # Step 2 - Create the input and ouput wires\n",
    "    a, b, c_in = pyrtl.Input(1, 'a'), pyrtl.Input(1, 'b'), pyrtl.Input(1, 'c_in')\n",
    "    output_sum = pyrtl.Output(1, 'output_sum')\n",
    "    output_c_out = pyrtl.Output(1, 'output_c_out')\n",
    "    \n",
    "    # Step 3-a - Save to an intermediate value using the three_input_and_or function\n",
    "    inter_sum, inter_c_out = full_adder( a, b, c_in )\n",
    "    \n",
    "    # Step 3-b Assign to a wire using <<=\n",
    "    output_sum <<= inter_sum\n",
    "    output_c_out <<= inter_c_out\n",
    "    \n",
    "    # Step 4 - - Simulate the design\n",
    "    sim = pyrtl.Simulation()\n",
    "    \n",
    "    # Step 5 - Create lists for the inputs\n",
    "    a_inputs = [0,0,0,0,1,1,1,1]\n",
    "    b_inputs = [0,0,1,1,0,0,1,1]\n",
    "    c_in_inputs = [0,1,0,1,0,1,0,1]\n",
    "    \n",
    "    # Step 6 - Loop through and simuluate\n",
    "    for value in range(0, len(a_inputs)):\n",
    "\n",
    "        sim.step({\n",
    "            'a' : a_inputs[value],\n",
    "            'b' : b_inputs[value],\n",
    "            'c_in' : c_in_inputs[value] \n",
    "        })\n",
    "    \n",
    "    # Render the trace\n",
    "    sim.tracer.render_trace()"
   ]
  },
  {
   "cell_type": "code",
   "execution_count": null,
   "id": "6c14a4e5",
   "metadata": {},
   "outputs": [],
   "source": [
    "# Call the function\n",
    "full_adder_simulate()"
   ]
  },
  {
   "cell_type": "markdown",
   "id": "ec7f9955",
   "metadata": {},
   "source": [
    "### Combining Concepts: Using Recursion to Create a Full Adder\n",
    "\n",
    "When we create a circuit in PyRTL, we cannot use loop to create the signals, only the input signals. But if there is repetition, we can use <b>recursion</b>!"
   ]
  },
  {
   "cell_type": "code",
   "execution_count": null,
   "id": "aa9a4f73",
   "metadata": {},
   "outputs": [],
   "source": [
    "def ripple_carry_adder( a, b, c_in ):\n",
    "    \n",
    "    # Check inputs a must be the same size as b, and c must be 1 bit\n",
    "    assert len(a) == len(b)\n",
    "    assert len(c_in) == 1\n",
    "    \n",
    "    # Develop the full-adder using recursion\n",
    "\n",
    "\n",
    "                                          \n",
    "    return sum_result, c_out"
   ]
  },
  {
   "cell_type": "code",
   "execution_count": null,
   "id": "d7fb6dbc",
   "metadata": {},
   "outputs": [],
   "source": [
    "def ripple_carry_sim( ):\n",
    "    \n",
    "    # Step 1 - Reset the working block\n",
    "    pyrtl.reset_working_block()\n",
    "    \n",
    "    # In-Class Step 2 - Create the input and ouput wires\n",
    "    \n",
    "    \n",
    "    # In-Class Four-Bit Output\n",
    "    \n",
    "    \n",
    "    # c_out is one bit, so we can still use .Output without issue\n",
    "    output_c_out = pyrtl.Output(1, 'output_c_out')\n",
    "    \n",
    "    # Step 3-a - Save to an intermediate value using the three_input_and_or function\n",
    "    inter_sum, inter_c_out = ripple_carry_adder( a, b, c_in )\n",
    "    \n",
    "    # Step 3-b Assign to a bus wire using <<=\n",
    "    output_sum <<= inter_sum\n",
    "    output_c_out <<= inter_c_out\n",
    "    \n",
    "    # Step 4 - Simulate the design\n",
    "    sim = pyrtl.Simulation()\n",
    "    \n",
    "    # Step 5 - Create lists for the inputs\n",
    "    a_inputs = [ 0, 3, 10, 2, 15, 3, 14 ]\n",
    "    b_inputs = [ 4, 6, 6, 11, 15, 2, 1 ]\n",
    "    c_in_inputs = [0, 0, 0, 0, 0, 0, 0]\n",
    "\n",
    "    # Step 6 - Loop through and simuluate\n",
    "    for value in range( 0, len(a_inputs) ):\n",
    "\n",
    "        sim.step({\n",
    "            'a' : a_inputs[value],\n",
    "            'b' : b_inputs[value],\n",
    "            'c_in' : c_in_inputs[value] \n",
    "        })\n",
    "    \n",
    "    # Render the trace\n",
    "    sim.tracer.render_trace()"
   ]
  },
  {
   "cell_type": "code",
   "execution_count": null,
   "id": "7a68c789",
   "metadata": {},
   "outputs": [],
   "source": [
    "ripple_carry_sim( )"
   ]
  }
 ],
 "metadata": {
  "kernelspec": {
   "display_name": "Python 3 (ipykernel)",
   "language": "python",
   "name": "python3"
  },
  "language_info": {
   "codemirror_mode": {
    "name": "ipython",
    "version": 3
   },
   "file_extension": ".py",
   "mimetype": "text/x-python",
   "name": "python",
   "nbconvert_exporter": "python",
   "pygments_lexer": "ipython3",
   "version": "3.9.12"
  }
 },
 "nbformat": 4,
 "nbformat_minor": 5
}
