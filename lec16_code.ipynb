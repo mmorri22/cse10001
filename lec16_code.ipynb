{
 "cells": [
  {
   "cell_type": "markdown",
   "metadata": {},
   "source": [
    "## This is the Notebook for Lecture 16\n",
    "\n",
    "In this lecture, we will learn techniques for accessing the internet. This will include:\n",
    "\n",
    "<ol>\n",
    "    <li>Learning how to lookup IP Addresses</li>\n",
    "    <li>What an IP Address actually means</li>\n",
    "    <li>Modify RGB values</li>\n",
    "</ol>"
   ]
  },
  {
   "cell_type": "markdown",
   "metadata": {},
   "source": [
    "#### What is Google's IP address?"
   ]
  },
  {
   "cell_type": "markdown",
   "metadata": {},
   "source": [
    "<code>nslookup</code> is a network administration command-line tool for querying the <b>Domain Name System</b> to obtain the mapping between <b>domain name</b> and <b>IP address</b>, or other DNS records"
   ]
  },
  {
   "cell_type": "code",
   "execution_count": null,
   "metadata": {
    "scrolled": false
   },
   "outputs": [],
   "source": [
    "# On Windows - Run !nslookup google.com\n",
    "# Note: You will get a \"Non-Authoritative Answer block\". You may ignore it\n",
    "\n",
    "# On MacOS - Run !host google.com\n",
    "!nslookup www.google.com"
   ]
  },
  {
   "cell_type": "markdown",
   "metadata": {},
   "source": [
    "By copying and pasting the produced IP Address into your browser, you will be taken to google.com"
   ]
  },
  {
   "cell_type": "code",
   "execution_count": null,
   "metadata": {
    "scrolled": false
   },
   "outputs": [],
   "source": [
    "# In-Class Opportunity - Using your OS, find the IP Address for www.nd.edu\n",
    "# Afterwards, copy the addresses into your browser and see what happens!\n",
    "!nslookup www.nd.edu"
   ]
  },
  {
   "cell_type": "markdown",
   "metadata": {},
   "source": [
    "### You will get multiple IP Addresses as a result of this command. Let's see why?\n",
    "You can use the address <code>https://whoislookupdb.com/whois-</code> and then the IP address to see what is actually going on\n",
    "<ol>\n",
    "    For example, for the IP address <code>142.250.190.78</code>, you can use <a href = \"https://whoislookupdb.com/whois-142.250.190.78\">https://whoislookupdb.com/whois-142.250.190.78</a> and you will see that the server resides in Mountain View, CA, home of Google by reviewing the \"<b>Whois Lookup:</b>\" at the bottom.\n",
    "</ol>\n",
    "<p>So use the addresses from www.nd.edu to see where the information is being routed from</p>\n",
    "\n",
    "|IP Address   |Region Name|City         |WHo Owns the IP?|\n",
    "|:------------|:----------|:------------|:------|\n",
    "|142.250.190.78|California |Mountain View|Google |\n",
    "|XXX|XXX|XXX|XXX|\n",
    "|XXX|XXX|XXX|XXX|\n",
    "|XXX|XXX|XXX|XXX|"
   ]
  },
  {
   "cell_type": "markdown",
   "metadata": {},
   "source": [
    "#### The ping command\n",
    "\n",
    "The <code>ping</code> command is used to test the reachability of a host on an Internet Protocol network. <b>ping</b> operates by means of <a href = \"https://en.wikipedia.org/wiki/Internet_Control_Message_Protocol\">Internet Control Message Protocol</a> (ICMP) packets. Pinging involves sending an ICMP echo request to the target host and waiting for an ICMP echo reply. <p>\n",
    "    \n",
    "The program reports: \n",
    "<ol>\n",
    "    <li>errors</li>\n",
    "    <li>packet loss</li>\n",
    "    <li>statistical summary of the results, typically including the minimum, maximum, the mean round-trip times, and standard deviation of the mean.</li>\n",
    "</ol>"
   ]
  },
  {
   "cell_type": "code",
   "execution_count": null,
   "metadata": {
    "scrolled": false
   },
   "outputs": [],
   "source": [
    "# This command will send 4 packets to google.com and then show the IP Address\n",
    "!ping google.com"
   ]
  },
  {
   "cell_type": "code",
   "execution_count": null,
   "metadata": {
    "scrolled": false
   },
   "outputs": [],
   "source": [
    "# What if we want to run more tests?\n",
    "# ! ping -c 5 google.com # Linux/macOS\n",
    "# ! ping -n 5 google.com # Windows\n",
    "! ping -n 5 google.com"
   ]
  },
  {
   "cell_type": "markdown",
   "metadata": {},
   "source": [
    "### Now that we understand DDoS attacks, let's see what happens when we try to ping nd.edu"
   ]
  },
  {
   "cell_type": "code",
   "execution_count": null,
   "metadata": {
    "scrolled": false
   },
   "outputs": [],
   "source": [
    "# Something funny happens if we try to ping nd.edu\n",
    "!ping nd.edu"
   ]
  },
  {
   "cell_type": "markdown",
   "metadata": {},
   "source": [
    "#### The ping command only works if the server has enable Internet Control Message Protocol echo requests\n",
    "<p></p>\n",
    "The most hacked website is irs.gov on April 15th every year. So what do you think will happen if we ping irs.gov?"
   ]
  },
  {
   "cell_type": "code",
   "execution_count": null,
   "metadata": {
    "scrolled": true
   },
   "outputs": [],
   "source": [
    "!ping irs.gov"
   ]
  },
  {
   "cell_type": "markdown",
   "metadata": {},
   "source": [
    "But www.sesamestreet.org is abl to be accessed"
   ]
  },
  {
   "cell_type": "code",
   "execution_count": null,
   "metadata": {},
   "outputs": [],
   "source": [
    "!ping www.sesamestreet.org"
   ]
  },
  {
   "cell_type": "markdown",
   "metadata": {},
   "source": [
    "### Services running on your machine"
   ]
  },
  {
   "cell_type": "code",
   "execution_count": null,
   "metadata": {
    "scrolled": true
   },
   "outputs": [],
   "source": [
    "# This command will show the potential connections on your local machine\n",
    "# For windows - !ipconfig\n",
    "# For macOS - !ifconfig\n",
    "!ipconfig"
   ]
  },
  {
   "cell_type": "code",
   "execution_count": null,
   "metadata": {
    "scrolled": false
   },
   "outputs": [],
   "source": [
    "# For macOS, run !netstat -tlnp\n",
    "# For Windows, run !netstat -a -n\n",
    "!netstat -a -n"
   ]
  },
  {
   "cell_type": "code",
   "execution_count": null,
   "metadata": {},
   "outputs": [],
   "source": []
  }
 ],
 "metadata": {
  "kernelspec": {
   "display_name": "Python 3 (ipykernel)",
   "language": "python",
   "name": "python3"
  },
  "language_info": {
   "codemirror_mode": {
    "name": "ipython",
    "version": 3
   },
   "file_extension": ".py",
   "mimetype": "text/x-python",
   "name": "python",
   "nbconvert_exporter": "python",
   "pygments_lexer": "ipython3",
   "version": "3.9.12"
  }
 },
 "nbformat": 4,
 "nbformat_minor": 2
}
