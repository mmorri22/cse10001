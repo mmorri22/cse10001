{
 "cells": [
  {
   "cell_type": "markdown",
   "id": "2e4ca45e",
   "metadata": {},
   "source": [
    "### This is the Notebook for Lecture 11\n",
    "\n",
    "In this lecture, we will learn about the dictionary data structure."
   ]
  },
  {
   "cell_type": "code",
   "execution_count": 1,
   "id": "f4a62b6f",
   "metadata": {},
   "outputs": [
    {
     "data": {
      "text/plain": [
       "dict"
      ]
     },
     "execution_count": 1,
     "metadata": {},
     "output_type": "execute_result"
    }
   ],
   "source": [
    "# First approach to defining a dictionary, using dict()\n",
    "\n",
    "english_to_french = dict()\n",
    "type(english_to_french)"
   ]
  },
  {
   "cell_type": "code",
   "execution_count": 6,
   "id": "9d9391ad",
   "metadata": {},
   "outputs": [],
   "source": [
    "english_to_french = dict(\n",
    "    one   = 'un',\n",
    "    two   = 'deux',\n",
    "    three = 'trois',\n",
    "    four  = 'quatre',\n",
    "    five  = 'cinq'\n",
    ")"
   ]
  },
  {
   "cell_type": "code",
   "execution_count": 7,
   "id": "9de65bf4",
   "metadata": {
    "scrolled": true
   },
   "outputs": [
    {
     "data": {
      "text/plain": [
       "'quatre'"
      ]
     },
     "execution_count": 7,
     "metadata": {},
     "output_type": "execute_result"
    }
   ],
   "source": [
    "english_to_french['four']"
   ]
  },
  {
   "cell_type": "code",
   "execution_count": 8,
   "id": "23198f96",
   "metadata": {},
   "outputs": [
    {
     "data": {
      "text/plain": [
       "dict"
      ]
     },
     "execution_count": 8,
     "metadata": {},
     "output_type": "execute_result"
    }
   ],
   "source": [
    "# Second approach to defining a dictionary using {}\n",
    "\n",
    "english_to_french_deux = {}\n",
    "type(english_to_french)"
   ]
  },
  {
   "cell_type": "code",
   "execution_count": 9,
   "id": "4a8cb94c",
   "metadata": {},
   "outputs": [],
   "source": [
    "english_to_french_deux = dict(\n",
    "    one   = 'un',\n",
    "    two   = 'deux',\n",
    "    three = 'trois',\n",
    "    four  = 'quatre',\n",
    "    five  = 'cinq'\n",
    ")"
   ]
  },
  {
   "cell_type": "code",
   "execution_count": 10,
   "id": "8a9d8038",
   "metadata": {},
   "outputs": [
    {
     "data": {
      "text/plain": [
       "'trois'"
      ]
     },
     "execution_count": 10,
     "metadata": {},
     "output_type": "execute_result"
    }
   ],
   "source": [
    "english_to_french_deux['three']"
   ]
  },
  {
   "cell_type": "code",
   "execution_count": 12,
   "id": "20071895",
   "metadata": {},
   "outputs": [
    {
     "name": "stdout",
     "output_type": "stream",
     "text": [
      "{'one': 'un', 'two': 'deux', 'three': 'trois', 'four': 'quatre', 'five': 'cinq', 'six': 'six', 'seven': 'sept', 'eight': 'huit', 'nine': 'neuf', 'ten': 'dix'}\n"
     ]
    }
   ],
   "source": [
    "# Adding Key/Value pairs to a dictionary\n",
    "\n",
    "english_to_french['six']   = 'six'\n",
    "english_to_french['seven'] = 'sept'\n",
    "english_to_french['eight'] = 'huit'\n",
    "english_to_french['nine']  = 'neuf'\n",
    "english_to_french['ten']   = 'dix'\n",
    "print(english_to_french)"
   ]
  },
  {
   "cell_type": "markdown",
   "id": "54a55d66",
   "metadata": {},
   "source": [
    "### Dictionary Exception Examples"
   ]
  },
  {
   "cell_type": "code",
   "execution_count": 14,
   "id": "9a6bd61e",
   "metadata": {
    "scrolled": true
   },
   "outputs": [
    {
     "ename": "KeyError",
     "evalue": "'twentytween'",
     "output_type": "error",
     "traceback": [
      "\u001b[1;31m---------------------------------------------------------------------------\u001b[0m",
      "\u001b[1;31mKeyError\u001b[0m                                  Traceback (most recent call last)",
      "Input \u001b[1;32mIn [14]\u001b[0m, in \u001b[0;36m<cell line: 2>\u001b[1;34m()\u001b[0m\n\u001b[0;32m      1\u001b[0m \u001b[38;5;66;03m# Deliberate error to show a KeyError\u001b[39;00m\n\u001b[1;32m----> 2\u001b[0m \u001b[43menglish_to_french\u001b[49m\u001b[43m[\u001b[49m\u001b[38;5;124;43m'\u001b[39;49m\u001b[38;5;124;43mtwentytween\u001b[39;49m\u001b[38;5;124;43m'\u001b[39;49m\u001b[43m]\u001b[49m\n",
      "\u001b[1;31mKeyError\u001b[0m: 'twentytween'"
     ]
    }
   ],
   "source": [
    "# Deliberate error to show a KeyError\n",
    "english_to_french['twentytween']"
   ]
  },
  {
   "cell_type": "code",
   "execution_count": 15,
   "id": "caa6ebf2",
   "metadata": {},
   "outputs": [
    {
     "data": {
      "text/plain": [
       "False"
      ]
     },
     "execution_count": 15,
     "metadata": {},
     "output_type": "execute_result"
    }
   ],
   "source": [
    "# One approach: Use true false to look up the KEY\n",
    "'asdf' in english_to_french"
   ]
  },
  {
   "cell_type": "code",
   "execution_count": 16,
   "id": "de77b401",
   "metadata": {},
   "outputs": [
    {
     "data": {
      "text/plain": [
       "True"
      ]
     },
     "execution_count": 16,
     "metadata": {},
     "output_type": "execute_result"
    }
   ],
   "source": [
    "'one' in english_to_french"
   ]
  },
  {
   "cell_type": "code",
   "execution_count": 17,
   "id": "4fe281ec",
   "metadata": {},
   "outputs": [
    {
     "data": {
      "text/plain": [
       "False"
      ]
     },
     "execution_count": 17,
     "metadata": {},
     "output_type": "execute_result"
    }
   ],
   "source": [
    "'un' in english_to_french"
   ]
  },
  {
   "cell_type": "code",
   "execution_count": 18,
   "id": "6b452b64",
   "metadata": {},
   "outputs": [],
   "source": [
    "# Using try/except\n",
    "def print_dict( dict, key ):\n",
    "    try:\n",
    "        print( dict[key] )\n",
    "    except KeyError:\n",
    "        print( key + ' is not in the dictionary')"
   ]
  },
  {
   "cell_type": "code",
   "execution_count": 19,
   "id": "51c8a444",
   "metadata": {},
   "outputs": [
    {
     "name": "stdout",
     "output_type": "stream",
     "text": [
      "un\n"
     ]
    }
   ],
   "source": [
    "print_dict( english_to_french, 'one' )"
   ]
  },
  {
   "cell_type": "code",
   "execution_count": 20,
   "id": "aaf4abad",
   "metadata": {},
   "outputs": [
    {
     "name": "stdout",
     "output_type": "stream",
     "text": [
      "100 is not in the dictionary\n"
     ]
    }
   ],
   "source": [
    "print_dict( english_to_french, '100' )"
   ]
  },
  {
   "cell_type": "markdown",
   "id": "f6bb3b11",
   "metadata": {},
   "source": [
    "Additionally, we can use the get method to specify a default value if the key is not present."
   ]
  },
  {
   "cell_type": "code",
   "execution_count": 21,
   "id": "023c0e28",
   "metadata": {},
   "outputs": [],
   "source": [
    "english_to_french.get('asdf', None)"
   ]
  },
  {
   "cell_type": "code",
   "execution_count": 22,
   "id": "32208b51",
   "metadata": {},
   "outputs": [
    {
     "data": {
      "text/plain": [
       "'un'"
      ]
     },
     "execution_count": 22,
     "metadata": {},
     "output_type": "execute_result"
    }
   ],
   "source": [
    "english_to_french.get('one', None)"
   ]
  },
  {
   "cell_type": "code",
   "execution_count": 23,
   "id": "6afbb0c1",
   "metadata": {},
   "outputs": [],
   "source": [
    "english_to_french.get('un', None)"
   ]
  },
  {
   "cell_type": "markdown",
   "id": "2d05e050",
   "metadata": {},
   "source": [
    "### Printing all the keys and values"
   ]
  },
  {
   "cell_type": "code",
   "execution_count": 25,
   "id": "0db5a057",
   "metadata": {},
   "outputs": [
    {
     "data": {
      "text/plain": [
       "dict_keys(['one', 'two', 'three', 'four', 'five', 'six', 'seven', 'eight', 'nine', 'ten'])"
      ]
     },
     "execution_count": 25,
     "metadata": {},
     "output_type": "execute_result"
    }
   ],
   "source": [
    "english_to_french.keys()"
   ]
  },
  {
   "cell_type": "code",
   "execution_count": 26,
   "id": "9d6136a2",
   "metadata": {},
   "outputs": [
    {
     "data": {
      "text/plain": [
       "dict_values(['un', 'deux', 'trois', 'quatre', 'cinq', 'six', 'sept', 'huit', 'neuf', 'dix'])"
      ]
     },
     "execution_count": 26,
     "metadata": {},
     "output_type": "execute_result"
    }
   ],
   "source": [
    "english_to_french.values()"
   ]
  },
  {
   "cell_type": "markdown",
   "id": "144581ae",
   "metadata": {},
   "source": [
    "### Ordering Matters"
   ]
  },
  {
   "cell_type": "code",
   "execution_count": 33,
   "id": "14e39e8c",
   "metadata": {},
   "outputs": [],
   "source": [
    "family_name = {}"
   ]
  },
  {
   "cell_type": "code",
   "execution_count": null,
   "id": "415c1433",
   "metadata": {},
   "outputs": [],
   "source": [
    "family_name['Matthew'] = 40\n",
    "family_name['Margot'] = 35\n",
    "family_name['James'] = 37\n",
    "family_name['Alfred'] = 73\n",
    "family_name['Amy'] = 37\n",
    "family_name['Aidan'] = 7\n",
    "family_name['Kathy'] = 70\n",
    "family_name['Evie'] = 3\n",
    "family_name['Baby'] = 0"
   ]
  },
  {
   "cell_type": "code",
   "execution_count": 35,
   "id": "16ed56bd",
   "metadata": {},
   "outputs": [
    {
     "data": {
      "text/plain": [
       "dict_keys(['Matthew', 'Margot', 'James', 'Alfred', 'Amy', 'Aidan', 'Kathy', 'Evie', 'Baby'])"
      ]
     },
     "execution_count": 35,
     "metadata": {},
     "output_type": "execute_result"
    }
   ],
   "source": [
    "family_name.keys()"
   ]
  },
  {
   "cell_type": "code",
   "execution_count": 36,
   "id": "f489e813",
   "metadata": {},
   "outputs": [
    {
     "data": {
      "text/plain": [
       "dict_values([40, 35, 37, 73, 37, 7, 70, 3, 0])"
      ]
     },
     "execution_count": 36,
     "metadata": {},
     "output_type": "execute_result"
    }
   ],
   "source": [
    "family_name.values()"
   ]
  },
  {
   "cell_type": "code",
   "execution_count": 46,
   "id": "46ac2c53",
   "metadata": {},
   "outputs": [
    {
     "name": "stdout",
     "output_type": "stream",
     "text": [
      "Matthew 40\n",
      "Margot 35\n",
      "James 37\n",
      "Alfred 73\n",
      "Amy 37\n",
      "Aidan 7\n",
      "Kathy 70\n",
      "Evie 3\n",
      "Baby 0\n"
     ]
    }
   ],
   "source": [
    "# Looping through the key\n",
    "for key in family_name:\n",
    "    print( key, family_name[key] )"
   ]
  },
  {
   "cell_type": "code",
   "execution_count": 48,
   "id": "78030a69",
   "metadata": {},
   "outputs": [
    {
     "name": "stdout",
     "output_type": "stream",
     "text": [
      "Matthew 40\n",
      "Margot 35\n",
      "James 37\n",
      "Alfred 73\n",
      "Amy 37\n",
      "Aidan 7\n",
      "Kathy 70\n",
      "Evie 3\n",
      "Baby 0\n"
     ]
    }
   ],
   "source": [
    "# Looping through the key, value\n",
    "for key, value in family_name.items():\n",
    "    print( key, value )"
   ]
  },
  {
   "cell_type": "markdown",
   "id": "826107c4",
   "metadata": {},
   "source": [
    "### In-Class Coding Opportunity\n",
    "\n",
    "For every word in a file, count how many times it occurs."
   ]
  },
  {
   "cell_type": "code",
   "execution_count": 49,
   "id": "51ce0103",
   "metadata": {},
   "outputs": [],
   "source": [
    "def word_count(file_name):\n",
    "    \n",
    "    # Define a dictionary\n",
    "    word_dict = {}\n",
    "    \n",
    "    try:\n",
    "        read_file = open(file_name)\n",
    "        \n",
    "        # Loop through each line in the file\n",
    "        for line in read_file:\n",
    "            \n",
    "            # Get each word in the line\n",
    "            for word in line.split():\n",
    "                if word in word_dict:\n",
    "                    word_dict[word] += 1\n",
    "                else:\n",
    "                    word_dict[word] = 1\n",
    "        \n",
    "        # Print the dictionary using the iterator\n",
    "        for key in word_dict:\n",
    "            print( key, word_dict[key] )\n",
    "        \n",
    "        # Close the file\n",
    "        read_file.close()\n",
    "        \n",
    "    except IOError as e:\n",
    "        print('Unable to open file:', e)"
   ]
  },
  {
   "cell_type": "code",
   "execution_count": 50,
   "id": "60138cb5",
   "metadata": {
    "scrolled": true
   },
   "outputs": [
    {
     "name": "stdout",
     "output_type": "stream",
     "text": [
      "Two 2\n",
      "roads 2\n",
      "diverged 2\n",
      "in 3\n",
      "a 3\n",
      "yellow 1\n",
      "wood, 2\n",
      "And 6\n",
      "sorry 1\n",
      "I 8\n",
      "could 2\n",
      "not 1\n",
      "travel 1\n",
      "both 2\n",
      "be 2\n",
      "one 3\n",
      "traveler, 1\n",
      "long 1\n",
      "stood 1\n",
      "looked 1\n",
      "down 1\n",
      "as 5\n",
      "far 1\n",
      "To 1\n",
      "where 1\n",
      "it 2\n",
      "bent 1\n",
      "the 8\n",
      "undergrowth; 1\n",
      "Then 1\n",
      "took 2\n",
      "other, 1\n",
      "just 1\n",
      "fair, 1\n",
      "having 1\n",
      "perhaps 1\n",
      "better 1\n",
      "claim, 1\n",
      "Because 1\n",
      "was 1\n",
      "grassy 1\n",
      "and 3\n",
      "wanted 1\n",
      "wear; 1\n",
      "Though 1\n",
      "for 2\n",
      "that 3\n",
      "passing 1\n",
      "there 1\n",
      "Had 1\n",
      "worn 1\n",
      "them 1\n",
      "really 1\n",
      "about 1\n",
      "same, 1\n",
      "morning 1\n",
      "equally 1\n",
      "lay 1\n",
      "In 1\n",
      "leaves 1\n",
      "no 1\n",
      "step 1\n",
      "had 1\n",
      "trodden 1\n",
      "black. 1\n",
      "Oh, 1\n",
      "kept 1\n",
      "first 1\n",
      "another 1\n",
      "day! 1\n",
      "Yet 1\n",
      "knowing 1\n",
      "how 1\n",
      "way 1\n",
      "leads 1\n",
      "on 1\n",
      "to 1\n",
      "way, 1\n",
      "doubted 1\n",
      "if 1\n",
      "should 1\n",
      "ever 1\n",
      "come 1\n",
      "back. 1\n",
      "shall 1\n",
      "telling 1\n",
      "this 1\n",
      "with 1\n",
      "sigh 1\n",
      "Somewhere 1\n",
      "ages 2\n",
      "hence: 1\n",
      "I- 1\n",
      "less 1\n",
      "traveled 1\n",
      "by, 1\n",
      "has 1\n",
      "made 1\n",
      "all 1\n",
      "difference. 1\n"
     ]
    }
   ],
   "source": [
    "file_count('dict/frost.txt')"
   ]
  },
  {
   "cell_type": "markdown",
   "id": "b39bac2a",
   "metadata": {},
   "source": [
    "### Exercise: emoji translator\n",
    "\n",
    "Write a function, emoji_translate, that replaces words with emoji icons."
   ]
  },
  {
   "cell_type": "code",
   "execution_count": 51,
   "id": "1d2359b5",
   "metadata": {},
   "outputs": [],
   "source": [
    "EMOJIS = {\n",
    "    ':)' : '😀',\n",
    "    '<3' : '💙',\n",
    "    'snek': '🐍',\n",
    "}\n",
    "\n",
    "def emoji_translate(text):\n",
    "    results = []\n",
    "    for word in text.split():\n",
    "        if word in EMOJIS:\n",
    "            results.append(EMOJIS[word])\n",
    "        else:\n",
    "            results.append(word)\n",
    "    print(' '.join(results))\n",
    "\n",
    "def emoji_translate(text):\n",
    "    results = []\n",
    "    for word in text.split():\n",
    "        results.append(EMOJIS.get(word, word))\n",
    "    print(' '.join(results))"
   ]
  },
  {
   "cell_type": "code",
   "execution_count": 58,
   "id": "fcc3ded2",
   "metadata": {},
   "outputs": [
    {
     "name": "stdout",
     "output_type": "stream",
     "text": [
      "I 💙 Notre Dame\n"
     ]
    }
   ],
   "source": [
    "emoji_translate('I <3 Notre Dame')"
   ]
  },
  {
   "cell_type": "code",
   "execution_count": 53,
   "id": "3361c4b2",
   "metadata": {},
   "outputs": [
    {
     "name": "stdout",
     "output_type": "stream",
     "text": [
      "Harry Potter speaks 🐍\n"
     ]
    }
   ],
   "source": [
    "emoji_translate('Harry Potter speaks snek')"
   ]
  },
  {
   "cell_type": "code",
   "execution_count": 54,
   "id": "33415fa3",
   "metadata": {},
   "outputs": [],
   "source": [
    "from ipywidgets import interact"
   ]
  },
  {
   "cell_type": "code",
   "execution_count": 56,
   "id": "a539c9f7",
   "metadata": {},
   "outputs": [
    {
     "data": {
      "application/vnd.jupyter.widget-view+json": {
       "model_id": "1a949b93b4e44d76b4a311cb1d6fdf07",
       "version_major": 2,
       "version_minor": 0
      },
      "text/plain": [
       "interactive(children=(Text(value='', description='text'), Output()), _dom_classes=('widget-interact',))"
      ]
     },
     "metadata": {},
     "output_type": "display_data"
    },
    {
     "data": {
      "text/plain": [
       "<function __main__.emoji_translate(text)>"
      ]
     },
     "execution_count": 56,
     "metadata": {},
     "output_type": "execute_result"
    }
   ],
   "source": [
    "interact(emoji_translate, text='')"
   ]
  },
  {
   "cell_type": "markdown",
   "id": "cb0608d1",
   "metadata": {},
   "source": [
    "### Spell Checking"
   ]
  },
  {
   "cell_type": "code",
   "execution_count": 75,
   "id": "fd971686",
   "metadata": {},
   "outputs": [],
   "source": [
    "# Use import requests to obtain public online files\n",
    "import requests\n",
    "\n",
    "# Import string to get the string library\n",
    "import string\n",
    "\n",
    "# wget is a Linux command used to download an online file\n",
    "def wget(url, path):\n",
    "    response = requests.get(url)\n",
    "    \n",
    "    with open(path, 'wb') as fh:\n",
    "        fh.write(response.content)"
   ]
  },
  {
   "cell_type": "code",
   "execution_count": 76,
   "id": "3c8822d1",
   "metadata": {},
   "outputs": [],
   "source": [
    "wget('http://google.com', 'google.txt')"
   ]
  },
  {
   "cell_type": "code",
   "execution_count": 77,
   "id": "d2e1b6c5",
   "metadata": {},
   "outputs": [],
   "source": [
    "import os"
   ]
  },
  {
   "cell_type": "code",
   "execution_count": 78,
   "id": "ac959431",
   "metadata": {},
   "outputs": [
    {
     "data": {
      "text/plain": [
       "14013"
      ]
     },
     "execution_count": 78,
     "metadata": {},
     "output_type": "execute_result"
    }
   ],
   "source": [
    "# Review: Check the size of the file we just downloaded\n",
    "os.path.getsize('google.txt')"
   ]
  },
  {
   "cell_type": "code",
   "execution_count": 82,
   "id": "7d2d2f55",
   "metadata": {},
   "outputs": [],
   "source": [
    "# We will now download a publicly available dictionary\n",
    "wget('https://github.com/dwyl/english-words/raw/master/words.txt', 'words.txt')"
   ]
  },
  {
   "cell_type": "code",
   "execution_count": 83,
   "id": "e5d4a4cf",
   "metadata": {},
   "outputs": [
    {
     "data": {
      "text/plain": [
       "4862992"
      ]
     },
     "execution_count": 83,
     "metadata": {},
     "output_type": "execute_result"
    }
   ],
   "source": [
    "os.path.getsize('words.txt')"
   ]
  },
  {
   "cell_type": "code",
   "execution_count": 84,
   "id": "3d98e1ff",
   "metadata": {},
   "outputs": [
    {
     "name": "stdout",
     "output_type": "stream",
     "text": [
      "2\n",
      "1080\n",
      "&c\n",
      "10-point\n",
      "10th\n",
      "11-point\n",
      "12-point\n",
      "16-point\n",
      "18-point\n",
      "1st\n",
      "2,4,5-t\n",
      "2,4-d\n",
      "20-point\n",
      "2D\n",
      "2nd\n",
      "30-30\n",
      "3D\n",
      "3-D\n",
      "3M\n",
      "3rd\n",
      "48-point\n",
      "4-D\n",
      "4GL\n",
      "4H\n",
      "4th\n",
      "5-point\n",
      "5-T\n",
      "5th\n",
      "6-point\n",
      "6th\n",
      "7-point\n",
      "7th\n",
      "8-point\n",
      "8th\n",
      "9-point\n",
      "9th\n",
      "a\n",
      "a'\n",
      "a-\n",
      "A&M\n",
      "A&P\n",
      "A.\n",
      "A.A.A.\n",
      "A.B.\n",
      "A.B.A.\n",
      "A.C.\n",
      "A.D.\n",
      "A.D.C.\n",
      "A.F.\n",
      "A.F.A.M.\n",
      "A.G.\n",
      "A.H.\n",
      "A.I.\n",
      "A.I.A.\n",
      "A.I.D.\n",
      "A.L.\n",
      "A.L.P.\n",
      "A.M.\n",
      "A.M.A.\n",
      "A.M.D.G.\n",
      "A.N.\n",
      "a.p.\n",
      "a.r.\n",
      "A.R.C.S.\n",
      "A.U.\n",
      "A.U.C.\n",
      "A.V.\n",
      "a.w.\n",
      "A.W.O.L.\n",
      "A/C\n",
      "A/F\n",
      "A/O\n",
      "A/P\n",
      "A/V\n",
      "A1\n",
      "A-1\n",
      "A4\n",
      "A5\n",
      "AA\n",
      "AAA\n",
      "AAAA\n",
      "AAAAAA\n",
      "AAAL\n",
      "AAAS\n",
      "Aaberg\n",
      "Aachen\n",
      "AAE\n",
      "AAEE\n",
      "AAF\n",
      "AAG\n",
      "aah\n",
      "aahed\n",
      "aahing\n",
      "aahs\n",
      "AAII\n",
      "aal\n",
      "Aalborg\n",
      "Aalesund\n",
      "aalii\n",
      "aaliis\n"
     ]
    }
   ],
   "source": [
    "# To review, we will print the first 100 words in the English dictionary\n",
    "# Remember, with automatically opens and closes the file\n",
    "with open('words.txt') as word_file:\n",
    "\n",
    "    for index, line in enumerate(word_file):\n",
    "        if index == 100:\n",
    "            break\n",
    "\n",
    "        print(line.strip())"
   ]
  },
  {
   "cell_type": "code",
   "execution_count": 85,
   "id": "35cf7d93",
   "metadata": {},
   "outputs": [],
   "source": [
    "# Now we will load the dictionary into a list\n",
    "def load_words_list(path):\n",
    "    with open(path) as word_file:\n",
    "        words = []\n",
    "        for word in word_file:\n",
    "            words.append(word.lower().strip())\n",
    "    return words"
   ]
  },
  {
   "cell_type": "code",
   "execution_count": 86,
   "id": "fed1b11d",
   "metadata": {},
   "outputs": [],
   "source": [
    "english_words = load_words_list('words.txt')"
   ]
  },
  {
   "cell_type": "code",
   "execution_count": 87,
   "id": "4672cbe0",
   "metadata": {},
   "outputs": [
    {
     "data": {
      "text/plain": [
       "466550"
      ]
     },
     "execution_count": 87,
     "metadata": {},
     "output_type": "execute_result"
    }
   ],
   "source": [
    "len(english_words)"
   ]
  },
  {
   "cell_type": "code",
   "execution_count": 93,
   "id": "66e3c0a3",
   "metadata": {},
   "outputs": [
    {
     "name": "stdout",
     "output_type": "stream",
     "text": [
      "boiiiiii is not in dictionary!\n"
     ]
    }
   ],
   "source": [
    "sentence = \"Boy meets world and boiiiiii meets girl.\"\n",
    "\n",
    "# Translate all words to lowercase\n",
    "sentence = sentence.lower()\n",
    "\n",
    "# Remove punctuate from the strings\n",
    "sentence = sentence.translate(sentence.maketrans('', '', string.punctuation))\n",
    "\n",
    "for word in sentence.split():\n",
    "    if word not in english_words:\n",
    "        print(f'{word} is not in dictionary!')"
   ]
  },
  {
   "cell_type": "code",
   "execution_count": 92,
   "id": "b64b96f3",
   "metadata": {},
   "outputs": [
    {
     "data": {
      "text/plain": [
       "True"
      ]
     },
     "execution_count": 92,
     "metadata": {},
     "output_type": "execute_result"
    }
   ],
   "source": [
    "'boii' in english_words"
   ]
  }
 ],
 "metadata": {
  "kernelspec": {
   "display_name": "Python 3 (ipykernel)",
   "language": "python",
   "name": "python3"
  },
  "language_info": {
   "codemirror_mode": {
    "name": "ipython",
    "version": 3
   },
   "file_extension": ".py",
   "mimetype": "text/x-python",
   "name": "python",
   "nbconvert_exporter": "python",
   "pygments_lexer": "ipython3",
   "version": "3.9.12"
  }
 },
 "nbformat": 4,
 "nbformat_minor": 5
}
