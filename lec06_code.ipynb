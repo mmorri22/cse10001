{
 "cells": [
  {
   "cell_type": "markdown",
   "id": "05d51938",
   "metadata": {},
   "source": [
    "### This is the preview notebook for Lecture 06\n",
    "\n",
    "In this lecture, we will learn about:\n",
    "<ol>\n",
    "    <li>While loops</li>\n",
    "    <li>Lists</li>\n",
    "</ol>"
   ]
  },
  {
   "cell_type": "code",
   "execution_count": 52,
   "id": "3aca975d",
   "metadata": {},
   "outputs": [
    {
     "name": "stdout",
     "output_type": "stream",
     "text": [
      "0\n",
      "1\n",
      "2\n",
      "3\n",
      "4\n",
      "5\n",
      "6\n",
      "7\n",
      "8\n",
      "9\n"
     ]
    }
   ],
   "source": [
    "# Basic while loop example\n",
    "iterator = 0\n",
    "while iterator < 10:\n",
    "    print( iterator )\n",
    "    iterator += 1"
   ]
  },
  {
   "cell_type": "code",
   "execution_count": 53,
   "id": "6ffd0045",
   "metadata": {
    "scrolled": false
   },
   "outputs": [
    {
     "name": "stdout",
     "output_type": "stream",
     "text": [
      "0\n",
      "1\n",
      "2\n",
      "3\n",
      "4\n",
      "5\n",
      "6\n",
      "7\n",
      "8\n",
      "9\n",
      "10\n"
     ]
    }
   ],
   "source": [
    "# Basic while loop example, but with <= instead of < \n",
    "iterator = 0\n",
    "while iterator <= 10:\n",
    "    print( iterator )\n",
    "    iterator += 1"
   ]
  },
  {
   "cell_type": "code",
   "execution_count": 55,
   "id": "94c480dc",
   "metadata": {
    "scrolled": true
   },
   "outputs": [
    {
     "name": "stdout",
     "output_type": "stream",
     "text": [
      "0\n",
      "1\n",
      "2\n",
      "3\n",
      "4\n",
      "5\n",
      "6\n",
      "7\n",
      "8\n",
      "9\n"
     ]
    }
   ],
   "source": [
    "# You can even control the range\n",
    "# But for range(0,10), will it go to 9 or 10?\n",
    "\n",
    "iterator = 0\n",
    "while iterator in range(0, 10):\n",
    "    print(iterator)\n",
    "    iterator += 1 # iterator = iterator + 1"
   ]
  },
  {
   "cell_type": "markdown",
   "id": "64860eea",
   "metadata": {},
   "source": [
    "### Range( start, end )\n",
    "\n",
    "Will actually go to <b>end-1</b>"
   ]
  },
  {
   "cell_type": "code",
   "execution_count": 57,
   "id": "82e7938a",
   "metadata": {},
   "outputs": [
    {
     "name": "stdout",
     "output_type": "stream",
     "text": [
      "3\n",
      "5\n",
      "7\n",
      "9\n",
      "11\n"
     ]
    }
   ],
   "source": [
    "# Every loop, this will add 2\n",
    "# After it gets to 11, it will add 2, but then not print\n",
    "# A good example of *needing to understand the syntax*\n",
    "# Remember, we are shooting electricity into rocks and trying to make them think\n",
    "\n",
    "temp_val = 3\n",
    "add_val = 2\n",
    "while temp_val in range(3, 13):\n",
    "    print( temp_val )\n",
    "    temp_val += add_val"
   ]
  },
  {
   "cell_type": "code",
   "execution_count": 63,
   "id": "bb9dcf3b",
   "metadata": {},
   "outputs": [
    {
     "data": {
      "text/plain": [
       "[11, 13, 4, 22, -7]"
      ]
     },
     "execution_count": 63,
     "metadata": {},
     "output_type": "execute_result"
    }
   ],
   "source": [
    "# The basic format for a Python list\n",
    "[11, 13, 4, 22, -7]"
   ]
  },
  {
   "cell_type": "code",
   "execution_count": 64,
   "id": "fb9cb76c",
   "metadata": {},
   "outputs": [],
   "source": [
    "# You can use a variable name to save lists\n",
    "int_list = [11, 13, 4, 22, -7]"
   ]
  },
  {
   "cell_type": "code",
   "execution_count": 65,
   "id": "0212bab2",
   "metadata": {},
   "outputs": [
    {
     "name": "stdout",
     "output_type": "stream",
     "text": [
      "[11, 13, 4, 22, -7]\n"
     ]
    }
   ],
   "source": [
    "# By calling print, you can print the entire list\n",
    "print( int_list )"
   ]
  },
  {
   "cell_type": "code",
   "execution_count": 66,
   "id": "5529018a",
   "metadata": {},
   "outputs": [
    {
     "data": {
      "text/plain": [
       "list"
      ]
     },
     "execution_count": 66,
     "metadata": {},
     "output_type": "execute_result"
    }
   ],
   "source": [
    "# Review: Lists have their own type!\n",
    "type( int_list )"
   ]
  },
  {
   "cell_type": "code",
   "execution_count": 67,
   "id": "2cdb0b59",
   "metadata": {},
   "outputs": [
    {
     "data": {
      "text/plain": [
       "4"
      ]
     },
     "execution_count": 67,
     "metadata": {},
     "output_type": "execute_result"
    }
   ],
   "source": [
    "# You can access a list element using []\n",
    "int_list[2]"
   ]
  },
  {
   "cell_type": "markdown",
   "id": "faf4464a",
   "metadata": {},
   "source": [
    "### Combining Concepts: Let's loop through the list and print the elements\n",
    "\n",
    "Key Takeaway: The value at a location is not the same as the location itself!"
   ]
  },
  {
   "cell_type": "code",
   "execution_count": 68,
   "id": "d55deb29",
   "metadata": {},
   "outputs": [
    {
     "name": "stdout",
     "output_type": "stream",
     "text": [
      "int_list[0] = 11\n",
      "int_list[1] = 13\n",
      "int_list[2] = 4\n",
      "int_list[3] = 22\n",
      "int_list[4] = -7\n"
     ]
    }
   ],
   "source": [
    "iterator = 0\n",
    "\n",
    "while iterator < len( int_list ):\n",
    "    print( \"int_list[\" + f'{iterator}' + \"] = \" + f'{int_list[iterator]}' )\n",
    "    iterator += 1"
   ]
  },
  {
   "cell_type": "code",
   "execution_count": 7,
   "id": "d592ca3f",
   "metadata": {},
   "outputs": [],
   "source": [
    "# Lists do not need to be the same type, although this can be rare\n",
    "heterogenerous_list = [0, 1, 1.1, 'Avocado']"
   ]
  },
  {
   "cell_type": "code",
   "execution_count": 8,
   "id": "0fc93518",
   "metadata": {},
   "outputs": [
    {
     "data": {
      "text/plain": [
       "list"
      ]
     },
     "execution_count": 8,
     "metadata": {},
     "output_type": "execute_result"
    }
   ],
   "source": [
    "type( heterogenerous_list )"
   ]
  },
  {
   "cell_type": "code",
   "execution_count": 9,
   "id": "93b2b6b9",
   "metadata": {},
   "outputs": [
    {
     "name": "stdout",
     "output_type": "stream",
     "text": [
      "[0, 1, 1.1, 'Avocado']\n"
     ]
    }
   ],
   "source": [
    "print( heterogenerous_list )"
   ]
  },
  {
   "cell_type": "code",
   "execution_count": 10,
   "id": "bccce4c1",
   "metadata": {},
   "outputs": [
    {
     "name": "stdout",
     "output_type": "stream",
     "text": [
      "4\n"
     ]
    }
   ],
   "source": [
    "# The len function will print the length of the list\n",
    "print( len(heterogenerous_list) )"
   ]
  },
  {
   "cell_type": "code",
   "execution_count": 19,
   "id": "e81a966b",
   "metadata": {},
   "outputs": [
    {
     "name": "stdout",
     "output_type": "stream",
     "text": [
      "0\n",
      "3\n",
      "1\n",
      "1.1 is a <class 'float'>\n",
      "Avocado is a <class 'str'>\n"
     ]
    }
   ],
   "source": [
    "# Using the [] operator to access specific elements\n",
    "print( int_list[0] )\n",
    "print( int_list[3] )\n",
    "print( heterogenerous_list[1] )\n",
    "\n",
    "# We can print the value and the type as output strings\n",
    "print( f'{heterogenerous_list[2]}' + \" is a \" + f'{type(heterogenerous_list[2])}')\n",
    "print( f'{heterogenerous_list[3]}' + \" is a \" + f'{type(heterogenerous_list[3])}')"
   ]
  },
  {
   "cell_type": "markdown",
   "id": "c7c49afc",
   "metadata": {},
   "source": [
    "### Exercise: We will write a function called <i>swap</i> that performs the following tasks\n",
    "\n",
    "<ol>\n",
    "    <li>Reads in a list and two <b>locations</b> to swap</li>\n",
    "    <li>Using conditionals, check if the locations are either less than 0 OR greater than or equal to the array length. If that fails, we do not swap!</li>\n",
    "    <li>Otherwise, swaps the locations</li>\n",
    "    <li>Then we will call it several times, including testing outside of the array\n",
    "</ol>"
   ]
  },
  {
   "cell_type": "code",
   "execution_count": 22,
   "id": "c9903c5a",
   "metadata": {},
   "outputs": [],
   "source": [
    "def swap( list_to_swap, first_loc, second_loc ):\n",
    "    array_len = len(list_to_swap)\n",
    "    if first_loc < 0 or first_loc >= array_len:\n",
    "        print( \"The first location \" + f'{first_loc}' + \"is outside the bounds\" )\n",
    "    elif second_loc < 0 or first_loc >= array_len:\n",
    "        print( \"The second location \" + f'{second_loc}' + \"is outside the bounds\" )\n",
    "    else:\n",
    "        temp = list_to_swap[ first_loc ]\n",
    "        list_to_swap[ first_loc ] = list_to_swap[ second_loc ]\n",
    "        list_to_swap[ second_loc ] = temp"
   ]
  },
  {
   "cell_type": "code",
   "execution_count": 27,
   "id": "94cdf87d",
   "metadata": {},
   "outputs": [
    {
     "name": "stdout",
     "output_type": "stream",
     "text": [
      "[0, 1, 3, 2, 4, 5]\n"
     ]
    }
   ],
   "source": [
    "# Creating the list to test\n",
    "list_to_swap = [0, 1, 2, 3, 4, 5]\n",
    "first_loc = 3\n",
    "second_loc = 2\n",
    "\n",
    "# We will see that lists are \"passed by reference\" to the function\n",
    "swap( list_to_swap, first_loc, second_loc )\n",
    "print( list_to_swap )"
   ]
  },
  {
   "cell_type": "code",
   "execution_count": 28,
   "id": "50688b50",
   "metadata": {},
   "outputs": [
    {
     "name": "stdout",
     "output_type": "stream",
     "text": [
      "[5, 1, 3, 2, 4, 0]\n"
     ]
    }
   ],
   "source": [
    "# Now let's do it with 0 and array length - 1\n",
    "first_loc = 0\n",
    "second_loc = len(list_to_swap) - 1\n",
    "\n",
    "swap( list_to_swap, first_loc, second_loc )\n",
    "print( list_to_swap )"
   ]
  },
  {
   "cell_type": "code",
   "execution_count": 29,
   "id": "cd8e97f4",
   "metadata": {},
   "outputs": [
    {
     "ename": "IndexError",
     "evalue": "list index out of range",
     "output_type": "error",
     "traceback": [
      "\u001b[1;31m---------------------------------------------------------------------------\u001b[0m",
      "\u001b[1;31mIndexError\u001b[0m                                Traceback (most recent call last)",
      "Input \u001b[1;32mIn [29]\u001b[0m, in \u001b[0;36m<cell line: 5>\u001b[1;34m()\u001b[0m\n\u001b[0;32m      2\u001b[0m second_loc \u001b[38;5;241m=\u001b[39m \u001b[38;5;28mlen\u001b[39m(list_to_swap)\n\u001b[0;32m      4\u001b[0m \u001b[38;5;66;03m# We will see that lists are \"passed by reference\" to the function\u001b[39;00m\n\u001b[1;32m----> 5\u001b[0m \u001b[43mswap\u001b[49m\u001b[43m(\u001b[49m\u001b[43m \u001b[49m\u001b[43mlist_to_swap\u001b[49m\u001b[43m,\u001b[49m\u001b[43m \u001b[49m\u001b[43mfirst_loc\u001b[49m\u001b[43m,\u001b[49m\u001b[43m \u001b[49m\u001b[43msecond_loc\u001b[49m\u001b[43m \u001b[49m\u001b[43m)\u001b[49m\n\u001b[0;32m      6\u001b[0m \u001b[38;5;28mprint\u001b[39m( list_to_swap )\n",
      "Input \u001b[1;32mIn [22]\u001b[0m, in \u001b[0;36mswap\u001b[1;34m(list_to_swap, first_loc, second_loc)\u001b[0m\n\u001b[0;32m      7\u001b[0m \u001b[38;5;28;01melse\u001b[39;00m:\n\u001b[0;32m      8\u001b[0m     temp \u001b[38;5;241m=\u001b[39m list_to_swap[ first_loc ]\n\u001b[1;32m----> 9\u001b[0m     list_to_swap[ first_loc ] \u001b[38;5;241m=\u001b[39m \u001b[43mlist_to_swap\u001b[49m\u001b[43m[\u001b[49m\u001b[43m \u001b[49m\u001b[43msecond_loc\u001b[49m\u001b[43m \u001b[49m\u001b[43m]\u001b[49m\n\u001b[0;32m     10\u001b[0m     list_to_swap[ second_loc ] \u001b[38;5;241m=\u001b[39m temp\n",
      "\u001b[1;31mIndexError\u001b[0m: list index out of range"
     ]
    }
   ],
   "source": [
    "# Now let's see what happens when we go out of bounds!\n",
    "second_loc = len(list_to_swap)\n",
    "\n",
    "# We will see that lists are \"passed by reference\" to the function\n",
    "swap( list_to_swap, first_loc, second_loc )\n",
    "print( list_to_swap )"
   ]
  },
  {
   "cell_type": "markdown",
   "id": "6025edad",
   "metadata": {},
   "source": [
    "### We now see that we have an IndexError\n",
    "\n",
    "Even with the if/elif/else statements, the Python recognizes the *possible* issue\n",
    "\n",
    "So let's write a modified swap function, which we will call swap_except, that does the same thing as swap, except now we will use our understanding of try/except from the previous lecture"
   ]
  },
  {
   "cell_type": "code",
   "execution_count": 44,
   "id": "4d3635d4",
   "metadata": {},
   "outputs": [],
   "source": [
    "def swap_except( list_to_swap, first_loc, second_loc ):\n",
    "    \n",
    "    array_len = len(list_to_swap)\n",
    "    \n",
    "    try: # Attempt swap\n",
    "        temp = list_to_swap[ first_loc ]\n",
    "        list_to_swap[ first_loc ] = list_to_swap[ second_loc ]\n",
    "        list_to_swap[ second_loc ] = temp\n",
    "        \n",
    "    except IndexError:\n",
    "        if first_loc < 0 or first_loc >= array_len:\n",
    "            print( \"The first location \" + f'{first_loc}' + \" is outside the bounds\" )\n",
    "        elif second_loc < 0 or second_loc >= array_len:\n",
    "            print( \"The second location \" + f'{second_loc}' + \" is outside the bounds\" )"
   ]
  },
  {
   "cell_type": "code",
   "execution_count": 45,
   "id": "762e65eb",
   "metadata": {},
   "outputs": [
    {
     "name": "stdout",
     "output_type": "stream",
     "text": [
      "[0, 1, 3, 2, 4, 5]\n"
     ]
    }
   ],
   "source": [
    "# The initial test will work as normal\n",
    "list_to_swap = [0, 1, 2, 3, 4, 5]\n",
    "first_loc = 3\n",
    "second_loc = 2\n",
    "\n",
    "swap_except( list_to_swap, first_loc, second_loc )\n",
    "print( list_to_swap )"
   ]
  },
  {
   "cell_type": "code",
   "execution_count": 46,
   "id": "c77cc20a",
   "metadata": {},
   "outputs": [
    {
     "name": "stdout",
     "output_type": "stream",
     "text": [
      "[5, 1, 3, 2, 4, 0]\n"
     ]
    }
   ],
   "source": [
    "# The second test will work as expeced\n",
    "first_loc = 0\n",
    "second_loc = len(list_to_swap) - 1\n",
    "\n",
    "swap_except( list_to_swap, first_loc, second_loc )\n",
    "print( list_to_swap )"
   ]
  },
  {
   "cell_type": "code",
   "execution_count": 48,
   "id": "177e5584",
   "metadata": {},
   "outputs": [
    {
     "name": "stdout",
     "output_type": "stream",
     "text": [
      "The second location 6 is outside the bounds\n",
      "[5, 1, 3, 2, 4, 0]\n"
     ]
    }
   ],
   "source": [
    "# Now let's see what happens when we go out of bounds!\n",
    "second_loc = len(list_to_swap)\n",
    "\n",
    "# We will see that the values print, and that the program is permitted to continue!\n",
    "swap_except( list_to_swap, first_loc, second_loc )\n",
    "print( list_to_swap )"
   ]
  },
  {
   "cell_type": "markdown",
   "id": "49d6222d",
   "metadata": {},
   "source": [
    "### Exercise: find the smallest item in a list of numbers"
   ]
  },
  {
   "cell_type": "code",
   "execution_count": 69,
   "id": "3669e07d",
   "metadata": {},
   "outputs": [],
   "source": [
    "def find_smallest(data):\n",
    "    smallest = data[0]  # Assume first item is the smallest\n",
    "    index    = 0        # Keeps track of the current location in the list\n",
    "    \n",
    "    while index < len(data):\n",
    "        # If current item is smaller than current smallest, \n",
    "        # then change smallest to current item\n",
    "        if data[index] < smallest:\n",
    "            smallest = data[index]\n",
    "            \n",
    "        index += 1\n",
    "        \n",
    "    return smallest"
   ]
  },
  {
   "cell_type": "code",
   "execution_count": 71,
   "id": "010e7496",
   "metadata": {},
   "outputs": [
    {
     "data": {
      "text/plain": [
       "-7"
      ]
     },
     "execution_count": 71,
     "metadata": {},
     "output_type": "execute_result"
    }
   ],
   "source": [
    "find_smallest([6, 3, 10, 6, 8, -2, 25, -7, -6, 9])"
   ]
  }
 ],
 "metadata": {
  "kernelspec": {
   "display_name": "Python 3 (ipykernel)",
   "language": "python",
   "name": "python3"
  },
  "language_info": {
   "codemirror_mode": {
    "name": "ipython",
    "version": 3
   },
   "file_extension": ".py",
   "mimetype": "text/x-python",
   "name": "python",
   "nbconvert_exporter": "python",
   "pygments_lexer": "ipython3",
   "version": "3.9.12"
  }
 },
 "nbformat": 4,
 "nbformat_minor": 5
}
