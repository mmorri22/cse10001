{
 "cells": [
  {
   "cell_type": "markdown",
   "id": "8cfa3e93",
   "metadata": {},
   "source": [
    "### This is the preview notebook for Lecture 06\n",
    "\n",
    "In this lecture, we will learn about:\n",
    "<ol>\n",
    "    <li>while loops</li>\n",
    "    <li>for loops</li>\n",
    "    <li>Lists</li>\n",
    "    <li>Review try/except</li>\n",
    "</ol>"
   ]
  },
  {
   "cell_type": "code",
   "execution_count": null,
   "id": "82f219b8",
   "metadata": {},
   "outputs": [],
   "source": [
    "# Exception - When we want the program to immediately stop\n",
    "# Initial Exception Defined by Python\n",
    "\n",
    "x = int(input('X? '))\n",
    "y = int(input('Y? '))\n",
    "\n",
    "try: # Attempt division\n",
    "    z = x / y\n",
    "    print(z)\n",
    "    \n",
    "except ZeroDivisionError:\n",
    "    # Handle Exception\n",
    "    print('Y cannot be 0!')"
   ]
  },
  {
   "cell_type": "code",
   "execution_count": 97,
   "id": "81e615bb",
   "metadata": {},
   "outputs": [
    {
     "name": "stdout",
     "output_type": "stream",
     "text": [
      "0\n",
      "1\n",
      "2\n",
      "3\n",
      "4\n",
      "5\n",
      "6\n",
      "7\n",
      "8\n",
      "9\n"
     ]
    }
   ],
   "source": [
    "# Basic while loop example\n",
    "iterator_var = 0\n",
    "while iterator_var < 10:\n",
    "    print( iterator_var )\n",
    "    iterator_var += 1"
   ]
  },
  {
   "cell_type": "markdown",
   "id": "a62d4cdc",
   "metadata": {},
   "source": [
    "### range( start, end )\n",
    "\n",
    "Will actually go to <b>end-1</b>"
   ]
  },
  {
   "cell_type": "code",
   "execution_count": 100,
   "id": "16fc3c1d",
   "metadata": {
    "scrolled": true
   },
   "outputs": [
    {
     "name": "stdout",
     "output_type": "stream",
     "text": [
      "0\n",
      "1\n",
      "2\n",
      "3\n"
     ]
    }
   ],
   "source": [
    "# You can even control the range\n",
    "# But for range(0,4), will it go to 3 or 104?\n",
    "\n",
    "iterator = 0\n",
    "while iterator in range(0, 4):\n",
    "    print(iterator)\n",
    "    iterator += 1 # iterator = iterator + 1"
   ]
  },
  {
   "cell_type": "code",
   "execution_count": 57,
   "id": "974b6cd2",
   "metadata": {
    "scrolled": false
   },
   "outputs": [
    {
     "name": "stdout",
     "output_type": "stream",
     "text": [
      "3\n",
      "5\n",
      "7\n",
      "9\n",
      "11\n"
     ]
    }
   ],
   "source": [
    "# Every loop, this will add 2\n",
    "# After it gets to 11, it will add 2, but then not print\n",
    "# A good example of *needing to understand the syntax*\n",
    "# Remember, we are shooting electricity into rocks and trying to make them think\n",
    "\n",
    "temp_val = 3\n",
    "add_val = 2\n",
    "while temp_val in range(3, 13):\n",
    "    print( temp_val )\n",
    "    temp_val += add_val"
   ]
  },
  {
   "cell_type": "markdown",
   "id": "f6b53057",
   "metadata": {},
   "source": [
    "### In-Class Coding Opportunity\n",
    "\n",
    "Read in a set of integers until you enter a 0, and then print their average"
   ]
  },
  {
   "cell_type": "code",
   "execution_count": 113,
   "id": "1064deb5",
   "metadata": {},
   "outputs": [
    {
     "name": "stdout",
     "output_type": "stream",
     "text": [
      "Input the next integer: 5\n",
      "Input the next integer: 10\n",
      "Input the next integer: 12\n",
      "Input the next integer: -2\n",
      "Input the next integer: 17\n",
      "Input the next integer: -8\n",
      "Input the next integer: 0\n",
      "The sum is 34, the # of values is 6, and the average is 5.666666666666667\n"
     ]
    }
   ],
   "source": [
    "int_input = int( input( 'Input the next integer: ' ) )\n",
    "num_count = 0\n",
    "sum = 0\n",
    "\n",
    "while int_input != 0:\n",
    "    sum += int_input\n",
    "    num_count += 1\n",
    "    int_input = int( input( 'Input the next integer: ' ) )\n",
    "    \n",
    "print( \"The sum is \" + f'{sum}' + \", the # of values is \" + f'{num_count}' + \", and the average is \" + f'{sum/num_count}')"
   ]
  },
  {
   "cell_type": "markdown",
   "id": "0fe2b325",
   "metadata": {},
   "source": [
    "### For loops \n",
    "\n",
    "Iterating through a definite set of objects is a common looping pattern"
   ]
  },
  {
   "cell_type": "code",
   "execution_count": 72,
   "id": "71eccafc",
   "metadata": {
    "scrolled": false
   },
   "outputs": [
    {
     "name": "stdout",
     "output_type": "stream",
     "text": [
      "0\n",
      "1\n",
      "2\n",
      "3\n"
     ]
    }
   ],
   "source": [
    "for i in [0, 1, 2, 3]:\n",
    "    print(i)"
   ]
  },
  {
   "cell_type": "code",
   "execution_count": 76,
   "id": "4668862e",
   "metadata": {
    "scrolled": true
   },
   "outputs": [
    {
     "name": "stdout",
     "output_type": "stream",
     "text": [
      "0\n",
      "1\n",
      "2\n"
     ]
    }
   ],
   "source": [
    "for i in range(0,3):\n",
    "    print(i)"
   ]
  },
  {
   "cell_type": "markdown",
   "id": "b5974082",
   "metadata": {},
   "source": [
    "### List Syntax and Operators"
   ]
  },
  {
   "cell_type": "code",
   "execution_count": 63,
   "id": "3fec569c",
   "metadata": {},
   "outputs": [
    {
     "data": {
      "text/plain": [
       "[11, 13, 4, 22, -7]"
      ]
     },
     "execution_count": 63,
     "metadata": {},
     "output_type": "execute_result"
    }
   ],
   "source": [
    "# The basic format for a Python list\n",
    "[11, 13, 4, 22, -7]"
   ]
  },
  {
   "cell_type": "code",
   "execution_count": 64,
   "id": "ae070386",
   "metadata": {},
   "outputs": [],
   "source": [
    "# You can use a variable name to save lists\n",
    "int_list = [11, 13, 4, 22, -7]"
   ]
  },
  {
   "cell_type": "code",
   "execution_count": 65,
   "id": "84201716",
   "metadata": {},
   "outputs": [
    {
     "name": "stdout",
     "output_type": "stream",
     "text": [
      "[11, 13, 4, 22, -7]\n"
     ]
    }
   ],
   "source": [
    "# By calling print, you can print the entire list\n",
    "print( int_list )"
   ]
  },
  {
   "cell_type": "code",
   "execution_count": 66,
   "id": "0d1b1c9c",
   "metadata": {},
   "outputs": [
    {
     "data": {
      "text/plain": [
       "list"
      ]
     },
     "execution_count": 66,
     "metadata": {},
     "output_type": "execute_result"
    }
   ],
   "source": [
    "# Review: Lists have their own type!\n",
    "type( int_list )"
   ]
  },
  {
   "cell_type": "code",
   "execution_count": 67,
   "id": "31d870b5",
   "metadata": {},
   "outputs": [
    {
     "data": {
      "text/plain": [
       "4"
      ]
     },
     "execution_count": 67,
     "metadata": {},
     "output_type": "execute_result"
    }
   ],
   "source": [
    "# You can access a list element using []\n",
    "int_list[2]"
   ]
  },
  {
   "cell_type": "markdown",
   "id": "05181b6a",
   "metadata": {},
   "source": [
    "### In-Class Coding Opportunity: Let's loop through the list and print the elements\n",
    "\n",
    "Key Takeaway: The value at a location is not the same as the location itself!"
   ]
  },
  {
   "cell_type": "code",
   "execution_count": 68,
   "id": "f2301f7a",
   "metadata": {},
   "outputs": [
    {
     "name": "stdout",
     "output_type": "stream",
     "text": [
      "int_list[0] = 11\n",
      "int_list[1] = 13\n",
      "int_list[2] = 4\n",
      "int_list[3] = 22\n",
      "int_list[4] = -7\n"
     ]
    }
   ],
   "source": [
    "iterator = 0\n",
    "\n",
    "while iterator < len( int_list ):\n",
    "    print( \"int_list[\" + f'{iterator}' + \"] = \" + f'{int_list[iterator]}' )\n",
    "    iterator += 1"
   ]
  },
  {
   "cell_type": "code",
   "execution_count": 119,
   "id": "91d8a1c3",
   "metadata": {
    "scrolled": true
   },
   "outputs": [
    {
     "name": "stdout",
     "output_type": "stream",
     "text": [
      "int_list[0] = 11\n",
      "int_list[1] = 13\n",
      "int_list[2] = 4\n",
      "int_list[3] = 22\n",
      "int_list[4] = -7\n"
     ]
    }
   ],
   "source": [
    "iterator = 0\n",
    "\n",
    "for value in int_list:\n",
    "    print( \"int_list[\" + f'{iterator}' + \"] = \" + f'{value}' )\n",
    "    iterator += 1"
   ]
  },
  {
   "cell_type": "markdown",
   "id": "134c6ae7",
   "metadata": {},
   "source": [
    "### In-Class Coding Opportunity\n",
    "\n",
    "Write a function called find_smallest that returns the smallest item in a list. Then, write a line of code that passes an integer array to that function to test your result!"
   ]
  },
  {
   "cell_type": "code",
   "execution_count": 69,
   "id": "ce8dc4be",
   "metadata": {},
   "outputs": [],
   "source": [
    "def find_smallest(data):\n",
    "    smallest = data[0]  # Assume first item is the smallest\n",
    "    index    = 0        # Keeps track of the current location in the list\n",
    "    \n",
    "    while index < len(data):\n",
    "        # If current item is smaller than current smallest, \n",
    "        # then change smallest to current item\n",
    "        if data[index] < smallest:\n",
    "            smallest = data[index]\n",
    "            \n",
    "        index += 1\n",
    "        \n",
    "    return smallest"
   ]
  },
  {
   "cell_type": "code",
   "execution_count": 71,
   "id": "5910e597",
   "metadata": {
    "scrolled": false
   },
   "outputs": [
    {
     "data": {
      "text/plain": [
       "-7"
      ]
     },
     "execution_count": 71,
     "metadata": {},
     "output_type": "execute_result"
    }
   ],
   "source": [
    "find_smallest([6, 3, 10, 6, 8, -2, 25, -7, -6, 9])"
   ]
  },
  {
   "cell_type": "code",
   "execution_count": 120,
   "id": "fd6b0245",
   "metadata": {},
   "outputs": [],
   "source": [
    "char_array = ['N', 'o', 't', 'r', 'e', 'D', 'a', 'm', 'e']"
   ]
  },
  {
   "cell_type": "code",
   "execution_count": 121,
   "id": "580ec288",
   "metadata": {},
   "outputs": [
    {
     "data": {
      "text/plain": [
       "'D'"
      ]
     },
     "execution_count": 121,
     "metadata": {},
     "output_type": "execute_result"
    }
   ],
   "source": [
    "find_smallest( char_array )"
   ]
  },
  {
   "cell_type": "markdown",
   "id": "8c7617c4",
   "metadata": {},
   "source": [
    "### Why do you think this happened?\n",
    "\n",
    "Hint: <a href = \"https://www.asciitable.com/\">ASCII Table</a>"
   ]
  },
  {
   "cell_type": "code",
   "execution_count": 7,
   "id": "3ef8633c",
   "metadata": {},
   "outputs": [],
   "source": [
    "# Lists do not need to be the same type, although this can be rare\n",
    "heterogenerous_list = [0, 1, 1.1, 'Avocado']"
   ]
  },
  {
   "cell_type": "code",
   "execution_count": 8,
   "id": "2fc6f5e9",
   "metadata": {},
   "outputs": [
    {
     "data": {
      "text/plain": [
       "list"
      ]
     },
     "execution_count": 8,
     "metadata": {},
     "output_type": "execute_result"
    }
   ],
   "source": [
    "type( heterogenerous_list )"
   ]
  },
  {
   "cell_type": "code",
   "execution_count": 9,
   "id": "418ab76b",
   "metadata": {},
   "outputs": [
    {
     "name": "stdout",
     "output_type": "stream",
     "text": [
      "[0, 1, 1.1, 'Avocado']\n"
     ]
    }
   ],
   "source": [
    "print( heterogenerous_list )"
   ]
  },
  {
   "cell_type": "code",
   "execution_count": 10,
   "id": "6614ebae",
   "metadata": {},
   "outputs": [
    {
     "name": "stdout",
     "output_type": "stream",
     "text": [
      "4\n"
     ]
    }
   ],
   "source": [
    "# The len function will print the length of the list\n",
    "print( len(heterogenerous_list) )"
   ]
  },
  {
   "cell_type": "code",
   "execution_count": 105,
   "id": "1c9f997a",
   "metadata": {},
   "outputs": [
    {
     "name": "stdout",
     "output_type": "stream",
     "text": [
      "11\n",
      "22\n",
      "1\n",
      "int_list is a <class 'list'>\n",
      "1.1 is a <class 'float'>\n",
      "Avocado is a <class 'str'>\n"
     ]
    }
   ],
   "source": [
    "# Using the [] operator to access specific elements\n",
    "print( int_list[0] )\n",
    "print( int_list[3] )\n",
    "print( heterogenerous_list[1] )\n",
    "\n",
    "# We can print the value and the type as output strings\n",
    "print( \"int_list is a \" + f'{type(int_list)}')\n",
    "print( f'{heterogenerous_list[2]}' + \" is a \" + f'{type(heterogenerous_list[2])}')\n",
    "print( f'{heterogenerous_list[3]}' + \" is a \" + f'{type(heterogenerous_list[3])}')"
   ]
  },
  {
   "cell_type": "code",
   "execution_count": 122,
   "id": "5044e688",
   "metadata": {},
   "outputs": [
    {
     "ename": "TypeError",
     "evalue": "'<' not supported between instances of 'str' and 'int'",
     "output_type": "error",
     "traceback": [
      "\u001b[1;31m---------------------------------------------------------------------------\u001b[0m",
      "\u001b[1;31mTypeError\u001b[0m                                 Traceback (most recent call last)",
      "Input \u001b[1;32mIn [122]\u001b[0m, in \u001b[0;36m<cell line: 1>\u001b[1;34m()\u001b[0m\n\u001b[1;32m----> 1\u001b[0m \u001b[43mfind_smallest\u001b[49m\u001b[43m(\u001b[49m\u001b[43m \u001b[49m\u001b[43mheterogenerous_list\u001b[49m\u001b[43m \u001b[49m\u001b[43m)\u001b[49m\n",
      "Input \u001b[1;32mIn [69]\u001b[0m, in \u001b[0;36mfind_smallest\u001b[1;34m(data)\u001b[0m\n\u001b[0;32m      3\u001b[0m index    \u001b[38;5;241m=\u001b[39m \u001b[38;5;241m0\u001b[39m        \u001b[38;5;66;03m# Keeps track of the current location in the list\u001b[39;00m\n\u001b[0;32m      5\u001b[0m \u001b[38;5;28;01mwhile\u001b[39;00m index \u001b[38;5;241m<\u001b[39m \u001b[38;5;28mlen\u001b[39m(data):\n\u001b[0;32m      6\u001b[0m     \u001b[38;5;66;03m# If current item is smaller than current smallest, \u001b[39;00m\n\u001b[0;32m      7\u001b[0m     \u001b[38;5;66;03m# then change smallest to current item\u001b[39;00m\n\u001b[1;32m----> 8\u001b[0m     \u001b[38;5;28;01mif\u001b[39;00m \u001b[43mdata\u001b[49m\u001b[43m[\u001b[49m\u001b[43mindex\u001b[49m\u001b[43m]\u001b[49m\u001b[43m \u001b[49m\u001b[38;5;241;43m<\u001b[39;49m\u001b[43m \u001b[49m\u001b[43msmallest\u001b[49m:\n\u001b[0;32m      9\u001b[0m         smallest \u001b[38;5;241m=\u001b[39m data[index]\n\u001b[0;32m     11\u001b[0m     index \u001b[38;5;241m+\u001b[39m\u001b[38;5;241m=\u001b[39m \u001b[38;5;241m1\u001b[39m\n",
      "\u001b[1;31mTypeError\u001b[0m: '<' not supported between instances of 'str' and 'int'"
     ]
    }
   ],
   "source": [
    "# You cannot compare different types in a heterogeneous list\n",
    "\n",
    "find_smallest( heterogenerous_list )"
   ]
  },
  {
   "cell_type": "markdown",
   "id": "399f53a9",
   "metadata": {},
   "source": [
    "### In-Class Coding Opportunity: \n",
    "\n",
    "We will write a function called <i>swap</i> that performs the following tasks\n",
    "\n",
    "<ol>\n",
    "    <li>Reads in a list and two <b>locations</b> to swap</li>\n",
    "    <ol>\n",
    "        <li>We need to understand that locations are <b>physical</b> and must be kep track of\n",
    "    </ol>\n",
    "    <li>Using conditionals, check if the locations are either less than 0 OR greater than or equal to the array length. If that fails, we do not swap!</li>\n",
    "    <li>Otherwise, swaps the locations</li>\n",
    "    <li>Then we will call it several times, including testing outside of the array\n",
    "</ol>"
   ]
  },
  {
   "cell_type": "code",
   "execution_count": 106,
   "id": "399b502f",
   "metadata": {},
   "outputs": [],
   "source": [
    "def swap( list_to_swap, first_loc, second_loc ):\n",
    "    array_len = len(list_to_swap)\n",
    "    if first_loc < 0 or first_loc >= array_len:\n",
    "        print( \"The first location \" + f'{first_loc}' + \"is outside the bounds\" )\n",
    "    elif second_loc < 0 or first_loc >= array_len:\n",
    "        print( \"The second location \" + f'{second_loc}' + \"is outside the bounds\" )\n",
    "    else:\n",
    "        temp = list_to_swap[ first_loc ]\n",
    "        list_to_swap[ first_loc ] = list_to_swap[ second_loc ]\n",
    "        list_to_swap[ second_loc ] = temp"
   ]
  },
  {
   "cell_type": "code",
   "execution_count": 27,
   "id": "717001b1",
   "metadata": {},
   "outputs": [
    {
     "name": "stdout",
     "output_type": "stream",
     "text": [
      "[0, 1, 3, 2, 4, 5]\n"
     ]
    }
   ],
   "source": [
    "# Creating the list to test\n",
    "list_to_swap = [0, 1, 2, 3, 4, 5]\n",
    "first_loc = 3\n",
    "second_loc = 2\n",
    "\n",
    "# We will see that lists are \"passed by reference\" to the function\n",
    "swap( list_to_swap, first_loc, second_loc )\n",
    "print( list_to_swap )"
   ]
  },
  {
   "cell_type": "code",
   "execution_count": 28,
   "id": "857aeb96",
   "metadata": {},
   "outputs": [
    {
     "name": "stdout",
     "output_type": "stream",
     "text": [
      "[5, 1, 3, 2, 4, 0]\n"
     ]
    }
   ],
   "source": [
    "# Now let's do it with 0 and array length - 1\n",
    "first_loc = 0\n",
    "second_loc = len(list_to_swap) - 1\n",
    "\n",
    "swap( list_to_swap, first_loc, second_loc )\n",
    "print( list_to_swap )"
   ]
  },
  {
   "cell_type": "code",
   "execution_count": 29,
   "id": "40474435",
   "metadata": {},
   "outputs": [
    {
     "ename": "IndexError",
     "evalue": "list index out of range",
     "output_type": "error",
     "traceback": [
      "\u001b[1;31m---------------------------------------------------------------------------\u001b[0m",
      "\u001b[1;31mIndexError\u001b[0m                                Traceback (most recent call last)",
      "Input \u001b[1;32mIn [29]\u001b[0m, in \u001b[0;36m<cell line: 5>\u001b[1;34m()\u001b[0m\n\u001b[0;32m      2\u001b[0m second_loc \u001b[38;5;241m=\u001b[39m \u001b[38;5;28mlen\u001b[39m(list_to_swap)\n\u001b[0;32m      4\u001b[0m \u001b[38;5;66;03m# We will see that lists are \"passed by reference\" to the function\u001b[39;00m\n\u001b[1;32m----> 5\u001b[0m \u001b[43mswap\u001b[49m\u001b[43m(\u001b[49m\u001b[43m \u001b[49m\u001b[43mlist_to_swap\u001b[49m\u001b[43m,\u001b[49m\u001b[43m \u001b[49m\u001b[43mfirst_loc\u001b[49m\u001b[43m,\u001b[49m\u001b[43m \u001b[49m\u001b[43msecond_loc\u001b[49m\u001b[43m \u001b[49m\u001b[43m)\u001b[49m\n\u001b[0;32m      6\u001b[0m \u001b[38;5;28mprint\u001b[39m( list_to_swap )\n",
      "Input \u001b[1;32mIn [22]\u001b[0m, in \u001b[0;36mswap\u001b[1;34m(list_to_swap, first_loc, second_loc)\u001b[0m\n\u001b[0;32m      7\u001b[0m \u001b[38;5;28;01melse\u001b[39;00m:\n\u001b[0;32m      8\u001b[0m     temp \u001b[38;5;241m=\u001b[39m list_to_swap[ first_loc ]\n\u001b[1;32m----> 9\u001b[0m     list_to_swap[ first_loc ] \u001b[38;5;241m=\u001b[39m \u001b[43mlist_to_swap\u001b[49m\u001b[43m[\u001b[49m\u001b[43m \u001b[49m\u001b[43msecond_loc\u001b[49m\u001b[43m \u001b[49m\u001b[43m]\u001b[49m\n\u001b[0;32m     10\u001b[0m     list_to_swap[ second_loc ] \u001b[38;5;241m=\u001b[39m temp\n",
      "\u001b[1;31mIndexError\u001b[0m: list index out of range"
     ]
    }
   ],
   "source": [
    "# Now let's see what happens when we go out of bounds!\n",
    "second_loc = len(list_to_swap)\n",
    "\n",
    "# We will see that lists are \"passed by reference\" to the function\n",
    "swap( list_to_swap, first_loc, second_loc )\n",
    "print( list_to_swap )"
   ]
  },
  {
   "cell_type": "markdown",
   "id": "4a3e9a7f",
   "metadata": {},
   "source": [
    "### We now see that we have an IndexError\n",
    "\n",
    "Even with the if/elif/else statements, the Python recognizes the *possible* issue"
   ]
  },
  {
   "cell_type": "markdown",
   "id": "7f221f43",
   "metadata": {},
   "source": [
    "### In-Class Coding Opportunity: swap_except\n",
    "\n",
    "So let's write a modified swap function, which we will call <b>swap_except</b>, that does the same thing as swap, except now we will use our understanding of try/except from the previous lecture"
   ]
  },
  {
   "cell_type": "code",
   "execution_count": 44,
   "id": "b5d04d88",
   "metadata": {},
   "outputs": [],
   "source": [
    "def swap_except( list_to_swap, first_loc, second_loc ):\n",
    "    \n",
    "    array_len = len(list_to_swap)\n",
    "    \n",
    "    try: # Attempt swap\n",
    "        temp = list_to_swap[ first_loc ]\n",
    "        list_to_swap[ first_loc ] = list_to_swap[ second_loc ]\n",
    "        list_to_swap[ second_loc ] = temp\n",
    "        \n",
    "    except IndexError:\n",
    "        if first_loc < 0 or first_loc >= array_len:\n",
    "            print( \"The first location \" + f'{first_loc}' + \" is outside the bounds\" )\n",
    "        elif second_loc < 0 or second_loc >= array_len:\n",
    "            print( \"The second location \" + f'{second_loc}' + \" is outside the bounds\" )"
   ]
  },
  {
   "cell_type": "code",
   "execution_count": 45,
   "id": "e56b195b",
   "metadata": {},
   "outputs": [
    {
     "name": "stdout",
     "output_type": "stream",
     "text": [
      "[0, 1, 3, 2, 4, 5]\n"
     ]
    }
   ],
   "source": [
    "# The initial test will work as normal\n",
    "list_to_swap = [0, 1, 2, 3, 4, 5]\n",
    "first_loc = 3\n",
    "second_loc = 2\n",
    "\n",
    "swap_except( list_to_swap, first_loc, second_loc )\n",
    "print( list_to_swap )"
   ]
  },
  {
   "cell_type": "code",
   "execution_count": 46,
   "id": "320a7b0f",
   "metadata": {},
   "outputs": [
    {
     "name": "stdout",
     "output_type": "stream",
     "text": [
      "[5, 1, 3, 2, 4, 0]\n"
     ]
    }
   ],
   "source": [
    "# The second test will work as expeced\n",
    "first_loc = 0\n",
    "second_loc = len(list_to_swap) - 1\n",
    "\n",
    "swap_except( list_to_swap, first_loc, second_loc )\n",
    "print( list_to_swap )"
   ]
  },
  {
   "cell_type": "code",
   "execution_count": 48,
   "id": "e7176482",
   "metadata": {},
   "outputs": [
    {
     "name": "stdout",
     "output_type": "stream",
     "text": [
      "The second location 6 is outside the bounds\n",
      "[5, 1, 3, 2, 4, 0]\n"
     ]
    }
   ],
   "source": [
    "# Now let's see what happens when we go out of bounds!\n",
    "second_loc = len(list_to_swap)\n",
    "\n",
    "# We will see that the values print, and that the program is permitted to continue!\n",
    "swap_except( list_to_swap, first_loc, second_loc )\n",
    "print( list_to_swap )"
   ]
  }
 ],
 "metadata": {
  "kernelspec": {
   "display_name": "Python 3 (ipykernel)",
   "language": "python",
   "name": "python3"
  },
  "language_info": {
   "codemirror_mode": {
    "name": "ipython",
    "version": 3
   },
   "file_extension": ".py",
   "mimetype": "text/x-python",
   "name": "python",
   "nbconvert_exporter": "python",
   "pygments_lexer": "ipython3",
   "version": "3.9.12"
  }
 },
 "nbformat": 4,
 "nbformat_minor": 5
}
