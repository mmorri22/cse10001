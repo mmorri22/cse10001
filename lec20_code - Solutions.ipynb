{
 "cells": [
  {
   "cell_type": "markdown",
   "id": "eb2f1fdd",
   "metadata": {},
   "source": [
    "## This is the Notebook for Lectures 20 and 21\n",
    "\n",
    "In this lecture, we will learn techniques for using Tornado for running HTML in Pythin. This will include:\n",
    "\n",
    "<ol>\n",
    "    <li>Learning how to design and implement a basic \"Hello, World\" HTML page using Tornado</li>\n",
    "    <li>Modify <code>ResponseHandler</code></li>\n",
    "    <li>Create HTML Interactive Forms</li>\n",
    "</ol>"
   ]
  },
  {
   "cell_type": "markdown",
   "id": "557324aa",
   "metadata": {},
   "source": [
    "### First, you will gain familiarity with \"Hello, World\" in Tornado"
   ]
  },
  {
   "cell_type": "markdown",
   "id": "295b4ef7",
   "metadata": {},
   "source": [
    "<a href = \"http://www.tornadoweb.org/\">Tornado</a> is a networking framework we can use to build <b>web applications</b> in Python. This tutorial walks you through the basics of a simple \"Hello, World\" web application using Python and Tornado."
   ]
  },
  {
   "cell_type": "markdown",
   "id": "7e4e4849",
   "metadata": {},
   "source": [
    "## Imports\n",
    "\n",
    "To utilize [Tornado], we need to import or load certain packages from the framework.\n",
    "\n",
    "[Tornado]: http://www.tornadoweb.org/"
   ]
  },
  {
   "cell_type": "code",
   "execution_count": 1,
   "id": "b33e17f0",
   "metadata": {},
   "outputs": [],
   "source": [
    "# Imports for Tornado\n",
    "import tornado.httpserver\n",
    "import tornado.ioloop\n",
    "import tornado.web"
   ]
  },
  {
   "cell_type": "markdown",
   "id": "c6d98190",
   "metadata": {},
   "source": [
    "## Constants\n",
    "\n",
    "Our web application needs to listen on a **port**, which is a number associated with our program that acts as our \"mailbox\" number. That is if another machine wishes to communicate with our application, then the other machine will send a message to our machine's **address** and with a **port** number associated with our application.\n",
    "\n",
    "Normally, web servers use **port** `80`, which considered a priviledged **port**. Since we are running as a regular user (rather than an administrator), we should use a higher-number port such as `8080`, `8888`, or `9999`."
   ]
  },
  {
   "cell_type": "code",
   "execution_count": 2,
   "id": "c5415889",
   "metadata": {},
   "outputs": [],
   "source": [
    "# Default\n",
    "PORT_9000 = 9000\n",
    "PORT_9001 = 9001"
   ]
  },
  {
   "cell_type": "markdown",
   "id": "3635a0fe",
   "metadata": {},
   "source": [
    "## Handlers\n",
    "\n",
    "To define what happens when we get a request from the user, we define **handlers** that are associated with different **endpoints** or **resource paths**.\n",
    "\n",
    "Tornado’s <code>RequestHandler</code> class has a number of useful built-in methods, including <code>get_argument</code>, which we use here to get an argument greeting from the query string."
   ]
  },
  {
   "cell_type": "code",
   "execution_count": 6,
   "id": "3a392502",
   "metadata": {},
   "outputs": [],
   "source": [
    "# In-Class Tornado Web Request Handler Example\n",
    "class HelloHandler(tornado.web.RequestHandler):\n",
    "    \n",
    "    def get(self):\n",
    "        greeting = self.get_argument('greeting', 'Hello')\n",
    "        \n",
    "        self.write(greeting + ', friendly user!')"
   ]
  },
  {
   "cell_type": "markdown",
   "id": "57cbb697",
   "metadata": {},
   "source": [
    "## Application\n",
    "\n",
    "Once we have our **handlers** defined, we need to associate them with specific **URL endpoints** and then we can **listen** on our configured **port**.\n",
    "\n",
    "Each **handler** is a **sub-class** of the `tornado.web.RequestHandler` and defines a get **method** that will be called whenever a **HTTP GET** request is made on the **web application**.\n",
    "\n",
    "In the initial <code>start_application</code> function we will write, we will use the **handler** and the **port number** to intialize the page"
   ]
  },
  {
   "cell_type": "code",
   "execution_count": 2,
   "id": "c690d529",
   "metadata": {},
   "outputs": [],
   "source": [
    "# In-Class Start Application Example\n",
    "def start_application( PORT, HandlerName ):\n",
    "    \n",
    "    Application = tornado.web.Application([\n",
    "        (r\"/\", HandlerName )\n",
    "    ])\n",
    "    \n",
    "    Application.listen(PORT)"
   ]
  },
  {
   "cell_type": "code",
   "execution_count": 5,
   "id": "ec24a0ad",
   "metadata": {},
   "outputs": [],
   "source": [
    "start_application( PORT_9000, HelloHandler )"
   ]
  },
  {
   "cell_type": "markdown",
   "id": "34eae832",
   "metadata": {},
   "source": [
    "You can now see the HTML code running at http://localhost:9000."
   ]
  },
  {
   "cell_type": "markdown",
   "id": "6887e518",
   "metadata": {},
   "source": [
    "## HTML Formatting in Tornado\n",
    "\n",
    "Instead of responding with plain text, we can also write HTML by embedding the code in strings:"
   ]
  },
  {
   "cell_type": "code",
   "execution_count": 7,
   "id": "4adc986e",
   "metadata": {},
   "outputs": [],
   "source": [
    "# The image link for the Pupfessor Example is at\n",
    "# https://raw.githubusercontent.com/mmorri22/cse10001/main/PupfessorEirinn.jpg\n",
    "\n",
    "class HelloHTMLHandler(tornado.web.RequestHandler):\n",
    "    \n",
    "    def get(self):\n",
    "        # In-Class Code Goes Here\n",
    "        self.write('<h1>Hello, World! This is Eirinn the Pupfessor Edit</h1>')\n",
    "        self.write('<img src=\"https://raw.githubusercontent.com/mmorri22/cse10001/main/PupfessorEirinn.jpg\">')"
   ]
  },
  {
   "cell_type": "code",
   "execution_count": 8,
   "id": "de24e52f",
   "metadata": {},
   "outputs": [],
   "source": [
    "# Use PORT_9001 for the next link\n",
    "start_application( PORT_9001, HelloHTMLHandler )"
   ]
  },
  {
   "cell_type": "markdown",
   "id": "0c9fd93a",
   "metadata": {},
   "source": [
    "#### Now you can test that the page with the specific port will work\n",
    "Check using http://localhost:9001"
   ]
  },
  {
   "cell_type": "markdown",
   "id": "bdffbb8d",
   "metadata": {},
   "source": [
    "## Testing\n",
    "\n",
    "Once you have executed all the code above, you can test your web application by going to http://hostname:port (where **hostname** is the name of your machine and **port** is the configured **port**).\n",
    "\n",
    "For instance, if you are running the web application on your laptop and the **port** is `9000`, then you can access the application on the same machine via http://localhost:9000.\n",
    "\n",
    "If you try to make a change to the <code>self.write</code> above and re-run it, you will get the following error:<br />\n",
    "&emsp;&emsp;<code><font color=\"red\">OSError</font>: [WinError 10048] Only one usage of each socket address (protocol/network address/port) is normally permitted</code><br /><br />\n",
    "It is a good idea to have a function you can run to close th port so you can re-open upon every run while testing\n",
    "\n",
    "If you need to make modifications and restart the application, then you will need to **interrupt** and **restart** the notebook kernel.\n",
    "\n",
    "The annoying part is that you would have to re-run all the <code>import</code> and <code>function</code> cells again every single time you would need to re-start. Here is a simpler way:"
   ]
  },
  {
   "cell_type": "code",
   "execution_count": 1,
   "id": "0d789b26",
   "metadata": {},
   "outputs": [],
   "source": [
    "# Step 1 - Re-run this specific cell block\n",
    "\n",
    "# This will Re-import the tornado libraries you need for you\n",
    "import tornado.ioloop\n",
    "import tornado.web\n",
    "\n",
    "# This will define the global variables for you\n",
    "PORT_9000 = 9000\n",
    "PORT_9001 = 9001\n",
    "PORT_9002 = 9002\n",
    "PORT_9003 = 9003\n",
    "PORT_9004 = 9004\n",
    "PORT_9999 = 9999  \n",
    "\n",
    "# This will define the start_application you need to run the web page for you\n",
    "def start_application( PORT, HandlerName ):\n",
    "\n",
    "    Application = tornado.web.Application([\n",
    "        (r\"/\", HandlerName),\n",
    "    ])\n",
    "\n",
    "    Application.listen(PORT)\n",
    "\n",
    "# In-Class Coding Here: Define the function stopTornado() so you can stop the kernel and continue to test\n",
    "def stopTornado():\n",
    "    tornado.ioloop.IOLoop.instance().stop()"
   ]
  },
  {
   "cell_type": "code",
   "execution_count": 4,
   "id": "b85a98c1",
   "metadata": {},
   "outputs": [],
   "source": [
    "# Then, write your class handler separately\n",
    "class HelloHandler(tornado.web.RequestHandler):\n",
    "    def get(self):                          # Handler for HTTP GET request\n",
    "        self.write('Hello, World!')         # Write text response\n",
    "\n",
    "        # Now we are going to add HTML using self.write\n",
    "        # Let's put in the ND Dome\n",
    "        self.write('<h1>Hello, World!</h1>')# Write HTML response\n",
    "        self.write('''<center><img src=\"https://www.tornadoweb.org/en/stable/_images/tornado.png\"></center>''')"
   ]
  },
  {
   "cell_type": "code",
   "execution_count": 5,
   "id": "109367c7",
   "metadata": {},
   "outputs": [],
   "source": [
    "# Then call start_application with the port and class you wish to run\n",
    "start_application( PORT_9002, HelloHandler )"
   ]
  },
  {
   "cell_type": "markdown",
   "id": "417d79db",
   "metadata": {},
   "source": [
    "#### Now you can test that the page with the specific port will work\n",
    "Check using http://localhost:9002"
   ]
  },
  {
   "cell_type": "code",
   "execution_count": 6,
   "id": "8563ae04",
   "metadata": {},
   "outputs": [],
   "source": [
    "# Run stopTornado when you want to change your website    \n",
    "stopTornado()"
   ]
  },
  {
   "cell_type": "markdown",
   "id": "68250389",
   "metadata": {},
   "source": [
    "#### And now you can click on the localhost link again, and it will be disconnected\n",
    "<ol>\n",
    "    <li>Check using http://localhost:9000. If it says \"This site can’t be reached\", then you succeeded in closing the socket <br /></li>\n",
    "    <li>Click on \"<code><font color=\"red\">Dead Kernel</font></code>\" at the top (if Jupyter doesn't automatically restart for you.)<br /></li>\n",
    "    <li>Re-run these steps <br /></li>\n",
    "    <li>Then you you will see the site is back!</li>\n",
    "</ol>"
   ]
  },
  {
   "cell_type": "markdown",
   "id": "f6a5e288",
   "metadata": {},
   "source": [
    "## Tornado Form Processing\n",
    "\n",
    "First, we will use the same HTML code that we presented in Lecture 18 to perform a Google Search."
   ]
  },
  {
   "cell_type": "code",
   "execution_count": 2,
   "id": "446855fc",
   "metadata": {},
   "outputs": [],
   "source": [
    "class SimpleFormHandler(tornado.web.RequestHandler):\n",
    "    \n",
    "    # In-Class Code Goes Here \n",
    "    def get(self):\n",
    "        self.write('<html><body>')\n",
    "        self.write('<form action=\"https://www.google.com/search\" method=\"get\">')\n",
    "        self.write('<input name=\"q\" type=\"search\">')\n",
    "        self.write('<input type=\"submit\" value=\"Search\">')\n",
    "        self.write('</form>')\n",
    "        self.write('</body></html>')"
   ]
  },
  {
   "cell_type": "code",
   "execution_count": 3,
   "id": "10a9bdee",
   "metadata": {},
   "outputs": [],
   "source": [
    "# Use PORT_9003 for the next link\n",
    "start_application( PORT_9003, SimpleFormHandler )"
   ]
  },
  {
   "cell_type": "markdown",
   "id": "879d77d4",
   "metadata": {},
   "source": [
    "You will now be able to see the updated version at http://localhost:9003"
   ]
  },
  {
   "cell_type": "code",
   "execution_count": 6,
   "id": "39a309ce",
   "metadata": {},
   "outputs": [],
   "source": [
    "# Run stopTornado when you want to change your website    \n",
    "stopTornado()"
   ]
  }
 ],
 "metadata": {
  "kernelspec": {
   "display_name": "Python 3 (ipykernel)",
   "language": "python",
   "name": "python3"
  },
  "language_info": {
   "codemirror_mode": {
    "name": "ipython",
    "version": 3
   },
   "file_extension": ".py",
   "mimetype": "text/x-python",
   "name": "python",
   "nbconvert_exporter": "python",
   "pygments_lexer": "ipython3",
   "version": "3.9.12"
  }
 },
 "nbformat": 4,
 "nbformat_minor": 5
}
