{
 "cells": [
  {
   "cell_type": "markdown",
   "id": "c5d35fde",
   "metadata": {},
   "source": [
    "# Final Exam Notebook Guide\n",
    "<p></p>\n",
    "Approach to using this guide for successful Exam study:\n",
    "<ol>\n",
    "    <li>Run the <code>start_quiz_section</code> cell <i>first</i></li>\n",
    "    <tab><b>Note 1</b>: If you get the error <code><font color = 'red'>NameError</font>: name 'start_quiz_section' is not defined</code>, this means you need to run the first cell block <i>first</i><br>\n",
    "    <tab><b>Note 2</b>: The solutions are based on scripts I have written that are stored online, so this review requires <b>consistent internet access</b><p>\n",
    "    <li>Attempt the problems first <i>before</i> reviewing the solutions!</li>\n",
    "    <tab>Remember the \"Hands-on imperative\". Build those brain links in long-term memory!</tab><p>\n",
    "    <li>Form study groups!</li><p>\n",
    "    <li>Ask questions of your classmates in the Slack!</li><p>\n",
    "    <li>One of the best ways to learn how code should work properly is to review and fix improper code</li><p>\n",
    "    <li>To practice again, go to <b>Kernel -> Restart and Clear Output</b> to refresh so you can practice again</li><p>\n",
    "    <tab><b>Note</b>: If you do this, don't forget to run the <code>start_quiz_section</code> cell</tab><p>\n",
    "    <li>Challenge yourself and your study partners by <b>designing your own problems</b>!</li><p>\n",
    "</ol>"
   ]
  },
  {
   "cell_type": "code",
   "execution_count": null,
   "id": "9b0d3335",
   "metadata": {},
   "outputs": [],
   "source": [
    "# You *must* run this command in order for the quiz applets to properly operate\n",
    "# Otherwise, you will get NameError: name 'start_quiz_section' is not defined\n",
    "\n",
    "def start_quiz_section( path ):\n",
    "\n",
    "    from jupyterquiz import display_quiz\n",
    "    git_path=\"https://raw.githubusercontent.com/mmorri22/cse10001/main/\"\n",
    "    full_path = git_path + path\n",
    "    display_quiz(full_path)"
   ]
  },
  {
   "cell_type": "markdown",
   "id": "c0522b30",
   "metadata": {},
   "source": [
    "### 1. Hardware\n",
    "You will need to know the following:\n",
    "<ol>\n",
    "    <li>What is a computer?</li>\n",
    "    <li>How is a computer logically constructed?</li>\n",
    "    <li>What is the role of the CPU, RAM, Disk, and I/O devices?</li>\n",
    "    <li>What sort of operations does a CPU support?</li>\n",
    "    <li>What is the execution model of a CPU?</li>\n",
    "</ol>"
   ]
  },
  {
   "cell_type": "code",
   "execution_count": null,
   "id": "3ede732b",
   "metadata": {},
   "outputs": [],
   "source": [
    "#### Run this line to generate a set of problems for hardware\n",
    "# Remember that you need to run start_quiz_section once otherwise this will not work\n",
    "\n",
    "start_quiz_section( \"final_hardware.json\" )"
   ]
  },
  {
   "cell_type": "markdown",
   "id": "141bc3de",
   "metadata": {},
   "source": [
    "### 2. Information Representation\n",
    "<p></p>\n",
    "In this section, you will demonstrate your understanding of how information is represented in a computer. Example topics include:<p>\n",
    "<ol>\n",
    "    <li>What is the difference between <b>analog</b> and <b>digital</b> information?</li>\n",
    "    <li>How do you convert a number from decimal to <b>binary</b>? <b>hexadecimal</b>? <b>vice versa</b>?</li>\n",
    "    <li>What is the difference between <code>KB</code>, <code>MB</code>, <code>GB</code>, <code>TB</code>?</li>\n",
    "    <li>How are <font color='red'><b>colors</b></font> represented on a computer?</li>\n",
    "</ol>"
   ]
  },
  {
   "cell_type": "code",
   "execution_count": null,
   "id": "7ee09d01",
   "metadata": {},
   "outputs": [],
   "source": [
    "# Run this line to generate a set of problems for information representation\n",
    "# Remember that you need to run start_quiz_section once otherwise this will not work\n",
    "\n",
    "start_quiz_section( \"final_information_representation.json\" )"
   ]
  },
  {
   "cell_type": "markdown",
   "id": "7df32fef",
   "metadata": {},
   "source": [
    "### 3. Repeated Execution\n",
    "<p></p>\n",
    "You will need to know the following:\n",
    "<ol>\n",
    "    <li>How do we perform <b>repeated execution</b> based on a <font color='red'><b>condition</b></font>?</li>\n",
    "    <li>How do we perform <b>repeated execution</b> over a <font color='green'><b>sequence</b></font>?</li>\n",
    "</ol>\n",
    "\n"
   ]
  },
  {
   "cell_type": "code",
   "execution_count": null,
   "id": "46c33e4a",
   "metadata": {},
   "outputs": [],
   "source": [
    "# Run this line to generate a set of problems for repeared execution\n",
    "# Remember that you need to run start_quiz_section once otherwise this will not work\n",
    "\n",
    "start_quiz_section( \"final_repeated_execution.json\" )"
   ]
  },
  {
   "cell_type": "markdown",
   "id": "5afcdab4",
   "metadata": {},
   "source": [
    "#### Repeated Execution Problem 1 - See for Yourself!\n",
    "<p></p>\n",
    "Given the code, determine the output:"
   ]
  },
  {
   "cell_type": "code",
   "execution_count": null,
   "id": "51b67516",
   "metadata": {},
   "outputs": [],
   "source": [
    "index = 1\n",
    "count = 0\n",
    "while index <= 20:\n",
    "    if index % 3 == 0:\n",
    "        count += 1\n",
    "    index += 1\n",
    "\n",
    "print(count)"
   ]
  },
  {
   "cell_type": "markdown",
   "id": "b5f057a4",
   "metadata": {},
   "source": [
    "### Conditional Execution - Problem 3 - Try on your Own! \n",
    "The Python code below is suppose to count all of the even numbers between 1 and 100 (inclusive) that are <b><i>also</i></b> a multiple of 5, but it contains some errors. Identify and fix the errors:"
   ]
  },
  {
   "cell_type": "code",
   "execution_count": null,
   "id": "fa5f9ed9",
   "metadata": {},
   "outputs": [],
   "source": [
    "iterator = 0\n",
    "total = 0\n",
    "while iterator < 100:\n",
    "    if iterator % 2 == 0 or iterator % 5 == 0:\n",
    "        total += 1\n",
    "    iterator += 1\n",
    "\n",
    "print(total)\n",
    "print(\"Hint: The answer should be 550\")"
   ]
  },
  {
   "cell_type": "code",
   "execution_count": null,
   "id": "80ecaba8",
   "metadata": {},
   "outputs": [],
   "source": [
    "# Run this line to show the solution for repeated execution Problem 3\n",
    "# Remember that you need to run start_quiz_section once otherwise this will not work\n",
    "\n",
    "start_quiz_section(\"final-repeated-prob3-solution.json\")"
   ]
  },
  {
   "cell_type": "markdown",
   "id": "4137da9a",
   "metadata": {},
   "source": [
    "### 4. Algorithms\n",
    "<p></p>\n",
    "You will need to know the following:\n",
    "<ol>\n",
    "    <li>What is an <b>algorithm</b>?</li>\n",
    "    <li>How do we measure and evaluate <b>time complexity</b>?</li>\n",
    "    <li>What is the time complexity of <b>linear search</b>? <b>binary search</b>? <b>sorting</b>?</li>\n",
    "</ol>\n"
   ]
  },
  {
   "cell_type": "code",
   "execution_count": null,
   "id": "3c063ef6",
   "metadata": {},
   "outputs": [],
   "source": [
    "# Run this line to generate a set of problems for algorithms\n",
    "# Remember that you need to run start_quiz_section once otherwise this will not work\n",
    "\n",
    "start_quiz_section( \"final_algorithms.json\" )"
   ]
  },
  {
   "cell_type": "code",
   "execution_count": null,
   "id": "19cbcaea",
   "metadata": {},
   "outputs": [],
   "source": [
    "# Problem 1 - Try for yourself\n",
    "def contains( numbers_list, target_value ):\n",
    "    for number in numbers_list:\n",
    "        if number == target_value:\n",
    "            return True\n",
    "    \n",
    "    return False"
   ]
  },
  {
   "cell_type": "code",
   "execution_count": null,
   "id": "fa2a38a1",
   "metadata": {},
   "outputs": [],
   "source": [
    "# Problem 2 - Try for yourself\n",
    "# Input - sorted list, target value\n",
    "def search( numbers_list, target_value ):\n",
    "    \n",
    "    min_val = 0\n",
    "    max_val = len(numbers_list) - 1\n",
    "    \n",
    "    while min_val <= max_val:\n",
    "        \n",
    "        mid_val = ( max_val + min_val ) // 2\n",
    "    \n",
    "        if numbers_list[ mid_val ] == target_value:\n",
    "            return True\n",
    "        \n",
    "        if numbers_list[ mid_val ] > target_value:\n",
    "            max_val = mid_val - 1\n",
    "            \n",
    "        elif numbers_list[ mid_val ] < target_value:\n",
    "            min_val = mid_val + 1\n",
    "            \n",
    "    return False\n",
    "\n",
    "# Test\n",
    "numbers_list = [1, 3, 4, 5, 7, 13, 16, 18, 22, 24, 25, 27]\n",
    "\n",
    "print( search( numbers_list, 5 ) )\n",
    "print( search( numbers_list, 8 ) )\n",
    "print( search( numbers_list, 18 ) )\n",
    "print( search( numbers_list, 17 ) )\n",
    "print( search( numbers_list, 29 ) )\n",
    "print( search( numbers_list, 1 ) )\n",
    "print( search( numbers_list, -1 ) )"
   ]
  },
  {
   "cell_type": "code",
   "execution_count": null,
   "id": "5b0c6cce",
   "metadata": {},
   "outputs": [],
   "source": [
    "# Problem 3\n",
    "def sort( numbers_list ):\n",
    "    \n",
    "    iterator_1 = 0\n",
    "    while iterator_1 < len(numbers_list) - 1:\n",
    "        \n",
    "        iterator_2 = iterator_1 + 1\n",
    "        index = iterator_1 + 1\n",
    "        \n",
    "        while iterator_2 < len(numbers_list):\n",
    "            \n",
    "            if numbers_list[index] > numbers_list[ iterator_2 ]:\n",
    "                index = iterator_2\n",
    "                \n",
    "            iterator_2 += 1\n",
    "            \n",
    "        temp = numbers_list[index]\n",
    "        numbers_list[index] = numbers_list[iterator_1]\n",
    "        numbers_list[iterator_1] = temp\n",
    "        \n",
    "        iterator_1 += 1\n",
    "        \n",
    "    return numbers_list\n",
    "\n",
    "sort( [10, 13, 1, 22, 7, 6, 5, 14, 8] )"
   ]
  },
  {
   "cell_type": "code",
   "execution_count": null,
   "id": "6775f488",
   "metadata": {},
   "outputs": [],
   "source": [
    "# Problem 3 - Try for yourself\n",
    "\n",
    "def prob_3( int_val ):\n",
    "    \n",
    "    if int_val <= 1:\n",
    "        return 2\n",
    "    \n",
    "    if int_val % 2 == 1:\n",
    "        return int_val + prob_3( int_val - 2 )\n",
    "    \n",
    "    else:\n",
    "        return int_val + prob_3( int_val - 1 )\n",
    "    \n",
    "prob_3( 8 )"
   ]
  },
  {
   "cell_type": "code",
   "execution_count": null,
   "id": "215fa556",
   "metadata": {},
   "outputs": [],
   "source": [
    "# Problem 4 - Try for yourself\n",
    "# Broken up to show example of a Recursive Trace\n",
    "\n",
    "def prob_4( x ):\n",
    "    \n",
    "    if x <= 3:\n",
    "        print( \"Reached base case and returns 2\")\n",
    "        return 2\n",
    "    \n",
    "    print( f'At prob_4({x}), Making left call with prob_4({x-2})')\n",
    "    \n",
    "    left_val = prob_4( x - 2 )\n",
    "    \n",
    "    print( f'At prob_4({x}), Making right call with prob_4({x-3})')\n",
    "    \n",
    "    right_val = prob_4( x - 3 )\n",
    "    \n",
    "    print( f'At prob_4({x}), Returning the sum of {left_val} and {right_val} = {left_val + right_val}')\n",
    "    \n",
    "    return left_val + right_val\n",
    "\n",
    "print( prob_4(6) )"
   ]
  },
  {
   "cell_type": "markdown",
   "id": "ee40c403",
   "metadata": {},
   "source": [
    "### 5. Networking\n",
    "<p></p>\n",
    "You will need to know the following:\n",
    "<ol>\n",
    "    <li>What are the advantages and disadvantages of different types of networking technologies?</li>\n",
    "    <li>How do machines communicate on the Internet?</li>\n",
    "    <li>How do we measure bandwidth and latency? What is the difference?</li>\n",
    "</ol>"
   ]
  },
  {
   "cell_type": "markdown",
   "id": "9a0b5749",
   "metadata": {},
   "source": [
    "#### For the Matching Problem 1 - Use this table to reference the matches after you run <code>start_quiz_section( \"final_definitions.json\" )</code> below:\n",
    "\n",
    "| Term                   | Definitions                     |\n",
    "|:-----------------------|:---------------------------------|\n",
    "| Jitter         | 1 - How much variance there is in the delay of transfer.    |\n",
    "| Bandwidth  | 2 - How geographically big a network can span. |\n",
    "| Latency         | 3 - Encode data using fewer bits. |\n",
    "| Compression  | 4 - How fast the network can transmit data. |\n",
    "| Range         | 5 - How long it takes for a particular chunk of information to transfer. |"
   ]
  },
  {
   "cell_type": "markdown",
   "id": "ec8914aa",
   "metadata": {},
   "source": [
    "#### For the Matching Problem 4 - Use the following mappings after you run <code>start_quiz_section( \"final_definitions.json\" )</code> below:\n",
    "\n",
    "| Term                   | Definitions                     |\n",
    "|:-----------------------|:---------------------------------|\n",
    "| Packet         | 1 - Provides reliable streaming communication.    |\n",
    "| Protocol  | 2 - A name that maps to one or more addresses. |\n",
    "| Router         | 3 - Set of rules, for routing and addressing packets of data so that they can travel across networks. |\n",
    "| Address                    | 4 - A number that uniquely identifies a machine. |\n",
    "| IP                    | 5 - Specialized computers that connect different networks. |\n",
    "| Domain                    | 6 - Rules for communication and operation. |\n",
    "| TCP                    | 7 - Unit of information that is passed around a network. |"
   ]
  },
  {
   "cell_type": "code",
   "execution_count": null,
   "id": "72707692",
   "metadata": {},
   "outputs": [],
   "source": [
    "start_quiz_section(\"final_networking.json\")"
   ]
  },
  {
   "cell_type": "markdown",
   "id": "ff51bdcc",
   "metadata": {},
   "source": [
    "### 6. Web Programming\n",
    "<p></p>\n",
    "You will need to know the following:\n",
    "<ol>\n",
    "    <li>What are the components of a URL and what do they represent?</li>\n",
    "    <li>What happens in a typical HTTP transaction (on both the client and server)?</li>\n",
    "    <li>How do we use HTML to do complete various tasks?</li>\n",
    "    <li>What is CSS and what does it allow us to do?</li>\n",
    "    <li>What is the difference between a static website and a dynamic or interactive website?</li>\n",
    "    <li>How do we use Tornado to do perform various tasks</li>\n",
    "</ol>"
   ]
  },
  {
   "cell_type": "markdown",
   "id": "b79760b1",
   "metadata": {},
   "source": [
    "#### For the Matching Problem 1 - Use the following mappings after you run <code>start_quiz_section( \"final_definitions.json\" )</code> below:\n",
    "\n",
    "| Term                   | Definitions                     |\n",
    "|:-----------------------|:---------------------------------|\n",
    "| Bold text         | 1 - <code>< a href ></code>    |\n",
    "| Italics text         | 2 - <code>< h1 >< /h1 ></code>.    |\n",
    "| Define a paragraph.  | 3 - <code>< img src ></code> |\n",
    "| Embed an image.         | 4 - <code>< p >< /p ></code> |\n",
    "| Mark a page header.                    | 5 - <code>< i >< /i ></code> |\n",
    "| Create a hypertext link.                    | 6 - <code>< em >< /em ></code> |"
   ]
  },
  {
   "cell_type": "markdown",
   "id": "7d623621",
   "metadata": {},
   "source": [
    "#### For the Matching Problem 3 - Use the following terms and definitions (number) to match after you run <code>start_quiz_section( \"final_definitions.json\" )</code> below:\n",
    "\n",
    "| Term                   | Definitions                     |\n",
    "|:-----------------------|:---------------------------------|\n",
    "| Application object         | 1 - Object containing additional request parameters including e.g. headers and body data.    |\n",
    "| Routing table  | 2 - HTML (or any other text-based format) with Python control sequences and expressions embedded within the markup. |\n",
    "| RequestHandler         | 3 - Takes many keyword arguments that can be used to customize the behavior of the application and enable optional features. |\n",
    "| Application constructor                    | 4 - Class that defines one or more of these methods to handle different HTTP actions. |\n",
    "| Template         | 5 - A list of URLSpec objects (or tuples), each of which contains (at least) a regular expression and a handler class. |\n",
    "| HTTPServerRequest                    | 6 - Responsible for global configuration, including the routing table that maps requests to handlers. |"
   ]
  },
  {
   "cell_type": "code",
   "execution_count": null,
   "id": "eb016148",
   "metadata": {},
   "outputs": [],
   "source": [
    "start_quiz_section(\"final_web_programming.json\")"
   ]
  },
  {
   "cell_type": "markdown",
   "id": "3cb19221",
   "metadata": {},
   "source": [
    "### 7. Cloud Computing\n",
    "<p></p>\n",
    "You will need to know the following:\n",
    "<ol>\n",
    "    <li>What are the motivations for utilizing cloud computing?</li>\n",
    "    <li>What are the advantages and disadvantages?</li>\n",
    "    <li>What are the ethical concerns regarding cloud computing?</li>\n",
    "    <li>How does online advertising impact cloud computing?</li>\n",
    "    <li>What is the convenience-surveillance trade-off?</li>\n",
    "    <li>What sort of information do companies regularly collect?</li>\n",
    "    <li>How do companies use the information that they regularly collect?</li>\n",
    "</ol>"
   ]
  },
  {
   "cell_type": "code",
   "execution_count": null,
   "id": "c078f534",
   "metadata": {},
   "outputs": [],
   "source": [
    "start_quiz_section(\"final_cloud_computing.json\")"
   ]
  },
  {
   "cell_type": "markdown",
   "id": "f862a431",
   "metadata": {},
   "source": [
    "### 8. Logic Design and Finite State Machines\n",
    "<p></p>\n",
    "You will need to know the following:\n",
    "<ol>\n",
    "    <li>How to derive the logic output of a combination of gates</li>\n",
    "    <li>How to determine the output(s) of a Finite State Machine given a set of inputs and control signals</li>\n",
    "</ol>\n"
   ]
  },
  {
   "cell_type": "markdown",
   "id": "71b4d28e",
   "metadata": {},
   "source": [
    "<b>Problem 1</b> - Given the following Finite State Machine, select the output statement given:\n",
    "<p></p>\n",
    "Start state: <code>q0</code>\n",
    "<p></p>\n",
    "Control Signals: <code>{1, 1, 0, 1, 0, 0, 0, 1, 1}</code>\n",
    "<p></p>\n",
    "<center><img src=\"https://camo.githubusercontent.com/8b3fb19a6b68df40e575086c38b5acb2dce25d64d6ae2b448dd0ee0a97a4edfc/68747470733a2f2f6d656469612e6765656b73666f726765656b732e6f72672f77702d636f6e74656e742f75706c6f6164732f312d34332e6a7067\" height=500 width=500></center>"
   ]
  },
  {
   "cell_type": "code",
   "execution_count": null,
   "id": "e7c96830",
   "metadata": {},
   "outputs": [],
   "source": [
    "# Run this line to show the solution for repeated execution Problem 3\n",
    "# Remember that you need to run start_quiz_section once otherwise this will not work\n",
    "\n",
    "start_quiz_section(\"final_fsm_1.json\")"
   ]
  },
  {
   "cell_type": "markdown",
   "id": "a9527d6c",
   "metadata": {},
   "source": [
    "<b>Problem 2</b> - Given the following Finite State Machine and the input truth table, select the following outputs:\n",
    "\n",
    "<img src = \"https://mmorri22-nd.neocities.org/images/lec26_fsm.jpg\" width=600 height=600>\n",
    "\n",
    "<center><b>Input Truth Table</b></center>\n",
    "\n",
    "| Start State | a | b | c | Control | \n",
    "|---|---|---|---|---|\n",
    "|<b><font color=\"purple\">q0</font></b>|1|1|1| 1 |\n",
    "|<b><font color=\"purple\">q2</font></b>|1|0|0| 1 | \n",
    "|<b><font color=\"purple\">q2</font></b>|1|1|1| 0 | \n",
    "|<b><font color=\"purple\">q4</font></b>|0|1|0| 1 | \n",
    "|<b><font color=\"purple\">q3</font></b>|0|1|1| 0 |\n",
    "|<b><font color=\"purple\">q4</font></b>|1|0|0| 0 | \n",
    "|<b><font color=\"purple\">q1</font></b>|1|0|0| 0 | \n",
    "|<b><font color=\"purple\">q1</font></b>|1|1|0| 1 | \n",
    "|<b><font color=\"purple\">q3</font></b>|1|1|1| 1 | "
   ]
  },
  {
   "cell_type": "code",
   "execution_count": null,
   "id": "f98a6eb1",
   "metadata": {},
   "outputs": [],
   "source": [
    "# Run this script to reveal the solution - Also, refer to the Class Code for Lecture 26 for the specific steps\n",
    "start_quiz_section(\"final_fsm_prob2_solution.json\")"
   ]
  }
 ],
 "metadata": {
  "kernelspec": {
   "display_name": "Python 3 (ipykernel)",
   "language": "python",
   "name": "python3"
  },
  "language_info": {
   "codemirror_mode": {
    "name": "ipython",
    "version": 3
   },
   "file_extension": ".py",
   "mimetype": "text/x-python",
   "name": "python",
   "nbconvert_exporter": "python",
   "pygments_lexer": "ipython3",
   "version": "3.9.12"
  }
 },
 "nbformat": 4,
 "nbformat_minor": 5
}
