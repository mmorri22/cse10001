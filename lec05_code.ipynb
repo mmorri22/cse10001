{
 "cells": [
  {
   "cell_type": "markdown",
   "id": "b5069922",
   "metadata": {},
   "source": [
    "### This is the preview Notebook for Lecture 05\n",
    "\n",
    "In this lecture, we will learn about:\n",
    "<ol>\n",
    "    <li>Importing libraries and reviewing conditional execution</li>\n",
    "    <li>Try/Except</li>\n",
    "    <li>HTML and interact</li>\n",
    "</ol>\n",
    "    "
   ]
  },
  {
   "cell_type": "code",
   "execution_count": null,
   "id": "c6d5d5ee",
   "metadata": {},
   "outputs": [],
   "source": [
    "# Import the random library\n",
    "import random"
   ]
  },
  {
   "cell_type": "code",
   "execution_count": null,
   "id": "25fb5969",
   "metadata": {
    "scrolled": true
   },
   "outputs": [],
   "source": [
    "# We will learn how to call the random function, then use conditionals!\n",
    "\n",
    "# Call the random number\n",
    "random_num = random.randint(-10, 10)\n",
    "\n",
    "# Use if, elif, else to save to a string if it is positive, negative, or zero\n",
    "if random_num < 0:\n",
    "    num_type = 'negative'\n",
    "    \n",
    "elif random_num > 0:\n",
    "    num_type = 'positive'\n",
    "    \n",
    "else:\n",
    "    num_type = 'zero'\n",
    "    \n",
    "# We will learn a new print format here!\n",
    "print('{} is {}'.format(random_num, num_type))"
   ]
  },
  {
   "cell_type": "code",
   "execution_count": 4,
   "id": "0aba98c4",
   "metadata": {},
   "outputs": [
    {
     "name": "stdout",
     "output_type": "stream",
     "text": [
      "Please type your name: Taylor Swift\n",
      "Nah... you are not as cool as Taylor Swift\n",
      "Please type your name: Matt Morrison\n",
      "Thank you!\n"
     ]
    }
   ],
   "source": [
    "# A while loop without a break statement\n",
    "name = input('Please type your name: ')\n",
    "\n",
    "while name != 'Matt Morrison':\n",
    "\n",
    "    print('Nah... you are not as cool as ' + name)\n",
    "    \n",
    "    # But note how I have to call input again. Same line of code twice!\n",
    "    name = input('Please type your name: ')\n",
    "        \n",
    "print('Thank you!')"
   ]
  },
  {
   "cell_type": "code",
   "execution_count": 3,
   "id": "02c438c3",
   "metadata": {},
   "outputs": [
    {
     "name": "stdout",
     "output_type": "stream",
     "text": [
      "Please type your name: Taylor Swift\n",
      "Nah... you are not as cool as Taylor Swift\n",
      "Please type your name: Beyonce\n",
      "Nah... you are not as cool as Beyonce\n",
      "Please type your name: Matt Morrison\n",
      "Thank you!\n"
     ]
    }
   ],
   "source": [
    "# Practicing break statements\n",
    "while True:\n",
    "    name = input('Please type your name: ')\n",
    "    if name == 'Matt Morrison':\n",
    "        break\n",
    "    else:\n",
    "        print('Nah... you are not as cool as ' + name)\n",
    "        \n",
    "print('Thank you!')"
   ]
  },
  {
   "cell_type": "markdown",
   "id": "8d65f317",
   "metadata": {},
   "source": [
    "#### Combining Concepts\n",
    "In this exercise we will review and introduce:\n",
    "<ol>\n",
    "    <li>Importing libraries (this time, to generate random numbers</li>\n",
    "    <li>While loops</li>\n",
    "    <li>Conditional statements</li>\n",
    "    <li>Functions</li>\n",
    "</ol>\n",
    "<p></p>\n",
    "In this exercise, working with a classmate, you will <b>import a library</b> which will generate a random integer <b>between 0 and 10</b>, and the user will guess <i>until they get it correct</i>. If they get the guess wrong, ou should print a hint that the user was either <b>below or above</b> the random number. You will then print the correct guess <i>and</i> the total number of guesses the user required. The user should be able to play this game repeatedly.\n",
    "<p></p>\n",
    "<b>Hints:</b>\n",
    "<ol>\n",
    "    <li>You can reduce the number of lines of code and improve readability using a break</li>\n",
    "    <li>Be sure to use clear variable names for readibility!</li>\n",
    "    <li>Conditional statements</li>\n",
    "    <li>Functions</li>\n",
    "</ol>"
   ]
  },
  {
   "cell_type": "code",
   "execution_count": null,
   "id": "7d3f4cea",
   "metadata": {},
   "outputs": [],
   "source": [
    "# Next, write a function that calls the library, and then generates a random number\n",
    "def random_guess():\n",
    "    random_num = random.randint(0, 10)\n",
    "    \n",
    "    num_guess = 0\n",
    "    \n",
    "    while True:\n",
    "        \n",
    "        user_guess = int( input( 'Guess an integer between 0 and 10: '))\n",
    "        num_guess += 1\n",
    "        \n",
    "        if user_guess == random_num:\n",
    "            break\n",
    "        \n",
    "        print( '{} was not correct'.format(user_guess) )\n",
    "        \n",
    "        if user_guess < random_num:\n",
    "            print( '{} is less than the random number'.format(user_guess) )\n",
    "        \n",
    "        elif user_guess > random_num:\n",
    "            print( '{} is greater than the random number'.format(user_guess) )\n",
    "        \n",
    "        \n",
    "    print ( 'The correct answer was {}, which took you {} guesses'.format(random_num, num_guess))"
   ]
  },
  {
   "cell_type": "code",
   "execution_count": null,
   "id": "1cbb08c0",
   "metadata": {
    "scrolled": true
   },
   "outputs": [],
   "source": [
    "# Call your function to test the result\n",
    "random_guess()"
   ]
  },
  {
   "cell_type": "markdown",
   "id": "556646f2",
   "metadata": {},
   "source": [
    "### Next, we will learn about try/except\n",
    "<p></p>\n",
    "We will first learn about this using <b>ZeroDivisionError</b>"
   ]
  },
  {
   "cell_type": "code",
   "execution_count": null,
   "id": "1edd86e4",
   "metadata": {},
   "outputs": [],
   "source": [
    "x = int(input('X?'))\n",
    "y = int(input('Y?'))\n",
    "\n",
    "try: # Attempt division\n",
    "    z = x / y\n",
    "    print(z)\n",
    "    \n",
    "except ZeroDivisionError:\n",
    "    # Handle Exception\n",
    "    print('Y cannot be 0!')"
   ]
  },
  {
   "cell_type": "code",
   "execution_count": 80,
   "id": "f4d38c4e",
   "metadata": {},
   "outputs": [
    {
     "data": {
      "text/plain": [
       "'1010'"
      ]
     },
     "execution_count": 80,
     "metadata": {},
     "output_type": "execute_result"
    }
   ],
   "source": [
    "# An example of AND using &\n",
    "# Compares the binary in each column\n",
    "# Only true if BOTH are 1\n",
    "x = int('1011', 2)\n",
    "y = int('1110', 2)\n",
    "\n",
    "format(x & y, 'b')"
   ]
  },
  {
   "cell_type": "code",
   "execution_count": 81,
   "id": "4b428195",
   "metadata": {},
   "outputs": [
    {
     "data": {
      "text/plain": [
       "'1110'"
      ]
     },
     "execution_count": 81,
     "metadata": {},
     "output_type": "execute_result"
    }
   ],
   "source": [
    "# An example of OR using |\n",
    "# Compares the binary in each column\n",
    "# True if EITHER are 1\n",
    "x = int('1010', 2)\n",
    "y = int('1100', 2)\n",
    "\n",
    "format(x | y, 'b')"
   ]
  },
  {
   "cell_type": "code",
   "execution_count": 40,
   "id": "023d0bee",
   "metadata": {},
   "outputs": [],
   "source": [
    "# Importing HTML\n",
    "from IPython.core.display import HTML"
   ]
  },
  {
   "cell_type": "code",
   "execution_count": 41,
   "id": "3d1d1ec8",
   "metadata": {},
   "outputs": [],
   "source": [
    "# Importing interact\n",
    "from __future__ import print_function\n",
    "from ipywidgets import interact, interactive, fixed, interact_manual\n",
    "import ipywidgets as widgets"
   ]
  },
  {
   "cell_type": "code",
   "execution_count": 77,
   "id": "3a1179fc",
   "metadata": {},
   "outputs": [],
   "source": [
    "def print_table( num_1, num_2, num_3, num_4 ):\n",
    "    \n",
    "    num_1_str = str(num_1)\n",
    "    num_2_str = str(num_2)\n",
    "    num_3_str = str(num_3)\n",
    "    num_4_str = str(num_4)\n",
    "    \n",
    "    hex_1_str = str( hex(num_1) )\n",
    "    hex_2_str = str( hex(num_2) )\n",
    "    hex_3_str = str( hex(num_3) )\n",
    "    hex_4_str = str( hex(num_4) )\n",
    "    \n",
    "    bin_1_str = str( bin(num_1) )\n",
    "    bin_2_str = str( bin(num_2) )\n",
    "    bin_3_str = str( bin(num_3) )\n",
    "    bin_4_str = str( bin(num_4) )\n",
    "    \n",
    "    char_1_str = str( chr(num_1) )\n",
    "    char_2_str = str( chr(num_2) )\n",
    "    char_3_str = str( chr(num_3) )\n",
    "    char_4_str = str( chr(num_4) )\n",
    "    \n",
    "    # Tabbed to be inside to function\n",
    "    TABLE = \"\"\"\n",
    "    <h5>Converting four input numbers from int to hex, binary, and char:</h5>\n",
    "    <div style=\"background: #{};\">&nbsp;</div>\n",
    "    <table>\n",
    "        <thead>\n",
    "            <th>Decimal</th>\n",
    "            <th>Hexadecimal</th>\n",
    "            <th>Binary</th>\n",
    "            <th>Char</th>\n",
    "        </thead>\n",
    "        <tbody>\n",
    "            <tr>\n",
    "                <td>{\"\"\" + num_1_str + \"\"\"}</td>\n",
    "                <td>{\"\"\" + hex_1_str + \"\"\"}</td>\n",
    "                <td>{\"\"\" + bin_1_str + \"\"\"}</td>\n",
    "                <td>{\"\"\" + char_1_str + \"\"\"}</td>\n",
    "            </tr>\n",
    "            <tr>\n",
    "                <td>{\"\"\" + num_2_str + \"\"\"}</td>\n",
    "                <td>{\"\"\" + hex_2_str + \"\"\"}</td>\n",
    "                <td>{\"\"\" + bin_2_str + \"\"\"}</td>\n",
    "                <td>{\"\"\" + char_2_str + \"\"\"}</td>\n",
    "            </tr>\n",
    "            <tr>\n",
    "                <td>{\"\"\" + num_3_str + \"\"\"}</td>\n",
    "                <td>{\"\"\" + hex_3_str + \"\"\"}</td>\n",
    "                <td>{\"\"\" + bin_3_str + \"\"\"}</td>\n",
    "                <td>{\"\"\" + char_3_str + \"\"\"}</td>\n",
    "            </tr>\n",
    "            <tr>\n",
    "                <td>{\"\"\" + num_4_str + \"\"\"}</td>\n",
    "                <td>{\"\"\" + hex_4_str + \"\"\"}</td>\n",
    "                <td>{\"\"\" + bin_4_str + \"\"\"}</td>\n",
    "                <td>{\"\"\" + char_4_str + \"\"\"}</td>\n",
    "            </tr>\n",
    "        </tbody>\n",
    "    </table>\n",
    "    \"\"\"\n",
    "    \n",
    "    display(HTML(TABLE))"
   ]
  },
  {
   "cell_type": "code",
   "execution_count": 78,
   "id": "f64386ca",
   "metadata": {},
   "outputs": [
    {
     "data": {
      "text/html": [
       "\n",
       "    <h5>Converting four input numbers from int to hex, binary, and char:</h5>\n",
       "    <div style=\"background: #{};\">&nbsp;</div>\n",
       "    <table>\n",
       "        <thead>\n",
       "            <th>Decimal</th>\n",
       "            <th>Hexadecimal</th>\n",
       "            <th>Binary</th>\n",
       "            <th>Char</th>\n",
       "        </thead>\n",
       "        <tbody>\n",
       "            <tr>\n",
       "                <td>{1}</td>\n",
       "                <td>{0x1}</td>\n",
       "                <td>{0b1}</td>\n",
       "                <td>{\u0001}</td>\n",
       "            </tr>\n",
       "            <tr>\n",
       "                <td>{2}</td>\n",
       "                <td>{0x2}</td>\n",
       "                <td>{0b10}</td>\n",
       "                <td>{\u0002}</td>\n",
       "            </tr>\n",
       "            <tr>\n",
       "                <td>{3}</td>\n",
       "                <td>{0x3}</td>\n",
       "                <td>{0b11}</td>\n",
       "                <td>{\u0003}</td>\n",
       "            </tr>\n",
       "            <tr>\n",
       "                <td>{4}</td>\n",
       "                <td>{0x4}</td>\n",
       "                <td>{0b100}</td>\n",
       "                <td>{\u0004}</td>\n",
       "            </tr>\n",
       "        </tbody>\n",
       "    </table>\n",
       "    "
      ],
      "text/plain": [
       "<IPython.core.display.HTML object>"
      ]
     },
     "metadata": {},
     "output_type": "display_data"
    }
   ],
   "source": [
    "# Here, we will test print table with four numbers\n",
    "print_table( 1, 2, 3, 4 )"
   ]
  },
  {
   "cell_type": "code",
   "execution_count": 79,
   "id": "b8dc5b4e",
   "metadata": {},
   "outputs": [
    {
     "data": {
      "application/vnd.jupyter.widget-view+json": {
       "model_id": "32c7ce90eae3434381866bebe9ad7647",
       "version_major": 2,
       "version_minor": 0
      },
      "text/plain": [
       "interactive(children=(IntSlider(value=63, description='num_1', max=127), IntSlider(value=63, description='num_…"
      ]
     },
     "metadata": {},
     "output_type": "display_data"
    },
    {
     "data": {
      "text/plain": [
       "<function __main__.print_table(num_1, num_2, num_3, num_4)>"
      ]
     },
     "execution_count": 79,
     "metadata": {},
     "output_type": "execute_result"
    }
   ],
   "source": [
    "# Now, we will test interact\n",
    "interact( print_table, num_1=(0,127), num_2=(0,127), num_3=(0,127), num_4=(0,127) )"
   ]
  },
  {
   "cell_type": "code",
   "execution_count": null,
   "id": "0b6e1fc5",
   "metadata": {},
   "outputs": [],
   "source": [
    "# Mapping Dorms to Quads\n",
    "def dorm_to_quad(dorm):\n",
    "    ''' Return which quad the dorm is located in '''\n",
    "    dorm = dorm.lower()\n",
    "    if dorm in ['dillon', 'alumni', 'fisher', 'pangborn', 'howard']:\n",
    "        return 'South'\n",
    "    elif dorm in ['stanford', 'farley', 'bp', 'zahm']:\n",
    "        return 'North'\n",
    "    else:\n",
    "        return 'No Idea'\n",
    "\n",
    "# Calls dorm_to_quad and then prints a formatted result\n",
    "def display_quad(dorm):\n",
    "    # Given dorm, determine which quad it is located in and display that\n",
    "    \n",
    "    quad = dorm_to_quad(dorm)\n",
    "    print(f'{dorm}' + \" is located in \" + f'{quad}')"
   ]
  },
  {
   "cell_type": "code",
   "execution_count": null,
   "id": "24b8c75c",
   "metadata": {},
   "outputs": [],
   "source": [
    "# Python's inputs are not case sensitive\n",
    "# We can put in all lower-case and this will work\n",
    "# This is not the case with most programming languages\n",
    "display_quad('dillon')"
   ]
  },
  {
   "cell_type": "code",
   "execution_count": null,
   "id": "8f7114bd",
   "metadata": {},
   "outputs": [],
   "source": [
    "# We can do uppercase first letter\n",
    "display_quad('Stanford')"
   ]
  },
  {
   "cell_type": "code",
   "execution_count": null,
   "id": "00619562",
   "metadata": {},
   "outputs": [],
   "source": [
    "# We can do random letters\n",
    "display_quad('faRlEy')"
   ]
  }
 ],
 "metadata": {
  "kernelspec": {
   "display_name": "Python 3 (ipykernel)",
   "language": "python",
   "name": "python3"
  },
  "language_info": {
   "codemirror_mode": {
    "name": "ipython",
    "version": 3
   },
   "file_extension": ".py",
   "mimetype": "text/x-python",
   "name": "python",
   "nbconvert_exporter": "python",
   "pygments_lexer": "ipython3",
   "version": "3.9.12"
  }
 },
 "nbformat": 4,
 "nbformat_minor": 5
}
