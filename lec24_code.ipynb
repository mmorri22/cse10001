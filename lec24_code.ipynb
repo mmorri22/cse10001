{
 "cells": [
  {
   "cell_type": "markdown",
   "id": "110a5eff",
   "metadata": {},
   "source": [
    "### This is the Notebook for Lecure 24 - Cryptography\n",
    "\n",
    "In this lecture, we will review\n",
    "<ol>\n",
    "    <li>Basic Cryptographic Oprtations: <b>Caesar Cipher</b></li>\n",
    "</ol>"
   ]
  },
  {
   "cell_type": "code",
   "execution_count": 14,
   "id": "7eef42c6",
   "metadata": {},
   "outputs": [],
   "source": [
    "import string\n",
    "\n",
    "def caesar_cipher(message, key=13):\n",
    "    \n",
    "    ''' Encode/decode message using  rotational shift '''\n",
    "\n",
    "    result = \"\"\n",
    "    # transverse the plain text\n",
    "    for i in range(len(message)):\n",
    "        char = message[i]\n",
    "   \n",
    "        # Encrypt uppercase characters in plain text\n",
    "        if (char.isupper()):\n",
    "    \n",
    "            result += chr((ord(char) + key-65) % 26 + 65)\n",
    "   \n",
    "        # Encrypt lowercase characters in plain text\n",
    "        else:\n",
    "            result += chr((ord(char) + key - 97) % 26 + 97)\n",
    "      \n",
    "    return result\n",
    "\n",
    "\n",
    "def caesar_cipher_test( message, key= 13 ):\n",
    "    \n",
    "    print (\"Plain Text : \" + message)\n",
    "    print (\"Cipher     : \" + caesar_cipher(message, key) )"
   ]
  },
  {
   "cell_type": "code",
   "execution_count": 15,
   "id": "1505eb37",
   "metadata": {},
   "outputs": [
    {
     "name": "stdout",
     "output_type": "stream",
     "text": [
      "Plain Text : Cheer Cheer for Old Notre Dame\n",
      "Cipher     : KpmmzvKpmmzvnwzvWtlvVwbzmvLium\n"
     ]
    }
   ],
   "source": [
    "caesar_cipher_test( \"Cheer, Cheer for Old Notre Dame!\", 8 )"
   ]
  },
  {
   "cell_type": "code",
   "execution_count": 17,
   "id": "91607062",
   "metadata": {},
   "outputs": [
    {
     "name": "stdout",
     "output_type": "stream",
     "text": [
      "Plain Text : Cheer, Cheer for Old Notre Dame!\n",
      "Cipher     : PurremaPurreasbeaByqaAbgeraQnzrb\n"
     ]
    }
   ],
   "source": [
    "caesar_cipher_test( \"Cheer, Cheer for Old Notre Dame!\", 13 )"
   ]
  }
 ],
 "metadata": {
  "kernelspec": {
   "display_name": "Python 3 (ipykernel)",
   "language": "python",
   "name": "python3"
  },
  "language_info": {
   "codemirror_mode": {
    "name": "ipython",
    "version": 3
   },
   "file_extension": ".py",
   "mimetype": "text/x-python",
   "name": "python",
   "nbconvert_exporter": "python",
   "pygments_lexer": "ipython3",
   "version": "3.9.12"
  }
 },
 "nbformat": 4,
 "nbformat_minor": 5
}
