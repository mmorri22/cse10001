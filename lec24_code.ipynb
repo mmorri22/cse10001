{
 "cells": [
  {
   "cell_type": "markdown",
   "id": "110a5eff",
   "metadata": {},
   "source": [
    "### This is the Notebook for Lecture 24 - Logic Design - Combinational Logic\n",
    "\n",
    "In this lecture, we will learn\n",
    "<ol>\n",
    "    <li>Implement Basic Logic Gates</li>\n",
    "    <li>Develop and test a 1-bit Full Adder</li>\n",
    "    <li>Use Recursion to develop a 4-bit Full Adder with connected gates</li>\n",
    "</ol>"
   ]
  },
  {
   "cell_type": "markdown",
   "id": "df397d22",
   "metadata": {},
   "source": [
    "In order to properly simulate the output of a circuit, you will need to develop <b>logic blocks</b> that build upon each other. This approach is the hardware equivalent of using <b>functions</b> in software design!"
   ]
  },
  {
   "cell_type": "code",
   "execution_count": 1,
   "id": "3d38b733",
   "metadata": {},
   "outputs": [],
   "source": [
    "# You will do this library import with every PyRTL assignment\n",
    "from pyrtl import *\n",
    "import pyrtl"
   ]
  },
  {
   "cell_type": "code",
   "execution_count": 2,
   "id": "613fe046",
   "metadata": {},
   "outputs": [],
   "source": [
    "def two_input_and( a_input, b_input ):\n",
    "    \n",
    "    # Security to ensure the lengths passed to the block are 1\n",
    "    assert len(a_input) == len(b_input)  == 1  \n",
    "    \n",
    "    # Create the wire out and put a & b on that \n",
    "    y_output = a_input & b_input\n",
    "\n",
    "    # Use assert to ensure that the signals are one bit\n",
    "    return y_output"
   ]
  },
  {
   "cell_type": "code",
   "execution_count": 3,
   "id": "ddfe0cd3",
   "metadata": {},
   "outputs": [],
   "source": [
    "def two_input_and_simulate():\n",
    "\n",
    "    # Step 1 - Reset the working block\n",
    "    pyrtl.reset_working_block()\n",
    "\n",
    "    # Step 2 - Create the input and ouput wires\n",
    "    a, b = pyrtl.Input(1, 'a'), pyrtl.Input(1, 'b')\n",
    "    out = pyrtl.Output(1, 'out')\n",
    "\n",
    "    # Step 3 - Save to an intermediate value using the function\n",
    "    out_inter = two_input_and( a, b )\n",
    "    \n",
    "    # Step 3b - Connect them to the outputs using the <<= operator\n",
    "    out <<= out_inter\n",
    "    \n",
    "    # Step 4 - Start the design simulation\n",
    "    sim = pyrtl.Simulation()\n",
    "    \n",
    "    # Step 5 - Create lists for the inputs\n",
    "    a_inputs = [0,0,1,1]\n",
    "    b_inputs = [0,1,0,1]\n",
    "    \n",
    "    # Step 6 - Loop through and simuluate\n",
    "    for value in range(0, 4):\n",
    "\n",
    "        sim.step({\n",
    "            'a' : a_inputs[value],\n",
    "            'b' : b_inputs[value]\n",
    "        })\n",
    "    \n",
    "    # Step 7- Render the trace\n",
    "    sim.tracer.render_trace()"
   ]
  },
  {
   "cell_type": "code",
   "execution_count": 4,
   "id": "b5f68e35",
   "metadata": {
    "scrolled": true
   },
   "outputs": [
    {
     "data": {
      "text/html": [
       "<script type=\"WaveDrom\">\n",
       "{\n",
       "  signal : [\n",
       "    { name: \"a\",  wave: \"0.1.\" },\n",
       "    { name: \"b\",  wave: \"0101\" },\n",
       "    { name: \"out\",  wave: \"0..1\" },\n",
       "  ],\n",
       "  config: { hscale: 1 }\n",
       "}\n",
       "</script>\n"
      ],
      "text/plain": [
       "<IPython.core.display.HTML object>"
      ]
     },
     "metadata": {},
     "output_type": "display_data"
    },
    {
     "data": {
      "application/javascript": [
       "\n",
       "            $.when(\n",
       "            $.getScript(\"https://cdnjs.cloudflare.com/ajax/libs/wavedrom/1.6.2/skins/default.js\"),\n",
       "            $.getScript(\"https://cdnjs.cloudflare.com/ajax/libs/wavedrom/1.6.2/wavedrom.min.js\"),\n",
       "            $.Deferred(function( deferred ){\n",
       "                $( deferred.resolve );\n",
       "            })).done(function(){\n",
       "                WaveDrom.ProcessAll();\n",
       "            });"
      ],
      "text/plain": [
       "<IPython.core.display.Javascript object>"
      ]
     },
     "metadata": {},
     "output_type": "display_data"
    }
   ],
   "source": [
    "# Call the function\n",
    "two_input_and_simulate()"
   ]
  },
  {
   "cell_type": "markdown",
   "id": "b4a5182e",
   "metadata": {},
   "source": [
    "### Now we can combine circuits using a larger block and multiple outputs!"
   ]
  },
  {
   "cell_type": "code",
   "execution_count": 5,
   "id": "d2f562d6",
   "metadata": {},
   "outputs": [],
   "source": [
    "def two_input_or( a_input, b_input ):\n",
    "    \n",
    "    # Security to ensure the lengths passed to the block are 1\n",
    "    assert len(a_input) == len(b_input)  == 1  \n",
    "    \n",
    "    # Create the wire out and put a | b on that \n",
    "    y_output = a_input | b_input\n",
    "\n",
    "    # Use assert to ensure that the signals are one bit\n",
    "    return y_output\n",
    "\n",
    "\n",
    "def two_input_xor( a_input, b_input ):\n",
    "    \n",
    "    # Security to ensure the lengths passed to the block are 1\n",
    "    assert len(a_input) == len(b_input)  == 1  \n",
    "    \n",
    "    # Create the wire out and put a ^ b on that \n",
    "    y_output = a_input ^ b_input\n",
    "\n",
    "    # Use assert to ensure that the signals are one bit\n",
    "    return y_output"
   ]
  },
  {
   "cell_type": "code",
   "execution_count": 6,
   "id": "e500fdca",
   "metadata": {},
   "outputs": [],
   "source": [
    "def two_input_or_xor_simulate():\n",
    "\n",
    "    # Step 1 - Reset the working block\n",
    "    pyrtl.reset_working_block()\n",
    "\n",
    "    # Step 2 - Create the input and output wires\n",
    "    a, b = pyrtl.Input(1, 'a'), pyrtl.Input(1, 'b')\n",
    "    out_or = pyrtl.Output(1, 'out_or')\n",
    "    out_xor = pyrtl.Output(1, 'out_xor')\n",
    "\n",
    "    # Step 3 - Save to an intermediate value using the function(s)\n",
    "    out_or_inter = two_input_or( a, b )\n",
    "    out_xor_inter = two_input_xor( a, b )\n",
    "    \n",
    "    # Step 3b - Connect them to the outputs using the <<= operator\n",
    "    out_or <<= out_or_inter\n",
    "    out_xor <<= out_xor_inter\n",
    "    \n",
    "    # Step 4 - Start the design simulation\n",
    "    sim = pyrtl.Simulation()\n",
    "    \n",
    "    # Step 5 - Create lists for the inputs\n",
    "    a_inputs = [0,0,1,1]\n",
    "    b_inputs = [0,1,0,1]\n",
    "    \n",
    "    # Step 6 - Loop through and simuluate\n",
    "    for value in range(0, 4):\n",
    "        sim.step({\n",
    "            'a' : a_inputs[value],\n",
    "            'b' : b_inputs[value]\n",
    "        })\n",
    "        \n",
    "    # Step 7- Render the trace\n",
    "    sim.tracer.render_trace()"
   ]
  },
  {
   "cell_type": "code",
   "execution_count": 7,
   "id": "52a2eaa8",
   "metadata": {},
   "outputs": [
    {
     "data": {
      "text/html": [
       "<script type=\"WaveDrom\">\n",
       "{\n",
       "  signal : [\n",
       "    { name: \"a\",  wave: \"0.1.\" },\n",
       "    { name: \"b\",  wave: \"0101\" },\n",
       "    { name: \"out_or\",  wave: \"01..\" },\n",
       "    { name: \"out_xor\",  wave: \"01.0\" },\n",
       "  ],\n",
       "  config: { hscale: 1 }\n",
       "}\n",
       "</script>\n"
      ],
      "text/plain": [
       "<IPython.core.display.HTML object>"
      ]
     },
     "metadata": {},
     "output_type": "display_data"
    },
    {
     "data": {
      "application/javascript": [
       "\n",
       "            $.when(\n",
       "            $.getScript(\"https://cdnjs.cloudflare.com/ajax/libs/wavedrom/1.6.2/skins/default.js\"),\n",
       "            $.getScript(\"https://cdnjs.cloudflare.com/ajax/libs/wavedrom/1.6.2/wavedrom.min.js\"),\n",
       "            $.Deferred(function( deferred ){\n",
       "                $( deferred.resolve );\n",
       "            })).done(function(){\n",
       "                WaveDrom.ProcessAll();\n",
       "            });"
      ],
      "text/plain": [
       "<IPython.core.display.Javascript object>"
      ]
     },
     "metadata": {},
     "output_type": "display_data"
    }
   ],
   "source": [
    "two_input_or_xor_simulate()"
   ]
  },
  {
   "cell_type": "markdown",
   "id": "ce1e59ac",
   "metadata": {},
   "source": [
    "### Now let's develop a logic circuit with a 3-input AND and 2-input OR"
   ]
  },
  {
   "cell_type": "code",
   "execution_count": 8,
   "id": "908a4b36",
   "metadata": {},
   "outputs": [],
   "source": [
    "def three_input_and_two_input_or( a_input, b_input, c_input ):\n",
    "    \n",
    "    # Security to ensure the lengths passed to the block are 1\n",
    "    assert len(a_input) == len(b_input) == len(c_input) == 1  \n",
    "    \n",
    "    # Calculate the and output\n",
    "    output_and = a_input & b_input & c_input\n",
    "\n",
    "    # Calculate the or output\n",
    "    output_or = two_input_or( a_input, b_input )\n",
    "    \n",
    "    # Return both\n",
    "    return output_and, output_or"
   ]
  },
  {
   "cell_type": "code",
   "execution_count": 9,
   "id": "f21f9c8f",
   "metadata": {},
   "outputs": [],
   "source": [
    "def three_input_and_two_input_or_simulate():\n",
    "    \n",
    "    # Step 1 - Reset the working block\n",
    "    pyrtl.reset_working_block()\n",
    "    \n",
    "    # Step 2 - Create the input and ouput wires\n",
    "    a, b, c = pyrtl.Input(1, 'a'), pyrtl.Input(1, 'b'), pyrtl.Input(1, 'c')\n",
    "    output_3_and = pyrtl.Output(1, 'output_3_and')\n",
    "    output_2_or = pyrtl.Output(1, 'output_2_or')\n",
    "    \n",
    "    # Step 3-a - Save to an intermediate value using the three_input_and_or function\n",
    "    inter_3_and, inter_2_or = three_input_and_two_input_or( a, b, c )\n",
    "    \n",
    "    # Step 3-b Assign to a wire using <<=\n",
    "    output_3_and <<= inter_3_and\n",
    "    output_2_or <<= inter_2_or\n",
    "    \n",
    "    # Step 4 - Simulate the design\n",
    "    sim = pyrtl.Simulation()\n",
    "    \n",
    "    # Step 5 - Create lists for the inputs\n",
    "    a_inputs = [0,0,0,0,1,1,1,1]\n",
    "    b_inputs = [0,0,1,1,0,0,1,1]\n",
    "    c_inputs = [0,1,0,1,0,1,0,1]\n",
    "    \n",
    "    # Step 6 - Loop through and simuluate\n",
    "    for value in range(0, 8):\n",
    "\n",
    "        sim.step({\n",
    "            'a' : a_inputs[value],\n",
    "            'b' : b_inputs[value],\n",
    "            'c' : c_inputs[value] \n",
    "        })\n",
    "    \n",
    "    # Step 7 - Render the trace\n",
    "    sim.tracer.render_trace()"
   ]
  },
  {
   "cell_type": "code",
   "execution_count": 10,
   "id": "52d98edd",
   "metadata": {},
   "outputs": [
    {
     "data": {
      "text/html": [
       "<script type=\"WaveDrom\">\n",
       "{\n",
       "  signal : [\n",
       "    { name: \"a\",  wave: \"0...1...\" },\n",
       "    { name: \"b\",  wave: \"0.1.0.1.\" },\n",
       "    { name: \"c\",  wave: \"01010101\" },\n",
       "    { name: \"output_2_or\",  wave: \"0.1.....\" },\n",
       "    { name: \"output_3_and\",  wave: \"0......1\" },\n",
       "  ],\n",
       "  config: { hscale: 1 }\n",
       "}\n",
       "</script>\n"
      ],
      "text/plain": [
       "<IPython.core.display.HTML object>"
      ]
     },
     "metadata": {},
     "output_type": "display_data"
    },
    {
     "data": {
      "application/javascript": [
       "\n",
       "            $.when(\n",
       "            $.getScript(\"https://cdnjs.cloudflare.com/ajax/libs/wavedrom/1.6.2/skins/default.js\"),\n",
       "            $.getScript(\"https://cdnjs.cloudflare.com/ajax/libs/wavedrom/1.6.2/wavedrom.min.js\"),\n",
       "            $.Deferred(function( deferred ){\n",
       "                $( deferred.resolve );\n",
       "            })).done(function(){\n",
       "                WaveDrom.ProcessAll();\n",
       "            });"
      ],
      "text/plain": [
       "<IPython.core.display.Javascript object>"
      ]
     },
     "metadata": {},
     "output_type": "display_data"
    }
   ],
   "source": [
    "three_input_and_two_input_or_simulate()"
   ]
  },
  {
   "cell_type": "markdown",
   "id": "4c8c4221",
   "metadata": {},
   "source": [
    "## Classic Advanced Circuit: Adder\n",
    "\n",
    "Now we will build the full adder that we developed together in class!\n",
    "\n",
    "The logic <b>equations</b> are as follows:\n",
    "<ol>\n",
    "    <li><code>Sum = a ^ b ^ Cin</code></li>\n",
    "    <li><code>Cout = (a & b) | (Cin & (a ^ b))</code></li>\n",
    "</ol>\n",
    "\n",
    "The <b>logic diagram</b> and <b>truth table</b> are presented below:\n",
    "\n",
    "<center><img src=\"https://upload.wikimedia.org/wikipedia/commons/thumb/6/69/Full-adder_logic_diagram.svg/400px-Full-adder_logic_diagram.svg.png\"></center> <br />\n",
    "\n",
    "| A | B | Cin | Sum | Cout |\n",
    "|---|---|---|---|---|\n",
    "|0|0|0|0|0|\n",
    "|0|0|1|1|0|\n",
    "|0|1|0|1|0|\n",
    "|0|1|1|0|1|\n",
    "|1|0|0|1|0|\n",
    "|1|0|1|0|1|\n",
    "|1|1|0|0|1|\n",
    "|1|1|1|1|1|"
   ]
  },
  {
   "cell_type": "code",
   "execution_count": 11,
   "id": "712d37e4",
   "metadata": {},
   "outputs": [],
   "source": [
    "def sum( a, b, c_in ):\n",
    "    \n",
    "    # Security to ensure the lengths passed to the block are 1\n",
    "    assert len(a) == len(b) == len(c_in) == 1  \n",
    "    \n",
    "    # Return the sum using previously design cells\n",
    "    # Could also simply do a ^ b ^ cin\n",
    "    return two_input_xor( two_input_xor(a, b), c_in )"
   ]
  },
  {
   "cell_type": "code",
   "execution_count": 12,
   "id": "03979515",
   "metadata": {},
   "outputs": [],
   "source": [
    "def carry_out( a, b, c_in ):\n",
    "    \n",
    "    # Security to ensure the lengths passed to the block are 1\n",
    "    assert len(a) == len(b) == len(c_in) == 1  \n",
    "    \n",
    "    # Return the carry out\n",
    "    return (a & b) | ( c_in & ( a ^ b ) )"
   ]
  },
  {
   "cell_type": "code",
   "execution_count": 13,
   "id": "60e8617a",
   "metadata": {},
   "outputs": [],
   "source": [
    "def full_adder( a, b, c_in ):\n",
    "    \n",
    "    # Security to ensure the lengths passed to the block are 1\n",
    "    assert len(a) == len(b) == len(c_in) == 1  \n",
    "    \n",
    "    # Calculate the sum\n",
    "    output_sum = sum( a, b, c_in )\n",
    "\n",
    "    # Calculate the carry out\n",
    "    output_c_out = carry_out( a, b, c_in )\n",
    "    \n",
    "    # Return both\n",
    "    return output_sum, output_c_out"
   ]
  },
  {
   "cell_type": "code",
   "execution_count": 14,
   "id": "c257a3e4",
   "metadata": {},
   "outputs": [],
   "source": [
    "def full_adder_simulate():\n",
    "    \n",
    "    # Step 1 - Reset the working block\n",
    "    pyrtl.reset_working_block()\n",
    "    \n",
    "    # Step 2 - Create the input and ouput wires\n",
    "    a, b, c_in = pyrtl.Input(1, 'a'), pyrtl.Input(1, 'b'), pyrtl.Input(1, 'c_in')\n",
    "    output_sum = pyrtl.Output(1, 'output_sum')\n",
    "    output_c_out = pyrtl.Output(1, 'output_c_out')\n",
    "    \n",
    "    # Step 3-a - Save to an intermediate value using the three_input_and_or function\n",
    "    inter_sum, inter_c_out = full_adder( a, b, c_in )\n",
    "    \n",
    "    # Step 3-b Assign to a wire using <<=\n",
    "    output_sum <<= inter_sum\n",
    "    output_c_out <<= inter_c_out\n",
    "    \n",
    "    # Step 4 - - Simulate the design\n",
    "    sim = pyrtl.Simulation()\n",
    "    \n",
    "    # Step 5 - Create lists for the inputs\n",
    "    a_inputs = [0,0,0,0,1,1,1,1]\n",
    "    b_inputs = [0,0,1,1,0,0,1,1]\n",
    "    c_in_inputs = [0,1,0,1,0,1,0,1]\n",
    "    \n",
    "    # Step 6 - Loop through and simuluate\n",
    "    for value in range(0, len(a_inputs)):\n",
    "\n",
    "        sim.step({\n",
    "            'a' : a_inputs[value],\n",
    "            'b' : b_inputs[value],\n",
    "            'c_in' : c_in_inputs[value] \n",
    "        })\n",
    "    \n",
    "    # Render the trace\n",
    "    sim.tracer.render_trace()"
   ]
  },
  {
   "cell_type": "code",
   "execution_count": 15,
   "id": "993ea8a8",
   "metadata": {},
   "outputs": [
    {
     "data": {
      "text/html": [
       "<script type=\"WaveDrom\">\n",
       "{\n",
       "  signal : [\n",
       "    { name: \"a\",  wave: \"0...1...\" },\n",
       "    { name: \"b\",  wave: \"0.1.0.1.\" },\n",
       "    { name: \"c_in\",  wave: \"01010101\" },\n",
       "    { name: \"output_c_out\",  wave: \"0..101..\" },\n",
       "    { name: \"output_sum\",  wave: \"01.010.1\" },\n",
       "  ],\n",
       "  config: { hscale: 1 }\n",
       "}\n",
       "</script>\n"
      ],
      "text/plain": [
       "<IPython.core.display.HTML object>"
      ]
     },
     "metadata": {},
     "output_type": "display_data"
    },
    {
     "data": {
      "application/javascript": [
       "\n",
       "            $.when(\n",
       "            $.getScript(\"https://cdnjs.cloudflare.com/ajax/libs/wavedrom/1.6.2/skins/default.js\"),\n",
       "            $.getScript(\"https://cdnjs.cloudflare.com/ajax/libs/wavedrom/1.6.2/wavedrom.min.js\"),\n",
       "            $.Deferred(function( deferred ){\n",
       "                $( deferred.resolve );\n",
       "            })).done(function(){\n",
       "                WaveDrom.ProcessAll();\n",
       "            });"
      ],
      "text/plain": [
       "<IPython.core.display.Javascript object>"
      ]
     },
     "metadata": {},
     "output_type": "display_data"
    }
   ],
   "source": [
    "# Call the function\n",
    "full_adder_simulate()"
   ]
  },
  {
   "cell_type": "markdown",
   "id": "b9457bce",
   "metadata": {},
   "source": [
    "### Combining Concepts: Using Recursion to Create a Full Adder\n",
    "\n",
    "When we create a circuit in PyRTL, we cannot use loop to create the signals, only the input signals. But if there is repetition, we can use <b>recursion</b>!"
   ]
  },
  {
   "cell_type": "code",
   "execution_count": 16,
   "id": "fddce827",
   "metadata": {},
   "outputs": [],
   "source": [
    "def ripple_carry_adder( a, b, c_in ):\n",
    "    \n",
    "    # Check inputs a must be the same size as b, and c must be 1 bit\n",
    "    assert len(a) == len(b)\n",
    "    assert len(c_in) == 1\n",
    "    \n",
    "    if len(a) == 1:\n",
    "        sum_result, c_out = full_adder( a, b, c_in )\n",
    "        \n",
    "    else:\n",
    "\n",
    "        # Get the next smallest bit\n",
    "        ls_bit, ripplecarry = full_adder(a[0], b[0], c_in)\n",
    "        \n",
    "        # Recursively call the remaining bits\n",
    "        ms_bits, c_out = ripple_carry_adder(a[1:], b[1:], ripplecarry)\n",
    "        \n",
    "        # Concatenate the results on the recursive call back up\n",
    "        sum_result = pyrtl.concat(ms_bits, ls_bit)\n",
    "\n",
    "                                          \n",
    "    return sum_result, c_out"
   ]
  },
  {
   "cell_type": "code",
   "execution_count": 17,
   "id": "698697bd",
   "metadata": {},
   "outputs": [],
   "source": [
    "def ripple_carry_sim( ):\n",
    "    \n",
    "    # Step 1 - Reset the working block\n",
    "    pyrtl.reset_working_block()\n",
    "    \n",
    "    # Step 2 - Create the input and ouput wires\n",
    "    a, b, c_in = pyrtl.Input(4, 'a'), pyrtl.Input(4, 'b'), pyrtl.Input(1, 'c_in')\n",
    "    \n",
    "    # WireVector Example!\n",
    "    output_sum = pyrtl.Output(4, 'output_sum')\n",
    "    \n",
    "    # c_out is one bit, so we can still use .Output without issue\n",
    "    output_c_out = pyrtl.Output(1, 'output_c_out')\n",
    "    \n",
    "    # Step 3-a - Save to an intermediate value using the three_input_and_or function\n",
    "    inter_sum, inter_c_out = ripple_carry_adder( a, b, c_in )\n",
    "    \n",
    "    # Step 3-b Assign to a bus wire using <<=\n",
    "    output_sum <<= inter_sum\n",
    "    output_c_out <<= inter_c_out\n",
    "    \n",
    "    # Step 4 - Simulate the design\n",
    "    sim = pyrtl.Simulation()\n",
    "    \n",
    "    # Step 5 - Create lists for the inputs\n",
    "    a_inputs = [ 0, 3, 10, 2, 15, 3, 14 ]\n",
    "    b_inputs = [ 4, 6, 6, 11, 15, 12, 1 ]\n",
    "    c_in_inputs = [0, 0, 0, 0, 0, 0, 0]\n",
    "\n",
    "    # Step 6 - Loop through and simuluate\n",
    "    for value in range( 0, len(a_inputs) ):\n",
    "\n",
    "        sim.step({\n",
    "            'a' : a_inputs[value],\n",
    "            'b' : b_inputs[value],\n",
    "            'c_in' : c_in_inputs[value] \n",
    "        })\n",
    "    \n",
    "    # Render the trace\n",
    "    sim.tracer.render_trace()"
   ]
  },
  {
   "cell_type": "code",
   "execution_count": 18,
   "id": "20840001",
   "metadata": {},
   "outputs": [
    {
     "data": {
      "text/html": [
       "<script type=\"WaveDrom\">\n",
       "{\n",
       "  signal : [\n",
       "    { name: \"a\",  wave: \"=======\", data: [\"0x0\", \"0x3\", \"0xa\", \"0x2\", \"0xf\", \"0x3\", \"0xe\"] },\n",
       "    { name: \"b\",  wave: \"==.====\", data: [\"0x4\", \"0x6\", \"0xb\", \"0xf\", \"0xc\", \"0x1\"] },\n",
       "    { name: \"c_in\",  wave: \"0......\" },\n",
       "    { name: \"output_c_out\",  wave: \"0.1010.\" },\n",
       "    { name: \"output_sum\",  wave: \"======.\", data: [\"0x4\", \"0x9\", \"0x0\", \"0xd\", \"0xe\", \"0xf\"] },\n",
       "  ],\n",
       "  config: { hscale: 1 }\n",
       "}\n",
       "</script>\n"
      ],
      "text/plain": [
       "<IPython.core.display.HTML object>"
      ]
     },
     "metadata": {},
     "output_type": "display_data"
    },
    {
     "data": {
      "application/javascript": [
       "\n",
       "            $.when(\n",
       "            $.getScript(\"https://cdnjs.cloudflare.com/ajax/libs/wavedrom/1.6.2/skins/default.js\"),\n",
       "            $.getScript(\"https://cdnjs.cloudflare.com/ajax/libs/wavedrom/1.6.2/wavedrom.min.js\"),\n",
       "            $.Deferred(function( deferred ){\n",
       "                $( deferred.resolve );\n",
       "            })).done(function(){\n",
       "                WaveDrom.ProcessAll();\n",
       "            });"
      ],
      "text/plain": [
       "<IPython.core.display.Javascript object>"
      ]
     },
     "metadata": {},
     "output_type": "display_data"
    }
   ],
   "source": [
    "ripple_carry_sim( )"
   ]
  },
  {
   "cell_type": "code",
   "execution_count": null,
   "id": "b0d0a80f",
   "metadata": {},
   "outputs": [],
   "source": []
  }
 ],
 "metadata": {
  "kernelspec": {
   "display_name": "Python 3 (ipykernel)",
   "language": "python",
   "name": "python3"
  },
  "language_info": {
   "codemirror_mode": {
    "name": "ipython",
    "version": 3
   },
   "file_extension": ".py",
   "mimetype": "text/x-python",
   "name": "python",
   "nbconvert_exporter": "python",
   "pygments_lexer": "ipython3",
   "version": "3.9.12"
  }
 },
 "nbformat": 4,
 "nbformat_minor": 5
}
