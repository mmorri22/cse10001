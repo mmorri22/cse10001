{
 "cells": [
  {
   "cell_type": "markdown",
   "metadata": {},
   "source": [
    "## This is the Notebook for Lecture 16\n",
    "\n",
    "In this lecture, we will learn techniques for accessing the internet. This will include:\n",
    "\n",
    "<ol>\n",
    "    <li>Opening a browser using Python <code>webbrowser</code></li>\n",
    "    <li>Creating a socket</li>\n",
    "    <li>Modify RGB values</li>\n",
    "</ol>"
   ]
  },
  {
   "cell_type": "code",
   "execution_count": null,
   "metadata": {},
   "outputs": [],
   "source": [
    "# First, you will learn how to open a URL in a webbrowser"
   ]
  },
  {
   "cell_type": "code",
   "execution_count": null,
   "metadata": {
    "scrolled": true
   },
   "outputs": [],
   "source": [
    "# See what happens when you open the Mendoza School of Business Website\n",
    "nd_url_string = 'https://nd.edu'\n",
    "course_url_string = 'https://canvas.nd.edu/courses/53612/pages/lecture-notes-and-schedule'"
   ]
  },
  {
   "cell_type": "code",
   "execution_count": null,
   "metadata": {},
   "outputs": [],
   "source": [
    "# Now, we will write a simple function to open a URL"
   ]
  },
  {
   "cell_type": "markdown",
   "metadata": {},
   "source": [
    "### Now we can open several Uniform Resource Locators (URLs) using our function"
   ]
  },
  {
   "cell_type": "code",
   "execution_count": null,
   "metadata": {},
   "outputs": [],
   "source": [
    "open_url( nd_url_string )"
   ]
  },
  {
   "cell_type": "code",
   "execution_count": null,
   "metadata": {},
   "outputs": [],
   "source": [
    "open_url( course_url_string )"
   ]
  },
  {
   "cell_type": "markdown",
   "metadata": {},
   "source": [
    "### In-Class Coding Opportunity\n",
    "<p> </p>\n",
    "You will write three functions:\n",
    "<ol>\n",
    "    <li>A function <code>update_input</code> that returns a string where every space is replaced with a <code>+</code>. This will ensure our input addresses match the format tha Google Maps uses</li>\n",
    "    <li>A function <code>open_google_maps_url</code> that starts with the provided <code>base_search_str</code>, and appends the origin and destination address, putting a <code>/</code> between each of them. Call <code>update_input</code>  on both the origin and destination address. <b>Hint</b>: Use the <code>open_url</code> above to open your final URL. \n",
    "    <li>A function <code>get_directions</code> that prompts the user for an origin and destination address</li>\n",
    "</ol>"
   ]
  },
  {
   "cell_type": "code",
   "execution_count": null,
   "metadata": {},
   "outputs": [],
   "source": [
    "def update_input( addr_string ):\n",
    "    \n",
    "    # update_input code goes here\n",
    "\n",
    "\n",
    "def open_google_maps_url( origin_address, destinataion_address ):\n",
    "    \n",
    "    # open_google_maps_url code goes here\n",
    "    base_search_str = \"https://www.google.com/maps/dir\"\n",
    "    \n",
    "    \n",
    "    \n",
    "\n",
    "def get_directions():\n",
    "    \n",
    "    # get_directions code goes here"
   ]
  },
  {
   "cell_type": "markdown",
   "metadata": {},
   "source": [
    "#### To simplify the testing of <code>get_directions</code>, you can copy and paste use these two addresses (although you can use different addresses if you wise):\n",
    "<ol>\n",
    "    <li>Origin address: <code>220 Main Building, Notre Dame, IN 46556</code></li>\n",
    "    <li>Destination address: <code>1600 Pennsylvania Avenue NW, Washington, DC 20500</code></li>\n",
    "</ol>"
   ]
  },
  {
   "cell_type": "code",
   "execution_count": null,
   "metadata": {
    "scrolled": true
   },
   "outputs": [],
   "source": [
    "get_directions()"
   ]
  },
  {
   "cell_type": "markdown",
   "metadata": {},
   "source": [
    "## How do I retrieve something from the web?"
   ]
  },
  {
   "cell_type": "code",
   "execution_count": null,
   "metadata": {},
   "outputs": [],
   "source": [
    "import requests\n",
    "\n",
    "main_building_tour_url = 'https://tour.nd.edu/locations/main-building/'\n",
    "\n",
    "# Make the request\n",
    "\n",
    "# What is the type?"
   ]
  },
  {
   "cell_type": "code",
   "execution_count": null,
   "metadata": {},
   "outputs": [],
   "source": [
    "# How big is the HTML file?"
   ]
  },
  {
   "cell_type": "code",
   "execution_count": null,
   "metadata": {},
   "outputs": [],
   "source": [
    "# View the HTML by printing the url_response text"
   ]
  },
  {
   "cell_type": "markdown",
   "metadata": {},
   "source": [
    "### You can view the HTML code on your own by opening the page and then right-clicking the page and selecting View Source"
   ]
  },
  {
   "cell_type": "code",
   "execution_count": null,
   "metadata": {},
   "outputs": [],
   "source": []
  },
  {
   "cell_type": "markdown",
   "metadata": {},
   "source": [
    "### Now let's see what happens if there is a bad URL!"
   ]
  },
  {
   "cell_type": "code",
   "execution_count": null,
   "metadata": {
    "scrolled": true
   },
   "outputs": [],
   "source": []
  },
  {
   "cell_type": "markdown",
   "metadata": {},
   "source": [
    "### Now that we know a potential issue, let's use a try/catch to prevent 404 errors!"
   ]
  },
  {
   "cell_type": "code",
   "execution_count": null,
   "metadata": {},
   "outputs": [],
   "source": [
    "# Importing again so you can start here\n",
    "import requests\n",
    "import webbrowser\n",
    "\n",
    "def open_url_fixed( url_string ):\n",
    "\n",
    "    # In-Class Code Goes Here"
   ]
  },
  {
   "cell_type": "code",
   "execution_count": null,
   "metadata": {},
   "outputs": [],
   "source": [
    "# Working URL\n",
    "open_url_fixed( nd_url_string )"
   ]
  },
  {
   "cell_type": "code",
   "execution_count": null,
   "metadata": {},
   "outputs": [],
   "source": [
    "# Bad URL\n",
    "open_url_fixed( 'https://pupfessor.nd.edu' )"
   ]
  },
  {
   "cell_type": "markdown",
   "metadata": {},
   "source": [
    "## What is Notre Dame's IP Address?"
   ]
  },
  {
   "cell_type": "code",
   "execution_count": null,
   "metadata": {},
   "outputs": [],
   "source": [
    "import socket"
   ]
  },
  {
   "cell_type": "code",
   "execution_count": null,
   "metadata": {},
   "outputs": [],
   "source": []
  },
  {
   "cell_type": "code",
   "execution_count": null,
   "metadata": {},
   "outputs": [],
   "source": []
  },
  {
   "cell_type": "markdown",
   "metadata": {},
   "source": [
    "## What is my IP address?"
   ]
  },
  {
   "cell_type": "code",
   "execution_count": null,
   "metadata": {},
   "outputs": [],
   "source": [
    "# Here you will see how to print your hostname and your IP Address\n"
   ]
  },
  {
   "cell_type": "markdown",
   "metadata": {},
   "source": [
    "### Look familiar? You found this name on the first lab! Now let's get your IP Address"
   ]
  },
  {
   "cell_type": "code",
   "execution_count": null,
   "metadata": {},
   "outputs": [],
   "source": []
  },
  {
   "cell_type": "markdown",
   "metadata": {},
   "source": [
    "### localhost is the default name for the home IP address "
   ]
  },
  {
   "cell_type": "code",
   "execution_count": null,
   "metadata": {},
   "outputs": [],
   "source": []
  },
  {
   "cell_type": "markdown",
   "metadata": {},
   "source": [
    "## What services are running on my machine?"
   ]
  },
  {
   "cell_type": "markdown",
   "metadata": {},
   "source": [
    "### We will go through every possible port, and create a list of the available ports on the machine"
   ]
  },
  {
   "cell_type": "code",
   "execution_count": null,
   "metadata": {},
   "outputs": [],
   "source": [
    "#Python code for simple port scanning\n",
    "\n",
    "# Get and print local ip\n",
    "local_ip = socket.gethostbyname(hostname)  #getting ip-address of host\n",
    "\n",
    "print( local_ip )\n",
    "\n",
    "# Create an empty list of ports\n",
    "port_list = []\n",
    "  \n",
    "for port in range(65535):      #check for all available ports\n",
    "  \n",
    "    try:\n",
    "   \n",
    "        # create a new socket\n",
    "        serv = socket.socket( socket.AF_INET, socket.SOCK_STREAM )\n",
    "  \n",
    "        # bind socket with address\n",
    "        serv.bind( (local_ip,port) )\n",
    "        \n",
    "        serv.close()\n",
    "             \n",
    "    except:\n",
    "  \n",
    "        # If the socket is not open, then it is being used by the computer\n",
    "        print('[OPEN] Port open :',port) #print open port number\n",
    "    \n",
    "        # Append the port name to the list\n",
    "        port_list.append(port)\n",
    "  "
   ]
  },
  {
   "cell_type": "code",
   "execution_count": null,
   "metadata": {},
   "outputs": [],
   "source": [
    "for current_port in port_list:\n",
    "    s = socket.socket(socket.AF_INET, socket.SOCK_STREAM)\n",
    "    \n",
    "    try:\n",
    "        s.connect(('localhost', current_port))\n",
    "        \n",
    "        print(f'Successfully connected to {local_ip}:{current_port}...')\n",
    "        \n",
    "    except socket.error:\n",
    "        print(f'Unable to connect to {local_ip}:{current_port}, {socket.error}')\n",
    "        pass"
   ]
  },
  {
   "cell_type": "markdown",
   "metadata": {},
   "source": [
    "### Get a large file from the internet"
   ]
  },
  {
   "cell_type": "code",
   "execution_count": null,
   "metadata": {},
   "outputs": [],
   "source": []
  },
  {
   "cell_type": "code",
   "execution_count": null,
   "metadata": {},
   "outputs": [],
   "source": []
  },
  {
   "cell_type": "code",
   "execution_count": null,
   "metadata": {},
   "outputs": [],
   "source": [
    "s = socket.socket(socket.AF_INET, socket.SOCK_STREAM)\n",
    "\n",
    "s.connect((link_string, 80))\n",
    "\n",
    "s.send(b'GET / HTTP/1.0\\n')        # Client sends request to server\n",
    "s.send(b'Host: {link_string}\\n')\n",
    "s.send(b'\\n')\n",
    "\n",
    "data = s.recv(4096)                # Client reads response from server\n",
    "while data:\n",
    "    print(data.decode())\n",
    "    data = s.recv(4096)"
   ]
  },
  {
   "cell_type": "markdown",
   "metadata": {},
   "source": [
    "## How do we measure latency?"
   ]
  },
  {
   "cell_type": "code",
   "execution_count": null,
   "metadata": {},
   "outputs": [],
   "source": [
    "import time\n",
    "\n",
    "def measure_latency(domain):\n",
    "    # Measure latency by doing the following:\n",
    "\n",
    "    # 1. Create streaming internet socket.\n",
    "    \n",
    "    # 2. Record start time.\n",
    "    \n",
    "    # 3. Connect to specified domain at port 80.\n",
    "    \n",
    "    # 4. Record end time.\n",
    "\n",
    "    \n",
    "    # 5. Compute latency: latency = Elapsed Time * 1000\n"
   ]
  },
  {
   "cell_type": "code",
   "execution_count": null,
   "metadata": {},
   "outputs": [],
   "source": [
    "measure_latency( mendoza_url_string )"
   ]
  }
 ],
 "metadata": {
  "kernelspec": {
   "display_name": "Python 3 (ipykernel)",
   "language": "python",
   "name": "python3"
  },
  "language_info": {
   "codemirror_mode": {
    "name": "ipython",
    "version": 3
   },
   "file_extension": ".py",
   "mimetype": "text/x-python",
   "name": "python",
   "nbconvert_exporter": "python",
   "pygments_lexer": "ipython3",
   "version": "3.9.12"
  }
 },
 "nbformat": 4,
 "nbformat_minor": 2
}
