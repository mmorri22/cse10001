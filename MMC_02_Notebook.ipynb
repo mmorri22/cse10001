{
 "cells": [
  {
   "cell_type": "code",
   "execution_count": 1,
   "id": "5d11bd84",
   "metadata": {},
   "outputs": [
    {
     "data": {
      "text/plain": [
       "True"
      ]
     },
     "execution_count": 1,
     "metadata": {},
     "output_type": "execute_result"
    }
   ],
   "source": [
    "True"
   ]
  },
  {
   "cell_type": "code",
   "execution_count": 2,
   "id": "e05714e5",
   "metadata": {},
   "outputs": [
    {
     "data": {
      "text/plain": [
       "False"
      ]
     },
     "execution_count": 2,
     "metadata": {},
     "output_type": "execute_result"
    }
   ],
   "source": [
    "False"
   ]
  },
  {
   "cell_type": "code",
   "execution_count": 3,
   "id": "2bab96a2",
   "metadata": {},
   "outputs": [
    {
     "data": {
      "text/plain": [
       "False"
      ]
     },
     "execution_count": 3,
     "metadata": {},
     "output_type": "execute_result"
    }
   ],
   "source": [
    "True and False"
   ]
  },
  {
   "cell_type": "code",
   "execution_count": 4,
   "id": "ea310a1d",
   "metadata": {},
   "outputs": [
    {
     "data": {
      "text/plain": [
       "True"
      ]
     },
     "execution_count": 4,
     "metadata": {},
     "output_type": "execute_result"
    }
   ],
   "source": [
    "True or False"
   ]
  },
  {
   "cell_type": "code",
   "execution_count": 6,
   "id": "46405b4b",
   "metadata": {},
   "outputs": [
    {
     "data": {
      "text/plain": [
       "False"
      ]
     },
     "execution_count": 6,
     "metadata": {},
     "output_type": "execute_result"
    }
   ],
   "source": [
    "x and y"
   ]
  },
  {
   "cell_type": "code",
   "execution_count": 8,
   "id": "88ac6eaf",
   "metadata": {},
   "outputs": [],
   "source": [
    "def and_func( x, y ):\n",
    "    return x and y"
   ]
  },
  {
   "cell_type": "code",
   "execution_count": 9,
   "id": "0d619c3a",
   "metadata": {},
   "outputs": [],
   "source": [
    "def or_func( x, y ):\n",
    "    return x or y"
   ]
  },
  {
   "cell_type": "code",
   "execution_count": 10,
   "id": "fca24afe",
   "metadata": {},
   "outputs": [
    {
     "name": "stdout",
     "output_type": "stream",
     "text": [
      "False\n"
     ]
    }
   ],
   "source": [
    "print( and_func(x,y) )"
   ]
  },
  {
   "cell_type": "code",
   "execution_count": 19,
   "id": "5aa8865e",
   "metadata": {},
   "outputs": [],
   "source": [
    "def both_func( x, y ):\n",
    "    print ( 'The boolean logic for AND when x is ' + f'{x}' + ' and y is ' + f'{y}' + ' equals ' + str(and_func(x,y)) )\n",
    "    print ( 'The boolean logic for OR when x is ' + f'{x}' + ' and y is ' + f'{y}' + ' equals ' + str(or_func(x,y)) )"
   ]
  },
  {
   "cell_type": "code",
   "execution_count": 22,
   "id": "c54303fa",
   "metadata": {},
   "outputs": [
    {
     "name": "stdout",
     "output_type": "stream",
     "text": [
      "The boolean logic for AND when x is True and y is False equals False\n",
      "The boolean logic for OR when x is True and y is False equals True\n"
     ]
    }
   ],
   "source": [
    "x = True\n",
    "y = False\n",
    "both_func( x, y )"
   ]
  }
 ],
 "metadata": {
  "kernelspec": {
   "display_name": "Python 3 (ipykernel)",
   "language": "python",
   "name": "python3"
  },
  "language_info": {
   "codemirror_mode": {
    "name": "ipython",
    "version": 3
   },
   "file_extension": ".py",
   "mimetype": "text/x-python",
   "name": "python",
   "nbconvert_exporter": "python",
   "pygments_lexer": "ipython3",
   "version": "3.9.12"
  }
 },
 "nbformat": 4,
 "nbformat_minor": 5
}
