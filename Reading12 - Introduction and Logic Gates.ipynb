{
 "cells": [
  {
   "cell_type": "markdown",
   "id": "f167739b",
   "metadata": {},
   "source": [
    "# Introduction to Logic and Hardware Design"
   ]
  },
  {
   "cell_type": "markdown",
   "id": "2d08541b",
   "metadata": {},
   "source": [
    "### Overview\n",
    "\n",
    "Throughout this course, you have learned the importance of <a href = \"https://canvas.nd.edu/courses/53612/pages/reading-01-information-representation\" target=\"_blank\">Computational Thinking and Hardware</a>, the basics of <a href = \"https://canvas.nd.edu/courses/53612/pages/reading-02-cpu-and-control-flow\" target=\"_blank\">Central Processing Units</a>, <a href = \"https://canvas.nd.edu/courses/53612/pages/reading-05-data-structures\" target=\"_blank\">Data Structures</a>, <a href = \"https://canvas.nd.edu/courses/53612/pages/reading-06-operating-systems-and-images\" target=\"_blank\">Operating Systems</a>, and <a href = \"https://canvas.nd.edu/courses/53612/pages/reading-08-networks\">Networks</a>. A good coding - and business - philosophy when using computers is to \"respect computing resources, and always remember that your code and data must go somewhere.\"\n",
    "</br>\n",
    "An emerging business challenge is addressing the \"<a href =\"https://www.jabil.com/blog/global-chip-shortages.html\" target=\"_blank\">Chip Shortage</a>.\" The COVID-19 pandemic revealed issues with global semiconductor supply chains. There has simply never been higher demand for semiconductors. Globally, the semiconductor industry’s aggregate annual growth is expected to average 6 to 8 percent a year up to 2030. The result? <a href = \"https://www.mckinsey.com/industries/semiconductors/our-insights/the-semiconductor-decade-a-trillion-dollar-industry\" target=\"_blank\">A $1 trillion dollar industry by the end of the decade</a>.\n",
    "\n",
    "The result? A $1 trillion dollar industry by the end of the decade. However, the share of modern semiconductor manufacturing capacity located in the U.S. has eroded from 37% in 1990 to 12% today, mostly because other countries’ governments have invested ambitiously in chip manufacturing incentives and the U.S. government has not. \n",
    "\n",
    "The global shortage of semiconductors has prompted governments and chip manufacturers around the world to take actions to expand production and prevent such shortages from occurring again. The <a href = \"https://www.semiconductors.org/wp-content/uploads/2022/07/Pass-the-CHIPS-Act-of-2022-Fact-Sheet.pdf\" target=\"_blank\">United States CHIPS Act</a> has prompted $50 billion to strengthen domestic semiconductor manufacturing, design and research, fortify the economy and national security, and reinforce America’s chip supply chains.\n",
    "\n",
    "There are substantial <a href = \"https://www.yeoandyeo.com/resource/chips-act-poised-to-boost-u-s-businesses\" target=\"_blank\">business opportunities</a> to be found in the U.S. re-investment in semiconductor manufacturing, but also <a href = \"https://www.wired.com/story/chips-act-52-billion-semiconductor-production/\" target=\"_blank\">challenges</a>. Perhaps the biggest challenge is that few business leaders actually understand logic design, or how that process works. The objective for this reading assignment and final project is to <b>position you as an informed leader in the semiconductor space, so you can  productively manage and lead hardware desginers on your team while simultaneously effectively conveying your challenges, achievements, and vision to investors.</b>"
   ]
  },
  {
   "cell_type": "markdown",
   "id": "99a5e754",
   "metadata": {},
   "source": [
    "### Logic Design basics\n",
    "\n",
    "In this module, you will learn the basics of designing the hardware logic itself, through a process called <i>logic simulation</i>. <b>Logic simulation</b> is the use of <a href =\"https://en.wikipedia.org/wiki/Computer_simulation\" target=\"_blank\">simulation software</a> to predict the behavior of <a href = \"https://en.wikipedia.org/wiki/Circuit_(computer_science)\" target=\"_blank\">digital circuits</a> and <a href =\"https://en.wikipedia.org/wiki/Hardware_description_language\" target=\"_blank\">hardware description languages</a>. </br>\n",
    "\n",
    "<b>PyRTL</b> provides a collection of classes for register-transfer level design, simulation, tracing, and testing suitable for teaching and research. \n",
    "\n",
    "To complete this reading, it is assumed you have successfully performed the PyRTL installation. If you have not, you need to close out of Jupyter Notebooks, open the Anaconda prompt, and perform the following command: <br />\n",
    "\n",
    "<code>pip3 install pyrtl</code>\n",
    "\n",
    "If you have successfully completed this installation, open this notebook using Jupyter Notebooks, and then importing the PyRTL library will work. \n",
    "<ol>\n",
    "    <li>Note: You need to perform both the <b>from</b> and <b>import</b> commands for this to work properly.</li>\n",
    "</ol>"
   ]
  },
  {
   "cell_type": "code",
   "execution_count": 1,
   "id": "016d7d3e",
   "metadata": {},
   "outputs": [],
   "source": [
    "# The pyrtl library will be used to simulate logic in Jupyter Notebooks\n",
    "\n",
    "from pyrtl import *\n",
    "import pyrtl"
   ]
  },
  {
   "cell_type": "markdown",
   "id": "ed72c97e",
   "metadata": {},
   "source": [
    "### Fundamental Logic Gates\n",
    "\n",
    "Earlier this semester, you learned about <b>binary logic</b>, where information in a computer is represented as a <b>logic 1</b> or a <b>logic 0</b>. The analogy is a light switch, where you turn a light bulb on or off. We can arrange switches to perform more advanced logic. <br />\n",
    "\n",
    "The structures that perform these logic tasks are known as <b>gates</b>. The inputs to these gates are known as <b>wires</b> or <b>signals</b> (these two terms are interchangable in this context, and may be considered synonyms.)\n",
    "\n",
    "In PyRTL, we can use a <b>Input</b> or <b>Output</b> to implement input and output wires. The format you will follow is:\n",
    "\n",
    "For inputs: <code>variable_name = pyrtl.Input( num_bits, 'variable_name' )</code> <br />\n",
    "For outputs: <code>variable_name = pyrtl.Output( num_bits, 'variable_name' )</code>\n",
    "\n",
    "An <b>inverter</b> take an input signal and <i>inverts the logic</i>. If the input signal is <i>on</i>, then the output signal is <i>off</i>. The image below is a \"logic symbol\" for an inverter, and the table is a \"truth table\" which correlates the input and output signals for a logic gate. <br />\n",
    "\n",
    "<center><img src=\"https://upload.wikimedia.org/wikipedia/commons/thumb/9/9f/Not-gate-en.svg/128px-Not-gate-en.svg.png\"></center>\n",
    "\n",
    "| A | out |\n",
    "|-------|--------|\n",
    "|0|1|\n",
    "|1|0|\n",
    "\n",
    "<br />\n",
    "To invert, you will use the <code>~</code> symbol, and to assign a value, you will use <code><<=</code>, as shown in the code segment below:"
   ]
  },
  {
   "cell_type": "code",
   "execution_count": 13,
   "id": "50cb9daf",
   "metadata": {},
   "outputs": [],
   "source": [
    "# \"pin\" input/outputs\n",
    "a_inv = pyrtl.Input(1, 'a_inv')\n",
    "out_inv = pyrtl.Output(1, 'out_inv')\n",
    "\n",
    "out_inv <<= ~a_inv  # assigns output of adder to out pin"
   ]
  },
  {
   "cell_type": "markdown",
   "id": "518bd675",
   "metadata": {},
   "source": [
    "Now we will simulate and interpret the input and output signals. To start the simulation, you will use <code>sim = pyrtl.Simulation()</code> to read the outputs.<br />\n",
    "\n",
    "For virtually all the logic gates you will develop, you will require an <b>input list</b>. The format used will be:<br />\n",
    "<code>sim_name.step_multiple( {'input variable': [ list_of_signals ]} )</code> <br />\n",
    "\n",
    "In the example below, you will see the result for when <code>a_inv</code> is off and on using <code>[0, 1]</code> as the input list."
   ]
  },
  {
   "cell_type": "code",
   "execution_count": 14,
   "id": "03a94d22",
   "metadata": {
    "scrolled": true
   },
   "outputs": [
    {
     "data": {
      "text/html": [
       "<script type=\"WaveDrom\">\n",
       "{\n",
       "  signal : [\n",
       "    { name: \"a_inv\",  wave: \"01\" },\n",
       "    { name: \"out_inv\",  wave: \"10\" },\n",
       "  ],\n",
       "  config: { hscale: 1 }\n",
       "}\n",
       "</script>\n"
      ],
      "text/plain": [
       "<IPython.core.display.HTML object>"
      ]
     },
     "metadata": {},
     "output_type": "display_data"
    },
    {
     "data": {
      "application/javascript": [
       "\n",
       "            $.when(\n",
       "            $.getScript(\"https://cdnjs.cloudflare.com/ajax/libs/wavedrom/1.6.2/skins/default.js\"),\n",
       "            $.getScript(\"https://cdnjs.cloudflare.com/ajax/libs/wavedrom/1.6.2/wavedrom.min.js\"),\n",
       "            $.Deferred(function( deferred ){\n",
       "                $( deferred.resolve );\n",
       "            })).done(function(){\n",
       "                WaveDrom.ProcessAll();\n",
       "            });"
      ],
      "text/plain": [
       "<IPython.core.display.Javascript object>"
      ]
     },
     "metadata": {},
     "output_type": "display_data"
    }
   ],
   "source": [
    "# the simulation and waveform output\n",
    "sim = pyrtl.Simulation()\n",
    "sim.step_multiple( {'a_inv': [0, 1]} )\n",
    "\n",
    "# Render and Reset for the next trace to work\n",
    "sim.tracer.render_trace()\n",
    "pyrtl.reset_working_block()"
   ]
  },
  {
   "cell_type": "markdown",
   "id": "82c7ec72",
   "metadata": {},
   "source": [
    "### AND gate\n",
    "\n",
    "This logic gate produces an \"on\" signal of \"logic 1\" if and only if <i>both inputs are on</i>. The logic symbol and truth table are shown below. We will use <code>&</code> to perform AND operations.\n",
    "\n",
    "<center><img src=\"https://upload.wikimedia.org/wikipedia/commons/thumb/b/b9/AND_ANSI_Labelled.svg/1920px-AND_ANSI_Labelled.svg.png\" width=150 height=150></center>\n",
    "\n",
    "| A | B | out |\n",
    "|---|---|---|\n",
    "|0|0|0|\n",
    "|0|1|0|\n",
    "|1|0|0|\n",
    "|1|1|1|"
   ]
  },
  {
   "cell_type": "code",
   "execution_count": 15,
   "id": "8877eceb",
   "metadata": {},
   "outputs": [],
   "source": [
    "# Basic AND operation\n",
    "a_AND = pyrtl.Input(1, 'a_AND')\n",
    "b_AND = pyrtl.Input(1, 'b_AND')\n",
    "out_AND = pyrtl.Output(1, 'out_AND')\n",
    "\n",
    "out_AND <<= a_AND & b_AND"
   ]
  },
  {
   "cell_type": "code",
   "execution_count": 16,
   "id": "5cba8dda",
   "metadata": {},
   "outputs": [
    {
     "data": {
      "text/html": [
       "<script type=\"WaveDrom\">\n",
       "{\n",
       "  signal : [\n",
       "    { name: \"a_AND\",  wave: \"0.1.\" },\n",
       "    { name: \"b_AND\",  wave: \"0101\" },\n",
       "    { name: \"out_AND\",  wave: \"0..1\" },\n",
       "  ],\n",
       "  config: { hscale: 1 }\n",
       "}\n",
       "</script>\n"
      ],
      "text/plain": [
       "<IPython.core.display.HTML object>"
      ]
     },
     "metadata": {},
     "output_type": "display_data"
    },
    {
     "data": {
      "application/javascript": [
       "\n",
       "            $.when(\n",
       "            $.getScript(\"https://cdnjs.cloudflare.com/ajax/libs/wavedrom/1.6.2/skins/default.js\"),\n",
       "            $.getScript(\"https://cdnjs.cloudflare.com/ajax/libs/wavedrom/1.6.2/wavedrom.min.js\"),\n",
       "            $.Deferred(function( deferred ){\n",
       "                $( deferred.resolve );\n",
       "            })).done(function(){\n",
       "                WaveDrom.ProcessAll();\n",
       "            });"
      ],
      "text/plain": [
       "<IPython.core.display.Javascript object>"
      ]
     },
     "metadata": {},
     "output_type": "display_data"
    }
   ],
   "source": [
    "# AND Simulation\n",
    "sim = pyrtl.Simulation()\n",
    "sim.step_multiple({'a_AND': [0, 0, 1, 1], 'b_AND': [0, 1, 0, 1]})\n",
    "\n",
    "# Render and Reset for the next trace to work\n",
    "sim.tracer.render_trace()\n",
    "pyrtl.reset_working_block()"
   ]
  },
  {
   "cell_type": "markdown",
   "id": "1b5d04e3",
   "metadata": {},
   "source": [
    "### OR gate\n",
    "\n",
    "This logic gate produces an \"on\" signal of \"logic 1\" if and only if <i>either input is on</i>. The logic symbol and truth table are shown below. We will use <code>|</code> to perform OR operations.\n",
    "\n",
    "<center><img src=\"https://upload.wikimedia.org/wikipedia/commons/thumb/1/16/OR_ANSI_Labelled.svg/1920px-OR_ANSI_Labelled.svg.png\" width=150 height=150></center>\n",
    "\n",
    "| A | B | out |\n",
    "|---|---|---|\n",
    "|0|0|0|\n",
    "|0|1|1|\n",
    "|1|0|1|\n",
    "|1|1|1|"
   ]
  },
  {
   "cell_type": "code",
   "execution_count": 17,
   "id": "28aa3685",
   "metadata": {},
   "outputs": [],
   "source": [
    "# Basic OR operation\n",
    "a_OR = pyrtl.Input(1, 'a_OR')\n",
    "b_OR = pyrtl.Input(1, 'b_OR')\n",
    "out_OR = pyrtl.Output(1, 'out_OR')\n",
    "\n",
    "out_OR <<= a_OR | b_OR"
   ]
  },
  {
   "cell_type": "code",
   "execution_count": 18,
   "id": "825af738",
   "metadata": {},
   "outputs": [
    {
     "data": {
      "text/html": [
       "<script type=\"WaveDrom\">\n",
       "{\n",
       "  signal : [\n",
       "    { name: \"a_OR\",  wave: \"0.1.\" },\n",
       "    { name: \"b_OR\",  wave: \"0101\" },\n",
       "    { name: \"out_OR\",  wave: \"01..\" },\n",
       "  ],\n",
       "  config: { hscale: 1 }\n",
       "}\n",
       "</script>\n"
      ],
      "text/plain": [
       "<IPython.core.display.HTML object>"
      ]
     },
     "metadata": {},
     "output_type": "display_data"
    },
    {
     "data": {
      "application/javascript": [
       "\n",
       "            $.when(\n",
       "            $.getScript(\"https://cdnjs.cloudflare.com/ajax/libs/wavedrom/1.6.2/skins/default.js\"),\n",
       "            $.getScript(\"https://cdnjs.cloudflare.com/ajax/libs/wavedrom/1.6.2/wavedrom.min.js\"),\n",
       "            $.Deferred(function( deferred ){\n",
       "                $( deferred.resolve );\n",
       "            })).done(function(){\n",
       "                WaveDrom.ProcessAll();\n",
       "            });"
      ],
      "text/plain": [
       "<IPython.core.display.Javascript object>"
      ]
     },
     "metadata": {},
     "output_type": "display_data"
    }
   ],
   "source": [
    "# OR Simulation\n",
    "sim = pyrtl.Simulation()\n",
    "sim.step_multiple({'a_OR': [0, 0, 1, 1], 'b_OR': [0, 1, 0, 1]})\n",
    "\n",
    "# Render and Reset for the next trace to work\n",
    "sim.tracer.render_trace()\n",
    "pyrtl.reset_working_block()"
   ]
  },
  {
   "cell_type": "markdown",
   "id": "4188c18a",
   "metadata": {},
   "source": [
    "### XOR gate\n",
    "\n",
    "This logic gate - known as <i>eXclusive OR</i> produces an \"on\" signal of \"logic 1\" if and only if <i>one input or the other input is on, but not both</i>. The logic symbol and truth table are shown below. We will use <code>^</code> to perform OR operations.\n",
    "\n",
    "<center><img src=\"https://upload.wikimedia.org/wikipedia/commons/thumb/0/01/XOR_ANSI.svg/1280px-XOR_ANSI.svg.png\" width=150 height=150></center>\n",
    "\n",
    "| A | B | out |\n",
    "|---|---|---|\n",
    "|0|0|0|\n",
    "|0|1|1|\n",
    "|1|0|1|\n",
    "|1|1|0|"
   ]
  },
  {
   "cell_type": "code",
   "execution_count": 19,
   "id": "6ea04898",
   "metadata": {},
   "outputs": [],
   "source": [
    "# Basic OR operation\n",
    "a_XOR = pyrtl.Input(1, 'a_XOR')\n",
    "b_XOR = pyrtl.Input(1, 'b_XOR')\n",
    "out_XOR = pyrtl.Output(1, 'out_XOR')\n",
    "\n",
    "out_XOR <<= a_XOR ^ b_XOR"
   ]
  },
  {
   "cell_type": "code",
   "execution_count": 20,
   "id": "345847c4",
   "metadata": {},
   "outputs": [
    {
     "data": {
      "text/html": [
       "<script type=\"WaveDrom\">\n",
       "{\n",
       "  signal : [\n",
       "    { name: \"a_XOR\",  wave: \"0.1.\" },\n",
       "    { name: \"b_XOR\",  wave: \"0101\" },\n",
       "    { name: \"out_XOR\",  wave: \"01.0\" },\n",
       "  ],\n",
       "  config: { hscale: 1 }\n",
       "}\n",
       "</script>\n"
      ],
      "text/plain": [
       "<IPython.core.display.HTML object>"
      ]
     },
     "metadata": {},
     "output_type": "display_data"
    },
    {
     "data": {
      "application/javascript": [
       "\n",
       "            $.when(\n",
       "            $.getScript(\"https://cdnjs.cloudflare.com/ajax/libs/wavedrom/1.6.2/skins/default.js\"),\n",
       "            $.getScript(\"https://cdnjs.cloudflare.com/ajax/libs/wavedrom/1.6.2/wavedrom.min.js\"),\n",
       "            $.Deferred(function( deferred ){\n",
       "                $( deferred.resolve );\n",
       "            })).done(function(){\n",
       "                WaveDrom.ProcessAll();\n",
       "            });"
      ],
      "text/plain": [
       "<IPython.core.display.Javascript object>"
      ]
     },
     "metadata": {},
     "output_type": "display_data"
    }
   ],
   "source": [
    "# XOR Simulation\n",
    "sim = pyrtl.Simulation()\n",
    "sim.step_multiple({'a_XOR': [0, 0, 1, 1], 'b_XOR': [0, 1, 0, 1]})\n",
    "\n",
    "# Render and Reset for the next trace to work\n",
    "sim.tracer.render_trace()\n",
    "pyrtl.reset_working_block()"
   ]
  }
 ],
 "metadata": {
  "kernelspec": {
   "display_name": "Python 3 (ipykernel)",
   "language": "python",
   "name": "python3"
  },
  "language_info": {
   "codemirror_mode": {
    "name": "ipython",
    "version": 3
   },
   "file_extension": ".py",
   "mimetype": "text/x-python",
   "name": "python",
   "nbconvert_exporter": "python",
   "pygments_lexer": "ipython3",
   "version": "3.9.12"
  }
 },
 "nbformat": 4,
 "nbformat_minor": 5
}
