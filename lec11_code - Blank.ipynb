{
 "cells": [
  {
   "cell_type": "markdown",
   "id": "2e4ca45e",
   "metadata": {},
   "source": [
    "### This is the Notebook for Lecture 11\n",
    "\n",
    "In this lecture, we will learn about the dictionary data structure."
   ]
  },
  {
   "cell_type": "code",
   "execution_count": null,
   "id": "f4a62b6f",
   "metadata": {},
   "outputs": [],
   "source": [
    "# First approach to defining a dictionary, using dict()"
   ]
  },
  {
   "cell_type": "code",
   "execution_count": null,
   "id": "9d9391ad",
   "metadata": {},
   "outputs": [],
   "source": [
    "# Dict Example"
   ]
  },
  {
   "cell_type": "code",
   "execution_count": null,
   "id": "9de65bf4",
   "metadata": {
    "scrolled": true
   },
   "outputs": [],
   "source": []
  },
  {
   "cell_type": "code",
   "execution_count": null,
   "id": "23198f96",
   "metadata": {},
   "outputs": [],
   "source": [
    "# Second approach to defining a dictionary using {}"
   ]
  },
  {
   "cell_type": "code",
   "execution_count": null,
   "id": "4a8cb94c",
   "metadata": {},
   "outputs": [],
   "source": []
  },
  {
   "cell_type": "code",
   "execution_count": null,
   "id": "8a9d8038",
   "metadata": {},
   "outputs": [],
   "source": []
  },
  {
   "cell_type": "code",
   "execution_count": null,
   "id": "20071895",
   "metadata": {},
   "outputs": [],
   "source": [
    "# Adding Key/Value pairs to a dictionary"
   ]
  },
  {
   "cell_type": "markdown",
   "id": "54a55d66",
   "metadata": {},
   "source": [
    "### Dictionary Exception Examples"
   ]
  },
  {
   "cell_type": "code",
   "execution_count": null,
   "id": "9a6bd61e",
   "metadata": {
    "scrolled": true
   },
   "outputs": [],
   "source": [
    "# Deliberate error to show a KeyError"
   ]
  },
  {
   "cell_type": "code",
   "execution_count": null,
   "id": "caa6ebf2",
   "metadata": {},
   "outputs": [],
   "source": [
    "# One approach: Use true false to look up the KEY"
   ]
  },
  {
   "cell_type": "code",
   "execution_count": null,
   "id": "de77b401",
   "metadata": {},
   "outputs": [],
   "source": []
  },
  {
   "cell_type": "code",
   "execution_count": null,
   "id": "4fe281ec",
   "metadata": {},
   "outputs": [],
   "source": []
  },
  {
   "cell_type": "code",
   "execution_count": null,
   "id": "6b452b64",
   "metadata": {},
   "outputs": [],
   "source": [
    "# Using try/except"
   ]
  },
  {
   "cell_type": "code",
   "execution_count": null,
   "id": "51c8a444",
   "metadata": {},
   "outputs": [],
   "source": []
  },
  {
   "cell_type": "code",
   "execution_count": null,
   "id": "aaf4abad",
   "metadata": {},
   "outputs": [],
   "source": []
  },
  {
   "cell_type": "markdown",
   "id": "f6bb3b11",
   "metadata": {},
   "source": [
    "Additionally, we can use the get method to specify a default value if the key is not present."
   ]
  },
  {
   "cell_type": "code",
   "execution_count": null,
   "id": "023c0e28",
   "metadata": {},
   "outputs": [],
   "source": []
  },
  {
   "cell_type": "code",
   "execution_count": null,
   "id": "32208b51",
   "metadata": {},
   "outputs": [],
   "source": []
  },
  {
   "cell_type": "code",
   "execution_count": null,
   "id": "6afbb0c1",
   "metadata": {},
   "outputs": [],
   "source": []
  },
  {
   "cell_type": "markdown",
   "id": "2d05e050",
   "metadata": {},
   "source": [
    "### Printing all the keys and values"
   ]
  },
  {
   "cell_type": "code",
   "execution_count": null,
   "id": "0db5a057",
   "metadata": {},
   "outputs": [],
   "source": []
  },
  {
   "cell_type": "code",
   "execution_count": null,
   "id": "9d6136a2",
   "metadata": {},
   "outputs": [],
   "source": []
  },
  {
   "cell_type": "markdown",
   "id": "144581ae",
   "metadata": {},
   "source": [
    "### Ordering Matters"
   ]
  },
  {
   "cell_type": "code",
   "execution_count": null,
   "id": "14e39e8c",
   "metadata": {},
   "outputs": [],
   "source": []
  },
  {
   "cell_type": "code",
   "execution_count": null,
   "id": "415c1433",
   "metadata": {},
   "outputs": [],
   "source": []
  },
  {
   "cell_type": "code",
   "execution_count": null,
   "id": "16ed56bd",
   "metadata": {},
   "outputs": [],
   "source": []
  },
  {
   "cell_type": "code",
   "execution_count": null,
   "id": "f489e813",
   "metadata": {},
   "outputs": [],
   "source": []
  },
  {
   "cell_type": "code",
   "execution_count": null,
   "id": "46ac2c53",
   "metadata": {},
   "outputs": [],
   "source": [
    "# Looping through the key"
   ]
  },
  {
   "cell_type": "code",
   "execution_count": null,
   "id": "78030a69",
   "metadata": {},
   "outputs": [],
   "source": [
    "# Looping through the key, value"
   ]
  },
  {
   "cell_type": "markdown",
   "id": "826107c4",
   "metadata": {},
   "source": [
    "### In-Class Coding Opportunity\n",
    "\n",
    "For every word in a file, count how many times it occurs."
   ]
  },
  {
   "cell_type": "code",
   "execution_count": null,
   "id": "51ce0103",
   "metadata": {},
   "outputs": [],
   "source": [
    "# word_count(file_name)\n"
   ]
  },
  {
   "cell_type": "code",
   "execution_count": null,
   "id": "60138cb5",
   "metadata": {
    "scrolled": true
   },
   "outputs": [],
   "source": [
    "file_count('dict/frost.txt')"
   ]
  },
  {
   "cell_type": "markdown",
   "id": "b39bac2a",
   "metadata": {},
   "source": [
    "### Exercise: emoji translator\n",
    "\n",
    "Write a function, emoji_translate, that replaces words with emoji icons."
   ]
  },
  {
   "cell_type": "code",
   "execution_count": null,
   "id": "1d2359b5",
   "metadata": {},
   "outputs": [],
   "source": [
    "EMOJIS = {\n",
    "    ':)' : '😀',\n",
    "    '<3' : '💙',\n",
    "    'snek': '🐍',\n",
    "}\n"
   ]
  },
  {
   "cell_type": "code",
   "execution_count": null,
   "id": "fcc3ded2",
   "metadata": {},
   "outputs": [],
   "source": []
  },
  {
   "cell_type": "code",
   "execution_count": null,
   "id": "3361c4b2",
   "metadata": {},
   "outputs": [],
   "source": []
  },
  {
   "cell_type": "code",
   "execution_count": null,
   "id": "33415fa3",
   "metadata": {},
   "outputs": [],
   "source": [
    "# Impor Interact\n",
    "from ipywidgets import interact"
   ]
  },
  {
   "cell_type": "code",
   "execution_count": null,
   "id": "a539c9f7",
   "metadata": {},
   "outputs": [],
   "source": []
  },
  {
   "cell_type": "markdown",
   "id": "cb0608d1",
   "metadata": {},
   "source": [
    "### Spell Checking"
   ]
  },
  {
   "cell_type": "code",
   "execution_count": null,
   "id": "fd971686",
   "metadata": {},
   "outputs": [],
   "source": [
    "# Use import requests to obtain public online files\n",
    "\n",
    "# Import string to get the string library\n",
    "\n",
    "# wget is a Linux command used to download an online file"
   ]
  },
  {
   "cell_type": "code",
   "execution_count": null,
   "id": "3c8822d1",
   "metadata": {},
   "outputs": [],
   "source": []
  },
  {
   "cell_type": "code",
   "execution_count": null,
   "id": "d2e1b6c5",
   "metadata": {},
   "outputs": [],
   "source": [
    "# Import OS\n",
    "import os"
   ]
  },
  {
   "cell_type": "code",
   "execution_count": null,
   "id": "ac959431",
   "metadata": {},
   "outputs": [],
   "source": [
    "# Review: Check the size of the file we just downloaded"
   ]
  },
  {
   "cell_type": "code",
   "execution_count": null,
   "id": "7d2d2f55",
   "metadata": {},
   "outputs": [],
   "source": [
    "# We will now download a publicly available dictionary\n",
    "wget('https://raw.githubusercontent.com/mmorri22/cse10001/main/words.txt', 'words.txt')"
   ]
  },
  {
   "cell_type": "code",
   "execution_count": null,
   "id": "e5d4a4cf",
   "metadata": {},
   "outputs": [],
   "source": [
    "# get size\n",
    "os.path.getsize('words.txt')"
   ]
  },
  {
   "cell_type": "code",
   "execution_count": null,
   "id": "3d98e1ff",
   "metadata": {},
   "outputs": [],
   "source": [
    "# To review, we will print the first 100 words in the English dictionary\n",
    "# Remember, with automatically opens and closes the file"
   ]
  },
  {
   "cell_type": "code",
   "execution_count": null,
   "id": "35cf7d93",
   "metadata": {},
   "outputs": [],
   "source": [
    "# Now we will load the dictionary into a list\n",
    "# load_words_list(path)"
   ]
  },
  {
   "cell_type": "code",
   "execution_count": null,
   "id": "fed1b11d",
   "metadata": {},
   "outputs": [],
   "source": []
  },
  {
   "cell_type": "code",
   "execution_count": null,
   "id": "4672cbe0",
   "metadata": {},
   "outputs": [],
   "source": []
  },
  {
   "cell_type": "code",
   "execution_count": null,
   "id": "66e3c0a3",
   "metadata": {},
   "outputs": [],
   "source": [
    "sentence = \"Boy meets world and boiiiiii meets girl.\""
   ]
  },
  {
   "cell_type": "code",
   "execution_count": null,
   "id": "b64b96f3",
   "metadata": {},
   "outputs": [],
   "source": []
  }
 ],
 "metadata": {
  "kernelspec": {
   "display_name": "Python 3 (ipykernel)",
   "language": "python",
   "name": "python3"
  },
  "language_info": {
   "codemirror_mode": {
    "name": "ipython",
    "version": 3
   },
   "file_extension": ".py",
   "mimetype": "text/x-python",
   "name": "python",
   "nbconvert_exporter": "python",
   "pygments_lexer": "ipython3",
   "version": "3.9.12"
  }
 },
 "nbformat": 4,
 "nbformat_minor": 5
}
